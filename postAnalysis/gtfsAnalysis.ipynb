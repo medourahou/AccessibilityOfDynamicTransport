{
 "cells": [
  {
   "cell_type": "code",
   "execution_count": 1,
   "metadata": {
    "collapsed": true
   },
   "outputs": [],
   "source": [
    "import pandas as pd\n",
    "import matplotlib.pyplot as plt"
   ]
  },
  {
   "cell_type": "code",
   "execution_count": 2,
   "outputs": [],
   "source": [
    "data = pd.read_csv('Paris/gtfs/gtfsOUT/stop_times.txt', sep=',', header=0, low_memory=False)"
   ],
   "metadata": {
    "collapsed": false
   }
  },
  {
   "cell_type": "code",
   "execution_count": 3,
   "outputs": [
    {
     "data": {
      "text/plain": "Index(['trip_id', 'arrival_time', 'departure_time', 'stop_id', 'stop_sequence',\n       'pickup_type', 'drop_off_type', 'local_zone_id', 'stop_headsign',\n       'timepoint'],\n      dtype='object')"
     },
     "execution_count": 3,
     "metadata": {},
     "output_type": "execute_result"
    }
   ],
   "source": [
    "data.columns"
   ],
   "metadata": {
    "collapsed": false
   }
  },
  {
   "cell_type": "code",
   "execution_count": 18,
   "outputs": [],
   "source": [
    "data_virtual = data[data['trip_id'].str.contains(\"Hub\")]\n",
    "data_virtual.reset_index(inplace=True)"
   ],
   "metadata": {
    "collapsed": false
   }
  },
  {
   "cell_type": "code",
   "execution_count": 19,
   "outputs": [],
   "source": [
    "data_virtual = data_virtual[['trip_id', 'arrival_time', 'departure_time', 'stop_id', 'stop_sequence']]"
   ],
   "metadata": {
    "collapsed": false
   }
  },
  {
   "cell_type": "code",
   "execution_count": 20,
   "outputs": [],
   "source": [
    "dep_time = []\n",
    "for i, row in data_virtual.iterrows():\n",
    "    timestring = row['departure_time']\n",
    "    h,m,s = timestring.split(\":\")\n",
    "    seconds = int(h)*3600 + int(m) * 60 + int(s)\n",
    "    dep_time.append(seconds)\n",
    "data_virtual['dep_time_s'] = dep_time"
   ],
   "metadata": {
    "collapsed": false
   }
  },
  {
   "cell_type": "code",
   "execution_count": 21,
   "outputs": [
    {
     "data": {
      "text/plain": "12022"
     },
     "execution_count": 21,
     "metadata": {},
     "output_type": "execute_result"
    }
   ],
   "source": [
    "len(data_virtual)"
   ],
   "metadata": {
    "collapsed": false
   }
  },
  {
   "cell_type": "code",
   "execution_count": 34,
   "outputs": [],
   "source": [
    "T = []\n",
    "for i, row in data_virtual.iterrows():\n",
    "    if (i%2) == 0:\n",
    "        t1 = data_virtual.loc[i,'dep_time_s']\n",
    "        t2 = data_virtual.loc[i+1,'dep_time_s']\n",
    "        t = t2-t1\n",
    "        T.append(t)\n",
    "        T.append(t)\n",
    "data_virtual['tt_s'] = T"
   ],
   "metadata": {
    "collapsed": false
   }
  },
  {
   "cell_type": "code",
   "execution_count": 39,
   "outputs": [
    {
     "data": {
      "text/plain": "      trip_id arrival_time departure_time stop_id  stop_sequence  dep_time_s  \\\n0  12-Hub_0>1     08:00:32       08:00:32      12              1       28832   \n1  12-Hub_0>1     08:06:16       08:06:16   Hub_0              2       29176   \n2  12-Hub_0>2     08:03:32       08:03:32      12              1       29012   \n3  12-Hub_0>2     08:09:16       08:09:16   Hub_0              2       29356   \n4  12-Hub_0>3     08:06:32       08:06:32      12              1       29192   \n\n   tt_s  \n0   344  \n1   344  \n2   344  \n3   344  \n4   344  ",
      "text/html": "<div>\n<style scoped>\n    .dataframe tbody tr th:only-of-type {\n        vertical-align: middle;\n    }\n\n    .dataframe tbody tr th {\n        vertical-align: top;\n    }\n\n    .dataframe thead th {\n        text-align: right;\n    }\n</style>\n<table border=\"1\" class=\"dataframe\">\n  <thead>\n    <tr style=\"text-align: right;\">\n      <th></th>\n      <th>trip_id</th>\n      <th>arrival_time</th>\n      <th>departure_time</th>\n      <th>stop_id</th>\n      <th>stop_sequence</th>\n      <th>dep_time_s</th>\n      <th>tt_s</th>\n    </tr>\n  </thead>\n  <tbody>\n    <tr>\n      <th>0</th>\n      <td>12-Hub_0&gt;1</td>\n      <td>08:00:32</td>\n      <td>08:00:32</td>\n      <td>12</td>\n      <td>1</td>\n      <td>28832</td>\n      <td>344</td>\n    </tr>\n    <tr>\n      <th>1</th>\n      <td>12-Hub_0&gt;1</td>\n      <td>08:06:16</td>\n      <td>08:06:16</td>\n      <td>Hub_0</td>\n      <td>2</td>\n      <td>29176</td>\n      <td>344</td>\n    </tr>\n    <tr>\n      <th>2</th>\n      <td>12-Hub_0&gt;2</td>\n      <td>08:03:32</td>\n      <td>08:03:32</td>\n      <td>12</td>\n      <td>1</td>\n      <td>29012</td>\n      <td>344</td>\n    </tr>\n    <tr>\n      <th>3</th>\n      <td>12-Hub_0&gt;2</td>\n      <td>08:09:16</td>\n      <td>08:09:16</td>\n      <td>Hub_0</td>\n      <td>2</td>\n      <td>29356</td>\n      <td>344</td>\n    </tr>\n    <tr>\n      <th>4</th>\n      <td>12-Hub_0&gt;3</td>\n      <td>08:06:32</td>\n      <td>08:06:32</td>\n      <td>12</td>\n      <td>1</td>\n      <td>29192</td>\n      <td>344</td>\n    </tr>\n  </tbody>\n</table>\n</div>"
     },
     "execution_count": 39,
     "metadata": {},
     "output_type": "execute_result"
    }
   ],
   "source": [
    "data_virtual.head()"
   ],
   "metadata": {
    "collapsed": false
   }
  },
  {
   "cell_type": "code",
   "execution_count": 40,
   "outputs": [],
   "source": [
    "dataV = data_virtual[data_virtual['trip_id'].str.contains(\"12-Hub\")]"
   ],
   "metadata": {
    "collapsed": false
   }
  },
  {
   "cell_type": "code",
   "execution_count": 41,
   "outputs": [
    {
     "data": {
      "text/plain": "        trip_id arrival_time departure_time stop_id  stop_sequence  \\\n0    12-Hub_0>1     08:00:32       08:00:32      12              1   \n2    12-Hub_0>2     08:03:32       08:03:32      12              1   \n4    12-Hub_0>3     08:06:32       08:06:32      12              1   \n6    12-Hub_0>4     08:09:32       08:09:32      12              1   \n8    12-Hub_0>5     08:12:32       08:12:32      12              1   \n10   12-Hub_0>6     08:15:32       08:15:32      12              1   \n12   12-Hub_0>7     08:18:32       08:18:32      12              1   \n14   12-Hub_0>8     08:21:32       08:21:32      12              1   \n16   12-Hub_0>9     08:24:32       08:24:32      12              1   \n18  12-Hub_0>10     08:27:32       08:27:32      12              1   \n20  12-Hub_0>11     08:30:32       08:30:32      12              1   \n22  12-Hub_0>12     08:33:32       08:33:32      12              1   \n24  12-Hub_0>13     08:36:32       08:36:32      12              1   \n26  12-Hub_0>14     08:39:32       08:39:32      12              1   \n28  12-Hub_0>15     08:42:32       08:42:32      12              1   \n30  12-Hub_0>16     08:45:32       08:45:32      12              1   \n32  12-Hub_0>17     08:48:32       08:48:32      12              1   \n34  12-Hub_0>18     08:51:32       08:51:32      12              1   \n36  12-Hub_0>19     08:54:32       08:54:32      12              1   \n38  12-Hub_0>20     08:57:32       08:57:32      12              1   \n40  12-Hub_0>21     09:00:32       09:00:32      12              1   \n42  12-Hub_0>22     09:18:36       09:18:36      12              1   \n44  12-Hub_0>23     09:36:40       09:36:40      12              1   \n46  12-Hub_0>24     09:54:44       09:54:44      12              1   \n48  12-Hub_0>25     10:12:48       10:12:48      12              1   \n50  12-Hub_0>26     10:17:44       10:17:44      12              1   \n52  12-Hub_0>27     10:22:40       10:22:40      12              1   \n54  12-Hub_0>28     10:27:36       10:27:36      12              1   \n56  12-Hub_0>29     10:32:32       10:32:32      12              1   \n58  12-Hub_0>30     10:37:28       10:37:28      12              1   \n60  12-Hub_0>31     10:42:24       10:42:24      12              1   \n62  12-Hub_0>32     10:47:20       10:47:20      12              1   \n64  12-Hub_0>33     10:52:16       10:52:16      12              1   \n66  12-Hub_0>34     10:57:12       10:57:12      12              1   \n68  12-Hub_0>35     11:02:08       11:02:08      12              1   \n70  12-Hub_0>36     11:12:46       11:12:46      12              1   \n72  12-Hub_0>37     11:23:24       11:23:24      12              1   \n74  12-Hub_0>38     11:34:02       11:34:02      12              1   \n76  12-Hub_0>39     11:44:40       11:44:40      12              1   \n78  12-Hub_0>40     11:55:18       11:55:18      12              1   \n\n    dep_time_s  tt_s  \n0        28832   344  \n2        29012   344  \n4        29192   344  \n6        29372   344  \n8        29552   344  \n10       29732   344  \n12       29912   344  \n14       30092   344  \n16       30272   344  \n18       30452   344  \n20       30632   344  \n22       30812   344  \n24       30992   344  \n26       31172   344  \n28       31352   344  \n30       31532   344  \n32       31712   344  \n34       31892   344  \n36       32072   344  \n38       32252   344  \n40       32432   344  \n42       33516   238  \n44       34600   238  \n46       35684   238  \n48       36768   238  \n50       37064   131  \n52       37360   131  \n54       37656   131  \n56       37952   131  \n58       38248   131  \n60       38544   131  \n62       38840   131  \n64       39136   131  \n66       39432   131  \n68       39728   131  \n70       40366   390  \n72       41004   390  \n74       41642   390  \n76       42280   390  \n78       42918   390  ",
      "text/html": "<div>\n<style scoped>\n    .dataframe tbody tr th:only-of-type {\n        vertical-align: middle;\n    }\n\n    .dataframe tbody tr th {\n        vertical-align: top;\n    }\n\n    .dataframe thead th {\n        text-align: right;\n    }\n</style>\n<table border=\"1\" class=\"dataframe\">\n  <thead>\n    <tr style=\"text-align: right;\">\n      <th></th>\n      <th>trip_id</th>\n      <th>arrival_time</th>\n      <th>departure_time</th>\n      <th>stop_id</th>\n      <th>stop_sequence</th>\n      <th>dep_time_s</th>\n      <th>tt_s</th>\n    </tr>\n  </thead>\n  <tbody>\n    <tr>\n      <th>0</th>\n      <td>12-Hub_0&gt;1</td>\n      <td>08:00:32</td>\n      <td>08:00:32</td>\n      <td>12</td>\n      <td>1</td>\n      <td>28832</td>\n      <td>344</td>\n    </tr>\n    <tr>\n      <th>2</th>\n      <td>12-Hub_0&gt;2</td>\n      <td>08:03:32</td>\n      <td>08:03:32</td>\n      <td>12</td>\n      <td>1</td>\n      <td>29012</td>\n      <td>344</td>\n    </tr>\n    <tr>\n      <th>4</th>\n      <td>12-Hub_0&gt;3</td>\n      <td>08:06:32</td>\n      <td>08:06:32</td>\n      <td>12</td>\n      <td>1</td>\n      <td>29192</td>\n      <td>344</td>\n    </tr>\n    <tr>\n      <th>6</th>\n      <td>12-Hub_0&gt;4</td>\n      <td>08:09:32</td>\n      <td>08:09:32</td>\n      <td>12</td>\n      <td>1</td>\n      <td>29372</td>\n      <td>344</td>\n    </tr>\n    <tr>\n      <th>8</th>\n      <td>12-Hub_0&gt;5</td>\n      <td>08:12:32</td>\n      <td>08:12:32</td>\n      <td>12</td>\n      <td>1</td>\n      <td>29552</td>\n      <td>344</td>\n    </tr>\n    <tr>\n      <th>10</th>\n      <td>12-Hub_0&gt;6</td>\n      <td>08:15:32</td>\n      <td>08:15:32</td>\n      <td>12</td>\n      <td>1</td>\n      <td>29732</td>\n      <td>344</td>\n    </tr>\n    <tr>\n      <th>12</th>\n      <td>12-Hub_0&gt;7</td>\n      <td>08:18:32</td>\n      <td>08:18:32</td>\n      <td>12</td>\n      <td>1</td>\n      <td>29912</td>\n      <td>344</td>\n    </tr>\n    <tr>\n      <th>14</th>\n      <td>12-Hub_0&gt;8</td>\n      <td>08:21:32</td>\n      <td>08:21:32</td>\n      <td>12</td>\n      <td>1</td>\n      <td>30092</td>\n      <td>344</td>\n    </tr>\n    <tr>\n      <th>16</th>\n      <td>12-Hub_0&gt;9</td>\n      <td>08:24:32</td>\n      <td>08:24:32</td>\n      <td>12</td>\n      <td>1</td>\n      <td>30272</td>\n      <td>344</td>\n    </tr>\n    <tr>\n      <th>18</th>\n      <td>12-Hub_0&gt;10</td>\n      <td>08:27:32</td>\n      <td>08:27:32</td>\n      <td>12</td>\n      <td>1</td>\n      <td>30452</td>\n      <td>344</td>\n    </tr>\n    <tr>\n      <th>20</th>\n      <td>12-Hub_0&gt;11</td>\n      <td>08:30:32</td>\n      <td>08:30:32</td>\n      <td>12</td>\n      <td>1</td>\n      <td>30632</td>\n      <td>344</td>\n    </tr>\n    <tr>\n      <th>22</th>\n      <td>12-Hub_0&gt;12</td>\n      <td>08:33:32</td>\n      <td>08:33:32</td>\n      <td>12</td>\n      <td>1</td>\n      <td>30812</td>\n      <td>344</td>\n    </tr>\n    <tr>\n      <th>24</th>\n      <td>12-Hub_0&gt;13</td>\n      <td>08:36:32</td>\n      <td>08:36:32</td>\n      <td>12</td>\n      <td>1</td>\n      <td>30992</td>\n      <td>344</td>\n    </tr>\n    <tr>\n      <th>26</th>\n      <td>12-Hub_0&gt;14</td>\n      <td>08:39:32</td>\n      <td>08:39:32</td>\n      <td>12</td>\n      <td>1</td>\n      <td>31172</td>\n      <td>344</td>\n    </tr>\n    <tr>\n      <th>28</th>\n      <td>12-Hub_0&gt;15</td>\n      <td>08:42:32</td>\n      <td>08:42:32</td>\n      <td>12</td>\n      <td>1</td>\n      <td>31352</td>\n      <td>344</td>\n    </tr>\n    <tr>\n      <th>30</th>\n      <td>12-Hub_0&gt;16</td>\n      <td>08:45:32</td>\n      <td>08:45:32</td>\n      <td>12</td>\n      <td>1</td>\n      <td>31532</td>\n      <td>344</td>\n    </tr>\n    <tr>\n      <th>32</th>\n      <td>12-Hub_0&gt;17</td>\n      <td>08:48:32</td>\n      <td>08:48:32</td>\n      <td>12</td>\n      <td>1</td>\n      <td>31712</td>\n      <td>344</td>\n    </tr>\n    <tr>\n      <th>34</th>\n      <td>12-Hub_0&gt;18</td>\n      <td>08:51:32</td>\n      <td>08:51:32</td>\n      <td>12</td>\n      <td>1</td>\n      <td>31892</td>\n      <td>344</td>\n    </tr>\n    <tr>\n      <th>36</th>\n      <td>12-Hub_0&gt;19</td>\n      <td>08:54:32</td>\n      <td>08:54:32</td>\n      <td>12</td>\n      <td>1</td>\n      <td>32072</td>\n      <td>344</td>\n    </tr>\n    <tr>\n      <th>38</th>\n      <td>12-Hub_0&gt;20</td>\n      <td>08:57:32</td>\n      <td>08:57:32</td>\n      <td>12</td>\n      <td>1</td>\n      <td>32252</td>\n      <td>344</td>\n    </tr>\n    <tr>\n      <th>40</th>\n      <td>12-Hub_0&gt;21</td>\n      <td>09:00:32</td>\n      <td>09:00:32</td>\n      <td>12</td>\n      <td>1</td>\n      <td>32432</td>\n      <td>344</td>\n    </tr>\n    <tr>\n      <th>42</th>\n      <td>12-Hub_0&gt;22</td>\n      <td>09:18:36</td>\n      <td>09:18:36</td>\n      <td>12</td>\n      <td>1</td>\n      <td>33516</td>\n      <td>238</td>\n    </tr>\n    <tr>\n      <th>44</th>\n      <td>12-Hub_0&gt;23</td>\n      <td>09:36:40</td>\n      <td>09:36:40</td>\n      <td>12</td>\n      <td>1</td>\n      <td>34600</td>\n      <td>238</td>\n    </tr>\n    <tr>\n      <th>46</th>\n      <td>12-Hub_0&gt;24</td>\n      <td>09:54:44</td>\n      <td>09:54:44</td>\n      <td>12</td>\n      <td>1</td>\n      <td>35684</td>\n      <td>238</td>\n    </tr>\n    <tr>\n      <th>48</th>\n      <td>12-Hub_0&gt;25</td>\n      <td>10:12:48</td>\n      <td>10:12:48</td>\n      <td>12</td>\n      <td>1</td>\n      <td>36768</td>\n      <td>238</td>\n    </tr>\n    <tr>\n      <th>50</th>\n      <td>12-Hub_0&gt;26</td>\n      <td>10:17:44</td>\n      <td>10:17:44</td>\n      <td>12</td>\n      <td>1</td>\n      <td>37064</td>\n      <td>131</td>\n    </tr>\n    <tr>\n      <th>52</th>\n      <td>12-Hub_0&gt;27</td>\n      <td>10:22:40</td>\n      <td>10:22:40</td>\n      <td>12</td>\n      <td>1</td>\n      <td>37360</td>\n      <td>131</td>\n    </tr>\n    <tr>\n      <th>54</th>\n      <td>12-Hub_0&gt;28</td>\n      <td>10:27:36</td>\n      <td>10:27:36</td>\n      <td>12</td>\n      <td>1</td>\n      <td>37656</td>\n      <td>131</td>\n    </tr>\n    <tr>\n      <th>56</th>\n      <td>12-Hub_0&gt;29</td>\n      <td>10:32:32</td>\n      <td>10:32:32</td>\n      <td>12</td>\n      <td>1</td>\n      <td>37952</td>\n      <td>131</td>\n    </tr>\n    <tr>\n      <th>58</th>\n      <td>12-Hub_0&gt;30</td>\n      <td>10:37:28</td>\n      <td>10:37:28</td>\n      <td>12</td>\n      <td>1</td>\n      <td>38248</td>\n      <td>131</td>\n    </tr>\n    <tr>\n      <th>60</th>\n      <td>12-Hub_0&gt;31</td>\n      <td>10:42:24</td>\n      <td>10:42:24</td>\n      <td>12</td>\n      <td>1</td>\n      <td>38544</td>\n      <td>131</td>\n    </tr>\n    <tr>\n      <th>62</th>\n      <td>12-Hub_0&gt;32</td>\n      <td>10:47:20</td>\n      <td>10:47:20</td>\n      <td>12</td>\n      <td>1</td>\n      <td>38840</td>\n      <td>131</td>\n    </tr>\n    <tr>\n      <th>64</th>\n      <td>12-Hub_0&gt;33</td>\n      <td>10:52:16</td>\n      <td>10:52:16</td>\n      <td>12</td>\n      <td>1</td>\n      <td>39136</td>\n      <td>131</td>\n    </tr>\n    <tr>\n      <th>66</th>\n      <td>12-Hub_0&gt;34</td>\n      <td>10:57:12</td>\n      <td>10:57:12</td>\n      <td>12</td>\n      <td>1</td>\n      <td>39432</td>\n      <td>131</td>\n    </tr>\n    <tr>\n      <th>68</th>\n      <td>12-Hub_0&gt;35</td>\n      <td>11:02:08</td>\n      <td>11:02:08</td>\n      <td>12</td>\n      <td>1</td>\n      <td>39728</td>\n      <td>131</td>\n    </tr>\n    <tr>\n      <th>70</th>\n      <td>12-Hub_0&gt;36</td>\n      <td>11:12:46</td>\n      <td>11:12:46</td>\n      <td>12</td>\n      <td>1</td>\n      <td>40366</td>\n      <td>390</td>\n    </tr>\n    <tr>\n      <th>72</th>\n      <td>12-Hub_0&gt;37</td>\n      <td>11:23:24</td>\n      <td>11:23:24</td>\n      <td>12</td>\n      <td>1</td>\n      <td>41004</td>\n      <td>390</td>\n    </tr>\n    <tr>\n      <th>74</th>\n      <td>12-Hub_0&gt;38</td>\n      <td>11:34:02</td>\n      <td>11:34:02</td>\n      <td>12</td>\n      <td>1</td>\n      <td>41642</td>\n      <td>390</td>\n    </tr>\n    <tr>\n      <th>76</th>\n      <td>12-Hub_0&gt;39</td>\n      <td>11:44:40</td>\n      <td>11:44:40</td>\n      <td>12</td>\n      <td>1</td>\n      <td>42280</td>\n      <td>390</td>\n    </tr>\n    <tr>\n      <th>78</th>\n      <td>12-Hub_0&gt;40</td>\n      <td>11:55:18</td>\n      <td>11:55:18</td>\n      <td>12</td>\n      <td>1</td>\n      <td>42918</td>\n      <td>390</td>\n    </tr>\n  </tbody>\n</table>\n</div>"
     },
     "execution_count": 41,
     "metadata": {},
     "output_type": "execute_result"
    }
   ],
   "source": [
    "dataV[dataV['stop_id']=='12']"
   ],
   "metadata": {
    "collapsed": false
   }
  },
  {
   "cell_type": "code",
   "execution_count": 42,
   "outputs": [
    {
     "data": {
      "text/plain": "        trip_id arrival_time departure_time stop_id  stop_sequence  \\\n1    12-Hub_0>1     08:06:16       08:06:16   Hub_0              2   \n3    12-Hub_0>2     08:09:16       08:09:16   Hub_0              2   \n5    12-Hub_0>3     08:12:16       08:12:16   Hub_0              2   \n7    12-Hub_0>4     08:15:16       08:15:16   Hub_0              2   \n9    12-Hub_0>5     08:18:16       08:18:16   Hub_0              2   \n11   12-Hub_0>6     08:21:16       08:21:16   Hub_0              2   \n13   12-Hub_0>7     08:24:16       08:24:16   Hub_0              2   \n15   12-Hub_0>8     08:27:16       08:27:16   Hub_0              2   \n17   12-Hub_0>9     08:30:16       08:30:16   Hub_0              2   \n19  12-Hub_0>10     08:33:16       08:33:16   Hub_0              2   \n21  12-Hub_0>11     08:36:16       08:36:16   Hub_0              2   \n23  12-Hub_0>12     08:39:16       08:39:16   Hub_0              2   \n25  12-Hub_0>13     08:42:16       08:42:16   Hub_0              2   \n27  12-Hub_0>14     08:45:16       08:45:16   Hub_0              2   \n29  12-Hub_0>15     08:48:16       08:48:16   Hub_0              2   \n31  12-Hub_0>16     08:51:16       08:51:16   Hub_0              2   \n33  12-Hub_0>17     08:54:16       08:54:16   Hub_0              2   \n35  12-Hub_0>18     08:57:16       08:57:16   Hub_0              2   \n37  12-Hub_0>19     09:00:16       09:00:16   Hub_0              2   \n39  12-Hub_0>20     09:03:16       09:03:16   Hub_0              2   \n41  12-Hub_0>21     09:06:16       09:06:16   Hub_0              2   \n43  12-Hub_0>22     09:22:34       09:22:34   Hub_0              2   \n45  12-Hub_0>23     09:40:38       09:40:38   Hub_0              2   \n47  12-Hub_0>24     09:58:42       09:58:42   Hub_0              2   \n49  12-Hub_0>25     10:16:46       10:16:46   Hub_0              2   \n51  12-Hub_0>26     10:19:55       10:19:55   Hub_0              2   \n53  12-Hub_0>27     10:24:51       10:24:51   Hub_0              2   \n55  12-Hub_0>28     10:29:47       10:29:47   Hub_0              2   \n57  12-Hub_0>29     10:34:43       10:34:43   Hub_0              2   \n59  12-Hub_0>30     10:39:39       10:39:39   Hub_0              2   \n61  12-Hub_0>31     10:44:35       10:44:35   Hub_0              2   \n63  12-Hub_0>32     10:49:31       10:49:31   Hub_0              2   \n65  12-Hub_0>33     10:54:27       10:54:27   Hub_0              2   \n67  12-Hub_0>34     10:59:23       10:59:23   Hub_0              2   \n69  12-Hub_0>35     11:04:19       11:04:19   Hub_0              2   \n71  12-Hub_0>36     11:19:16       11:19:16   Hub_0              2   \n73  12-Hub_0>37     11:29:54       11:29:54   Hub_0              2   \n75  12-Hub_0>38     11:40:32       11:40:32   Hub_0              2   \n77  12-Hub_0>39     11:51:10       11:51:10   Hub_0              2   \n79  12-Hub_0>40     12:01:48       12:01:48   Hub_0              2   \n\n    dep_time_s  tt_s  \n1        29176   344  \n3        29356   344  \n5        29536   344  \n7        29716   344  \n9        29896   344  \n11       30076   344  \n13       30256   344  \n15       30436   344  \n17       30616   344  \n19       30796   344  \n21       30976   344  \n23       31156   344  \n25       31336   344  \n27       31516   344  \n29       31696   344  \n31       31876   344  \n33       32056   344  \n35       32236   344  \n37       32416   344  \n39       32596   344  \n41       32776   344  \n43       33754   238  \n45       34838   238  \n47       35922   238  \n49       37006   238  \n51       37195   131  \n53       37491   131  \n55       37787   131  \n57       38083   131  \n59       38379   131  \n61       38675   131  \n63       38971   131  \n65       39267   131  \n67       39563   131  \n69       39859   131  \n71       40756   390  \n73       41394   390  \n75       42032   390  \n77       42670   390  \n79       43308   390  ",
      "text/html": "<div>\n<style scoped>\n    .dataframe tbody tr th:only-of-type {\n        vertical-align: middle;\n    }\n\n    .dataframe tbody tr th {\n        vertical-align: top;\n    }\n\n    .dataframe thead th {\n        text-align: right;\n    }\n</style>\n<table border=\"1\" class=\"dataframe\">\n  <thead>\n    <tr style=\"text-align: right;\">\n      <th></th>\n      <th>trip_id</th>\n      <th>arrival_time</th>\n      <th>departure_time</th>\n      <th>stop_id</th>\n      <th>stop_sequence</th>\n      <th>dep_time_s</th>\n      <th>tt_s</th>\n    </tr>\n  </thead>\n  <tbody>\n    <tr>\n      <th>1</th>\n      <td>12-Hub_0&gt;1</td>\n      <td>08:06:16</td>\n      <td>08:06:16</td>\n      <td>Hub_0</td>\n      <td>2</td>\n      <td>29176</td>\n      <td>344</td>\n    </tr>\n    <tr>\n      <th>3</th>\n      <td>12-Hub_0&gt;2</td>\n      <td>08:09:16</td>\n      <td>08:09:16</td>\n      <td>Hub_0</td>\n      <td>2</td>\n      <td>29356</td>\n      <td>344</td>\n    </tr>\n    <tr>\n      <th>5</th>\n      <td>12-Hub_0&gt;3</td>\n      <td>08:12:16</td>\n      <td>08:12:16</td>\n      <td>Hub_0</td>\n      <td>2</td>\n      <td>29536</td>\n      <td>344</td>\n    </tr>\n    <tr>\n      <th>7</th>\n      <td>12-Hub_0&gt;4</td>\n      <td>08:15:16</td>\n      <td>08:15:16</td>\n      <td>Hub_0</td>\n      <td>2</td>\n      <td>29716</td>\n      <td>344</td>\n    </tr>\n    <tr>\n      <th>9</th>\n      <td>12-Hub_0&gt;5</td>\n      <td>08:18:16</td>\n      <td>08:18:16</td>\n      <td>Hub_0</td>\n      <td>2</td>\n      <td>29896</td>\n      <td>344</td>\n    </tr>\n    <tr>\n      <th>11</th>\n      <td>12-Hub_0&gt;6</td>\n      <td>08:21:16</td>\n      <td>08:21:16</td>\n      <td>Hub_0</td>\n      <td>2</td>\n      <td>30076</td>\n      <td>344</td>\n    </tr>\n    <tr>\n      <th>13</th>\n      <td>12-Hub_0&gt;7</td>\n      <td>08:24:16</td>\n      <td>08:24:16</td>\n      <td>Hub_0</td>\n      <td>2</td>\n      <td>30256</td>\n      <td>344</td>\n    </tr>\n    <tr>\n      <th>15</th>\n      <td>12-Hub_0&gt;8</td>\n      <td>08:27:16</td>\n      <td>08:27:16</td>\n      <td>Hub_0</td>\n      <td>2</td>\n      <td>30436</td>\n      <td>344</td>\n    </tr>\n    <tr>\n      <th>17</th>\n      <td>12-Hub_0&gt;9</td>\n      <td>08:30:16</td>\n      <td>08:30:16</td>\n      <td>Hub_0</td>\n      <td>2</td>\n      <td>30616</td>\n      <td>344</td>\n    </tr>\n    <tr>\n      <th>19</th>\n      <td>12-Hub_0&gt;10</td>\n      <td>08:33:16</td>\n      <td>08:33:16</td>\n      <td>Hub_0</td>\n      <td>2</td>\n      <td>30796</td>\n      <td>344</td>\n    </tr>\n    <tr>\n      <th>21</th>\n      <td>12-Hub_0&gt;11</td>\n      <td>08:36:16</td>\n      <td>08:36:16</td>\n      <td>Hub_0</td>\n      <td>2</td>\n      <td>30976</td>\n      <td>344</td>\n    </tr>\n    <tr>\n      <th>23</th>\n      <td>12-Hub_0&gt;12</td>\n      <td>08:39:16</td>\n      <td>08:39:16</td>\n      <td>Hub_0</td>\n      <td>2</td>\n      <td>31156</td>\n      <td>344</td>\n    </tr>\n    <tr>\n      <th>25</th>\n      <td>12-Hub_0&gt;13</td>\n      <td>08:42:16</td>\n      <td>08:42:16</td>\n      <td>Hub_0</td>\n      <td>2</td>\n      <td>31336</td>\n      <td>344</td>\n    </tr>\n    <tr>\n      <th>27</th>\n      <td>12-Hub_0&gt;14</td>\n      <td>08:45:16</td>\n      <td>08:45:16</td>\n      <td>Hub_0</td>\n      <td>2</td>\n      <td>31516</td>\n      <td>344</td>\n    </tr>\n    <tr>\n      <th>29</th>\n      <td>12-Hub_0&gt;15</td>\n      <td>08:48:16</td>\n      <td>08:48:16</td>\n      <td>Hub_0</td>\n      <td>2</td>\n      <td>31696</td>\n      <td>344</td>\n    </tr>\n    <tr>\n      <th>31</th>\n      <td>12-Hub_0&gt;16</td>\n      <td>08:51:16</td>\n      <td>08:51:16</td>\n      <td>Hub_0</td>\n      <td>2</td>\n      <td>31876</td>\n      <td>344</td>\n    </tr>\n    <tr>\n      <th>33</th>\n      <td>12-Hub_0&gt;17</td>\n      <td>08:54:16</td>\n      <td>08:54:16</td>\n      <td>Hub_0</td>\n      <td>2</td>\n      <td>32056</td>\n      <td>344</td>\n    </tr>\n    <tr>\n      <th>35</th>\n      <td>12-Hub_0&gt;18</td>\n      <td>08:57:16</td>\n      <td>08:57:16</td>\n      <td>Hub_0</td>\n      <td>2</td>\n      <td>32236</td>\n      <td>344</td>\n    </tr>\n    <tr>\n      <th>37</th>\n      <td>12-Hub_0&gt;19</td>\n      <td>09:00:16</td>\n      <td>09:00:16</td>\n      <td>Hub_0</td>\n      <td>2</td>\n      <td>32416</td>\n      <td>344</td>\n    </tr>\n    <tr>\n      <th>39</th>\n      <td>12-Hub_0&gt;20</td>\n      <td>09:03:16</td>\n      <td>09:03:16</td>\n      <td>Hub_0</td>\n      <td>2</td>\n      <td>32596</td>\n      <td>344</td>\n    </tr>\n    <tr>\n      <th>41</th>\n      <td>12-Hub_0&gt;21</td>\n      <td>09:06:16</td>\n      <td>09:06:16</td>\n      <td>Hub_0</td>\n      <td>2</td>\n      <td>32776</td>\n      <td>344</td>\n    </tr>\n    <tr>\n      <th>43</th>\n      <td>12-Hub_0&gt;22</td>\n      <td>09:22:34</td>\n      <td>09:22:34</td>\n      <td>Hub_0</td>\n      <td>2</td>\n      <td>33754</td>\n      <td>238</td>\n    </tr>\n    <tr>\n      <th>45</th>\n      <td>12-Hub_0&gt;23</td>\n      <td>09:40:38</td>\n      <td>09:40:38</td>\n      <td>Hub_0</td>\n      <td>2</td>\n      <td>34838</td>\n      <td>238</td>\n    </tr>\n    <tr>\n      <th>47</th>\n      <td>12-Hub_0&gt;24</td>\n      <td>09:58:42</td>\n      <td>09:58:42</td>\n      <td>Hub_0</td>\n      <td>2</td>\n      <td>35922</td>\n      <td>238</td>\n    </tr>\n    <tr>\n      <th>49</th>\n      <td>12-Hub_0&gt;25</td>\n      <td>10:16:46</td>\n      <td>10:16:46</td>\n      <td>Hub_0</td>\n      <td>2</td>\n      <td>37006</td>\n      <td>238</td>\n    </tr>\n    <tr>\n      <th>51</th>\n      <td>12-Hub_0&gt;26</td>\n      <td>10:19:55</td>\n      <td>10:19:55</td>\n      <td>Hub_0</td>\n      <td>2</td>\n      <td>37195</td>\n      <td>131</td>\n    </tr>\n    <tr>\n      <th>53</th>\n      <td>12-Hub_0&gt;27</td>\n      <td>10:24:51</td>\n      <td>10:24:51</td>\n      <td>Hub_0</td>\n      <td>2</td>\n      <td>37491</td>\n      <td>131</td>\n    </tr>\n    <tr>\n      <th>55</th>\n      <td>12-Hub_0&gt;28</td>\n      <td>10:29:47</td>\n      <td>10:29:47</td>\n      <td>Hub_0</td>\n      <td>2</td>\n      <td>37787</td>\n      <td>131</td>\n    </tr>\n    <tr>\n      <th>57</th>\n      <td>12-Hub_0&gt;29</td>\n      <td>10:34:43</td>\n      <td>10:34:43</td>\n      <td>Hub_0</td>\n      <td>2</td>\n      <td>38083</td>\n      <td>131</td>\n    </tr>\n    <tr>\n      <th>59</th>\n      <td>12-Hub_0&gt;30</td>\n      <td>10:39:39</td>\n      <td>10:39:39</td>\n      <td>Hub_0</td>\n      <td>2</td>\n      <td>38379</td>\n      <td>131</td>\n    </tr>\n    <tr>\n      <th>61</th>\n      <td>12-Hub_0&gt;31</td>\n      <td>10:44:35</td>\n      <td>10:44:35</td>\n      <td>Hub_0</td>\n      <td>2</td>\n      <td>38675</td>\n      <td>131</td>\n    </tr>\n    <tr>\n      <th>63</th>\n      <td>12-Hub_0&gt;32</td>\n      <td>10:49:31</td>\n      <td>10:49:31</td>\n      <td>Hub_0</td>\n      <td>2</td>\n      <td>38971</td>\n      <td>131</td>\n    </tr>\n    <tr>\n      <th>65</th>\n      <td>12-Hub_0&gt;33</td>\n      <td>10:54:27</td>\n      <td>10:54:27</td>\n      <td>Hub_0</td>\n      <td>2</td>\n      <td>39267</td>\n      <td>131</td>\n    </tr>\n    <tr>\n      <th>67</th>\n      <td>12-Hub_0&gt;34</td>\n      <td>10:59:23</td>\n      <td>10:59:23</td>\n      <td>Hub_0</td>\n      <td>2</td>\n      <td>39563</td>\n      <td>131</td>\n    </tr>\n    <tr>\n      <th>69</th>\n      <td>12-Hub_0&gt;35</td>\n      <td>11:04:19</td>\n      <td>11:04:19</td>\n      <td>Hub_0</td>\n      <td>2</td>\n      <td>39859</td>\n      <td>131</td>\n    </tr>\n    <tr>\n      <th>71</th>\n      <td>12-Hub_0&gt;36</td>\n      <td>11:19:16</td>\n      <td>11:19:16</td>\n      <td>Hub_0</td>\n      <td>2</td>\n      <td>40756</td>\n      <td>390</td>\n    </tr>\n    <tr>\n      <th>73</th>\n      <td>12-Hub_0&gt;37</td>\n      <td>11:29:54</td>\n      <td>11:29:54</td>\n      <td>Hub_0</td>\n      <td>2</td>\n      <td>41394</td>\n      <td>390</td>\n    </tr>\n    <tr>\n      <th>75</th>\n      <td>12-Hub_0&gt;38</td>\n      <td>11:40:32</td>\n      <td>11:40:32</td>\n      <td>Hub_0</td>\n      <td>2</td>\n      <td>42032</td>\n      <td>390</td>\n    </tr>\n    <tr>\n      <th>77</th>\n      <td>12-Hub_0&gt;39</td>\n      <td>11:51:10</td>\n      <td>11:51:10</td>\n      <td>Hub_0</td>\n      <td>2</td>\n      <td>42670</td>\n      <td>390</td>\n    </tr>\n    <tr>\n      <th>79</th>\n      <td>12-Hub_0&gt;40</td>\n      <td>12:01:48</td>\n      <td>12:01:48</td>\n      <td>Hub_0</td>\n      <td>2</td>\n      <td>43308</td>\n      <td>390</td>\n    </tr>\n  </tbody>\n</table>\n</div>"
     },
     "execution_count": 42,
     "metadata": {},
     "output_type": "execute_result"
    }
   ],
   "source": [
    "dataV[dataV['stop_id']=='Hub_0']"
   ],
   "metadata": {
    "collapsed": false
   }
  },
  {
   "cell_type": "code",
   "execution_count": 43,
   "outputs": [],
   "source": [
    "data_virtual_Hubs = data_virtual[data_virtual['stop_id'].str.contains(\"Hub\") == False]"
   ],
   "metadata": {
    "collapsed": false
   }
  },
  {
   "cell_type": "code",
   "execution_count": 57,
   "outputs": [
    {
     "data": {
      "text/plain": "[<matplotlib.lines.Line2D at 0x127ab3ca0>]"
     },
     "execution_count": 57,
     "metadata": {},
     "output_type": "execute_result"
    },
    {
     "data": {
      "text/plain": "<Figure size 432x288 with 1 Axes>",
      "image/png": "[encoded data removed]"
     },
     "metadata": {
      "needs_background": "light"
     },
     "output_type": "display_data"
    }
   ],
   "source": [
    "dataV_H = data_virtual_Hubs[data_virtual_Hubs['stop_id']== '186']\n",
    "plt.plot(dataV_H['dep_time_s'], dataV_H['tt_s'],'+')"
   ],
   "metadata": {
    "collapsed": false
   }
  },
  {
   "cell_type": "code",
   "execution_count": null,
   "outputs": [],
   "source": [],
   "metadata": {
    "collapsed": false
   }
  }
 ],
 "metadata": {
  "kernelspec": {
   "display_name": "Python 3",
   "language": "python",
   "name": "python3"
  },
  "language_info": {
   "codemirror_mode": {
    "name": "ipython",
    "version": 2
   },
   "file_extension": ".py",
   "mimetype": "text/x-python",
   "name": "python",
   "nbconvert_exporter": "python",
   "pygments_lexer": "ipython2",
   "version": "2.7.6"
  }
 },
 "nbformat": 4,
 "nbformat_minor": 0
}
