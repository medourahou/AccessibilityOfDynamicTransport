{
 "cells": [
  {
   "cell_type": "code",
   "execution_count": 39,
   "metadata": {
    "collapsed": true
   },
   "outputs": [],
   "source": [
    "import logging\n",
    "import pandas as pd\n",
    "import ExtractDrtTrips as edt\n",
    "import PlansManipulation\n",
    "import SpacialOperations as sops\n",
    "import ExtractHubs\n",
    "import Legs2df\n",
    "import InterpolateTrips\n",
    "import GTFSpreprocessing\n",
    "import createGTFS\n",
    "import importCells\n",
    "import joinAndexportGTFS"
   ]
  },
  {
   "cell_type": "code",
   "execution_count": 40,
   "outputs": [],
   "source": [
    "# Constants\n",
    "legs_input_path = 'Paris/output_legs.csv' # MATSim output legs csv file\n",
    "studyarea_input_path = 'Paris/shp/cps.shp' # shapefile .shp for the DRT study area\n",
    "popArea_input_path = 'Paris/shp/parisPopArea.shp'\n",
    "gtfs_input_dir = 'Paris/gtfs/' # path to where gtfs.zip is stored\n",
    "\n",
    "# EPSG code !!ONLY NUMBER!! EPSG:3035 --> 3035\n",
    "crs_import = 2154 # crs of the raw imported data\n",
    "crs_working = 2154 # crs used for the processing (can be same as crs_import)\n",
    "\n",
    "# Toggle for preprocessing steps\n",
    "# GTFS preprocessing to get hexagonal grid\n",
    "#      --> needed once, can be skipped if GTFScells.csv file exists\n",
    "toggle_GTFSprep = False\n",
    "GTFScells_path = 'Paris/output/GTFScells.csv'\n",
    "\n",
    "# Simulation & analysis start and end time\n",
    "# Interpolation will only be done in this time window\n",
    "start_time = '08:00:00'\n",
    "end_time = '12:00:00'\n",
    "# Length of each analysis interval\n",
    "deltaT = 1 # in hours (h), default 1h"
   ],
   "metadata": {
    "collapsed": false
   }
  },
  {
   "cell_type": "code",
   "execution_count": 41,
   "outputs": [],
   "source": [
    "# Setup of the logging module\n",
    "logging.basicConfig(filename='Paris/output/Plans2GTFS.log',\n",
    "                    level=logging.DEBUG)\n",
    "console = logging.StreamHandler()\n",
    "console.setLevel(logging.INFO)\n",
    "logging.getLogger('').addHandler(console)"
   ],
   "metadata": {
    "collapsed": false
   }
  },
  {
   "cell_type": "code",
   "execution_count": 42,
   "outputs": [
    {
     "name": "stderr",
     "output_type": "stream",
     "text": [
      "Importing Trips from output_legs.csv file (Matsim Output)\n",
      "Importing Trips from output_legs.csv file (Matsim Output)\n",
      "Importing Trips from output_legs.csv file (Matsim Output)\n"
     ]
    }
   ],
   "source": [
    "import Legs2df\n",
    "df = Legs2df.run(legs_input_path)"
   ],
   "metadata": {
    "collapsed": false
   }
  },
  {
   "cell_type": "code",
   "execution_count": 43,
   "outputs": [
    {
     "name": "stderr",
     "output_type": "stream",
     "text": [
      "Ensuring correct CRS\n",
      "Ensuring correct CRS\n",
      "Ensuring correct CRS\n"
     ]
    }
   ],
   "source": [
    "edt.convertCRS(df,crs_import, crs_working,'start_x', 'start_y','end_x', 'end_y')"
   ],
   "metadata": {
    "collapsed": false
   }
  },
  {
   "cell_type": "code",
   "execution_count": 44,
   "outputs": [
    {
     "name": "stderr",
     "output_type": "stream",
     "text": [
      "Converting Coordinates to WKT\n",
      "Converting Coordinates to WKT\n",
      "Converting Coordinates to WKT\n",
      "Converting Coordinates to WKT\n",
      "Converting Coordinates to WKT\n",
      "Converting Coordinates to WKT\n"
     ]
    }
   ],
   "source": [
    "edt.constructWktPoint(df, 'start_x', 'start_y', 'origin')\n",
    "edt.constructWktPoint(df, 'end_x', 'end_y', 'destination')"
   ],
   "metadata": {
    "collapsed": false
   }
  },
  {
   "cell_type": "code",
   "execution_count": 45,
   "outputs": [],
   "source": [
    "df = sops.createGeoDataFrame(df['origin'], 'EPSG:' + str(crs_working), df)"
   ],
   "metadata": {
    "collapsed": false
   }
  },
  {
   "cell_type": "code",
   "execution_count": 46,
   "outputs": [],
   "source": [
    "df = df.to_crs(crs=crs_working)"
   ],
   "metadata": {
    "collapsed": false
   }
  },
  {
   "cell_type": "code",
   "execution_count": 47,
   "outputs": [
    {
     "name": "stderr",
     "output_type": "stream",
     "text": [
      "Extracting Hubs based on trip data\n",
      "Extracting Hubs based on trip data\n",
      "Extracting Hubs based on trip data\n"
     ]
    }
   ],
   "source": [
    "DfHubs = ExtractHubs.run(df)"
   ],
   "metadata": {
    "collapsed": false
   }
  },
  {
   "cell_type": "code",
   "execution_count": 48,
   "outputs": [],
   "source": [
    "ExtractHubs.assignHub2Trip(DfHubs, df)"
   ],
   "metadata": {
    "collapsed": false
   }
  },
  {
   "cell_type": "code",
   "execution_count": 49,
   "outputs": [],
   "source": [
    "DfHubs.to_csv(\"Paris/output/hubs.csv\",sep=';')"
   ],
   "metadata": {
    "collapsed": false
   }
  },
  {
   "cell_type": "code",
   "execution_count": 50,
   "outputs": [],
   "source": [
    "if toggle_GTFSprep: GTFSpreprocessing.run(GTFScells_path)"
   ],
   "metadata": {
    "collapsed": false
   }
  },
  {
   "cell_type": "code",
   "execution_count": 51,
   "outputs": [
    {
     "name": "stderr",
     "output_type": "stream",
     "text": [
      "Importing hexagonal grid created by Public-Transport-Analysis tool\n",
      "Importing hexagonal grid created by Public-Transport-Analysis tool\n",
      "Importing hexagonal grid created by Public-Transport-Analysis tool\n",
      "adding all waiting and travel times to gtfs: stop_times.txt:  35%|███▍      | 164/469 [1:18:47<2:26:32, 28.83s/it]\n"
     ]
    }
   ],
   "source": [
    "CellsDF = importCells.run(GTFScells_path, crs_working)"
   ],
   "metadata": {
    "collapsed": false
   }
  },
  {
   "cell_type": "code",
   "execution_count": 52,
   "outputs": [
    {
     "name": "stderr",
     "output_type": "stream",
     "text": [
      "Removing hexagons outside of the regarded study area\n",
      "Removing hexagons outside of the regarded study area\n",
      "Removing hexagons outside of the regarded study area\n"
     ]
    }
   ],
   "source": [
    "CellsDF = sops.removeExcessGrid(CellsDF, studyarea_input_path, crs_working, popArea_input_path, False)"
   ],
   "metadata": {
    "collapsed": false
   }
  },
  {
   "cell_type": "code",
   "execution_count": 53,
   "outputs": [
    {
     "name": "stderr",
     "output_type": "stream",
     "text": [
      "Counting trips originating in each cell of hexagonal grid\n",
      "Counting trips originating in each cell of hexagonal grid\n",
      "Counting trips originating in each cell of hexagonal grid\n"
     ]
    }
   ],
   "source": [
    "CellsDF = sops.countTripsPerCell(CellsDF, df)"
   ],
   "metadata": {
    "collapsed": false
   }
  },
  {
   "cell_type": "code",
   "execution_count": 54,
   "outputs": [
    {
     "name": "stderr",
     "output_type": "stream",
     "text": [
      "Assigning corresponding cell to origin of trips\n",
      "Assigning corresponding cell to origin of trips\n",
      "Assigning corresponding cell to origin of trips\n"
     ]
    }
   ],
   "source": [
    "sops.addCellId2Trip(CellsDF,df)"
   ],
   "metadata": {
    "collapsed": false
   }
  },
  {
   "cell_type": "code",
   "execution_count": 55,
   "outputs": [],
   "source": [
    "CellsDF.to_csv('Paris/output/cells_v1.csv',sep=';')"
   ],
   "metadata": {
    "collapsed": false
   }
  },
  {
   "cell_type": "code",
   "execution_count": 56,
   "outputs": [],
   "source": [
    "df.to_csv('Paris/output/trips.csv',sep=';')"
   ],
   "metadata": {
    "collapsed": false
   }
  },
  {
   "cell_type": "code",
   "execution_count": 57,
   "outputs": [
    {
     "name": "stderr",
     "output_type": "stream",
     "text": [
      "Starting interpolation of travel and wait times\n",
      "Starting interpolation of travel and wait times\n",
      "Starting interpolation of travel and wait times\n",
      "Interpolation for time interval:   0%|          | 0/4 [00:00<?, ?it/s]"
     ]
    },
    {
     "name": "stdout",
     "output_type": "stream",
     "text": [
      "\n",
      "Interval 1\n",
      "Interpolation for Time interval 8:0:00 to 9:0:00\n",
      "Hub_21\n",
      "Found 139 trips to interpolate\n"
     ]
    },
    {
     "name": "stderr",
     "output_type": "stream",
     "text": [
      "\n",
      "100%|██████████| 4/4 [00:00<00:00, 774.71it/s]\n",
      "\n",
      "100%|██████████| 4/4 [00:00<00:00, 1273.99it/s]\n"
     ]
    },
    {
     "name": "stdout",
     "output_type": "stream",
     "text": [
      "Hub_20\n",
      "Found 150 trips to interpolate\n"
     ]
    },
    {
     "name": "stderr",
     "output_type": "stream",
     "text": [
      "\n",
      "100%|██████████| 25/25 [00:00<00:00, 1530.66it/s]\n",
      "\n",
      "100%|██████████| 25/25 [00:00<00:00, 2041.02it/s]\n"
     ]
    },
    {
     "name": "stdout",
     "output_type": "stream",
     "text": [
      "Hub_0\n",
      "Found 53 trips to interpolate\n"
     ]
    },
    {
     "name": "stderr",
     "output_type": "stream",
     "text": [
      "\n",
      "100%|██████████| 5/5 [00:00<00:00, 949.50it/s]\n",
      "\n",
      "100%|██████████| 5/5 [00:00<00:00, 1331.53it/s]\n"
     ]
    },
    {
     "name": "stdout",
     "output_type": "stream",
     "text": [
      "Hub_22\n",
      "Found 160 trips to interpolate\n"
     ]
    },
    {
     "name": "stderr",
     "output_type": "stream",
     "text": [
      "\n",
      "100%|██████████| 37/37 [00:00<00:00, 1955.61it/s]\n",
      "\n",
      "100%|██████████| 37/37 [00:00<00:00, 1926.45it/s]\n"
     ]
    },
    {
     "name": "stdout",
     "output_type": "stream",
     "text": [
      "Hub_16\n",
      "Found 109 trips to interpolate\n"
     ]
    },
    {
     "name": "stderr",
     "output_type": "stream",
     "text": [
      "\n",
      "100%|██████████| 4/4 [00:00<00:00, 631.32it/s]\n",
      "\n",
      "100%|██████████| 4/4 [00:00<00:00, 1035.95it/s]\n"
     ]
    },
    {
     "name": "stdout",
     "output_type": "stream",
     "text": [
      "Hub_12\n",
      "Found 136 trips to interpolate\n"
     ]
    },
    {
     "name": "stderr",
     "output_type": "stream",
     "text": [
      "\n",
      "100%|██████████| 39/39 [00:00<00:00, 2359.75it/s]\n",
      "\n",
      "100%|██████████| 39/39 [00:00<00:00, 2607.11it/s]\n"
     ]
    },
    {
     "name": "stdout",
     "output_type": "stream",
     "text": [
      "Hub_14\n",
      "Found 188 trips to interpolate\n"
     ]
    },
    {
     "name": "stderr",
     "output_type": "stream",
     "text": [
      "\n",
      "100%|██████████| 20/20 [00:00<00:00, 1970.64it/s]\n",
      "\n",
      "100%|██████████| 20/20 [00:00<00:00, 2270.69it/s]\n"
     ]
    },
    {
     "name": "stdout",
     "output_type": "stream",
     "text": [
      "Hub_3\n",
      "Found 25 trips to interpolate\n"
     ]
    },
    {
     "name": "stderr",
     "output_type": "stream",
     "text": [
      "\n",
      "100%|██████████| 22/22 [00:00<00:00, 1689.73it/s]\n",
      "\n",
      "100%|██████████| 22/22 [00:00<00:00, 1870.75it/s]\n"
     ]
    },
    {
     "name": "stdout",
     "output_type": "stream",
     "text": [
      "Hub_17\n",
      "Found 71 trips to interpolate\n"
     ]
    },
    {
     "name": "stderr",
     "output_type": "stream",
     "text": [
      "\n",
      "100%|██████████| 5/5 [00:00<00:00, 1040.10it/s]\n",
      "\n",
      "100%|██████████| 5/5 [00:00<00:00, 1017.54it/s]\n"
     ]
    },
    {
     "name": "stdout",
     "output_type": "stream",
     "text": [
      "Hub_10\n",
      "Found 75 trips to interpolate\n"
     ]
    },
    {
     "name": "stderr",
     "output_type": "stream",
     "text": [
      "\n",
      "100%|██████████| 2/2 [00:00<00:00, 991.09it/s]\n",
      "\n",
      "100%|██████████| 2/2 [00:00<00:00, 959.69it/s]\n"
     ]
    },
    {
     "name": "stdout",
     "output_type": "stream",
     "text": [
      "Hub_11\n",
      "Found 16 trips to interpolate\n"
     ]
    },
    {
     "name": "stderr",
     "output_type": "stream",
     "text": [
      "\n",
      "100%|██████████| 4/4 [00:00<00:00, 1627.43it/s]\n",
      "\n",
      "100%|██████████| 4/4 [00:00<00:00, 2317.62it/s]\n"
     ]
    },
    {
     "name": "stdout",
     "output_type": "stream",
     "text": [
      "Hub_7\n",
      "Found 149 trips to interpolate\n"
     ]
    },
    {
     "name": "stderr",
     "output_type": "stream",
     "text": [
      "\n",
      "100%|██████████| 40/40 [00:00<00:00, 2508.33it/s]\n",
      "\n",
      "100%|██████████| 40/40 [00:00<00:00, 2952.28it/s]\n"
     ]
    },
    {
     "name": "stdout",
     "output_type": "stream",
     "text": [
      "Hub_15\n",
      "Found 178 trips to interpolate\n"
     ]
    },
    {
     "name": "stderr",
     "output_type": "stream",
     "text": [
      "\n",
      "100%|██████████| 6/6 [00:00<00:00, 869.29it/s]\n",
      "\n",
      "100%|██████████| 6/6 [00:00<00:00, 999.32it/s]"
     ]
    },
    {
     "name": "stdout",
     "output_type": "stream",
     "text": [
      "Hub_13\n",
      "Found 94 trips to interpolate\n"
     ]
    },
    {
     "name": "stderr",
     "output_type": "stream",
     "text": [
      "\n",
      "\n",
      "100%|██████████| 9/9 [00:00<00:00, 1347.16it/s]\n",
      "\n",
      "100%|██████████| 9/9 [00:00<00:00, 1397.74it/s]\n"
     ]
    },
    {
     "name": "stdout",
     "output_type": "stream",
     "text": [
      "Hub_6\n",
      "Found 10 trips to interpolate\n"
     ]
    },
    {
     "name": "stderr",
     "output_type": "stream",
     "text": [
      "\n",
      "100%|██████████| 2/2 [00:00<00:00, 1568.55it/s]\n",
      "\n",
      "100%|██████████| 2/2 [00:00<00:00, 1713.71it/s]\n"
     ]
    },
    {
     "name": "stdout",
     "output_type": "stream",
     "text": [
      "Hub_5\n",
      "Found 0 trips to interpolate\n",
      "Time interval has not enough entries for Hub_5\n",
      "Hub_2\n",
      "Found 132 trips to interpolate\n"
     ]
    },
    {
     "name": "stderr",
     "output_type": "stream",
     "text": [
      "\n",
      "100%|██████████| 7/7 [00:00<00:00, 1030.14it/s]\n",
      "\n",
      "100%|██████████| 7/7 [00:00<00:00, 1097.37it/s]\n"
     ]
    },
    {
     "name": "stdout",
     "output_type": "stream",
     "text": [
      "Hub_19\n",
      "Found 132 trips to interpolate\n"
     ]
    },
    {
     "name": "stderr",
     "output_type": "stream",
     "text": [
      "\n",
      "100%|██████████| 9/9 [00:00<00:00, 1245.67it/s]\n",
      "\n",
      "100%|██████████| 9/9 [00:00<00:00, 1456.02it/s]"
     ]
    },
    {
     "name": "stdout",
     "output_type": "stream",
     "text": [
      "Hub_4\n",
      "Found 136 trips to interpolate\n"
     ]
    },
    {
     "name": "stderr",
     "output_type": "stream",
     "text": [
      "\n",
      "\n",
      "100%|██████████| 7/7 [00:00<00:00, 959.01it/s]\n",
      "\n",
      "100%|██████████| 7/7 [00:00<00:00, 998.00it/s]\n"
     ]
    },
    {
     "name": "stdout",
     "output_type": "stream",
     "text": [
      "Hub_1\n",
      "Found 152 trips to interpolate\n"
     ]
    },
    {
     "name": "stderr",
     "output_type": "stream",
     "text": [
      "\n",
      "100%|██████████| 12/12 [00:00<00:00, 1626.01it/s]\n",
      "\n",
      "100%|██████████| 12/12 [00:00<00:00, 1456.65it/s]\n"
     ]
    },
    {
     "name": "stdout",
     "output_type": "stream",
     "text": [
      "Hub_9\n",
      "Found 0 trips to interpolate\n",
      "Time interval has not enough entries for Hub_9\n",
      "Hub_18\n",
      "Found 67 trips to interpolate\n"
     ]
    },
    {
     "name": "stderr",
     "output_type": "stream",
     "text": [
      "\n",
      "100%|██████████| 8/8 [00:00<00:00, 1169.10it/s]\n",
      "\n",
      "100%|██████████| 8/8 [00:00<00:00, 2245.34it/s]\n"
     ]
    },
    {
     "name": "stdout",
     "output_type": "stream",
     "text": [
      "Hub_24\n",
      "Found 0 trips to interpolate\n",
      "Time interval has not enough entries for Hub_24\n",
      "Hub_26\n",
      "Found 0 trips to interpolate\n",
      "Time interval has not enough entries for Hub_26\n",
      "Hub_27\n",
      "Found 0 trips to interpolate\n",
      "Time interval has not enough entries for Hub_27\n",
      "Hub_23\n",
      "Found 32 trips to interpolate\n"
     ]
    },
    {
     "name": "stderr",
     "output_type": "stream",
     "text": [
      "\n",
      "100%|██████████| 20/20 [00:00<00:00, 1862.89it/s]\n",
      "\n",
      "100%|██████████| 20/20 [00:00<00:00, 1590.20it/s]\n",
      "Interpolation for time interval:  50%|█████     | 2/4 [00:02<00:02,  1.20s/it]"
     ]
    },
    {
     "name": "stdout",
     "output_type": "stream",
     "text": [
      "Hub_8\n",
      "Found 0 trips to interpolate\n",
      "Time interval has not enough entries for Hub_8\n",
      "Hub_25\n",
      "Found 0 trips to interpolate\n",
      "Time interval has not enough entries for Hub_25\n",
      "Hub_28\n",
      "Found 0 trips to interpolate\n",
      "Time interval has not enough entries for Hub_28\n",
      "\n",
      "Interval 2\n",
      "Interpolation for Time interval 9:0:00 to 10:0:00\n",
      "Hub_21\n",
      "Found 57 trips to interpolate\n"
     ]
    },
    {
     "name": "stderr",
     "output_type": "stream",
     "text": [
      "\n",
      "100%|██████████| 8/8 [00:00<00:00, 1683.02it/s]\n",
      "\n",
      "100%|██████████| 8/8 [00:00<00:00, 1332.42it/s]\n"
     ]
    },
    {
     "name": "stdout",
     "output_type": "stream",
     "text": [
      "Hub_20\n",
      "Found 68 trips to interpolate\n"
     ]
    },
    {
     "name": "stderr",
     "output_type": "stream",
     "text": [
      "\n",
      "100%|██████████| 21/21 [00:00<00:00, 1575.65it/s]\n",
      "\n",
      "100%|██████████| 21/21 [00:00<00:00, 1849.42it/s]\n"
     ]
    },
    {
     "name": "stdout",
     "output_type": "stream",
     "text": [
      "Hub_0\n",
      "Found 16 trips to interpolate\n"
     ]
    },
    {
     "name": "stderr",
     "output_type": "stream",
     "text": [
      "\n",
      "100%|██████████| 3/3 [00:00<00:00, 1066.17it/s]\n",
      "\n",
      "100%|██████████| 3/3 [00:00<00:00, 1704.54it/s]\n"
     ]
    },
    {
     "name": "stdout",
     "output_type": "stream",
     "text": [
      "Hub_22\n",
      "Found 56 trips to interpolate\n"
     ]
    },
    {
     "name": "stderr",
     "output_type": "stream",
     "text": [
      "\n",
      "100%|██████████| 31/31 [00:00<00:00, 2281.23it/s]\n",
      "\n",
      "100%|██████████| 31/31 [00:00<00:00, 2277.04it/s]\n"
     ]
    },
    {
     "name": "stdout",
     "output_type": "stream",
     "text": [
      "Hub_16\n",
      "Found 29 trips to interpolate\n"
     ]
    },
    {
     "name": "stderr",
     "output_type": "stream",
     "text": [
      "\n",
      "100%|██████████| 1/1 [00:00<00:00, 1023.75it/s]\n",
      "\n",
      "100%|██████████| 1/1 [00:00<00:00, 1147.87it/s]\n"
     ]
    },
    {
     "name": "stdout",
     "output_type": "stream",
     "text": [
      "Hub_12\n",
      "Found 37 trips to interpolate\n"
     ]
    },
    {
     "name": "stderr",
     "output_type": "stream",
     "text": [
      "\n",
      "100%|██████████| 40/40 [00:00<00:00, 2477.40it/s]\n",
      "\n",
      "100%|██████████| 40/40 [00:00<00:00, 2639.88it/s]\n"
     ]
    },
    {
     "name": "stdout",
     "output_type": "stream",
     "text": [
      "Hub_14\n",
      "Found 58 trips to interpolate\n"
     ]
    },
    {
     "name": "stderr",
     "output_type": "stream",
     "text": [
      "\n",
      "100%|██████████| 19/19 [00:00<00:00, 1656.07it/s]\n",
      "\n",
      "100%|██████████| 19/19 [00:00<00:00, 1744.72it/s]\n"
     ]
    },
    {
     "name": "stdout",
     "output_type": "stream",
     "text": [
      "Hub_3\n",
      "Found 7 trips to interpolate\n"
     ]
    },
    {
     "name": "stderr",
     "output_type": "stream",
     "text": [
      "\n",
      "100%|██████████| 15/15 [00:00<00:00, 2412.37it/s]\n",
      "\n",
      "100%|██████████| 15/15 [00:00<00:00, 2920.69it/s]\n"
     ]
    },
    {
     "name": "stdout",
     "output_type": "stream",
     "text": [
      "Hub_17\n",
      "Found 34 trips to interpolate\n"
     ]
    },
    {
     "name": "stderr",
     "output_type": "stream",
     "text": [
      "\n",
      "100%|██████████| 5/5 [00:00<00:00, 2234.10it/s]\n",
      "\n",
      "100%|██████████| 5/5 [00:00<00:00, 1068.18it/s]\n"
     ]
    },
    {
     "name": "stdout",
     "output_type": "stream",
     "text": [
      "Hub_10\n",
      "Found 22 trips to interpolate\n"
     ]
    },
    {
     "name": "stderr",
     "output_type": "stream",
     "text": [
      "\n",
      "100%|██████████| 2/2 [00:00<00:00, 1311.54it/s]\n",
      "\n",
      "100%|██████████| 2/2 [00:00<00:00, 1106.97it/s]\n"
     ]
    },
    {
     "name": "stdout",
     "output_type": "stream",
     "text": [
      "Hub_11\n",
      "Found 8 trips to interpolate\n"
     ]
    },
    {
     "name": "stderr",
     "output_type": "stream",
     "text": [
      "\n",
      "100%|██████████| 4/4 [00:00<00:00, 1141.62it/s]\n",
      "\n",
      "100%|██████████| 4/4 [00:00<00:00, 1956.07it/s]\n"
     ]
    },
    {
     "name": "stdout",
     "output_type": "stream",
     "text": [
      "Hub_7\n",
      "Found 60 trips to interpolate\n"
     ]
    },
    {
     "name": "stderr",
     "output_type": "stream",
     "text": [
      "\n",
      "100%|██████████| 40/40 [00:00<00:00, 2738.06it/s]\n",
      "\n",
      "100%|██████████| 40/40 [00:00<00:00, 2168.13it/s]\n"
     ]
    },
    {
     "name": "stdout",
     "output_type": "stream",
     "text": [
      "Hub_15\n",
      "Found 59 trips to interpolate\n"
     ]
    },
    {
     "name": "stderr",
     "output_type": "stream",
     "text": [
      "\n",
      "100%|██████████| 6/6 [00:00<00:00, 1245.59it/s]\n",
      "\n",
      "100%|██████████| 6/6 [00:00<00:00, 1323.61it/s]\n"
     ]
    },
    {
     "name": "stdout",
     "output_type": "stream",
     "text": [
      "Hub_13\n",
      "Found 43 trips to interpolate\n"
     ]
    },
    {
     "name": "stderr",
     "output_type": "stream",
     "text": [
      "\n",
      "100%|██████████| 9/9 [00:00<00:00, 1678.84it/s]\n",
      "\n",
      "100%|██████████| 9/9 [00:00<00:00, 2009.84it/s]\n"
     ]
    },
    {
     "name": "stdout",
     "output_type": "stream",
     "text": [
      "Hub_6\n",
      "Found 10 trips to interpolate\n"
     ]
    },
    {
     "name": "stderr",
     "output_type": "stream",
     "text": [
      "\n",
      "100%|██████████| 2/2 [00:00<00:00, 1269.08it/s]\n",
      "\n",
      "100%|██████████| 2/2 [00:00<00:00, 2022.33it/s]\n"
     ]
    },
    {
     "name": "stdout",
     "output_type": "stream",
     "text": [
      "Hub_5\n",
      "Found 0 trips to interpolate\n",
      "Time interval has not enough entries for Hub_5\n",
      "Hub_2\n",
      "Found 42 trips to interpolate\n"
     ]
    },
    {
     "name": "stderr",
     "output_type": "stream",
     "text": [
      "\n",
      "100%|██████████| 6/6 [00:00<00:00, 1776.75it/s]\n",
      "\n",
      "100%|██████████| 6/6 [00:00<00:00, 1417.79it/s]\n"
     ]
    },
    {
     "name": "stdout",
     "output_type": "stream",
     "text": [
      "Hub_19\n",
      "Found 51 trips to interpolate\n"
     ]
    },
    {
     "name": "stderr",
     "output_type": "stream",
     "text": [
      "\n",
      "100%|██████████| 9/9 [00:00<00:00, 1435.64it/s]\n",
      "\n",
      "100%|██████████| 9/9 [00:00<00:00, 1276.24it/s]"
     ]
    },
    {
     "name": "stdout",
     "output_type": "stream",
     "text": [
      "Hub_4\n",
      "Found 43 trips to interpolate\n"
     ]
    },
    {
     "name": "stderr",
     "output_type": "stream",
     "text": [
      "\n",
      "\n",
      "100%|██████████| 7/7 [00:00<00:00, 1641.51it/s]\n",
      "\n",
      "100%|██████████| 7/7 [00:00<00:00, 1607.01it/s]\n"
     ]
    },
    {
     "name": "stdout",
     "output_type": "stream",
     "text": [
      "Hub_1\n",
      "Found 48 trips to interpolate\n"
     ]
    },
    {
     "name": "stderr",
     "output_type": "stream",
     "text": [
      "\n",
      "100%|██████████| 12/12 [00:00<00:00, 2125.04it/s]\n",
      "\n",
      "100%|██████████| 12/12 [00:00<00:00, 1553.25it/s]\n"
     ]
    },
    {
     "name": "stdout",
     "output_type": "stream",
     "text": [
      "Hub_9\n",
      "Found 0 trips to interpolate\n",
      "Time interval has not enough entries for Hub_9\n",
      "Hub_18\n",
      "Found 38 trips to interpolate\n"
     ]
    },
    {
     "name": "stderr",
     "output_type": "stream",
     "text": [
      "\n",
      "100%|██████████| 6/6 [00:00<00:00, 1616.82it/s]\n",
      "\n",
      "100%|██████████| 6/6 [00:00<00:00, 1718.27it/s]\n"
     ]
    },
    {
     "name": "stdout",
     "output_type": "stream",
     "text": [
      "Hub_24\n",
      "Found 0 trips to interpolate\n",
      "Time interval has not enough entries for Hub_24\n",
      "Hub_26\n",
      "Found 0 trips to interpolate\n",
      "Time interval has not enough entries for Hub_26\n",
      "Hub_27\n",
      "Found 0 trips to interpolate\n",
      "Time interval has not enough entries for Hub_27\n",
      "Hub_23\n",
      "Found 14 trips to interpolate\n"
     ]
    },
    {
     "name": "stderr",
     "output_type": "stream",
     "text": [
      "\n",
      "100%|██████████| 34/34 [00:00<00:00, 2494.30it/s]\n",
      "\n",
      "100%|██████████| 34/34 [00:00<00:00, 2647.97it/s]\n",
      "Interpolation for time interval:  75%|███████▌  | 3/4 [00:04<00:01,  1.59s/it]"
     ]
    },
    {
     "name": "stdout",
     "output_type": "stream",
     "text": [
      "Hub_8\n",
      "Found 0 trips to interpolate\n",
      "Time interval has not enough entries for Hub_8\n",
      "Hub_25\n",
      "Found 0 trips to interpolate\n",
      "Time interval has not enough entries for Hub_25\n",
      "Hub_28\n",
      "Found 0 trips to interpolate\n",
      "Time interval has not enough entries for Hub_28\n",
      "\n",
      "Interval 3\n",
      "Interpolation for Time interval 10:0:00 to 11:0:00\n",
      "Hub_21\n",
      "Found 39 trips to interpolate\n"
     ]
    },
    {
     "name": "stderr",
     "output_type": "stream",
     "text": [
      "\n",
      "100%|██████████| 5/5 [00:00<00:00, 1489.88it/s]\n",
      "\n",
      "100%|██████████| 5/5 [00:00<00:00, 1404.94it/s]\n"
     ]
    },
    {
     "name": "stdout",
     "output_type": "stream",
     "text": [
      "Hub_20\n",
      "Found 64 trips to interpolate\n"
     ]
    },
    {
     "name": "stderr",
     "output_type": "stream",
     "text": [
      "\n",
      "100%|██████████| 12/12 [00:00<00:00, 1477.08it/s]\n",
      "\n",
      "100%|██████████| 12/12 [00:00<00:00, 1381.52it/s]"
     ]
    },
    {
     "name": "stdout",
     "output_type": "stream",
     "text": [
      "Hub_0\n",
      "Found 10 trips to interpolate\n"
     ]
    },
    {
     "name": "stderr",
     "output_type": "stream",
     "text": [
      "\n",
      "\n",
      "100%|██████████| 3/3 [00:00<00:00, 1793.20it/s]\n",
      "\n",
      "100%|██████████| 3/3 [00:00<00:00, 2343.62it/s]\n"
     ]
    },
    {
     "name": "stdout",
     "output_type": "stream",
     "text": [
      "Hub_22\n",
      "Found 32 trips to interpolate\n"
     ]
    },
    {
     "name": "stderr",
     "output_type": "stream",
     "text": [
      "\n",
      "100%|██████████| 39/39 [00:00<00:00, 2185.09it/s]\n",
      "\n",
      "100%|██████████| 39/39 [00:00<00:00, 2649.46it/s]\n"
     ]
    },
    {
     "name": "stdout",
     "output_type": "stream",
     "text": [
      "Hub_16\n",
      "Found 33 trips to interpolate\n"
     ]
    },
    {
     "name": "stderr",
     "output_type": "stream",
     "text": [
      "\n",
      "100%|██████████| 6/6 [00:00<00:00, 999.99it/s]\n",
      "\n",
      "100%|██████████| 6/6 [00:00<00:00, 886.28it/s]\n"
     ]
    },
    {
     "name": "stdout",
     "output_type": "stream",
     "text": [
      "Hub_12\n",
      "Found 31 trips to interpolate\n"
     ]
    },
    {
     "name": "stderr",
     "output_type": "stream",
     "text": [
      "\n",
      "100%|██████████| 32/32 [00:00<00:00, 1770.61it/s]\n",
      "\n",
      "100%|██████████| 32/32 [00:00<00:00, 2514.85it/s]\n"
     ]
    },
    {
     "name": "stdout",
     "output_type": "stream",
     "text": [
      "Hub_14\n",
      "Found 48 trips to interpolate\n"
     ]
    },
    {
     "name": "stderr",
     "output_type": "stream",
     "text": [
      "\n",
      "100%|██████████| 19/19 [00:00<00:00, 1388.79it/s]\n",
      "\n",
      "100%|██████████| 19/19 [00:00<00:00, 2364.11it/s]\n"
     ]
    },
    {
     "name": "stdout",
     "output_type": "stream",
     "text": [
      "Hub_3\n",
      "Found 7 trips to interpolate\n"
     ]
    },
    {
     "name": "stderr",
     "output_type": "stream",
     "text": [
      "\n",
      "100%|██████████| 9/9 [00:00<00:00, 2289.33it/s]\n",
      "\n",
      "100%|██████████| 9/9 [00:00<00:00, 2319.15it/s]\n"
     ]
    },
    {
     "name": "stdout",
     "output_type": "stream",
     "text": [
      "Hub_17\n",
      "Found 18 trips to interpolate\n"
     ]
    },
    {
     "name": "stderr",
     "output_type": "stream",
     "text": [
      "\n",
      "100%|██████████| 3/3 [00:00<00:00, 2222.34it/s]\n",
      "\n",
      "100%|██████████| 3/3 [00:00<00:00, 2290.30it/s]\n"
     ]
    },
    {
     "name": "stdout",
     "output_type": "stream",
     "text": [
      "Hub_10\n",
      "Found 14 trips to interpolate\n"
     ]
    },
    {
     "name": "stderr",
     "output_type": "stream",
     "text": [
      "\n",
      "100%|██████████| 2/2 [00:00<00:00, 2878.73it/s]\n",
      "\n",
      "100%|██████████| 2/2 [00:00<00:00, 1449.56it/s]\n"
     ]
    },
    {
     "name": "stdout",
     "output_type": "stream",
     "text": [
      "Hub_11\n",
      "Found 6 trips to interpolate\n"
     ]
    },
    {
     "name": "stderr",
     "output_type": "stream",
     "text": [
      "\n",
      "100%|██████████| 1/1 [00:00<00:00, 1001.74it/s]\n",
      "\n",
      "100%|██████████| 1/1 [00:00<00:00, 1652.60it/s]\n"
     ]
    },
    {
     "name": "stdout",
     "output_type": "stream",
     "text": [
      "Hub_7\n",
      "Found 48 trips to interpolate\n"
     ]
    },
    {
     "name": "stderr",
     "output_type": "stream",
     "text": [
      "\n",
      "100%|██████████| 20/20 [00:00<00:00, 1273.39it/s]\n",
      "\n",
      "100%|██████████| 20/20 [00:00<00:00, 1701.30it/s]\n"
     ]
    },
    {
     "name": "stdout",
     "output_type": "stream",
     "text": [
      "Hub_15\n",
      "Found 31 trips to interpolate\n"
     ]
    },
    {
     "name": "stderr",
     "output_type": "stream",
     "text": [
      "\n",
      "100%|██████████| 6/6 [00:00<00:00, 963.14it/s]\n",
      "\n",
      "100%|██████████| 6/6 [00:00<00:00, 1819.92it/s]\n"
     ]
    },
    {
     "name": "stdout",
     "output_type": "stream",
     "text": [
      "Hub_13\n",
      "Found 27 trips to interpolate\n"
     ]
    },
    {
     "name": "stderr",
     "output_type": "stream",
     "text": [
      "\n",
      "100%|██████████| 5/5 [00:00<00:00, 1773.79it/s]\n",
      "\n",
      "100%|██████████| 5/5 [00:00<00:00, 1675.58it/s]\n"
     ]
    },
    {
     "name": "stdout",
     "output_type": "stream",
     "text": [
      "Hub_6\n",
      "Found 7 trips to interpolate\n"
     ]
    },
    {
     "name": "stderr",
     "output_type": "stream",
     "text": [
      "\n",
      "100%|██████████| 1/1 [00:00<00:00, 866.59it/s]\n",
      "\n",
      "100%|██████████| 1/1 [00:00<00:00, 1164.11it/s]\n"
     ]
    },
    {
     "name": "stdout",
     "output_type": "stream",
     "text": [
      "Hub_5\n",
      "Found 0 trips to interpolate\n",
      "Time interval has not enough entries for Hub_5\n",
      "Hub_2\n",
      "Found 13 trips to interpolate\n"
     ]
    },
    {
     "name": "stderr",
     "output_type": "stream",
     "text": [
      "\n",
      "100%|██████████| 7/7 [00:00<00:00, 1407.55it/s]\n",
      "\n",
      "100%|██████████| 7/7 [00:00<00:00, 2404.40it/s]\n"
     ]
    },
    {
     "name": "stdout",
     "output_type": "stream",
     "text": [
      "Hub_19\n",
      "Found 35 trips to interpolate\n"
     ]
    },
    {
     "name": "stderr",
     "output_type": "stream",
     "text": [
      "\n",
      "100%|██████████| 12/12 [00:00<00:00, 1528.30it/s]\n",
      "\n",
      "100%|██████████| 12/12 [00:00<00:00, 1692.79it/s]\n"
     ]
    },
    {
     "name": "stdout",
     "output_type": "stream",
     "text": [
      "Hub_4\n",
      "Found 34 trips to interpolate\n"
     ]
    },
    {
     "name": "stderr",
     "output_type": "stream",
     "text": [
      "\n",
      "100%|██████████| 4/4 [00:00<00:00, 1793.78it/s]\n",
      "\n",
      "100%|██████████| 4/4 [00:00<00:00, 1628.70it/s]\n"
     ]
    },
    {
     "name": "stdout",
     "output_type": "stream",
     "text": [
      "Hub_1\n",
      "Found 31 trips to interpolate\n"
     ]
    },
    {
     "name": "stderr",
     "output_type": "stream",
     "text": [
      "\n",
      "100%|██████████| 10/10 [00:00<00:00, 1684.12it/s]\n",
      "\n",
      "100%|██████████| 10/10 [00:00<00:00, 1832.77it/s]\n"
     ]
    },
    {
     "name": "stdout",
     "output_type": "stream",
     "text": [
      "Hub_9\n",
      "Found 0 trips to interpolate\n",
      "Time interval has not enough entries for Hub_9\n",
      "Hub_18\n",
      "Found 37 trips to interpolate\n"
     ]
    },
    {
     "name": "stderr",
     "output_type": "stream",
     "text": [
      "\n",
      "100%|██████████| 6/6 [00:00<00:00, 1740.13it/s]\n",
      "\n",
      "100%|██████████| 6/6 [00:00<00:00, 1246.88it/s]\n"
     ]
    },
    {
     "name": "stdout",
     "output_type": "stream",
     "text": [
      "Hub_24\n",
      "Found 0 trips to interpolate\n",
      "Time interval has not enough entries for Hub_24\n",
      "Hub_26\n",
      "Found 0 trips to interpolate\n",
      "Time interval has not enough entries for Hub_26\n",
      "Hub_27\n",
      "Found 0 trips to interpolate\n",
      "Time interval has not enough entries for Hub_27\n",
      "Hub_23\n",
      "Found 5 trips to interpolate\n"
     ]
    },
    {
     "name": "stderr",
     "output_type": "stream",
     "text": [
      "\n",
      "100%|██████████| 30/30 [00:00<00:00, 2872.55it/s]\n",
      "\n",
      "100%|██████████| 30/30 [00:00<00:00, 2865.03it/s]\n",
      "Interpolation for time interval: 100%|██████████| 4/4 [00:06<00:00,  1.76s/it]"
     ]
    },
    {
     "name": "stdout",
     "output_type": "stream",
     "text": [
      "Hub_8\n",
      "Found 0 trips to interpolate\n",
      "Time interval has not enough entries for Hub_8\n",
      "Hub_25\n",
      "Found 0 trips to interpolate\n",
      "Time interval has not enough entries for Hub_25\n",
      "Hub_28\n",
      "Found 0 trips to interpolate\n",
      "Time interval has not enough entries for Hub_28\n",
      "\n",
      "Interval 4\n",
      "Interpolation for Time interval 11:0:00 to 12:0:00\n",
      "Hub_21\n",
      "Found 36 trips to interpolate\n"
     ]
    },
    {
     "name": "stderr",
     "output_type": "stream",
     "text": [
      "\n",
      "100%|██████████| 5/5 [00:00<00:00, 1617.17it/s]\n",
      "\n",
      "100%|██████████| 5/5 [00:00<00:00, 1561.89it/s]\n"
     ]
    },
    {
     "name": "stdout",
     "output_type": "stream",
     "text": [
      "Hub_20\n",
      "Found 70 trips to interpolate\n"
     ]
    },
    {
     "name": "stderr",
     "output_type": "stream",
     "text": [
      "\n",
      "100%|██████████| 10/10 [00:00<00:00, 1370.78it/s]\n",
      "\n",
      "100%|██████████| 10/10 [00:00<00:00, 1287.66it/s]\n"
     ]
    },
    {
     "name": "stdout",
     "output_type": "stream",
     "text": [
      "Hub_0\n",
      "Found 11 trips to interpolate\n"
     ]
    },
    {
     "name": "stderr",
     "output_type": "stream",
     "text": [
      "\n",
      "100%|██████████| 3/3 [00:00<00:00, 1759.60it/s]\n",
      "\n",
      "100%|██████████| 3/3 [00:00<00:00, 1277.06it/s]\n"
     ]
    },
    {
     "name": "stdout",
     "output_type": "stream",
     "text": [
      "Hub_22\n",
      "Found 44 trips to interpolate\n"
     ]
    },
    {
     "name": "stderr",
     "output_type": "stream",
     "text": [
      "\n",
      "100%|██████████| 46/46 [00:00<00:00, 2137.94it/s]\n",
      "\n",
      "100%|██████████| 46/46 [00:00<00:00, 2896.88it/s]\n"
     ]
    },
    {
     "name": "stdout",
     "output_type": "stream",
     "text": [
      "Hub_16\n",
      "Found 27 trips to interpolate\n"
     ]
    },
    {
     "name": "stderr",
     "output_type": "stream",
     "text": [
      "\n",
      "100%|██████████| 2/2 [00:00<00:00, 905.41it/s]\n",
      "\n",
      "100%|██████████| 2/2 [00:00<00:00, 1078.23it/s]\n"
     ]
    },
    {
     "name": "stdout",
     "output_type": "stream",
     "text": [
      "Hub_12\n",
      "Found 43 trips to interpolate\n"
     ]
    },
    {
     "name": "stderr",
     "output_type": "stream",
     "text": [
      "\n",
      "100%|██████████| 40/40 [00:00<00:00, 2210.47it/s]\n",
      "\n",
      "100%|██████████| 40/40 [00:00<00:00, 2427.51it/s]\n"
     ]
    },
    {
     "name": "stdout",
     "output_type": "stream",
     "text": [
      "Hub_14\n",
      "Found 57 trips to interpolate\n"
     ]
    },
    {
     "name": "stderr",
     "output_type": "stream",
     "text": [
      "\n",
      "100%|██████████| 19/19 [00:00<00:00, 1850.37it/s]\n",
      "\n",
      "100%|██████████| 19/19 [00:00<00:00, 2286.71it/s]\n"
     ]
    },
    {
     "name": "stdout",
     "output_type": "stream",
     "text": [
      "Hub_3\n",
      "Found 18 trips to interpolate\n"
     ]
    },
    {
     "name": "stderr",
     "output_type": "stream",
     "text": [
      "\n",
      "100%|██████████| 19/19 [00:00<00:00, 1711.08it/s]\n",
      "\n",
      "100%|██████████| 19/19 [00:00<00:00, 1568.33it/s]\n"
     ]
    },
    {
     "name": "stdout",
     "output_type": "stream",
     "text": [
      "Hub_17\n",
      "Found 33 trips to interpolate\n"
     ]
    },
    {
     "name": "stderr",
     "output_type": "stream",
     "text": [
      "\n",
      "100%|██████████| 3/3 [00:00<00:00, 1225.45it/s]\n",
      "\n",
      "100%|██████████| 3/3 [00:00<00:00, 1428.58it/s]\n"
     ]
    },
    {
     "name": "stdout",
     "output_type": "stream",
     "text": [
      "Hub_10\n",
      "Found 25 trips to interpolate\n"
     ]
    },
    {
     "name": "stderr",
     "output_type": "stream",
     "text": [
      "\n",
      "100%|██████████| 2/2 [00:00<00:00, 804.89it/s]\n",
      "\n",
      "100%|██████████| 2/2 [00:00<00:00, 1114.91it/s]\n"
     ]
    },
    {
     "name": "stdout",
     "output_type": "stream",
     "text": [
      "Hub_11\n",
      "Found 13 trips to interpolate\n"
     ]
    },
    {
     "name": "stderr",
     "output_type": "stream",
     "text": [
      "\n",
      "100%|██████████| 2/2 [00:00<00:00, 967.66it/s]\n",
      "\n",
      "100%|██████████| 2/2 [00:00<00:00, 2209.85it/s]\n"
     ]
    },
    {
     "name": "stdout",
     "output_type": "stream",
     "text": [
      "Hub_7\n",
      "Found 79 trips to interpolate\n"
     ]
    },
    {
     "name": "stderr",
     "output_type": "stream",
     "text": [
      "\n",
      "100%|██████████| 40/40 [00:00<00:00, 1790.03it/s]\n",
      "\n",
      "100%|██████████| 40/40 [00:00<00:00, 2488.94it/s]\n"
     ]
    },
    {
     "name": "stdout",
     "output_type": "stream",
     "text": [
      "Hub_15\n",
      "Found 37 trips to interpolate\n"
     ]
    },
    {
     "name": "stderr",
     "output_type": "stream",
     "text": [
      "\n",
      "100%|██████████| 4/4 [00:00<00:00, 1223.63it/s]\n",
      "\n",
      "100%|██████████| 4/4 [00:00<00:00, 1824.80it/s]\n"
     ]
    },
    {
     "name": "stdout",
     "output_type": "stream",
     "text": [
      "Hub_13\n",
      "Found 25 trips to interpolate\n"
     ]
    },
    {
     "name": "stderr",
     "output_type": "stream",
     "text": [
      "\n",
      "100%|██████████| 5/5 [00:00<00:00, 2286.22it/s]\n",
      "\n",
      "100%|██████████| 5/5 [00:00<00:00, 1328.66it/s]\n"
     ]
    },
    {
     "name": "stdout",
     "output_type": "stream",
     "text": [
      "Hub_6\n",
      "Found 9 trips to interpolate\n"
     ]
    },
    {
     "name": "stderr",
     "output_type": "stream",
     "text": [
      "\n",
      "100%|██████████| 1/1 [00:00<00:00, 1314.01it/s]\n",
      "\n",
      "100%|██████████| 1/1 [00:00<00:00, 1392.53it/s]\n"
     ]
    },
    {
     "name": "stdout",
     "output_type": "stream",
     "text": [
      "Hub_5\n",
      "Found 0 trips to interpolate\n",
      "Time interval has not enough entries for Hub_5\n",
      "Hub_2\n",
      "Found 14 trips to interpolate\n"
     ]
    },
    {
     "name": "stderr",
     "output_type": "stream",
     "text": [
      "\n",
      "100%|██████████| 6/6 [00:00<00:00, 2521.12it/s]\n",
      "\n",
      "100%|██████████| 6/6 [00:00<00:00, 2104.52it/s]\n"
     ]
    },
    {
     "name": "stdout",
     "output_type": "stream",
     "text": [
      "Hub_19\n",
      "Found 49 trips to interpolate\n"
     ]
    },
    {
     "name": "stderr",
     "output_type": "stream",
     "text": [
      "\n",
      "100%|██████████| 14/14 [00:00<00:00, 2149.59it/s]\n",
      "\n",
      "100%|██████████| 14/14 [00:00<00:00, 1911.03it/s]\n"
     ]
    },
    {
     "name": "stdout",
     "output_type": "stream",
     "text": [
      "Hub_4\n",
      "Found 17 trips to interpolate\n"
     ]
    },
    {
     "name": "stderr",
     "output_type": "stream",
     "text": [
      "\n",
      "100%|██████████| 4/4 [00:00<00:00, 1409.85it/s]\n",
      "\n",
      "100%|██████████| 4/4 [00:00<00:00, 1909.32it/s]\n"
     ]
    },
    {
     "name": "stdout",
     "output_type": "stream",
     "text": [
      "Hub_1\n",
      "Found 22 trips to interpolate\n"
     ]
    },
    {
     "name": "stderr",
     "output_type": "stream",
     "text": [
      "\n",
      "100%|██████████| 14/14 [00:00<00:00, 1768.79it/s]\n",
      "\n",
      "100%|██████████| 14/14 [00:00<00:00, 1549.88it/s]\n"
     ]
    },
    {
     "name": "stdout",
     "output_type": "stream",
     "text": [
      "Hub_9\n",
      "Found 0 trips to interpolate\n",
      "Time interval has not enough entries for Hub_9\n",
      "Hub_18\n",
      "Found 23 trips to interpolate\n"
     ]
    },
    {
     "name": "stderr",
     "output_type": "stream",
     "text": [
      "\n",
      "100%|██████████| 7/7 [00:00<00:00, 1698.49it/s]\n",
      "\n",
      "100%|██████████| 7/7 [00:00<00:00, 1210.83it/s]"
     ]
    },
    {
     "name": "stdout",
     "output_type": "stream",
     "text": [
      "Hub_24\n",
      "Found 0 trips to interpolate\n",
      "Time interval has not enough entries for Hub_24\n"
     ]
    },
    {
     "name": "stderr",
     "output_type": "stream",
     "text": [
      "\n"
     ]
    },
    {
     "name": "stdout",
     "output_type": "stream",
     "text": [
      "Hub_26\n",
      "Found 0 trips to interpolate\n",
      "Time interval has not enough entries for Hub_26\n",
      "Hub_27\n",
      "Found 0 trips to interpolate\n",
      "Time interval has not enough entries for Hub_27\n",
      "Hub_23\n",
      "Found 7 trips to interpolate\n"
     ]
    },
    {
     "name": "stderr",
     "output_type": "stream",
     "text": [
      "\n",
      "100%|██████████| 1/1 [00:00<00:00, 1372.03it/s]\n",
      "\n",
      "100%|██████████| 1/1 [00:00<00:00, 1218.21it/s]\n",
      "Interpolation for time interval: 100%|██████████| 4/4 [00:08<00:00,  2.17s/it]"
     ]
    },
    {
     "name": "stdout",
     "output_type": "stream",
     "text": [
      "Hub_8\n",
      "Found 0 trips to interpolate\n",
      "Time interval has not enough entries for Hub_8\n",
      "Hub_25\n",
      "Found 0 trips to interpolate\n",
      "Time interval has not enough entries for Hub_25\n",
      "Hub_28\n",
      "Found 0 trips to interpolate\n",
      "Time interval has not enough entries for Hub_28\n"
     ]
    },
    {
     "name": "stderr",
     "output_type": "stream",
     "text": [
      "\n"
     ]
    }
   ],
   "source": [
    "CellsDF = InterpolateTrips.runAllIntervals(df, CellsDF, deltaT, [start_time, end_time], DfHubs)"
   ],
   "metadata": {
    "collapsed": false
   }
  },
  {
   "cell_type": "code",
   "execution_count": 58,
   "outputs": [
    {
     "name": "stderr",
     "output_type": "stream",
     "text": [
      "adding all stops to gtfs: stops.txt: 100%|██████████| 469/469 [00:00<00:00, 1563.11it/s]\n",
      "adding all waiting and travel times to gtfs: stop_times.txt:   0%|          | 0/469 [00:00<?, ?it/s]/usr/local/lib/python3.9/site-packages/geopandas/array.py:1406: UserWarning: CRS not set for some of the concatenation inputs. Setting output's CRS as RGF93 v1 / Lambert-93 (the single non-null crs provided).\n",
      "  warnings.warn(\n",
      "adding all waiting and travel times to gtfs: stop_times.txt:  34%|███▍      | 160/469 [00:04<00:09, 34.13it/s]"
     ]
    },
    {
     "ename": "KeyboardInterrupt",
     "evalue": "",
     "output_type": "error",
     "traceback": [
      "\u001B[0;31m---------------------------------------------------------------------------\u001B[0m",
      "\u001B[0;31mKeyboardInterrupt\u001B[0m                         Traceback (most recent call last)",
      "Input \u001B[0;32mIn [58]\u001B[0m, in \u001B[0;36m<cell line: 1>\u001B[0;34m()\u001B[0m\n\u001B[0;32m----> 1\u001B[0m drtGTFS \u001B[38;5;241m=\u001B[39m \u001B[43mcreateGTFS\u001B[49m\u001B[38;5;241;43m.\u001B[39;49m\u001B[43mrun\u001B[49m\u001B[43m(\u001B[49m\u001B[43mCellsDF\u001B[49m\u001B[43m,\u001B[49m\u001B[43m \u001B[49m\u001B[43mDfHubs\u001B[49m\u001B[43m,\u001B[49m\u001B[43m \u001B[49m\u001B[43mdeltaT\u001B[49m\u001B[43m,\u001B[49m\u001B[43m \u001B[49m\u001B[43m[\u001B[49m\u001B[43mstart_time\u001B[49m\u001B[43m,\u001B[49m\u001B[43m \u001B[49m\u001B[43mend_time\u001B[49m\u001B[43m]\u001B[49m\u001B[43m)\u001B[49m\n",
      "File \u001B[0;32m~/BaseFiles/legs2gtfs/createGTFS.py:11\u001B[0m, in \u001B[0;36mrun\u001B[0;34m(cellsDF, hubsDF, deltaT, timeFrame)\u001B[0m\n\u001B[1;32m      9\u001B[0m gtfs \u001B[38;5;241m=\u001B[39m createGTFSdataframes()\n\u001B[1;32m     10\u001B[0m addStops2DF(cellsDF, gtfs)\n\u001B[0;32m---> 11\u001B[0m \u001B[43maddStopTimes2DF\u001B[49m\u001B[43m(\u001B[49m\u001B[43mcellsDF\u001B[49m\u001B[43m,\u001B[49m\u001B[43m \u001B[49m\u001B[43mgtfs\u001B[49m\u001B[43m,\u001B[49m\u001B[43m \u001B[49m\u001B[43mhubsDF\u001B[49m\u001B[43m,\u001B[49m\u001B[43m \u001B[49m\u001B[43mdeltaT\u001B[49m\u001B[43m,\u001B[49m\u001B[43m \u001B[49m\u001B[43mtimeFrame\u001B[49m\u001B[43m)\u001B[49m \u001B[38;5;66;03m# --> adapt to accommodate multi interval analysis\u001B[39;00m\n\u001B[1;32m     12\u001B[0m addTrips2DF(gtfs)\n\u001B[1;32m     13\u001B[0m addCalendar2DF(gtfs)\n",
      "File \u001B[0;32m~/BaseFiles/legs2gtfs/createGTFS.py:107\u001B[0m, in \u001B[0;36maddStopTimes2DF\u001B[0;34m(cellsDF, gtfs, hubsDF, deltaT, timeFrame)\u001B[0m\n\u001B[1;32m    105\u001B[0m cellsCLEAN \u001B[38;5;241m=\u001B[39m pd\u001B[38;5;241m.\u001B[39mconcat([cellsCLEAN,cell], ignore_index\u001B[38;5;241m=\u001B[39m\u001B[38;5;28;01mTrue\u001B[39;00m)\n\u001B[1;32m    106\u001B[0m \u001B[38;5;66;03m#stop_times = fillStopTimeTable(intervalsALL,stop_times,cell,len(hubsDF))\u001B[39;00m\n\u001B[0;32m--> 107\u001B[0m \u001B[43mfillStopTimeTable\u001B[49m\u001B[43m(\u001B[49m\u001B[43mintervalsALL\u001B[49m\u001B[43m,\u001B[49m\u001B[43m \u001B[49m\u001B[43mstop_times\u001B[49m\u001B[43m,\u001B[49m\u001B[43m \u001B[49m\u001B[43mcell\u001B[49m\u001B[43m,\u001B[49m\u001B[43m \u001B[49m\u001B[38;5;28;43mlen\u001B[39;49m\u001B[43m(\u001B[49m\u001B[43mhubsDF\u001B[49m\u001B[43m)\u001B[49m\u001B[43m)\u001B[49m\n\u001B[1;32m    108\u001B[0m progress\u001B[38;5;241m.\u001B[39mupdate(\u001B[38;5;241m1\u001B[39m)\n",
      "File \u001B[0;32m~/BaseFiles/legs2gtfs/createGTFS.py:290\u001B[0m, in \u001B[0;36mfillStopTimeTable\u001B[0;34m(intervals, stop_times, cell, countHubs)\u001B[0m\n\u001B[1;32m    287\u001B[0m \u001B[38;5;28;01mwhile\u001B[39;00m dep_stop1 \u001B[38;5;241m<\u001B[39m currentEnd:\n\u001B[1;32m    289\u001B[0m     j \u001B[38;5;241m=\u001B[39m \u001B[38;5;28mlen\u001B[39m(stop_times[\u001B[38;5;124m'\u001B[39m\u001B[38;5;124mtrip_id\u001B[39m\u001B[38;5;124m'\u001B[39m])\n\u001B[0;32m--> 290\u001B[0m     stop_times\u001B[38;5;241m.\u001B[39mloc[j, \u001B[38;5;124m'\u001B[39m\u001B[38;5;124mtrip_id\u001B[39m\u001B[38;5;124m'\u001B[39m] \u001B[38;5;241m=\u001B[39m \u001B[38;5;28mstr\u001B[39m(\u001B[38;5;28mstr\u001B[39m(cell_id) \u001B[38;5;241m+\u001B[39m \u001B[38;5;124m'\u001B[39m\u001B[38;5;124m-Hub_\u001B[39m\u001B[38;5;124m'\u001B[39m \u001B[38;5;241m+\u001B[39m \u001B[38;5;28mstr\u001B[39m(z) \u001B[38;5;241m+\u001B[39m \u001B[38;5;124m'\u001B[39m\u001B[38;5;124m>\u001B[39m\u001B[38;5;124m'\u001B[39m \u001B[38;5;241m+\u001B[39m \u001B[38;5;28mstr\u001B[39m(tripNo))\n\u001B[1;32m    291\u001B[0m     stop_times\u001B[38;5;241m.\u001B[39mloc[j, \u001B[38;5;124m'\u001B[39m\u001B[38;5;124mstop_id\u001B[39m\u001B[38;5;124m'\u001B[39m] \u001B[38;5;241m=\u001B[39m cell_id\n\u001B[1;32m    292\u001B[0m     stop_times\u001B[38;5;241m.\u001B[39mloc[j, \u001B[38;5;124m'\u001B[39m\u001B[38;5;124mdeparture_time\u001B[39m\u001B[38;5;124m'\u001B[39m] \u001B[38;5;241m=\u001B[39m sec2str(dep_stop1)\n",
      "File \u001B[0;32m/usr/local/lib/python3.9/site-packages/pandas/core/indexing.py:716\u001B[0m, in \u001B[0;36m_LocationIndexer.__setitem__\u001B[0;34m(self, key, value)\u001B[0m\n\u001B[1;32m    713\u001B[0m \u001B[38;5;28mself\u001B[39m\u001B[38;5;241m.\u001B[39m_has_valid_setitem_indexer(key)\n\u001B[1;32m    715\u001B[0m iloc \u001B[38;5;241m=\u001B[39m \u001B[38;5;28mself\u001B[39m \u001B[38;5;28;01mif\u001B[39;00m \u001B[38;5;28mself\u001B[39m\u001B[38;5;241m.\u001B[39mname \u001B[38;5;241m==\u001B[39m \u001B[38;5;124m\"\u001B[39m\u001B[38;5;124miloc\u001B[39m\u001B[38;5;124m\"\u001B[39m \u001B[38;5;28;01melse\u001B[39;00m \u001B[38;5;28mself\u001B[39m\u001B[38;5;241m.\u001B[39mobj\u001B[38;5;241m.\u001B[39miloc\n\u001B[0;32m--> 716\u001B[0m \u001B[43miloc\u001B[49m\u001B[38;5;241;43m.\u001B[39;49m\u001B[43m_setitem_with_indexer\u001B[49m\u001B[43m(\u001B[49m\u001B[43mindexer\u001B[49m\u001B[43m,\u001B[49m\u001B[43m \u001B[49m\u001B[43mvalue\u001B[49m\u001B[43m,\u001B[49m\u001B[43m \u001B[49m\u001B[38;5;28;43mself\u001B[39;49m\u001B[38;5;241;43m.\u001B[39;49m\u001B[43mname\u001B[49m\u001B[43m)\u001B[49m\n",
      "\u001B[0;31mKeyboardInterrupt\u001B[0m: "
     ]
    }
   ],
   "source": [
    "drtGTFS = createGTFS.run(CellsDF, DfHubs, deltaT, [start_time, end_time])"
   ],
   "metadata": {
    "collapsed": false
   }
  },
  {
   "cell_type": "code",
   "execution_count": null,
   "outputs": [],
   "source": [],
   "metadata": {
    "collapsed": false
   }
  }
 ],
 "metadata": {
  "kernelspec": {
   "display_name": "Python 3",
   "language": "python",
   "name": "python3"
  },
  "language_info": {
   "codemirror_mode": {
    "name": "ipython",
    "version": 2
   },
   "file_extension": ".py",
   "mimetype": "text/x-python",
   "name": "python",
   "nbconvert_exporter": "python",
   "pygments_lexer": "ipython2",
   "version": "2.7.6"
  }
 },
 "nbformat": 4,
 "nbformat_minor": 0
}
