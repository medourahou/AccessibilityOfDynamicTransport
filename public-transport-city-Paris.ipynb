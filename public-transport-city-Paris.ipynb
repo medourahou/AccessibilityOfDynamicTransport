{
 "cells": [
  {
   "cell_type": "markdown",
   "metadata": {},
   "source": [
    "# Requirement:"
   ]
  },
  {
   "cell_type": "markdown",
   "metadata": {},
   "source": [
    "External library to import"
   ]
  },
  {
   "cell_type": "code",
   "execution_count": 1,
   "metadata": {
    "hide_input": false,
    "run_control": {
     "marked": false
    }
   },
   "outputs": [],
   "source": [
    "import sys\n",
    "sys.path.insert(0, './library/')\n",
    "import zipfile\n",
    "import os\n",
    "import time\n",
    "import pymongo as pym\n",
    "import pandas as pd\n",
    "import folium\n",
    "import numpy as np\n",
    "import requests\n",
    "import numba\n",
    "from shapely.geometry  import Polygon, LineString, mapping, Point\n",
    "import math\n",
    "import geopy\n",
    "import shapely\n",
    "from shapely.geometry import Polygon, MultiPolygon, Point, mapping\n",
    "from geopy.distance import geodesic,great_circle\n",
    "from folium.plugins import FastMarkerCluster\n",
    "from datetime import datetime\n",
    "from geopy.distance import geodesic,great_circle\n",
    "import geopandas as gpd\n",
    "from shapely.geometry import shape"
   ]
  },
  {
   "cell_type": "markdown",
   "metadata": {},
   "source": [
    " # Data:\n",
    "\n",
    "1. gtfs file of the city. \n",
    " ->[repository of gtfs file https://transitfeeds.com/]\n",
    "2. pbf file of [openstreetmap](openstreetmap.org) extract from of the city/region of interest. ->[repository of osm extract: http://download.geofabrik.de/]"
   ]
  },
  {
   "cell_type": "code",
   "execution_count": null,
   "metadata": {},
   "outputs": [],
   "source": []
  },
  {
   "cell_type": "markdown",
   "metadata": {},
   "source": [
    "# Url and paths  [**set it!**]\n",
    "### mongodb settings"
   ]
  },
  {
   "cell_type": "code",
   "execution_count": 154,
   "metadata": {
    "run_control": {
     "marked": false
    }
   },
   "outputs": [],
   "source": [
    "city = 'Paris'\n",
    "scenario_name = 'drt' # e.g. '_drt'\n",
    "\n",
    "# file paths and addresses to be provided:\n",
    "# population data\n",
    "shpPath = 'Paris/shp/pop.shp'\n",
    "popCollectionName = \"pop\"\n",
    "popField = \"pop\"\n",
    "\n",
    "# Study area\n",
    "# Study area defines the area in which the accessibility calaculation is executes\n",
    "study_area_shp_path = 'Paris/shp/studyarea.shp'\n",
    "\n",
    "\n",
    "directoryGTFS = './Paris/gtfs/'  # !! only directory of gtfs.zip file, not the path to file\n",
    "gtfs_prep_toggle = True\n",
    "urlMongoDb = \"mongodb://localhost:27017/\"  # url of the mongodb database\n",
    "urlMongoDbPop = \"mongodb://localhost:27017/\" # url of the mongodb database for population\n",
    "urlServerOsrm = 'http://localhost:5000/' # url of the osrm server of the city\n",
    "\n",
    "# required parameters\n",
    "# regarded day from gtfs file\n",
    "day = '20220307'\n",
    "dayName = \"monday\"  # name of the corresponding day\n",
    "\n",
    "# List of starting time for computing the isochrones\n",
    "# Sync to operation hours of drt, pt and conversion timeframe\n",
    "timeList = list(range(7, 11, 1)) # -->[7,8,9,10,11]\n",
    "# timeList = [7,10,13,16,19,22]\n",
    "hStart = timeList[0]*3600 # converting to seconds\n",
    "\n",
    "# parameters of walking distance\n",
    "timeWalk = 15 * 60  # seconds\n",
    "velocityWalk = 1.39  # m/s ***5km/h***\n",
    "distanceS = timeWalk * velocityWalk\n",
    "\n",
    "# Parameters thst define the resolution and extention of tesselletion and the maximum of the walking time\n",
    "# grid step of the hexagonal tesselletion in kilometers\n",
    "gridEdge = 1\n",
    "\n",
    "# Set check4stops = False if cells / hexagones should be included that do not have stops within.\n",
    "# Set check4stops = False for preprocessing prior to dynamic mode to gtfs convertion\n",
    "# Set check4stops = True for citychrone accessibility analysis\n",
    "check4stops = False\n"
   ]
  },
  {
   "cell_type": "markdown",
   "metadata": {},
   "source": [
    "### path of the gtfs files."
   ]
  },
  {
   "cell_type": "code",
   "execution_count": 155,
   "metadata": {},
   "outputs": [],
   "source": [
    "client = pym.MongoClient(urlMongoDb)\n",
    "gtfsDB = client[str('pta-' + city + '-' +scenario_name)]\n",
    "popDbName = str('pta-' + city + '-' +scenario_name)\n",
    "\n",
    "directoryGTFS = './'+ city + '/gtfs/'+ scenario_name +'/' # directory of the gtfs files."
   ]
  },
  {
   "cell_type": "markdown",
   "metadata": {},
   "source": [
    "### Settings of the date and the day for the computation of accessibility quantitites\n",
    "the date must be in the interval of validity of the gtfs files, check it in the \"calendar.txt\" and \"calendar_dates.txt\" files inside the gtfs zip files."
   ]
  },
  {
   "cell_type": "code",
   "execution_count": 156,
   "metadata": {},
   "outputs": [
    {
     "name": "stdout",
     "output_type": "stream",
     "text": [
      "interval of validity of the gtfs files\n",
      "gtfsOUT.zip file\n",
      " calendar.txt -> start_date:20220307, end_date:20220325 (first row)\n",
      "gtfsOUT.zip file\n",
      " calendar_dates.txt -> date:20220303 (first row)\n"
     ]
    }
   ],
   "source": [
    "from library.libConnections import printGtfsDate\n",
    "printGtfsDate(directoryGTFS)"
   ]
  },
  {
   "cell_type": "markdown",
   "metadata": {},
   "source": [
    " ## Define url of the osrm server "
   ]
  },
  {
   "cell_type": "markdown",
   "metadata": {},
   "source": [
    "## Parameters thst define the resolution and extention of tesselletion and the maximum of the walking time"
   ]
  },
  {
   "cell_type": "code",
   "execution_count": 4,
   "metadata": {},
   "outputs": [],
   "source": [
    "#grid step of the hexagonal tesselletion in kilometers\n",
    "gridEdge = 1\n",
    "\n",
    "#parameters of walking distance\n",
    "timeWalk = 15 * 60 #seconds\n",
    "velocityWalk = 1.39 # m/s ***5km/h***\n",
    "distanceS = timeWalk * velocityWalk"
   ]
  },
  {
   "cell_type": "markdown",
   "metadata": {},
   "source": [
    "# Start of the computation"
   ]
  },
  {
   "cell_type": "markdown",
   "metadata": {},
   "source": [
    "### Read stops, routes, trips, calendar and calendar_dates from gtfs"
   ]
  },
  {
   "cell_type": "markdown",
   "metadata": {},
   "source": [
    "### add population data"
   ]
  },
  {
   "cell_type": "code",
   "execution_count": 17,
   "metadata": {},
   "outputs": [
    {
     "data": {
      "text/plain": [
       "<pymongo.results.InsertManyResult at 0x7fdc91ff9f80>"
      ]
     },
     "execution_count": 17,
     "metadata": {},
     "output_type": "execute_result"
    }
   ],
   "source": [
    "import geopandas as gpd\n",
    "import geojson\n",
    "shapefile = gpd.read_file(shpPath)\n",
    "shapefile.to_file(shpPath.split('.')[0]+\".geojson\", driver='GeoJSON')\n",
    "with open(shpPath.split('.')[0]+\".geojson\") as f:\n",
    "    gj = geojson.load(f)\n",
    "features = gj['features']\n",
    "gtfsDB[\"pop\"].drop()\n",
    "gtfsDB[\"pop\"].insert_many(features)\n"
   ]
  },
  {
   "cell_type": "code",
   "execution_count": 8,
   "metadata": {},
   "outputs": [
    {
     "data": {
      "text/plain": [
       "geojson.feature.FeatureCollection"
      ]
     },
     "execution_count": 8,
     "metadata": {},
     "output_type": "execute_result"
    }
   ],
   "source": [
    "type(gj)"
   ]
  },
  {
   "cell_type": "code",
   "execution_count": null,
   "metadata": {},
   "outputs": [],
   "source": []
  },
  {
   "cell_type": "code",
   "execution_count": 9,
   "metadata": {
    "code_folding": [],
    "scrolled": false
   },
   "outputs": [
    {
     "name": "stdout",
     "output_type": "stream",
     "text": [
      "removing stops  of  Paris\n",
      "removing routes  of  Paris\n",
      "removing trips  of  Paris\n",
      "removing calendar  of  Paris\n",
      "removing calendar_dates  of  Paris\n",
      "removing stop_times  of  Paris\n",
      "gtfsOUT.zip\n",
      "stops.txt -> (53165,53165)\n",
      "routes.txt -> (2190,2190)\n",
      "trips.txt -> (425458,425458)\n",
      "calendar.txt -> (644,644)\n",
      "calendar_dates.txt -> (1436,1436)\n",
      "stop_times.txt -> (9636672,9636672)\n"
     ]
    }
   ],
   "source": [
    "from library.libStopsPoints import loadGtfsFile\n",
    "listOfFile = ['stops.txt', 'routes.txt', 'trips.txt', 'calendar.txt', 'calendar_dates.txt',\n",
    "              'stop_times.txt']  # , 'stop_times.txt']#, 'shapes.txt']\n",
    "loadGtfsFile(gtfsDB, directoryGTFS, city, listOfFile)"
   ]
  },
  {
   "cell_type": "markdown",
   "metadata": {},
   "source": [
    "## Fill the database with the connections"
   ]
  },
  {
   "cell_type": "code",
   "execution_count": 10,
   "metadata": {
    "pycharm": {
     "is_executing": true
    },
    "scrolled": false
   },
   "outputs": [
    {
     "name": "stdout",
     "output_type": "stream",
     "text": [
      "number of file in calendar+calendar_dates: 1\n",
      "in stops: 1\n",
      "\n",
      "Checking the number of services active in the date selected:\n",
      "file: gtfsOUT.zip \t total number of active service (in calendar.txt): 307\n",
      "number of different service_id: 1\n",
      "\n",
      "\n",
      "file: gtfsOUT.zip \t total number of active service (in calendar_dates.txt): 312\n",
      "number of different service_id: 1 total number of active services found: 312\n",
      "number of trips 425000\n",
      " gtfsOUT.zip\n",
      "reading stop_times.txt...\n",
      "readed... converting to a list\n",
      "converted...\n",
      "inserting to DB....55365, err 0, err_start 0, err_start_after 0\n",
      "tot connections 3000582\n"
     ]
    }
   ],
   "source": [
    "from library.libConnections import readConnections\n",
    "readConnections(gtfsDB, city, directoryGTFS, day, dayName)"
   ]
  },
  {
   "cell_type": "markdown",
   "metadata": {},
   "source": [
    "## remove stops with no connections \n",
    "#### and add to each stop the pos field"
   ]
  },
  {
   "cell_type": "code",
   "execution_count": null,
   "metadata": {
    "pycharm": {
     "is_executing": true
    }
   },
   "outputs": [],
   "source": [
    "from library.libStopsPoints import removingStopsNoConnections, setPosField, removeStopsOutBorder\n",
    "#removeStopsOutBorder(gtfsDB, city, 'OECD_city', [\"commuting_zone\", \"city_core\"])\n",
    "removingStopsNoConnections(gtfsDB, city)\n",
    "setPosField(gtfsDB, city)"
   ]
  },
  {
   "cell_type": "code",
   "execution_count": null,
   "metadata": {
    "pycharm": {
     "is_executing": true
    }
   },
   "outputs": [],
   "source": [
    "from library.libConnections import updateConnectionsStopName\n",
    "updateConnectionsStopName(gtfsDB, city)"
   ]
  },
  {
   "cell_type": "markdown",
   "metadata": {},
   "source": [
    "# Tassel with exagons"
   ]
  },
  {
   "cell_type": "markdown",
   "metadata": {},
   "source": [
    "### List of all stops"
   ]
  },
  {
   "cell_type": "code",
   "execution_count": null,
   "metadata": {
    "pycharm": {
     "is_executing": true
    }
   },
   "outputs": [],
   "source": [
    "from library.libStopsPoints import returnStopsList\n",
    "stopsList = returnStopsList(gtfsDB, city)"
   ]
  },
  {
   "cell_type": "markdown",
   "metadata": {},
   "source": [
    "## Compute the box that include all stops\n",
    "The edge of such box are enlarged by distanceS."
   ]
  },
  {
   "cell_type": "code",
   "execution_count": null,
   "metadata": {
    "pycharm": {
     "is_executing": true
    }
   },
   "outputs": [],
   "source": [
    "from library.libStopsPoints import boundingBoxStops, mapStops\n",
    "from IPython.core.display import display, HTML\n",
    "display(HTML('<h1>All stops of the public transport present in the gtfs files</h1>'))\n",
    "bbox = boundingBoxStops(stopsList)\n",
    "mapStops(bbox, stopsList)"
   ]
  },
  {
   "cell_type": "code",
   "execution_count": null,
   "metadata": {
    "pycharm": {
     "is_executing": true
    }
   },
   "outputs": [],
   "source": [
    "print(bbox)"
   ]
  },
  {
   "cell_type": "code",
   "execution_count": 11,
   "metadata": {
    "pycharm": {
     "is_executing": true
    }
   },
   "outputs": [],
   "source": [
    "from library.libStudyArea import extractBoundingBoxFromShp\n",
    "bbox = extractBoundingBoxFromShp(study_area_shp_path)"
   ]
  },
  {
   "cell_type": "code",
   "execution_count": 12,
   "metadata": {
    "pycharm": {
     "is_executing": true
    }
   },
   "outputs": [
    {
     "name": "stdout",
     "output_type": "stream",
     "text": [
      "[1.9894720092135625, 48.57149243921834, 2.3777057578335743, 48.924846224035896]\n"
     ]
    }
   ],
   "source": [
    "print(bbox)"
   ]
  },
  {
   "cell_type": "markdown",
   "metadata": {},
   "source": [
    "## Tassel the box with exagons."
   ]
  },
  {
   "cell_type": "code",
   "execution_count": 14,
   "metadata": {},
   "outputs": [
    {
     "name": "stdout",
     "output_type": "stream",
     "text": [
      "99.6%, tot = 1787.0, inserted = 1720\r"
     ]
    }
   ],
   "source": [
    "from library.libHex import hexagonalGrid\n",
    "hexBin, pointBin = hexagonalGrid(bbox, gridEdge, gtfsDB['stops'], distanceS, city, True)"
   ]
  },
  {
   "cell_type": "code",
   "execution_count": 15,
   "metadata": {},
   "outputs": [],
   "source": [
    "import csv\n",
    "\n",
    "field_names = [\"point\",\"hex\",\"city\",\"served\",\"pos\"]\n",
    "\n",
    "\n",
    "with open('Names.csv', 'w') as csvfile:\n",
    "    writer = csv.DictWriter(csvfile, fieldnames=field_names, delimiter=';')\n",
    "    writer.writeheader()\n",
    "    writer.writerows(pointBin)"
   ]
  },
  {
   "cell_type": "code",
   "execution_count": 16,
   "metadata": {},
   "outputs": [],
   "source": [
    "from library.libHex import insertPoints\n",
    "insertPoints(pointBin, city, gtfsDB)\n",
    "#print('total number of hexagons created : {0}'.format(gtfsDB['points'].find({'city':city}).count()))"
   ]
  },
  {
   "cell_type": "code",
   "execution_count": 4,
   "metadata": {
    "scrolled": false
   },
   "outputs": [
    {
     "data": {
      "text/html": [
       "<h1>First tesselletion of the area served by public transport</h1>"
      ],
      "text/plain": [
       "<IPython.core.display.HTML object>"
      ]
     },
     "metadata": {},
     "output_type": "display_data"
    },
    {
     "ename": "NameError",
     "evalue": "name 'pointBin' is not defined",
     "output_type": "error",
     "traceback": [
      "\u001B[0;31m---------------------------------------------------------------------------\u001B[0m",
      "\u001B[0;31mNameError\u001B[0m                                 Traceback (most recent call last)",
      "\u001B[0;32m<ipython-input-4-f495a5c126ec>\u001B[0m in \u001B[0;36m<module>\u001B[0;34m\u001B[0m\n\u001B[1;32m      4\u001B[0m \u001B[0mlatlon\u001B[0m \u001B[0;34m=\u001B[0m \u001B[0mlist\u001B[0m\u001B[0;34m(\u001B[0m\u001B[0mreversed\u001B[0m\u001B[0;34m(\u001B[0m\u001B[0mgtfsDB\u001B[0m\u001B[0;34m[\u001B[0m\u001B[0;34m'points'\u001B[0m\u001B[0;34m]\u001B[0m\u001B[0;34m.\u001B[0m\u001B[0mfind_one\u001B[0m\u001B[0;34m(\u001B[0m\u001B[0;34m{\u001B[0m\u001B[0;34m'city'\u001B[0m\u001B[0;34m:\u001B[0m\u001B[0mcity\u001B[0m\u001B[0;34m}\u001B[0m\u001B[0;34m)\u001B[0m\u001B[0;34m[\u001B[0m\u001B[0;34m'point'\u001B[0m\u001B[0;34m]\u001B[0m\u001B[0;34m[\u001B[0m\u001B[0;34m'coordinates'\u001B[0m\u001B[0;34m]\u001B[0m\u001B[0;34m)\u001B[0m\u001B[0;34m)\u001B[0m\u001B[0;34m\u001B[0m\u001B[0;34m\u001B[0m\u001B[0m\n\u001B[1;32m      5\u001B[0m \u001B[0mmap_osm\u001B[0m \u001B[0;34m=\u001B[0m \u001B[0mfolium\u001B[0m\u001B[0;34m.\u001B[0m\u001B[0mMap\u001B[0m\u001B[0;34m(\u001B[0m\u001B[0mlocation\u001B[0m\u001B[0;34m=\u001B[0m\u001B[0mlatlon\u001B[0m\u001B[0;34m,\u001B[0m \u001B[0mzoom_start\u001B[0m\u001B[0;34m=\u001B[0m\u001B[0;36m9\u001B[0m\u001B[0;34m)\u001B[0m\u001B[0;34m;\u001B[0m\u001B[0;34m\u001B[0m\u001B[0;34m\u001B[0m\u001B[0m\n\u001B[0;32m----> 6\u001B[0;31m \u001B[0mmap_osm\u001B[0m\u001B[0;34m.\u001B[0m\u001B[0mchoropleth\u001B[0m\u001B[0;34m(\u001B[0m\u001B[0munionHexs\u001B[0m\u001B[0;34m(\u001B[0m\u001B[0mpointBin\u001B[0m\u001B[0;34m)\u001B[0m\u001B[0;34m,\u001B[0m  \u001B[0mfill_color\u001B[0m\u001B[0;34m=\u001B[0m\u001B[0;34m'#3288bd'\u001B[0m\u001B[0;34m,\u001B[0m\u001B[0mfill_opacity\u001B[0m\u001B[0;34m=\u001B[0m\u001B[0;36m0.3\u001B[0m\u001B[0;34m,\u001B[0m \u001B[0mline_color\u001B[0m\u001B[0;34m=\u001B[0m\u001B[0;34m'#3288bd'\u001B[0m\u001B[0;34m,\u001B[0m\u001B[0mline_weight\u001B[0m\u001B[0;34m=\u001B[0m\u001B[0;36m2\u001B[0m\u001B[0;34m,\u001B[0m \u001B[0mline_opacity\u001B[0m\u001B[0;34m=\u001B[0m\u001B[0;36m1\u001B[0m\u001B[0;34m)\u001B[0m\u001B[0;34m\u001B[0m\u001B[0;34m\u001B[0m\u001B[0m\n\u001B[0m\u001B[1;32m      7\u001B[0m \u001B[0mmap_osm\u001B[0m\u001B[0;34m\u001B[0m\u001B[0;34m\u001B[0m\u001B[0m\n",
      "\u001B[0;31mNameError\u001B[0m: name 'pointBin' is not defined"
     ]
    }
   ],
   "source": [
    "from library.libHex import unionHexs\n",
    "from IPython.core.display import display, HTML\n",
    "display(HTML('<h1>First tesselletion of the area served by public transport</h1>'))\n",
    "latlon = list(reversed(gtfsDB['points'].find_one({'city':city})['point']['coordinates']))\n",
    "map_osm = folium.Map(location=latlon, zoom_start=9);\n",
    "map_osm.choropleth(unionHexs(pointBin),  fill_color='#3288bd',fill_opacity=0.3, line_color='#3288bd',line_weight=2, line_opacity=1)\n",
    "map_osm"
   ]
  },
  {
   "cell_type": "markdown",
   "metadata": {},
   "source": [
    "## Find the hex with walkingTime less than timeWalk from a stops"
   ]
  },
  {
   "cell_type": "code",
   "execution_count": null,
   "metadata": {
    "scrolled": false
   },
   "outputs": [],
   "source": [
    "from library.libHex import pointsServed\n",
    "pointsServed(gtfsDB, stopsList, urlServerOsrm, distanceS, timeWalk, city)"
   ]
  },
  {
   "cell_type": "code",
   "execution_count": null,
   "metadata": {},
   "outputs": [],
   "source": [
    "#print(\"Number of hexagons: {0}\".format(gtfsDB['points'].find({'served':True, 'city':city}).count()))"
   ]
  },
  {
   "cell_type": "markdown",
   "metadata": {},
   "source": [
    "## Setting field \"pos\" for points for performance"
   ]
  },
  {
   "cell_type": "code",
   "execution_count": null,
   "metadata": {},
   "outputs": [],
   "source": [
    "from library.libHex import settingHexsPos\n",
    "settingHexsPos(gtfsDB, city)"
   ]
  },
  {
   "cell_type": "code",
   "execution_count": null,
   "metadata": {},
   "outputs": [],
   "source": [
    "from library.libHex import showHexs\n",
    "from IPython.core.display import display, HTML\n",
    "display(HTML('<h1>Tesselletion of the area served by the public transport</h1>'))\n",
    "showHexs(gtfsDB, city, 10)"
   ]
  },
  {
   "cell_type": "markdown",
   "metadata": {},
   "source": [
    "## Setting Population of Hexagons"
   ]
  },
  {
   "cell_type": "code",
   "execution_count": 18,
   "metadata": {},
   "outputs": [
    {
     "name": "stdout",
     "output_type": "stream",
     "text": [
      "n° of matched hexagons with population Polygons: 1581 \n",
      " not matched: 0 (setted to zero)\n"
     ]
    },
    {
     "name": "stderr",
     "output_type": "stream",
     "text": [
      "<ipython-input-18-fa50f77f5142>:13: DeprecationWarning: count is deprecated. Use Collection.count_documents instead.\n",
      "  not matched: {1} (setted to zero)\".format(gtfsDB['points'].find({'pop':{'$exists':True}}).count(),\n"
     ]
    }
   ],
   "source": [
    "from library.libHex import setHexsPop\n",
    "\n",
    "if urlMongoDbPop != \"\" and popCollectionName != \"\":\n",
    "    clientPop = pym.MongoClient(urlMongoDbPop)\n",
    "    popDb = clientPop[popDbName]\n",
    "    popCollection = popDb[popCollectionName]\n",
    "    setHexsPop(gtfsDB, popCollection, popField, city)\n",
    "else:\n",
    "    print(\"Population NOT INSERTED!\")\n",
    "\n",
    "res = gtfsDB['points'].update_many({'pop':{'$exists':False}}, {'$set':{'pop':0}})\n",
    "print(\"n° of matched hexagons with population Polygons: {0} \\n \\\n",
    "not matched: {1} (setted to zero)\".format(gtfsDB['points'].find({'pop':{'$exists':True}}).count(),\n",
    "                                                                                     res.modified_count))"
   ]
  },
  {
   "cell_type": "markdown",
   "metadata": {},
   "source": [
    "# Adding the walking time between stops and points"
   ]
  },
  {
   "cell_type": "code",
   "execution_count": null,
   "metadata": {},
   "outputs": [],
   "source": [
    "from libStopsPoints import computeNeigh\n",
    "computeNeigh(gtfsDB, urlServerOsrm, distanceS, timeWalk,  city)"
   ]
  },
  {
   "cell_type": "markdown",
   "metadata": {},
   "source": [
    "# Compute quantities and observable"
   ]
  },
  {
   "cell_type": "markdown",
   "metadata": {},
   "source": [
    "TimeList is the list of starting time for computing the isochrones"
   ]
  },
  {
   "cell_type": "code",
   "execution_count": 4,
   "metadata": {},
   "outputs": [],
   "source": [
    "#timeList = list(range(6,22,2))#[7,10,13,16,19,22] # List of starting time for computing the isochrones\n",
    "#timeList = [7,10,13,16,19,22] # List of starting time for computing the isochrones\n",
    "#hStart = timeList[0]*3600"
   ]
  },
  {
   "cell_type": "code",
   "execution_count": 5,
   "metadata": {},
   "outputs": [],
   "source": [
    "timeList = list(range(7,11,1))#[7,10,13,16,19,22] # List of starting time for computing the isochrones\n",
    "#timeList = [7,10,13,16,19,22] # List of starting time for computing the isochrones\n",
    "hStart = timeList[0]*3600"
   ]
  },
  {
   "cell_type": "markdown",
   "metadata": {},
   "source": [
    "### List of connections"
   ]
  },
  {
   "cell_type": "code",
   "execution_count": 6,
   "metadata": {},
   "outputs": [
    {
     "name": "stdout",
     "output_type": "stream",
     "text": [
      "start making connections array\n",
      "done recover all cc 2989768\n",
      "cenverted\n",
      "Num of connection 2989768\n"
     ]
    }
   ],
   "source": [
    "from libConnections import makeArrayConnections\n",
    "arrayCC = makeArrayConnections(gtfsDB, hStart, city)"
   ]
  },
  {
   "cell_type": "markdown",
   "metadata": {},
   "source": [
    "### List of list of the points and stops neighbors"
   ]
  },
  {
   "cell_type": "code",
   "execution_count": 7,
   "metadata": {},
   "outputs": [
    {
     "name": "stdout",
     "output_type": "stream",
     "text": [
      "fill point neighbors 1580\r"
     ]
    }
   ],
   "source": [
    "from libStopsPoints import listPointsStopsN \n",
    "arraySP = listPointsStopsN(gtfsDB, city)"
   ]
  },
  {
   "cell_type": "markdown",
   "metadata": {},
   "source": [
    "## Compute accessibility quantities"
   ]
  },
  {
   "cell_type": "code",
   "execution_count": 10,
   "metadata": {},
   "outputs": [],
   "source": [
    "listAccessibility = ['velocityScore','socialityScore', 'velocityScoreGall', \n",
    "                     'socialityScoreGall','velocityScore1h', 'socialityScore1h',\n",
    "                    'timeVelocity', 'timeSociality']"
   ]
  },
  {
   "cell_type": "code",
   "execution_count": 11,
   "metadata": {
    "scrolled": true
   },
   "outputs": [
    {
     "name": "stderr",
     "output_type": "stream",
     "text": [
      "<ipython-input-11-8752b2a64a95>:13: DeprecationWarning: collection_names is deprecated. Use list_collection_names instead.\n",
      "  if 'isochrones' in gtfsDB.collection_names():\n",
      "/home/sdiepolder/anaconda3/lib/python3.8/site-packages/pyproj/crs/crs.py:141: FutureWarning: '+init=<authority>:<code>' syntax is deprecated. '<authority>:<code>' is the preferred initialization method. When making the change, be mindful of axis order changes: https://pyproj4.github.io/pyproj/stable/gotchas.html#axis-order-changes-in-proj-6\n",
      "  in_crs_string = _prepare_from_proj_string(in_crs_string)\n",
      "/home/sdiepolder/anaconda3/lib/python3.8/site-packages/shapely/ops.py:276: FutureWarning: This function is deprecated. See: https://pyproj4.github.io/pyproj/stable/gotchas.html#upgrading-to-pyproj-2-from-pyproj-1\n",
      "  shell = type(geom.exterior)(zip(*func(*zip(*geom.exterior.coords))))\n"
     ]
    },
    {
     "name": "stdout",
     "output_type": "stream",
     "text": [
      "Time Isochrone Start: 7.0\n"
     ]
    },
    {
     "name": "stderr",
     "output_type": "stream",
     "text": [
      "/home/sdiepolder/anaconda3/lib/python3.8/site-packages/pymongo/collection.py:1533: UserWarning: use an explicit session with no_cursor_timeout=True otherwise the cursor may still timeout after 30 minutes, for more info see https://docs.mongodb.com/v4.4/reference/method/cursor.noCursorTimeout/#session-idle-timeout-overrides-nocursortimeout\n",
      "  return Cursor(self, *args, **kwargs)\n",
      "./library/libAccessibility.py:75: NumbaWarning: \u001B[1m\n",
      "Compilation is falling back to object mode WITH looplifting enabled because Function \"computeVel\" failed type inference due to: \u001B[1m\u001B[1mnon-precise type pyobject\u001B[0m\n",
      "\u001B[0m\u001B[1mDuring: typing of argument at ./library/libAccessibility.py (77)\u001B[0m\n",
      "\u001B[1m\n",
      "File \"library/libAccessibility.py\", line 77:\u001B[0m\n",
      "\u001B[1m    def computeVel(timePReached, data):\n",
      "\u001B[1m        areaHex = data['areaHex']\n",
      "\u001B[0m        \u001B[1m^\u001B[0m\u001B[0m\n",
      "\u001B[0m\n",
      "  @jit()\n",
      "./library/libAccessibility.py:75: NumbaWarning: \u001B[1m\n",
      "Compilation is falling back to object mode WITHOUT looplifting enabled because Function \"computeVel\" failed type inference due to: \u001B[1m\u001B[1mCannot determine Numba type of <class 'numba.core.dispatcher.LiftedLoop'>\u001B[0m\n",
      "\u001B[1m\n",
      "File \"library/libAccessibility.py\", line 82:\u001B[0m\n",
      "\u001B[1m    def computeVel(timePReached, data):\n",
      "        <source elided>\n",
      "        areasTime = areaTimeCompute(timePReached)\n",
      "\u001B[1m        for time_i in range(len(areasTime)):\n",
      "\u001B[0m        \u001B[1m^\u001B[0m\u001B[0m\n",
      "\u001B[0m\u001B[0m\n",
      "  @jit()\n",
      "/home/sdiepolder/anaconda3/lib/python3.8/site-packages/numba/core/object_mode_passes.py:151: NumbaWarning: \u001B[1mFunction \"computeVel\" was compiled in object mode without forceobj=True, but has lifted loops.\n",
      "\u001B[1m\n",
      "File \"library/libAccessibility.py\", line 77:\u001B[0m\n",
      "\u001B[1m    def computeVel(timePReached, data):\n",
      "\u001B[1m        areaHex = data['areaHex']\n",
      "\u001B[0m        \u001B[1m^\u001B[0m\u001B[0m\n",
      "\u001B[0m\n",
      "  warnings.warn(errors.NumbaWarning(warn_msg,\n",
      "/home/sdiepolder/anaconda3/lib/python3.8/site-packages/numba/core/object_mode_passes.py:161: NumbaDeprecationWarning: \u001B[1m\n",
      "Fall-back from the nopython compilation path to the object mode compilation path has been detected, this is deprecated behaviour.\n",
      "\n",
      "For more information visit https://numba.pydata.org/numba-doc/latest/reference/deprecation.html#deprecation-of-object-mode-fall-back-behaviour-when-using-jit\n",
      "\u001B[1m\n",
      "File \"library/libAccessibility.py\", line 77:\u001B[0m\n",
      "\u001B[1m    def computeVel(timePReached, data):\n",
      "\u001B[1m        areaHex = data['areaHex']\n",
      "\u001B[0m        \u001B[1m^\u001B[0m\u001B[0m\n",
      "\u001B[0m\n",
      "  warnings.warn(errors.NumbaDeprecationWarning(msg,\n",
      "./library/libAccessibility.py:94: NumbaWarning: \u001B[1m\n",
      "Compilation is falling back to object mode WITH looplifting enabled because Function \"computeSoc\" failed type inference due to: \u001B[1m\u001B[1mnon-precise type pyobject\u001B[0m\n",
      "\u001B[0m\u001B[1mDuring: typing of argument at ./library/libAccessibility.py (96)\u001B[0m\n",
      "\u001B[1m\n",
      "File \"library/libAccessibility.py\", line 96:\u001B[0m\n",
      "\u001B[1m    def computeSoc(timePReached, data):\n",
      "\u001B[1m        arrayW = data['arrayPop']\n",
      "\u001B[0m        \u001B[1m^\u001B[0m\u001B[0m\n",
      "\u001B[0m\n",
      "  @jit()\n",
      "./library/libAccessibility.py:94: NumbaWarning: \u001B[1m\n",
      "Compilation is falling back to object mode WITHOUT looplifting enabled because Function \"computeSoc\" failed type inference due to: \u001B[1m\u001B[1mCannot determine Numba type of <class 'numba.core.dispatcher.LiftedLoop'>\u001B[0m\n",
      "\u001B[1m\n",
      "File \"library/libAccessibility.py\", line 100:\u001B[0m\n",
      "\u001B[1m    def computeSoc(timePReached, data):\n",
      "        <source elided>\n",
      "        popsTime = arrayTimeCompute(timePReached, arrayW)\n",
      "\u001B[1m        for time_i in range(len(popsTime)):\n",
      "\u001B[0m        \u001B[1m^\u001B[0m\u001B[0m\n",
      "\u001B[0m\u001B[0m\n",
      "  @jit()\n",
      "/home/sdiepolder/anaconda3/lib/python3.8/site-packages/numba/core/object_mode_passes.py:151: NumbaWarning: \u001B[1mFunction \"computeSoc\" was compiled in object mode without forceobj=True, but has lifted loops.\n",
      "\u001B[1m\n",
      "File \"library/libAccessibility.py\", line 96:\u001B[0m\n",
      "\u001B[1m    def computeSoc(timePReached, data):\n",
      "\u001B[1m        arrayW = data['arrayPop']\n",
      "\u001B[0m        \u001B[1m^\u001B[0m\u001B[0m\n",
      "\u001B[0m\n",
      "  warnings.warn(errors.NumbaWarning(warn_msg,\n",
      "/home/sdiepolder/anaconda3/lib/python3.8/site-packages/numba/core/object_mode_passes.py:161: NumbaDeprecationWarning: \u001B[1m\n",
      "Fall-back from the nopython compilation path to the object mode compilation path has been detected, this is deprecated behaviour.\n",
      "\n",
      "For more information visit https://numba.pydata.org/numba-doc/latest/reference/deprecation.html#deprecation-of-object-mode-fall-back-behaviour-when-using-jit\n",
      "\u001B[1m\n",
      "File \"library/libAccessibility.py\", line 96:\u001B[0m\n",
      "\u001B[1m    def computeSoc(timePReached, data):\n",
      "\u001B[1m        arrayW = data['arrayPop']\n",
      "\u001B[0m        \u001B[1m^\u001B[0m\u001B[0m\n",
      "\u001B[0m\n",
      "  warnings.warn(errors.NumbaDeprecationWarning(msg,\n",
      "./library/libAccessibility.py:75: NumbaWarning: \u001B[1m\n",
      "Compilation is falling back to object mode WITH looplifting enabled because Function \"computeVel\" failed type inference due to: \u001B[1m\u001B[1mnon-precise type pyobject\u001B[0m\n",
      "\u001B[0m\u001B[1mDuring: typing of argument at ./library/libAccessibility.py (77)\u001B[0m\n",
      "\u001B[1m\n",
      "File \"library/libAccessibility.py\", line 77:\u001B[0m\n",
      "\u001B[1m    def computeVel(timePReached, data):\n",
      "\u001B[1m        areaHex = data['areaHex']\n",
      "\u001B[0m        \u001B[1m^\u001B[0m\u001B[0m\n",
      "\u001B[0m\n",
      "  @jit()\n",
      "./library/libAccessibility.py:75: NumbaWarning: \u001B[1m\n",
      "Compilation is falling back to object mode WITHOUT looplifting enabled because Function \"computeVel\" failed type inference due to: \u001B[1m\u001B[1mCannot determine Numba type of <class 'numba.core.dispatcher.LiftedLoop'>\u001B[0m\n",
      "\u001B[1m\n",
      "File \"library/libAccessibility.py\", line 82:\u001B[0m\n",
      "\u001B[1m    def computeVel(timePReached, data):\n",
      "        <source elided>\n",
      "        areasTime = areaTimeCompute(timePReached)\n",
      "\u001B[1m        for time_i in range(len(areasTime)):\n",
      "\u001B[0m        \u001B[1m^\u001B[0m\u001B[0m\n",
      "\u001B[0m\u001B[0m\n",
      "  @jit()\n",
      "/home/sdiepolder/anaconda3/lib/python3.8/site-packages/numba/core/object_mode_passes.py:151: NumbaWarning: \u001B[1mFunction \"computeVel\" was compiled in object mode without forceobj=True, but has lifted loops.\n",
      "\u001B[1m\n",
      "File \"library/libAccessibility.py\", line 77:\u001B[0m\n",
      "\u001B[1m    def computeVel(timePReached, data):\n",
      "\u001B[1m        areaHex = data['areaHex']\n",
      "\u001B[0m        \u001B[1m^\u001B[0m\u001B[0m\n",
      "\u001B[0m\n",
      "  warnings.warn(errors.NumbaWarning(warn_msg,\n",
      "/home/sdiepolder/anaconda3/lib/python3.8/site-packages/numba/core/object_mode_passes.py:161: NumbaDeprecationWarning: \u001B[1m\n",
      "Fall-back from the nopython compilation path to the object mode compilation path has been detected, this is deprecated behaviour.\n",
      "\n",
      "For more information visit https://numba.pydata.org/numba-doc/latest/reference/deprecation.html#deprecation-of-object-mode-fall-back-behaviour-when-using-jit\n",
      "\u001B[1m\n",
      "File \"library/libAccessibility.py\", line 77:\u001B[0m\n",
      "\u001B[1m    def computeVel(timePReached, data):\n",
      "\u001B[1m        areaHex = data['areaHex']\n",
      "\u001B[0m        \u001B[1m^\u001B[0m\u001B[0m\n",
      "\u001B[0m\n",
      "  warnings.warn(errors.NumbaDeprecationWarning(msg,\n",
      "./library/libAccessibility.py:94: NumbaWarning: \u001B[1m\n",
      "Compilation is falling back to object mode WITH looplifting enabled because Function \"computeSoc\" failed type inference due to: \u001B[1m\u001B[1mnon-precise type pyobject\u001B[0m\n",
      "\u001B[0m\u001B[1mDuring: typing of argument at ./library/libAccessibility.py (96)\u001B[0m\n",
      "\u001B[1m\n",
      "File \"library/libAccessibility.py\", line 96:\u001B[0m\n",
      "\u001B[1m    def computeSoc(timePReached, data):\n",
      "\u001B[1m        arrayW = data['arrayPop']\n",
      "\u001B[0m        \u001B[1m^\u001B[0m\u001B[0m\n",
      "\u001B[0m\n",
      "  @jit()\n",
      "./library/libAccessibility.py:94: NumbaWarning: \u001B[1m\n",
      "Compilation is falling back to object mode WITHOUT looplifting enabled because Function \"computeSoc\" failed type inference due to: \u001B[1m\u001B[1mCannot determine Numba type of <class 'numba.core.dispatcher.LiftedLoop'>\u001B[0m\n",
      "\u001B[1m\n",
      "File \"library/libAccessibility.py\", line 100:\u001B[0m\n",
      "\u001B[1m    def computeSoc(timePReached, data):\n",
      "        <source elided>\n",
      "        popsTime = arrayTimeCompute(timePReached, arrayW)\n",
      "\u001B[1m        for time_i in range(len(popsTime)):\n",
      "\u001B[0m        \u001B[1m^\u001B[0m\u001B[0m\n",
      "\u001B[0m\u001B[0m\n",
      "  @jit()\n",
      "/home/sdiepolder/anaconda3/lib/python3.8/site-packages/numba/core/object_mode_passes.py:151: NumbaWarning: \u001B[1mFunction \"computeSoc\" was compiled in object mode without forceobj=True, but has lifted loops.\n",
      "\u001B[1m\n",
      "File \"library/libAccessibility.py\", line 96:\u001B[0m\n",
      "\u001B[1m    def computeSoc(timePReached, data):\n",
      "\u001B[1m        arrayW = data['arrayPop']\n",
      "\u001B[0m        \u001B[1m^\u001B[0m\u001B[0m\n",
      "\u001B[0m\n",
      "  warnings.warn(errors.NumbaWarning(warn_msg,\n",
      "/home/sdiepolder/anaconda3/lib/python3.8/site-packages/numba/core/object_mode_passes.py:161: NumbaDeprecationWarning: \u001B[1m\n",
      "Fall-back from the nopython compilation path to the object mode compilation path has been detected, this is deprecated behaviour.\n",
      "\n",
      "For more information visit https://numba.pydata.org/numba-doc/latest/reference/deprecation.html#deprecation-of-object-mode-fall-back-behaviour-when-using-jit\n",
      "\u001B[1m\n",
      "File \"library/libAccessibility.py\", line 96:\u001B[0m\n",
      "\u001B[1m    def computeSoc(timePReached, data):\n",
      "\u001B[1m        arrayW = data['arrayPop']\n",
      "\u001B[0m        \u001B[1m^\u001B[0m\u001B[0m\n",
      "\u001B[0m\n",
      "  warnings.warn(errors.NumbaDeprecationWarning(msg,\n",
      "./library/libAccessibility.py:75: NumbaWarning: \u001B[1m\n",
      "Compilation is falling back to object mode WITH looplifting enabled because Function \"computeVel\" failed type inference due to: \u001B[1m\u001B[1mnon-precise type pyobject\u001B[0m\n",
      "\u001B[0m\u001B[1mDuring: typing of argument at ./library/libAccessibility.py (77)\u001B[0m\n",
      "\u001B[1m\n",
      "File \"library/libAccessibility.py\", line 77:\u001B[0m\n",
      "\u001B[1m    def computeVel(timePReached, data):\n",
      "\u001B[1m        areaHex = data['areaHex']\n",
      "\u001B[0m        \u001B[1m^\u001B[0m\u001B[0m\n",
      "\u001B[0m\n",
      "  @jit()\n",
      "./library/libAccessibility.py:75: NumbaWarning: \u001B[1m\n",
      "Compilation is falling back to object mode WITHOUT looplifting enabled because Function \"computeVel\" failed type inference due to: \u001B[1m\u001B[1mCannot determine Numba type of <class 'numba.core.dispatcher.LiftedLoop'>\u001B[0m\n",
      "\u001B[1m\n",
      "File \"library/libAccessibility.py\", line 82:\u001B[0m\n",
      "\u001B[1m    def computeVel(timePReached, data):\n",
      "        <source elided>\n",
      "        areasTime = areaTimeCompute(timePReached)\n",
      "\u001B[1m        for time_i in range(len(areasTime)):\n",
      "\u001B[0m        \u001B[1m^\u001B[0m\u001B[0m\n",
      "\u001B[0m\u001B[0m\n",
      "  @jit()\n"
     ]
    },
    {
     "name": "stderr",
     "output_type": "stream",
     "text": [
      "/home/sdiepolder/anaconda3/lib/python3.8/site-packages/numba/core/object_mode_passes.py:151: NumbaWarning: \u001B[1mFunction \"computeVel\" was compiled in object mode without forceobj=True, but has lifted loops.\n",
      "\u001B[1m\n",
      "File \"library/libAccessibility.py\", line 77:\u001B[0m\n",
      "\u001B[1m    def computeVel(timePReached, data):\n",
      "\u001B[1m        areaHex = data['areaHex']\n",
      "\u001B[0m        \u001B[1m^\u001B[0m\u001B[0m\n",
      "\u001B[0m\n",
      "  warnings.warn(errors.NumbaWarning(warn_msg,\n",
      "/home/sdiepolder/anaconda3/lib/python3.8/site-packages/numba/core/object_mode_passes.py:161: NumbaDeprecationWarning: \u001B[1m\n",
      "Fall-back from the nopython compilation path to the object mode compilation path has been detected, this is deprecated behaviour.\n",
      "\n",
      "For more information visit https://numba.pydata.org/numba-doc/latest/reference/deprecation.html#deprecation-of-object-mode-fall-back-behaviour-when-using-jit\n",
      "\u001B[1m\n",
      "File \"library/libAccessibility.py\", line 77:\u001B[0m\n",
      "\u001B[1m    def computeVel(timePReached, data):\n",
      "\u001B[1m        areaHex = data['areaHex']\n",
      "\u001B[0m        \u001B[1m^\u001B[0m\u001B[0m\n",
      "\u001B[0m\n",
      "  warnings.warn(errors.NumbaDeprecationWarning(msg,\n",
      "./library/libAccessibility.py:94: NumbaWarning: \u001B[1m\n",
      "Compilation is falling back to object mode WITH looplifting enabled because Function \"computeSoc\" failed type inference due to: \u001B[1m\u001B[1mnon-precise type pyobject\u001B[0m\n",
      "\u001B[0m\u001B[1mDuring: typing of argument at ./library/libAccessibility.py (96)\u001B[0m\n",
      "\u001B[1m\n",
      "File \"library/libAccessibility.py\", line 96:\u001B[0m\n",
      "\u001B[1m    def computeSoc(timePReached, data):\n",
      "\u001B[1m        arrayW = data['arrayPop']\n",
      "\u001B[0m        \u001B[1m^\u001B[0m\u001B[0m\n",
      "\u001B[0m\n",
      "  @jit()\n",
      "./library/libAccessibility.py:94: NumbaWarning: \u001B[1m\n",
      "Compilation is falling back to object mode WITHOUT looplifting enabled because Function \"computeSoc\" failed type inference due to: \u001B[1m\u001B[1mCannot determine Numba type of <class 'numba.core.dispatcher.LiftedLoop'>\u001B[0m\n",
      "\u001B[1m\n",
      "File \"library/libAccessibility.py\", line 100:\u001B[0m\n",
      "\u001B[1m    def computeSoc(timePReached, data):\n",
      "        <source elided>\n",
      "        popsTime = arrayTimeCompute(timePReached, arrayW)\n",
      "\u001B[1m        for time_i in range(len(popsTime)):\n",
      "\u001B[0m        \u001B[1m^\u001B[0m\u001B[0m\n",
      "\u001B[0m\u001B[0m\n",
      "  @jit()\n",
      "/home/sdiepolder/anaconda3/lib/python3.8/site-packages/numba/core/object_mode_passes.py:151: NumbaWarning: \u001B[1mFunction \"computeSoc\" was compiled in object mode without forceobj=True, but has lifted loops.\n",
      "\u001B[1m\n",
      "File \"library/libAccessibility.py\", line 96:\u001B[0m\n",
      "\u001B[1m    def computeSoc(timePReached, data):\n",
      "\u001B[1m        arrayW = data['arrayPop']\n",
      "\u001B[0m        \u001B[1m^\u001B[0m\u001B[0m\n",
      "\u001B[0m\n",
      "  warnings.warn(errors.NumbaWarning(warn_msg,\n",
      "/home/sdiepolder/anaconda3/lib/python3.8/site-packages/numba/core/object_mode_passes.py:161: NumbaDeprecationWarning: \u001B[1m\n",
      "Fall-back from the nopython compilation path to the object mode compilation path has been detected, this is deprecated behaviour.\n",
      "\n",
      "For more information visit https://numba.pydata.org/numba-doc/latest/reference/deprecation.html#deprecation-of-object-mode-fall-back-behaviour-when-using-jit\n",
      "\u001B[1m\n",
      "File \"library/libAccessibility.py\", line 96:\u001B[0m\n",
      "\u001B[1m    def computeSoc(timePReached, data):\n",
      "\u001B[1m        arrayW = data['arrayPop']\n",
      "\u001B[0m        \u001B[1m^\u001B[0m\u001B[0m\n",
      "\u001B[0m\n",
      "  warnings.warn(errors.NumbaDeprecationWarning(msg,\n",
      "./library/libAccessibility.py:106: NumbaWarning: \u001B[1m\n",
      "Compilation is falling back to object mode WITH looplifting enabled because Function \"timeVelocity\" failed type inference due to: \u001B[1mUntyped global name 'sum':\u001B[0m \u001B[1m\u001B[1mCannot determine Numba type of <class 'builtin_function_or_method'>\u001B[0m\n",
      "\u001B[1m\n",
      "File \"library/libAccessibility.py\", line 113:\u001B[0m\n",
      "\u001B[1mdef timeVelocity(timePReached, data):\n",
      "    <source elided>\n",
      "    for time2Save in timeListToSave:\n",
      "\u001B[1m        area = sum(areasTime[0:time2Save]) * areaHex\n",
      "\u001B[0m        \u001B[1m^\u001B[0m\u001B[0m\n",
      "\u001B[0m\u001B[0m\n",
      "  @jit()\n",
      "./library/libAccessibility.py:106: NumbaWarning: \u001B[1m\n",
      "Compilation is falling back to object mode WITHOUT looplifting enabled because Function \"timeVelocity\" failed type inference due to: \u001B[1m\u001B[1mCannot determine Numba type of <class 'numba.core.dispatcher.LiftedLoop'>\u001B[0m\n",
      "\u001B[1m\n",
      "File \"library/libAccessibility.py\", line 112:\u001B[0m\n",
      "\u001B[1mdef timeVelocity(timePReached, data):\n",
      "    <source elided>\n",
      "    res = {'timeList':timeListToSave, 'velocity':[]}\n",
      "\u001B[1m    for time2Save in timeListToSave:\n",
      "\u001B[0m    \u001B[1m^\u001B[0m\u001B[0m\n",
      "\u001B[0m\u001B[0m\n",
      "  @jit()\n",
      "/home/sdiepolder/anaconda3/lib/python3.8/site-packages/numba/core/object_mode_passes.py:151: NumbaWarning: \u001B[1mFunction \"timeVelocity\" was compiled in object mode without forceobj=True, but has lifted loops.\n",
      "\u001B[1m\n",
      "File \"library/libAccessibility.py\", line 108:\u001B[0m\n",
      "\u001B[1mdef timeVelocity(timePReached, data):\n",
      "\u001B[1m    timeListToSave = data[\"timeListToSave\"]\n",
      "\u001B[0m    \u001B[1m^\u001B[0m\u001B[0m\n",
      "\u001B[0m\n",
      "  warnings.warn(errors.NumbaWarning(warn_msg,\n",
      "/home/sdiepolder/anaconda3/lib/python3.8/site-packages/numba/core/object_mode_passes.py:161: NumbaDeprecationWarning: \u001B[1m\n",
      "Fall-back from the nopython compilation path to the object mode compilation path has been detected, this is deprecated behaviour.\n",
      "\n",
      "For more information visit https://numba.pydata.org/numba-doc/latest/reference/deprecation.html#deprecation-of-object-mode-fall-back-behaviour-when-using-jit\n",
      "\u001B[1m\n",
      "File \"library/libAccessibility.py\", line 108:\u001B[0m\n",
      "\u001B[1mdef timeVelocity(timePReached, data):\n",
      "\u001B[1m    timeListToSave = data[\"timeListToSave\"]\n",
      "\u001B[0m    \u001B[1m^\u001B[0m\u001B[0m\n",
      "\u001B[0m\n",
      "  warnings.warn(errors.NumbaDeprecationWarning(msg,\n",
      "./library/libAccessibility.py:106: NumbaWarning: \u001B[1m\n",
      "Compilation is falling back to object mode WITHOUT looplifting enabled because Function \"timeVelocity\" failed type inference due to: \u001B[1mUntyped global name 'sum':\u001B[0m \u001B[1m\u001B[1mCannot determine Numba type of <class 'builtin_function_or_method'>\u001B[0m\n",
      "\u001B[1m\n",
      "File \"library/libAccessibility.py\", line 113:\u001B[0m\n",
      "\u001B[1mdef timeVelocity(timePReached, data):\n",
      "    <source elided>\n",
      "    for time2Save in timeListToSave:\n",
      "\u001B[1m        area = sum(areasTime[0:time2Save]) * areaHex\n",
      "\u001B[0m        \u001B[1m^\u001B[0m\u001B[0m\n",
      "\u001B[0m\u001B[0m\n",
      "  @jit()\n",
      "/home/sdiepolder/anaconda3/lib/python3.8/site-packages/numba/core/object_mode_passes.py:151: NumbaWarning: \u001B[1mFunction \"timeVelocity\" was compiled in object mode without forceobj=True.\n",
      "\u001B[1m\n",
      "File \"library/libAccessibility.py\", line 112:\u001B[0m\n",
      "\u001B[1mdef timeVelocity(timePReached, data):\n",
      "    <source elided>\n",
      "    res = {'timeList':timeListToSave, 'velocity':[]}\n",
      "\u001B[1m    for time2Save in timeListToSave:\n",
      "\u001B[0m    \u001B[1m^\u001B[0m\u001B[0m\n",
      "\u001B[0m\n",
      "  warnings.warn(errors.NumbaWarning(warn_msg,\n",
      "/home/sdiepolder/anaconda3/lib/python3.8/site-packages/numba/core/object_mode_passes.py:161: NumbaDeprecationWarning: \u001B[1m\n",
      "Fall-back from the nopython compilation path to the object mode compilation path has been detected, this is deprecated behaviour.\n",
      "\n",
      "For more information visit https://numba.pydata.org/numba-doc/latest/reference/deprecation.html#deprecation-of-object-mode-fall-back-behaviour-when-using-jit\n",
      "\u001B[1m\n",
      "File \"library/libAccessibility.py\", line 112:\u001B[0m\n",
      "\u001B[1mdef timeVelocity(timePReached, data):\n",
      "    <source elided>\n",
      "    res = {'timeList':timeListToSave, 'velocity':[]}\n",
      "\u001B[1m    for time2Save in timeListToSave:\n",
      "\u001B[0m    \u001B[1m^\u001B[0m\u001B[0m\n",
      "\u001B[0m\n",
      "  warnings.warn(errors.NumbaDeprecationWarning(msg,\n",
      "./library/libAccessibility.py:117: NumbaWarning: \u001B[1m\n",
      "Compilation is falling back to object mode WITH looplifting enabled because Function \"timeSociality\" failed type inference due to: \u001B[1mUntyped global name 'sum':\u001B[0m \u001B[1m\u001B[1mCannot determine Numba type of <class 'builtin_function_or_method'>\u001B[0m\n",
      "\u001B[1m\n",
      "File \"library/libAccessibility.py\", line 124:\u001B[0m\n",
      "\u001B[1mdef timeSociality(timePReached, data):\n",
      "    <source elided>\n",
      "    for time2Save in timeListToSave:\n",
      "\u001B[1m        pop = sum(popsTime[0:time2Save])\n",
      "\u001B[0m        \u001B[1m^\u001B[0m\u001B[0m\n",
      "\u001B[0m\u001B[0m\n",
      "  @jit()\n",
      "./library/libAccessibility.py:117: NumbaWarning: \u001B[1m\n",
      "Compilation is falling back to object mode WITHOUT looplifting enabled because Function \"timeSociality\" failed type inference due to: \u001B[1m\u001B[1mCannot determine Numba type of <class 'numba.core.dispatcher.LiftedLoop'>\u001B[0m\n",
      "\u001B[1m\n",
      "File \"library/libAccessibility.py\", line 123:\u001B[0m\n",
      "\u001B[1mdef timeSociality(timePReached, data):\n",
      "    <source elided>\n",
      "    res = {'timeList':timeListToSave, 'sociality':[]}\n",
      "\u001B[1m    for time2Save in timeListToSave:\n",
      "\u001B[0m    \u001B[1m^\u001B[0m\u001B[0m\n",
      "\u001B[0m\u001B[0m\n",
      "  @jit()\n",
      "/home/sdiepolder/anaconda3/lib/python3.8/site-packages/numba/core/object_mode_passes.py:151: NumbaWarning: \u001B[1mFunction \"timeSociality\" was compiled in object mode without forceobj=True, but has lifted loops.\n",
      "\u001B[1m\n",
      "File \"library/libAccessibility.py\", line 119:\u001B[0m\n",
      "\u001B[1mdef timeSociality(timePReached, data):\n",
      "\u001B[1m    timeListToSave = data[\"timeListToSave\"]\n",
      "\u001B[0m    \u001B[1m^\u001B[0m\u001B[0m\n",
      "\u001B[0m\n",
      "  warnings.warn(errors.NumbaWarning(warn_msg,\n",
      "/home/sdiepolder/anaconda3/lib/python3.8/site-packages/numba/core/object_mode_passes.py:161: NumbaDeprecationWarning: \u001B[1m\n",
      "Fall-back from the nopython compilation path to the object mode compilation path has been detected, this is deprecated behaviour.\n",
      "\n",
      "For more information visit https://numba.pydata.org/numba-doc/latest/reference/deprecation.html#deprecation-of-object-mode-fall-back-behaviour-when-using-jit\n",
      "\u001B[1m\n",
      "File \"library/libAccessibility.py\", line 119:\u001B[0m\n",
      "\u001B[1mdef timeSociality(timePReached, data):\n",
      "\u001B[1m    timeListToSave = data[\"timeListToSave\"]\n",
      "\u001B[0m    \u001B[1m^\u001B[0m\u001B[0m\n",
      "\u001B[0m\n",
      "  warnings.warn(errors.NumbaDeprecationWarning(msg,\n",
      "./library/libAccessibility.py:117: NumbaWarning: \u001B[1m\n",
      "Compilation is falling back to object mode WITHOUT looplifting enabled because Function \"timeSociality\" failed type inference due to: \u001B[1mUntyped global name 'sum':\u001B[0m \u001B[1m\u001B[1mCannot determine Numba type of <class 'builtin_function_or_method'>\u001B[0m\n",
      "\u001B[1m\n",
      "File \"library/libAccessibility.py\", line 124:\u001B[0m\n",
      "\u001B[1mdef timeSociality(timePReached, data):\n",
      "    <source elided>\n",
      "    for time2Save in timeListToSave:\n",
      "\u001B[1m        pop = sum(popsTime[0:time2Save])\n",
      "\u001B[0m        \u001B[1m^\u001B[0m\u001B[0m\n",
      "\u001B[0m\u001B[0m\n",
      "  @jit()\n",
      "/home/sdiepolder/anaconda3/lib/python3.8/site-packages/numba/core/object_mode_passes.py:151: NumbaWarning: \u001B[1mFunction \"timeSociality\" was compiled in object mode without forceobj=True.\n",
      "\u001B[1m\n",
      "File \"library/libAccessibility.py\", line 123:\u001B[0m\n",
      "\u001B[1mdef timeSociality(timePReached, data):\n",
      "    <source elided>\n",
      "    res = {'timeList':timeListToSave, 'sociality':[]}\n",
      "\u001B[1m    for time2Save in timeListToSave:\n",
      "\u001B[0m    \u001B[1m^\u001B[0m\u001B[0m\n",
      "\u001B[0m\n",
      "  warnings.warn(errors.NumbaWarning(warn_msg,\n",
      "/home/sdiepolder/anaconda3/lib/python3.8/site-packages/numba/core/object_mode_passes.py:161: NumbaDeprecationWarning: \u001B[1m\n",
      "Fall-back from the nopython compilation path to the object mode compilation path has been detected, this is deprecated behaviour.\n",
      "\n",
      "For more information visit https://numba.pydata.org/numba-doc/latest/reference/deprecation.html#deprecation-of-object-mode-fall-back-behaviour-when-using-jit\n",
      "\u001B[1m\n",
      "File \"library/libAccessibility.py\", line 123:\u001B[0m\n",
      "\u001B[1mdef timeSociality(timePReached, data):\n",
      "    <source elided>\n",
      "    res = {'timeList':timeListToSave, 'sociality':[]}\n",
      "\u001B[1m    for time2Save in timeListToSave:\n",
      "\u001B[0m    \u001B[1m^\u001B[0m\u001B[0m\n",
      "\u001B[0m\n",
      "  warnings.warn(errors.NumbaDeprecationWarning(msg,\n"
     ]
    },
    {
     "name": "stdout",
     "output_type": "stream",
     "text": [
      "Time Isochrone Start: 8.0re : 5.3, Sociality Score : 514167.1, time to finish : 0.0h, 0.0 mmm\n"
     ]
    },
    {
     "name": "stderr",
     "output_type": "stream",
     "text": [
      "/home/sdiepolder/anaconda3/lib/python3.8/site-packages/pyproj/crs/crs.py:141: FutureWarning: '+init=<authority>:<code>' syntax is deprecated. '<authority>:<code>' is the preferred initialization method. When making the change, be mindful of axis order changes: https://pyproj4.github.io/pyproj/stable/gotchas.html#axis-order-changes-in-proj-6\n",
      "  in_crs_string = _prepare_from_proj_string(in_crs_string)\n",
      "/home/sdiepolder/anaconda3/lib/python3.8/site-packages/shapely/ops.py:276: FutureWarning: This function is deprecated. See: https://pyproj4.github.io/pyproj/stable/gotchas.html#upgrading-to-pyproj-2-from-pyproj-1\n",
      "  shell = type(geom.exterior)(zip(*func(*zip(*geom.exterior.coords))))\n",
      "/home/sdiepolder/anaconda3/lib/python3.8/site-packages/pymongo/collection.py:1533: UserWarning: use an explicit session with no_cursor_timeout=True otherwise the cursor may still timeout after 30 minutes, for more info see https://docs.mongodb.com/v4.4/reference/method/cursor.noCursorTimeout/#session-idle-timeout-overrides-nocursortimeout\n",
      "  return Cursor(self, *args, **kwargs)\n"
     ]
    },
    {
     "name": "stdout",
     "output_type": "stream",
     "text": [
      "Time Isochrone Start: 9.0re : 5.4, Sociality Score : 519781.5, time to finish : 0.0h, 0.0 mmm\n"
     ]
    },
    {
     "name": "stderr",
     "output_type": "stream",
     "text": [
      "/home/sdiepolder/anaconda3/lib/python3.8/site-packages/pyproj/crs/crs.py:141: FutureWarning: '+init=<authority>:<code>' syntax is deprecated. '<authority>:<code>' is the preferred initialization method. When making the change, be mindful of axis order changes: https://pyproj4.github.io/pyproj/stable/gotchas.html#axis-order-changes-in-proj-6\n",
      "  in_crs_string = _prepare_from_proj_string(in_crs_string)\n",
      "/home/sdiepolder/anaconda3/lib/python3.8/site-packages/shapely/ops.py:276: FutureWarning: This function is deprecated. See: https://pyproj4.github.io/pyproj/stable/gotchas.html#upgrading-to-pyproj-2-from-pyproj-1\n",
      "  shell = type(geom.exterior)(zip(*func(*zip(*geom.exterior.coords))))\n",
      "/home/sdiepolder/anaconda3/lib/python3.8/site-packages/pymongo/collection.py:1533: UserWarning: use an explicit session with no_cursor_timeout=True otherwise the cursor may still timeout after 30 minutes, for more info see https://docs.mongodb.com/v4.4/reference/method/cursor.noCursorTimeout/#session-idle-timeout-overrides-nocursortimeout\n",
      "  return Cursor(self, *args, **kwargs)\n"
     ]
    },
    {
     "name": "stdout",
     "output_type": "stream",
     "text": [
      "Time Isochrone Start: 10.0e : 5.1, Sociality Score : 502639.5, time to finish : 0.0h, 0.0 mmm\n"
     ]
    },
    {
     "name": "stderr",
     "output_type": "stream",
     "text": [
      "/home/sdiepolder/anaconda3/lib/python3.8/site-packages/pyproj/crs/crs.py:141: FutureWarning: '+init=<authority>:<code>' syntax is deprecated. '<authority>:<code>' is the preferred initialization method. When making the change, be mindful of axis order changes: https://pyproj4.github.io/pyproj/stable/gotchas.html#axis-order-changes-in-proj-6\n",
      "  in_crs_string = _prepare_from_proj_string(in_crs_string)\n",
      "/home/sdiepolder/anaconda3/lib/python3.8/site-packages/shapely/ops.py:276: FutureWarning: This function is deprecated. See: https://pyproj4.github.io/pyproj/stable/gotchas.html#upgrading-to-pyproj-2-from-pyproj-1\n",
      "  shell = type(geom.exterior)(zip(*func(*zip(*geom.exterior.coords))))\n",
      "/home/sdiepolder/anaconda3/lib/python3.8/site-packages/pymongo/collection.py:1533: UserWarning: use an explicit session with no_cursor_timeout=True otherwise the cursor may still timeout after 30 minutes, for more info see https://docs.mongodb.com/v4.4/reference/method/cursor.noCursorTimeout/#session-idle-timeout-overrides-nocursortimeout\n",
      "  return Cursor(self, *args, **kwargs)\n"
     ]
    },
    {
     "name": "stdout",
     "output_type": "stream",
     "text": [
      "point: 1581, Velocity Score : 5.4, Sociality Score : 521396.1, time to finish : 0.0h, 0.0 mm\r"
     ]
    }
   ],
   "source": [
    "import imp\n",
    "import icsa\n",
    "import libAccessibility\n",
    "\n",
    "imp.reload(libAccessibility)\n",
    "from icsa import computeAccessibilities\n",
    "imp.reload(icsa)\n",
    "listAccessibility = ['velocityScore','socialityScore', 'velocityScoreGall', \n",
    "                     'socialityScoreGall','velocityScore1h', 'socialityScore1h',\n",
    "                    'timeVelocity', 'timeSociality']\n",
    "\n",
    "computeIsochrone = False\n",
    "if 'isochrones' in gtfsDB.collection_names():\n",
    "    #gtfsDB['isochrones'].delete_many({'city':city})\n",
    "    pass\n",
    "for timeStart in timeList:\n",
    "    timeStart *= 3600\n",
    "    print( 'Time Isochrone Start: {0}'.format(timeStart/3600,))\n",
    "    computeAccessibilities(city, timeStart, arrayCC, arraySP, gtfsDB, computeIsochrone, timeStart/3600 == timeList[0], listAccessibility=listAccessibility)"
   ]
  },
  {
   "cell_type": "markdown",
   "metadata": {},
   "source": [
    "## Compute averages of the accessiblity quantities computed"
   ]
  },
  {
   "cell_type": "code",
   "execution_count": 12,
   "metadata": {},
   "outputs": [
    {
     "name": "stdout",
     "output_type": "stream",
     "text": [
      " 1580 - Paris\r"
     ]
    }
   ],
   "source": [
    "from libStopsPoints import computeAverage\n",
    "computeAverage(listAccessibility, gtfsDB, city)"
   ]
  },
  {
   "cell_type": "markdown",
   "metadata": {},
   "source": [
    "# RESULTS"
   ]
  },
  {
   "cell_type": "markdown",
   "metadata": {},
   "source": [
    "## maps"
   ]
  },
  {
   "cell_type": "code",
   "execution_count": 62,
   "metadata": {
    "scrolled": true
   },
   "outputs": [
    {
     "name": "stdout",
     "output_type": "stream",
     "text": [
      "shell 0.0-2.0 -> 5 hexs\n",
      "shell 2.0-4.0 -> 484 hexs\n"
     ]
    },
    {
     "name": "stderr",
     "output_type": "stream",
     "text": [
      "/home/sdiepolder/anaconda3/lib/python3.8/site-packages/folium/folium.py:465: FutureWarning: The choropleth  method has been deprecated. Instead use the new Choropleth class, which has the same arguments. See the example notebook 'GeoJSON_and_choropleth' for how to do this.\n",
      "  warnings.warn(\n"
     ]
    },
    {
     "name": "stdout",
     "output_type": "stream",
     "text": [
      "shell 4.0-5 -> 373 hexs\n",
      "shell 5-6.0 -> 357 hexs\n",
      "shell 6.0-7 -> 202 hexs\n",
      "shell 7-8.0 -> 109 hexs\n",
      "shell 8.0-9 -> 35 hexs\n",
      "shell 9-10.0 -> 12 hexs\n",
      "shell 10.0-11 -> 4 hexs\n"
     ]
    },
    {
     "data": {
      "text/html": [
       "<h1>Velocity Score</h1>"
      ],
      "text/plain": [
       "<IPython.core.display.HTML object>"
      ]
     },
     "metadata": {},
     "output_type": "display_data"
    },
    {
     "data": {
      "text/html": [
       "<div style=\"width:100%;\"><div style=\"position:relative;width:100%;height:0;padding-bottom:60%;\"><span style=\"color:#565656\">Make this Notebook Trusted to load map: File -> Trust Notebook</span><iframe srcdoc=\"&lt;!DOCTYPE html&gt;\n",
       "&lt;html&gt;\n",
       "&lt;head&gt;\n",
       "    \n",
       "    &lt;meta http-equiv=&quot;content-type&quot; content=&quot;text/html; charset=UTF-8&quot; /&gt;\n",
       "    \n",
       "        &lt;script&gt;\n",
       "            L_NO_TOUCH = false;\n",
       "            L_DISABLE_3D = false;\n",
       "        &lt;/script&gt;\n",
       "    \n",
       "    &lt;style&gt;html, body {width: 100%;height: 100%;margin: 0;padding: 0;}&lt;/style&gt;\n",
       "    &lt;style&gt;#map {position:absolute;top:0;bottom:0;right:0;left:0;}&lt;/style&gt;\n",
       "    &lt;script src=&quot;https://cdn.jsdelivr.net/npm/leaflet@1.9.3/dist/leaflet.js&quot;&gt;&lt;/script&gt;\n",
       "    &lt;script src=&quot;https://code.jquery.com/jquery-1.12.4.min.js&quot;&gt;&lt;/script&gt;\n",
       "    &lt;script src=&quot;https://cdn.jsdelivr.net/npm/bootstrap@5.2.2/dist/js/bootstrap.bundle.min.js&quot;&gt;&lt;/script&gt;\n",
       "    &lt;script src=&quot;https://cdnjs.cloudflare.com/ajax/libs/Leaflet.awesome-markers/2.0.2/leaflet.awesome-markers.js&quot;&gt;&lt;/script&gt;\n",
       "    &lt;link rel=&quot;stylesheet&quot; href=&quot;https://cdn.jsdelivr.net/npm/leaflet@1.9.3/dist/leaflet.css&quot;/&gt;\n",
       "    &lt;link rel=&quot;stylesheet&quot; href=&quot;https://cdn.jsdelivr.net/npm/bootstrap@5.2.2/dist/css/bootstrap.min.css&quot;/&gt;\n",
       "    &lt;link rel=&quot;stylesheet&quot; href=&quot;https://netdna.bootstrapcdn.com/bootstrap/3.0.0/css/bootstrap.min.css&quot;/&gt;\n",
       "    &lt;link rel=&quot;stylesheet&quot; href=&quot;https://cdn.jsdelivr.net/npm/@fortawesome/fontawesome-free@6.2.0/css/all.min.css&quot;/&gt;\n",
       "    &lt;link rel=&quot;stylesheet&quot; href=&quot;https://cdnjs.cloudflare.com/ajax/libs/Leaflet.awesome-markers/2.0.2/leaflet.awesome-markers.css&quot;/&gt;\n",
       "    &lt;link rel=&quot;stylesheet&quot; href=&quot;https://cdn.jsdelivr.net/gh/python-visualization/folium/folium/templates/leaflet.awesome.rotate.min.css&quot;/&gt;\n",
       "    \n",
       "            &lt;meta name=&quot;viewport&quot; content=&quot;width=device-width,\n",
       "                initial-scale=1.0, maximum-scale=1.0, user-scalable=no&quot; /&gt;\n",
       "            &lt;style&gt;\n",
       "                #map_aa652676ef7f1678f616f3d3e1cc4a04 {\n",
       "                    position: relative;\n",
       "                    width: 100.0%;\n",
       "                    height: 100.0%;\n",
       "                    left: 0.0%;\n",
       "                    top: 0.0%;\n",
       "                }\n",
       "                .leaflet-container { font-size: 1rem; }\n",
       "            &lt;/style&gt;\n",
       "        \n",
       "&lt;/head&gt;\n",
       "&lt;body&gt;\n",
       "    \n",
       "    \n",
       "            &lt;div class=&quot;folium-map&quot; id=&quot;map_aa652676ef7f1678f616f3d3e1cc4a04&quot; &gt;&lt;/div&gt;\n",
       "        \n",
       "&lt;/body&gt;\n",
       "&lt;script&gt;\n",
       "    \n",
       "    \n",
       "            var map_aa652676ef7f1678f616f3d3e1cc4a04 = L.map(\n",
       "                &quot;map_aa652676ef7f1678f616f3d3e1cc4a04&quot;,\n",
       "                {\n",
       "                    center: [48.57489393713897, 1.9972678390910157],\n",
       "                    crs: L.CRS.EPSG3857,\n",
       "                    zoom: 9,\n",
       "                    zoomControl: true,\n",
       "                    preferCanvas: false,\n",
       "                }\n",
       "            );\n",
       "\n",
       "            \n",
       "\n",
       "        \n",
       "    \n",
       "            var tile_layer_ef31892553b54d05cf93215d8720414a = L.tileLayer(\n",
       "                &quot;https://{s}.tile.openstreetmap.org/{z}/{x}/{y}.png&quot;,\n",
       "                {&quot;attribution&quot;: &quot;Data by \\u0026copy; \\u003ca target=\\&quot;_blank\\&quot; href=\\&quot;http://openstreetmap.org\\&quot;\\u003eOpenStreetMap\\u003c/a\\u003e, under \\u003ca target=\\&quot;_blank\\&quot; href=\\&quot;http://www.openstreetmap.org/copyright\\&quot;\\u003eODbL\\u003c/a\\u003e.&quot;, &quot;detectRetina&quot;: false, &quot;maxNativeZoom&quot;: 18, &quot;maxZoom&quot;: 18, &quot;minZoom&quot;: 0, &quot;noWrap&quot;: false, &quot;opacity&quot;: 1, &quot;subdomains&quot;: &quot;abc&quot;, &quot;tms&quot;: false}\n",
       "            ).addTo(map_aa652676ef7f1678f616f3d3e1cc4a04);\n",
       "        \n",
       "    \n",
       "            var choropleth_352b7056874a3df31f2751964d489e1c = L.featureGroup(\n",
       "                {}\n",
       "            ).addTo(map_aa652676ef7f1678f616f3d3e1cc4a04);\n",
       "        \n",
       "    \n",
       "        function geo_json_4efdccf89f484e0c35472bdf3631655e_styler(feature) {\n",
       "            switch(feature.id) {\n",
       "                default:\n",
       "                    return {&quot;color&quot;: &quot;#993404&quot;, &quot;fillColor&quot;: &quot;#993404&quot;, &quot;fillOpacity&quot;: 0.6, &quot;opacity&quot;: 0, &quot;weight&quot;: 2};\n",
       "            }\n",
       "        }\n",
       "\n",
       "        function geo_json_4efdccf89f484e0c35472bdf3631655e_onEachFeature(feature, layer) {\n",
       "            layer.on({\n",
       "            });\n",
       "        };\n",
       "        var geo_json_4efdccf89f484e0c35472bdf3631655e = L.geoJson(null, {\n",
       "                onEachFeature: geo_json_4efdccf89f484e0c35472bdf3631655e_onEachFeature,\n",
       "            \n",
       "                style: geo_json_4efdccf89f484e0c35472bdf3631655e_styler,\n",
       "        });\n",
       "\n",
       "        function geo_json_4efdccf89f484e0c35472bdf3631655e_add (data) {\n",
       "            geo_json_4efdccf89f484e0c35472bdf3631655e\n",
       "                .addData(data)\n",
       "                .addTo(choropleth_352b7056874a3df31f2751964d489e1c);\n",
       "        }\n",
       "            geo_json_4efdccf89f484e0c35472bdf3631655e_add({&quot;features&quot;: [{&quot;geometry&quot;: {&quot;coordinates&quot;: [[[[1.99726784, 48.60604457], [1.99388018, 48.6099384], [1.98710487, 48.6099384], [1.98371722, 48.60604457], [1.98710487, 48.60215074], [1.99388018, 48.60215074]]], [[[1.99726784, 48.67613349], [1.99388018, 48.68002732], [1.98710487, 48.68002732], [1.98371722, 48.67613349], [1.98710487, 48.67223966], [1.99388018, 48.67223966]]], [[[2.07857157, 48.83188666], [2.07518391, 48.83578049], [2.0684086, 48.83578049], [2.06502095, 48.83188666], [2.0684086, 48.82799283], [2.07518391, 48.82799283]]], [[[2.11922343, 48.6371952], [2.11583578, 48.64108903], [2.10906047, 48.64108903], [2.10567281, 48.6371952], [2.10906047, 48.63330137], [2.11583578, 48.63330137]]], [[[2.1293864, 48.57100011], [2.12599874, 48.57489394], [2.11922343, 48.57489394], [2.11583578, 48.57100011], [2.11922343, 48.56710628], [2.12599874, 48.56710628]]]], &quot;properties&quot;: {&quot;velocityScore.avg&quot;: 1.0}, &quot;type&quot;: &quot;MultiPolygon&quot;}, &quot;id&quot;: &quot;0&quot;, &quot;type&quot;: &quot;Feature&quot;}], &quot;type&quot;: &quot;FeatureCollection&quot;});\n",
       "\n",
       "        \n",
       "    \n",
       "            var choropleth_c42653773cd30eefb53196c55ec83079 = L.featureGroup(\n",
       "                {}\n",
       "            ).addTo(map_aa652676ef7f1678f616f3d3e1cc4a04);\n",
       "        \n",
       "    \n",
       "        function geo_json_aca4d55524436821e791c6a1a731c44f_styler(feature) {\n",
       "            switch(feature.id) {\n",
       "                default:\n",
       "                    return {&quot;color&quot;: &quot;#f16913&quot;, &quot;fillColor&quot;: &quot;#f16913&quot;, &quot;fillOpacity&quot;: 0.6, &quot;opacity&quot;: 0, &quot;weight&quot;: 2};\n",
       "            }\n",
       "        }\n",
       "\n",
       "        function geo_json_aca4d55524436821e791c6a1a731c44f_onEachFeature(feature, layer) {\n",
       "            layer.on({\n",
       "            });\n",
       "        };\n",
       "        var geo_json_aca4d55524436821e791c6a1a731c44f = L.geoJson(null, {\n",
       "                onEachFeature: geo_json_aca4d55524436821e791c6a1a731c44f_onEachFeature,\n",
       "            \n",
       "                style: geo_json_aca4d55524436821e791c6a1a731c44f_styler,\n",
       "        });\n",
       "\n",
       "        function geo_json_aca4d55524436821e791c6a1a731c44f_add (data) {\n",
       "            geo_json_aca4d55524436821e791c6a1a731c44f\n",
       "                .addData(data)\n",
       "                .addTo(choropleth_c42653773cd30eefb53196c55ec83079);\n",
       "        }\n",
       "            geo_json_aca4d55524436821e791c6a1a731c44f_add({&quot;features&quot;: [{&quot;geometry&quot;: {&quot;coordinates&quot;: [[[[1.98710487, 48.57878777], [1.98371722, 48.57489394], [1.98710487, 48.57100011], [1.99388018, 48.57100011], [1.99726784, 48.57489394], [2.00404315, 48.57489394], [2.00743081, 48.57878777], [2.00404315, 48.5826816], [1.99726784, 48.5826816], [1.99388018, 48.58657542], [1.99726784, 48.59046925], [2.00404315, 48.59046925], [2.00743081, 48.58657542], [2.01420612, 48.58657542], [2.01759377, 48.59046925], [2.02436908, 48.59046925], [2.02775674, 48.59436308], [2.02436908, 48.59825691], [2.01759377, 48.59825691], [2.01420612, 48.60215074], [2.01759377, 48.60604457], [2.02436908, 48.60604457], [2.02775674, 48.6099384], [2.03453205, 48.6099384], [2.0379197, 48.61383223], [2.04469501, 48.61383223], [2.04808267, 48.61772606], [2.05485798, 48.61772606], [2.05824564, 48.62161989], [2.06502095, 48.62161989], [2.0684086, 48.61772606], [2.07518391, 48.61772606], [2.07857157, 48.62161989], [2.08534688, 48.62161989], [2.08873453, 48.61772606], [2.09550984, 48.61772606], [2.0988975, 48.61383223], [2.09550984, 48.6099384], [2.08873453, 48.6099384], [2.08534688, 48.61383223], [2.07857157, 48.61383223], [2.07518391, 48.6099384], [2.0684086, 48.6099384], [2.06502095, 48.61383223], [2.05824564, 48.61383223], [2.05485798, 48.6099384], [2.05824564, 48.60604457], [2.05485798, 48.60215074], [2.05824564, 48.59825691], [2.05485798, 48.59436308], [2.04808267, 48.59436308], [2.04469501, 48.59046925], [2.04808267, 48.58657542], [2.04469501, 48.5826816], [2.04808267, 48.57878777], [2.05485798, 48.57878777], [2.05824564, 48.5826816], [2.06502095, 48.5826816], [2.0684086, 48.58657542], [2.07518391, 48.58657542], [2.07857157, 48.59046925], [2.07518391, 48.59436308], [2.07857157, 48.59825691], [2.08534688, 48.59825691], [2.08873453, 48.59436308], [2.09550984, 48.59436308], [2.0988975, 48.59046925], [2.09550984, 48.58657542], [2.08873453, 48.58657542], [2.08534688, 48.5826816], [2.08873453, 48.57878777], [2.08534688, 48.57489394], [2.07857157, 48.57489394], [2.07518391, 48.57878777], [2.0684086, 48.57878777], [2.06502095, 48.57489394], [2.05824564, 48.57489394], [2.05485798, 48.57100011], [2.05824564, 48.56710628], [2.06502095, 48.56710628], [2.0684086, 48.57100011], [2.07518391, 48.57100011], [2.07857157, 48.56710628], [2.08534688, 48.56710628], [2.08873453, 48.57100011], [2.09550984, 48.57100011], [2.0988975, 48.57489394], [2.10567281, 48.57489394], [2.10906047, 48.57100011], [2.11583578, 48.57100011], [2.11922343, 48.57489394], [2.12599874, 48.57489394], [2.1293864, 48.57100011], [2.13616171, 48.57100011], [2.13954936, 48.56710628], [2.14632467, 48.56710628], [2.14971233, 48.57100011], [2.15648764, 48.57100011], [2.1598753, 48.56710628], [2.16665061, 48.56710628], [2.17003826, 48.57100011], [2.17681357, 48.57100011], [2.18020123, 48.56710628], [2.18697654, 48.56710628], [2.19036419, 48.57100011], [2.18697654, 48.57489394], [2.19036419, 48.57878777], [2.18697654, 48.5826816], [2.19036419, 48.58657542], [2.1971395, 48.58657542], [2.20052716, 48.5826816], [2.1971395, 48.57878777], [2.20052716, 48.57489394], [2.1971395, 48.57100011], [2.20052716, 48.56710628], [2.20730247, 48.56710628], [2.21069013, 48.57100011], [2.21746544, 48.57100011], [2.22085309, 48.56710628], [2.2276284, 48.56710628], [2.23101606, 48.57100011], [2.23779137, 48.57100011], [2.24117902, 48.56710628], [2.24795434, 48.56710628], [2.25134199, 48.57100011], [2.2581173, 48.57100011], [2.26150496, 48.56710628], [2.26828027, 48.56710628], [2.27166792, 48.57100011], [2.26828027, 48.57489394], [2.27166792, 48.57878777], [2.26828027, 48.5826816], [2.27166792, 48.58657542], [2.26828027, 48.59046925], [2.26150496, 48.59046925], [2.2581173, 48.58657542], [2.26150496, 48.5826816], [2.2581173, 48.57878777], [2.25134199, 48.57878777], [2.24795434, 48.57489394], [2.24117902, 48.57489394], [2.23779137, 48.57878777], [2.23101606, 48.57878777], [2.2276284, 48.57489394], [2.22085309, 48.57489394], [2.21746544, 48.57878777], [2.22085309, 48.5826816], [2.2276284, 48.5826816], [2.23101606, 48.58657542], [2.2276284, 48.59046925], [2.23101606, 48.59436308], [2.2276284, 48.59825691], [2.23101606, 48.60215074], [2.23779137, 48.60215074], [2.24117902, 48.60604457], [2.23779137, 48.6099384], [2.24117902, 48.61383223], [2.24795434, 48.61383223], [2.25134199, 48.61772606], [2.2581173, 48.61772606], [2.26150496, 48.62161989], [2.2581173, 48.62551372], [2.25134199, 48.62551372], [2.24795434, 48.62940754], [2.25134199, 48.63330137], [2.24795434, 48.6371952], [2.24117902, 48.6371952], [2.23779137, 48.63330137], [2.24117902, 48.62940754], [2.23779137, 48.62551372], [2.24117902, 48.62161989], [2.23779137, 48.61772606], [2.23101606, 48.61772606], [2.2276284, 48.61383223], [2.22085309, 48.61383223], [2.21746544, 48.61772606], [2.21069013, 48.61772606], [2.20730247, 48.61383223], [2.20052716, 48.61383223], [2.1971395, 48.6099384], [2.20052716, 48.60604457], [2.1971395, 48.60215074], [2.20052716, 48.59825691], [2.1971395, 48.59436308], [2.19036419, 48.59436308], [2.18697654, 48.59825691], [2.19036419, 48.60215074], [2.18697654, 48.60604457], [2.18020123, 48.60604457], [2.17681357, 48.6099384], [2.18020123, 48.61383223], [2.18697654, 48.61383223], [2.19036419, 48.61772606], [2.18697654, 48.62161989], [2.18020123, 48.62161989], [2.17681357, 48.62551372], [2.17003826, 48.62551372], [2.16665061, 48.62940754], [2.17003826, 48.63330137], [2.17681357, 48.63330137], [2.18020123, 48.6371952], [2.17681357, 48.64108903], [2.17003826, 48.64108903], [2.16665061, 48.64498286], [2.17003826, 48.64887669], [2.16665061, 48.65277052], [2.1598753, 48.65277052], [2.15648764, 48.65666435], [2.1598753, 48.66055818], [2.16665061, 48.66055818], [2.17003826, 48.65666435], [2.17681357, 48.65666435], [2.18020123, 48.66055818], [2.18697654, 48.66055818], [2.19036419, 48.65666435], [2.1971395, 48.65666435], [2.20052716, 48.65277052], [2.20730247, 48.65277052], [2.21069013, 48.64887669], [2.20730247, 48.64498286], [2.20052716, 48.64498286], [2.1971395, 48.64108903], [2.20052716, 48.6371952], [2.20730247, 48.6371952], [2.21069013, 48.63330137], [2.21746544, 48.63330137], [2.22085309, 48.62940754], [2.2276284, 48.62940754], [2.23101606, 48.63330137], [2.2276284, 48.6371952], [2.22085309, 48.6371952], [2.21746544, 48.64108903], [2.22085309, 48.64498286], [2.2276284, 48.64498286], [2.23101606, 48.64887669], [2.23779137, 48.64887669], [2.24117902, 48.65277052], [2.23779137, 48.65666435], [2.23101606, 48.65666435], [2.2276284, 48.66055818], [2.22085309, 48.66055818], [2.21746544, 48.66445201], [2.21069013, 48.66445201], [2.20730247, 48.66834584], [2.20052716, 48.66834584], [2.1971395, 48.66445201], [2.19036419, 48.66445201], [2.18697654, 48.66834584], [2.18020123, 48.66834584], [2.17681357, 48.67223966], [2.17003826, 48.67223966], [2.16665061, 48.67613349], [2.1598753, 48.67613349], [2.15648764, 48.67223966], [2.14971233, 48.67223966], [2.14632467, 48.67613349], [2.13954936, 48.67613349], [2.13616171, 48.67223966], [2.1293864, 48.67223966], [2.12599874, 48.66834584], [2.11922343, 48.66834584], [2.11583578, 48.66445201], [2.11922343, 48.66055818], [2.11583578, 48.65666435], [2.10906047, 48.65666435], [2.10567281, 48.65277052], [2.0988975, 48.65277052], [2.09550984, 48.65666435], [2.0988975, 48.66055818], [2.09550984, 48.66445201], [2.08873453, 48.66445201], [2.08534688, 48.66834584], [2.08873453, 48.67223966], [2.09550984, 48.67223966], [2.0988975, 48.67613349], [2.09550984, 48.68002732], [2.0988975, 48.68392115], [2.10567281, 48.68392115], [2.10906047, 48.68002732], [2.10567281, 48.67613349], [2.10906047, 48.67223966], [2.11583578, 48.67223966], [2.11922343, 48.67613349], [2.11583578, 48.68002732], [2.11922343, 48.68392115], [2.11583578, 48.68781498], [2.10906047, 48.68781498], [2.10567281, 48.69170881], [2.0988975, 48.69170881], [2.09550984, 48.68781498], [2.08873453, 48.68781498], [2.08534688, 48.68392115], [2.07857157, 48.68392115], [2.07518391, 48.68781498], [2.07857157, 48.69170881], [2.07518391, 48.69560264], [2.0684086, 48.69560264], [2.06502095, 48.69949647], [2.05824564, 48.69949647], [2.05485798, 48.69560264], [2.05824564, 48.69170881], [2.05485798, 48.68781498], [2.04808267, 48.68781498], [2.04469501, 48.68392115], [2.0379197, 48.68392115], [2.03453205, 48.68781498], [2.0379197, 48.69170881], [2.03453205, 48.69560264], [2.02775674, 48.69560264], [2.02436908, 48.69949647], [2.02775674, 48.7033903], [2.02436908, 48.70728413], [2.02775674, 48.71117796], [2.03453205, 48.71117796], [2.0379197, 48.71507178], [2.03453205, 48.71896561], [2.02775674, 48.71896561], [2.02436908, 48.71507178], [2.01759377, 48.71507178], [2.01420612, 48.71896561], [2.01759377, 48.72285944], [2.01420612, 48.72675327], [2.01759377, 48.7306471], [2.02436908, 48.7306471], [2.02775674, 48.72675327], [2.03453205, 48.72675327], [2.0379197, 48.72285944], [2.04469501, 48.72285944], [2.04808267, 48.71896561], [2.04469501, 48.71507178], [2.04808267, 48.71117796], [2.05485798, 48.71117796], [2.05824564, 48.70728413], [2.06502095, 48.70728413], [2.0684086, 48.71117796], [2.06502095, 48.71507178], [2.0684086, 48.71896561], [2.07518391, 48.71896561], [2.07857157, 48.72285944], [2.07518391, 48.72675327], [2.07857157, 48.7306471], [2.07518391, 48.73454093], [2.07857157, 48.73843476], [2.07518391, 48.74232859], [2.0684086, 48.74232859], [2.06502095, 48.74622242], [2.05824564, 48.74622242], [2.05485798, 48.75011625], [2.04808267, 48.75011625], [2.04469501, 48.75401008], [2.0379197, 48.75401008], [2.03453205, 48.75011625], [2.02775674, 48.75011625], [2.02436908, 48.74622242], [2.01759377, 48.74622242], [2.01420612, 48.74232859], [2.00743081, 48.74232859], [2.00404315, 48.73843476], [1.99726784, 48.73843476], [1.99388018, 48.73454093], [1.98710487, 48.73454093], [1.98371722, 48.7306471], [1.98710487, 48.72675327], [1.98371722, 48.72285944], [1.98710487, 48.71896561], [1.98371722, 48.71507178], [1.98710487, 48.71117796], [1.98371722, 48.70728413], [1.98710487, 48.7033903], [1.98371722, 48.69949647], [1.98710487, 48.69560264], [1.99388018, 48.69560264], [1.99726784, 48.69949647], [2.00404315, 48.69949647], [2.00743081, 48.69560264], [2.00404315, 48.69170881], [2.00743081, 48.68781498], [2.00404315, 48.68392115], [1.99726784, 48.68392115], [1.99388018, 48.68781498], [1.98710487, 48.68781498], [1.98371722, 48.68392115], [1.98710487, 48.68002732], [1.99388018, 48.68002732], [1.99726784, 48.67613349], [2.00404315, 48.67613349], [2.00743081, 48.68002732], [2.01420612, 48.68002732], [2.01759377, 48.67613349], [2.02436908, 48.67613349], [2.02775674, 48.67223966], [2.03453205, 48.67223966], [2.0379197, 48.66834584], [2.04469501, 48.66834584], [2.04808267, 48.66445201], [2.05485798, 48.66445201], [2.05824564, 48.66055818], [2.05485798, 48.65666435], [2.05824564, 48.65277052], [2.05485798, 48.64887669], [2.04808267, 48.64887669], [2.04469501, 48.65277052], [2.0379197, 48.65277052], [2.03453205, 48.64887669], [2.0379197, 48.64498286], [2.03453205, 48.64108903], [2.02775674, 48.64108903], [2.02436908, 48.6371952], [2.01759377, 48.6371952], [2.01420612, 48.64108903], [2.01759377, 48.64498286], [2.01420612, 48.64887669], [2.00743081, 48.64887669], [2.00404315, 48.64498286], [1.99726784, 48.64498286], [1.99388018, 48.64887669], [1.98710487, 48.64887669], [1.98371722, 48.64498286], [1.98710487, 48.64108903], [1.98371722, 48.6371952], [1.98710487, 48.63330137], [1.98371722, 48.62940754], [1.98710487, 48.62551372], [1.98371722, 48.62161989], [1.98710487, 48.61772606], [1.98371722, 48.61383223], [1.98710487, 48.6099384], [1.99388018, 48.6099384], [1.99726784, 48.60604457], [1.99388018, 48.60215074], [1.98710487, 48.60215074], [1.98371722, 48.59825691], [1.98710487, 48.59436308], [1.98371722, 48.59046925], [1.98710487, 48.58657542], [1.98371722, 48.5826816]], [[2.0379197, 48.7306471], [2.03453205, 48.73454093], [2.0379197, 48.73843476], [2.03453205, 48.74232859], [2.0379197, 48.74622242], [2.04469501, 48.74622242], [2.04808267, 48.74232859], [2.04469501, 48.73843476], [2.04808267, 48.73454093], [2.04469501, 48.7306471]], [[2.0684086, 48.62551372], [2.06502095, 48.62940754], [2.0684086, 48.63330137], [2.07518391, 48.63330137], [2.07857157, 48.62940754], [2.07518391, 48.62551372]], [[2.0684086, 48.64108903], [2.06502095, 48.64498286], [2.0684086, 48.64887669], [2.06502095, 48.65277052], [2.0684086, 48.65666435], [2.07518391, 48.65666435], [2.07857157, 48.65277052], [2.07518391, 48.64887669], [2.07857157, 48.64498286], [2.07518391, 48.64108903]], [[2.08873453, 48.62551372], [2.08534688, 48.62940754], [2.08873453, 48.63330137], [2.09550984, 48.63330137], [2.0988975, 48.62940754], [2.09550984, 48.62551372]], [[2.10906047, 48.63330137], [2.10567281, 48.6371952], [2.10906047, 48.64108903], [2.11583578, 48.64108903], [2.11922343, 48.6371952], [2.11583578, 48.63330137]], [[2.11922343, 48.61383223], [2.11583578, 48.61772606], [2.11922343, 48.62161989], [2.12599874, 48.62161989], [2.1293864, 48.62551372], [2.13616171, 48.62551372], [2.13954936, 48.62161989], [2.13616171, 48.61772606], [2.1293864, 48.61772606], [2.12599874, 48.61383223]], [[2.13954936, 48.62940754], [2.13616171, 48.63330137], [2.13954936, 48.6371952], [2.14632467, 48.6371952], [2.14971233, 48.63330137], [2.15648764, 48.63330137], [2.1598753, 48.62940754], [2.15648764, 48.62551372], [2.14971233, 48.62551372], [2.14632467, 48.62940754]], [[2.14971233, 48.59436308], [2.14632467, 48.59825691], [2.14971233, 48.60215074], [2.15648764, 48.60215074], [2.1598753, 48.59825691], [2.15648764, 48.59436308]], [[2.1598753, 48.57489394], [2.15648764, 48.57878777], [2.1598753, 48.5826816], [2.16665061, 48.5826816], [2.17003826, 48.57878777], [2.16665061, 48.57489394]]], [[[1.98710487, 48.76569156], [1.98371722, 48.76179773], [1.98710487, 48.7579039], [1.99388018, 48.7579039], [1.99726784, 48.76179773], [2.00404315, 48.76179773], [2.00743081, 48.7579039], [2.01420612, 48.7579039], [2.01759377, 48.76179773], [2.01420612, 48.76569156], [2.00743081, 48.76569156], [2.00404315, 48.76958539], [1.99726784, 48.76958539], [1.99388018, 48.77347922], [1.98710487, 48.77347922], [1.98371722, 48.76958539]]], [[[1.99388018, 48.78905454], [1.98710487, 48.78905454], [1.98371722, 48.78516071], [1.98710487, 48.78126688], [1.99388018, 48.78126688], [1.99726784, 48.78516071], [2.00404315, 48.78516071], [2.00743081, 48.78126688], [2.01420612, 48.78126688], [2.01759377, 48.78516071], [2.01420612, 48.78905454], [2.00743081, 48.78905454], [2.00404315, 48.79294837], [1.99726784, 48.79294837]]], [[[1.99388018, 48.80462985], [1.98710487, 48.80462985], [1.98371722, 48.80073602], [1.98710487, 48.7968422], [1.99388018, 48.7968422], [1.99726784, 48.80073602], [2.00404315, 48.80073602], [2.00743081, 48.80462985], [2.00404315, 48.80852368], [2.00743081, 48.81241751], [2.01420612, 48.81241751], [2.01759377, 48.80852368], [2.02436908, 48.80852368], [2.02775674, 48.81241751], [2.03453205, 48.81241751], [2.0379197, 48.81631134], [2.04469501, 48.81631134], [2.04808267, 48.82020517], [2.05485798, 48.82020517], [2.05824564, 48.81631134], [2.06502095, 48.81631134], [2.0684086, 48.81241751], [2.07518391, 48.81241751], [2.07857157, 48.81631134], [2.08534688, 48.81631134], [2.08873453, 48.82020517], [2.08534688, 48.824099], [2.07857157, 48.824099], [2.07518391, 48.82020517], [2.0684086, 48.82020517], [2.06502095, 48.824099], [2.05824564, 48.824099], [2.05485798, 48.82799283], [2.05824564, 48.83188666], [2.05485798, 48.83578049], [2.05824564, 48.83967432], [2.05485798, 48.84356814], [2.05824564, 48.84746197], [2.06502095, 48.84746197], [2.0684086, 48.84356814], [2.07518391, 48.84356814], [2.07857157, 48.83967432], [2.08534688, 48.83967432], [2.08873453, 48.84356814], [2.08534688, 48.84746197], [2.07857157, 48.84746197], [2.07518391, 48.8513558], [2.0684086, 48.8513558], [2.06502095, 48.85524963], [2.05824564, 48.85524963], [2.05485798, 48.85914346], [2.04808267, 48.85914346], [2.04469501, 48.86303729], [2.0379197, 48.86303729], [2.03453205, 48.86693112], [2.0379197, 48.87082495], [2.03453205, 48.87471878], [2.02775674, 48.87471878], [2.02436908, 48.87082495], [2.01759377, 48.87082495], [2.01420612, 48.87471878], [2.00743081, 48.87471878], [2.00404315, 48.87861261], [1.99726784, 48.87861261], [1.99388018, 48.88250644], [1.98710487, 48.88250644], [1.98371722, 48.87861261], [1.98710487, 48.87471878], [1.99388018, 48.87471878], [1.99726784, 48.87082495], [1.99388018, 48.86693112], [1.98710487, 48.86693112], [1.98371722, 48.86303729], [1.98710487, 48.85914346], [1.98371722, 48.85524963], [1.98710487, 48.8513558], [1.98371722, 48.84746197], [1.98710487, 48.84356814], [1.98371722, 48.83967432], [1.98710487, 48.83578049], [1.98371722, 48.83188666], [1.98710487, 48.82799283], [1.99388018, 48.82799283], [1.99726784, 48.83188666], [2.00404315, 48.83188666], [2.00743081, 48.83578049], [2.01420612, 48.83578049], [2.01759377, 48.83188666], [2.01420612, 48.82799283], [2.00743081, 48.82799283], [2.00404315, 48.824099], [2.00743081, 48.82020517], [2.00404315, 48.81631134], [1.99726784, 48.81631134], [1.99388018, 48.82020517], [1.98710487, 48.82020517], [1.98371722, 48.81631134], [1.98710487, 48.81241751], [1.99388018, 48.81241751], [1.99726784, 48.80852368]], [[2.01759377, 48.81631134], [2.01420612, 48.82020517], [2.01759377, 48.824099], [2.02436908, 48.824099], [2.02775674, 48.82799283], [2.03453205, 48.82799283], [2.0379197, 48.824099], [2.03453205, 48.82020517], [2.02775674, 48.82020517], [2.02436908, 48.81631134]], [[2.01759377, 48.83967432], [2.01420612, 48.84356814], [2.01759377, 48.84746197], [2.02436908, 48.84746197], [2.02775674, 48.84356814], [2.02436908, 48.83967432]]], [[[1.98710487, 48.91365707], [1.98371722, 48.90976324], [1.98710487, 48.90586941], [1.99388018, 48.90586941], [1.99726784, 48.90197558], [2.00404315, 48.90197558], [2.00743081, 48.89808175], [2.01420612, 48.89808175], [2.01759377, 48.89418792], [2.02436908, 48.89418792], [2.02775674, 48.89029409], [2.03453205, 48.89029409], [2.0379197, 48.88640026], [2.04469501, 48.88640026], [2.04808267, 48.88250644], [2.05485798, 48.88250644], [2.05824564, 48.87861261], [2.05485798, 48.87471878], [2.05824564, 48.87082495], [2.05485798, 48.86693112], [2.05824564, 48.86303729], [2.06502095, 48.86303729], [2.0684086, 48.86693112], [2.06502095, 48.87082495], [2.0684086, 48.87471878], [2.07518391, 48.87471878], [2.07857157, 48.87861261], [2.07518391, 48.88250644], [2.0684086, 48.88250644], [2.06502095, 48.88640026], [2.05824564, 48.88640026], [2.05485798, 48.89029409], [2.05824564, 48.89418792], [2.05485798, 48.89808175], [2.04808267, 48.89808175], [2.04469501, 48.89418792], [2.0379197, 48.89418792], [2.03453205, 48.89808175], [2.02775674, 48.89808175], [2.02436908, 48.90197558], [2.02775674, 48.90586941], [2.02436908, 48.90976324], [2.01759377, 48.90976324], [2.01420612, 48.91365707], [2.00743081, 48.91365707], [2.00404315, 48.9175509], [2.00743081, 48.92144473], [2.01420612, 48.92144473], [2.01759377, 48.92533856], [2.01420612, 48.92923238], [2.00743081, 48.92923238], [2.00404315, 48.92533856], [1.99726784, 48.92533856], [1.99388018, 48.92923238], [1.98710487, 48.92923238], [1.98371722, 48.92533856], [1.98710487, 48.92144473], [1.98371722, 48.9175509]]], [[[2.02436908, 48.57489394], [2.01759377, 48.57489394], [2.01420612, 48.57100011], [2.01759377, 48.56710628], [2.02436908, 48.56710628], [2.02775674, 48.57100011], [2.03453205, 48.57100011], [2.0379197, 48.56710628], [2.04469501, 48.56710628], [2.04808267, 48.57100011], [2.04469501, 48.57489394], [2.0379197, 48.57489394], [2.03453205, 48.57878777], [2.02775674, 48.57878777]]], [[[2.0379197, 48.78516071], [2.03453205, 48.78905454], [2.02775674, 48.78905454], [2.02436908, 48.78516071], [2.02775674, 48.78126688], [2.03453205, 48.78126688]]], [[[2.04808267, 48.7033903], [2.04469501, 48.70728413], [2.0379197, 48.70728413], [2.03453205, 48.7033903], [2.0379197, 48.69949647], [2.04469501, 48.69949647]]], [[[2.05485798, 48.92144473], [2.04808267, 48.92144473], [2.04469501, 48.9175509], [2.04808267, 48.91365707], [2.05485798, 48.91365707], [2.05824564, 48.90976324], [2.06502095, 48.90976324], [2.0684086, 48.90586941], [2.07518391, 48.90586941], [2.07857157, 48.90976324], [2.07518391, 48.91365707], [2.07857157, 48.9175509], [2.08534688, 48.9175509], [2.08873453, 48.91365707], [2.09550984, 48.91365707], [2.0988975, 48.90976324], [2.10567281, 48.90976324], [2.10906047, 48.91365707], [2.10567281, 48.9175509], [2.10906047, 48.92144473], [2.11583578, 48.92144473], [2.11922343, 48.9175509], [2.12599874, 48.9175509], [2.1293864, 48.91365707], [2.13616171, 48.91365707], [2.13954936, 48.9175509], [2.14632467, 48.9175509], [2.14971233, 48.92144473], [2.15648764, 48.92144473], [2.1598753, 48.92533856], [2.15648764, 48.92923238], [2.14971233, 48.92923238], [2.14632467, 48.92533856], [2.13954936, 48.92533856], [2.13616171, 48.92144473], [2.1293864, 48.92144473], [2.12599874, 48.92533856], [2.11922343, 48.92533856], [2.11583578, 48.92923238], [2.10906047, 48.92923238], [2.10567281, 48.92533856], [2.0988975, 48.92533856], [2.09550984, 48.92923238], [2.08873453, 48.92923238], [2.08534688, 48.92533856], [2.07857157, 48.92533856], [2.07518391, 48.92144473], [2.0684086, 48.92144473], [2.06502095, 48.92533856], [2.05824564, 48.92533856]]], [[[2.07857157, 48.78516071], [2.07518391, 48.78905454], [2.0684086, 48.78905454], [2.06502095, 48.78516071], [2.0684086, 48.78126688], [2.07518391, 48.78126688], [2.07857157, 48.77737305], [2.08534688, 48.77737305], [2.08873453, 48.78126688], [2.08534688, 48.78516071]]], [[[2.08534688, 48.70728413], [2.07857157, 48.70728413], [2.07518391, 48.7033903], [2.07857157, 48.69949647], [2.08534688, 48.69949647], [2.08873453, 48.7033903], [2.09550984, 48.7033903], [2.0988975, 48.70728413], [2.09550984, 48.71117796], [2.08873453, 48.71117796]]], [[[2.08873453, 48.75011625], [2.08534688, 48.75401008], [2.08873453, 48.7579039], [2.08534688, 48.76179773], [2.07857157, 48.76179773], [2.07518391, 48.7579039], [2.07857157, 48.75401008], [2.07518391, 48.75011625], [2.07857157, 48.74622242], [2.08534688, 48.74622242]]], [[[2.08873453, 48.7968422], [2.08534688, 48.80073602], [2.07857157, 48.80073602], [2.07518391, 48.7968422], [2.07857157, 48.79294837], [2.08534688, 48.79294837]]], [[[2.07857157, 48.86303729], [2.07518391, 48.85914346], [2.07857157, 48.85524963], [2.08534688, 48.85524963], [2.08873453, 48.8513558], [2.09550984, 48.8513558], [2.0988975, 48.85524963], [2.09550984, 48.85914346], [2.0988975, 48.86303729], [2.09550984, 48.86693112], [2.08873453, 48.86693112], [2.08534688, 48.87082495], [2.07857157, 48.87082495], [2.07518391, 48.86693112]]], [[[2.0988975, 48.83188666], [2.09550984, 48.83578049], [2.08873453, 48.83578049], [2.08534688, 48.83188666], [2.08873453, 48.82799283], [2.09550984, 48.82799283], [2.0988975, 48.824099], [2.10567281, 48.824099], [2.10906047, 48.82020517], [2.11583578, 48.82020517], [2.11922343, 48.824099], [2.11583578, 48.82799283], [2.10906047, 48.82799283], [2.10567281, 48.83188666]]], [[[2.10906047, 48.75011625], [2.10567281, 48.75401008], [2.0988975, 48.75401008], [2.09550984, 48.75011625], [2.0988975, 48.74622242], [2.10567281, 48.74622242]]], [[[2.10906047, 48.76569156], [2.10567281, 48.76958539], [2.0988975, 48.76958539], [2.09550984, 48.76569156], [2.0988975, 48.76179773], [2.10567281, 48.76179773], [2.10906047, 48.7579039], [2.11583578, 48.7579039], [2.11922343, 48.76179773], [2.11583578, 48.76569156]]], [[[2.10906047, 48.84356814], [2.10567281, 48.84746197], [2.0988975, 48.84746197], [2.09550984, 48.84356814], [2.0988975, 48.83967432], [2.10567281, 48.83967432]]], [[[2.11922343, 48.69949647], [2.11583578, 48.7033903], [2.11922343, 48.70728413], [2.12599874, 48.70728413], [2.1293864, 48.71117796], [2.12599874, 48.71507178], [2.1293864, 48.71896561], [2.13616171, 48.71896561], [2.13954936, 48.72285944], [2.13616171, 48.72675327], [2.1293864, 48.72675327], [2.12599874, 48.72285944], [2.11922343, 48.72285944], [2.11583578, 48.72675327], [2.10906047, 48.72675327], [2.10567281, 48.72285944], [2.10906047, 48.71896561], [2.10567281, 48.71507178], [2.10906047, 48.71117796], [2.10567281, 48.70728413], [2.10906047, 48.7033903], [2.10567281, 48.69949647], [2.10906047, 48.69560264], [2.11583578, 48.69560264]]], [[[2.11922343, 48.77737305], [2.11583578, 48.78126688], [2.10906047, 48.78126688], [2.10567281, 48.77737305], [2.10906047, 48.77347922], [2.11583578, 48.77347922]]], [[[2.11922343, 48.88640026], [2.11583578, 48.89029409], [2.10906047, 48.89029409], [2.10567281, 48.88640026], [2.10906047, 48.88250644], [2.11583578, 48.88250644]]], [[[2.1293864, 48.86693112], [2.12599874, 48.87082495], [2.1293864, 48.87471878], [2.12599874, 48.87861261], [2.11922343, 48.87861261], [2.11583578, 48.87471878], [2.11922343, 48.87082495], [2.11583578, 48.86693112], [2.11922343, 48.86303729], [2.12599874, 48.86303729]]], [[[2.1293864, 48.68781498], [2.12599874, 48.68392115], [2.1293864, 48.68002732], [2.13616171, 48.68002732], [2.13954936, 48.68392115], [2.14632467, 48.68392115], [2.14971233, 48.68781498], [2.14632467, 48.69170881], [2.13954936, 48.69170881], [2.13616171, 48.69560264], [2.1293864, 48.69560264], [2.12599874, 48.69170881]]], [[[2.13954936, 48.74622242], [2.13616171, 48.75011625], [2.13954936, 48.75401008], [2.13616171, 48.7579039], [2.1293864, 48.7579039], [2.12599874, 48.75401008], [2.1293864, 48.75011625], [2.12599874, 48.74622242], [2.1293864, 48.74232859], [2.13616171, 48.74232859]]], [[[2.14971233, 48.7033903], [2.14632467, 48.70728413], [2.13954936, 48.70728413], [2.13616171, 48.7033903], [2.13954936, 48.69949647], [2.14632467, 48.69949647]]], [[[2.1598753, 48.73843476], [2.15648764, 48.74232859], [2.1598753, 48.74622242], [2.15648764, 48.75011625], [2.1598753, 48.75401008], [2.16665061, 48.75401008], [2.17003826, 48.7579039], [2.16665061, 48.76179773], [2.1598753, 48.76179773], [2.15648764, 48.7579039], [2.14971233, 48.7579039], [2.14632467, 48.75401008], [2.14971233, 48.75011625], [2.14632467, 48.74622242], [2.14971233, 48.74232859], [2.14632467, 48.73843476], [2.14971233, 48.73454093], [2.15648764, 48.73454093]]], [[[2.17003826, 48.71896561], [2.16665061, 48.72285944], [2.1598753, 48.72285944], [2.15648764, 48.71896561], [2.1598753, 48.71507178], [2.16665061, 48.71507178]]], [[[2.18020123, 48.83188666], [2.17681357, 48.83578049], [2.17003826, 48.83578049], [2.16665061, 48.83188666], [2.17003826, 48.82799283], [2.17681357, 48.82799283]]], [[[2.18697654, 48.73843476], [2.18020123, 48.73843476], [2.17681357, 48.73454093], [2.18020123, 48.7306471], [2.18697654, 48.7306471], [2.19036419, 48.73454093], [2.1971395, 48.73454093], [2.20052716, 48.73843476], [2.1971395, 48.74232859], [2.19036419, 48.74232859]]], [[[2.21069013, 48.72675327], [2.20730247, 48.7306471], [2.20052716, 48.7306471], [2.1971395, 48.72675327], [2.20052716, 48.72285944], [2.20730247, 48.72285944], [2.21069013, 48.71896561], [2.20730247, 48.71507178], [2.21069013, 48.71117796], [2.21746544, 48.71117796], [2.22085309, 48.71507178], [2.21746544, 48.71896561], [2.22085309, 48.72285944], [2.21746544, 48.72675327]]], [[[2.2276284, 48.76179773], [2.22085309, 48.76179773], [2.21746544, 48.7579039], [2.22085309, 48.75401008], [2.2276284, 48.75401008], [2.23101606, 48.7579039], [2.23779137, 48.7579039], [2.24117902, 48.75401008], [2.24795434, 48.75401008], [2.25134199, 48.75011625], [2.2581173, 48.75011625], [2.26150496, 48.75401008], [2.2581173, 48.7579039], [2.25134199, 48.7579039], [2.24795434, 48.76179773], [2.25134199, 48.76569156], [2.24795434, 48.76958539], [2.24117902, 48.76958539], [2.23779137, 48.76569156], [2.23101606, 48.76569156]]], [[[2.23101606, 48.80462985], [2.2276284, 48.80852368], [2.22085309, 48.80852368], [2.21746544, 48.80462985], [2.22085309, 48.80073602], [2.2276284, 48.80073602]]], [[[2.24117902, 48.69170881], [2.23779137, 48.69560264], [2.23101606, 48.69560264], [2.2276284, 48.69170881], [2.23101606, 48.68781498], [2.23779137, 48.68781498]]], [[[2.25134199, 48.68002732], [2.24795434, 48.67613349], [2.25134199, 48.67223966], [2.2581173, 48.67223966], [2.26150496, 48.67613349], [2.26828027, 48.67613349], [2.27166792, 48.68002732], [2.26828027, 48.68392115], [2.26150496, 48.68392115], [2.2581173, 48.68781498], [2.25134199, 48.68781498], [2.24795434, 48.68392115]]], [[[2.27166792, 48.60215074], [2.26828027, 48.60604457], [2.26150496, 48.60604457], [2.2581173, 48.60215074], [2.26150496, 48.59825691], [2.26828027, 48.59825691]]], [[[2.27844323, 48.62551372], [2.27166792, 48.62551372], [2.26828027, 48.62161989], [2.27166792, 48.61772606], [2.27844323, 48.61772606], [2.28183089, 48.61383223], [2.2886062, 48.61383223], [2.29199385, 48.61772606], [2.2886062, 48.62161989], [2.29199385, 48.62551372], [2.2886062, 48.62940754], [2.28183089, 48.62940754]]], [[[2.2886062, 48.57489394], [2.28183089, 48.57489394], [2.27844323, 48.57100011], [2.28183089, 48.56710628], [2.2886062, 48.56710628], [2.29199385, 48.57100011], [2.29876917, 48.57100011], [2.30215682, 48.56710628], [2.30893213, 48.56710628], [2.31231979, 48.57100011], [2.30893213, 48.57489394], [2.31231979, 48.57878777], [2.30893213, 48.5826816], [2.30215682, 48.5826816], [2.29876917, 48.58657542], [2.29199385, 48.58657542], [2.2886062, 48.59046925], [2.29199385, 48.59436308], [2.2886062, 48.59825691], [2.28183089, 48.59825691], [2.27844323, 48.59436308], [2.28183089, 48.59046925], [2.27844323, 48.58657542], [2.28183089, 48.5826816], [2.2886062, 48.5826816], [2.29199385, 48.57878777]]], [[[2.30215682, 48.66055818], [2.29876917, 48.66445201], [2.29199385, 48.66445201], [2.2886062, 48.66055818], [2.29199385, 48.65666435], [2.29876917, 48.65666435]]], [[[2.32248275, 48.59825691], [2.3190951, 48.60215074], [2.31231979, 48.60215074], [2.30893213, 48.59825691], [2.31231979, 48.59436308], [2.3190951, 48.59436308]]], [[[2.33264572, 48.57100011], [2.32925806, 48.57489394], [2.32248275, 48.57489394], [2.3190951, 48.57100011], [2.32248275, 48.56710628], [2.32925806, 48.56710628]]], [[[2.33264572, 48.61772606], [2.32925806, 48.62161989], [2.32248275, 48.62161989], [2.3190951, 48.61772606], [2.32248275, 48.61383223], [2.32925806, 48.61383223], [2.33264572, 48.6099384], [2.33942103, 48.6099384], [2.34280869, 48.61383223], [2.33942103, 48.61772606]]], [[[2.33264572, 48.71896561], [2.32925806, 48.72285944], [2.32248275, 48.72285944], [2.3190951, 48.71896561], [2.32248275, 48.71507178], [2.32925806, 48.71507178], [2.33264572, 48.71117796], [2.33942103, 48.71117796], [2.34280869, 48.71507178], [2.33942103, 48.71896561]]], [[[2.33942103, 48.60215074], [2.33264572, 48.60215074], [2.32925806, 48.59825691], [2.33264572, 48.59436308], [2.33942103, 48.59436308], [2.34280869, 48.59046925], [2.349584, 48.59046925], [2.35297165, 48.59436308], [2.35974696, 48.59436308], [2.36313462, 48.59046925], [2.35974696, 48.58657542], [2.35297165, 48.58657542], [2.349584, 48.5826816], [2.34280869, 48.5826816], [2.33942103, 48.57878777], [2.34280869, 48.57489394], [2.33942103, 48.57100011], [2.34280869, 48.56710628], [2.349584, 48.56710628], [2.35297165, 48.57100011], [2.35974696, 48.57100011], [2.36313462, 48.56710628], [2.36990993, 48.56710628], [2.37329758, 48.57100011], [2.36990993, 48.57489394], [2.37329758, 48.57878777], [2.36990993, 48.5826816], [2.37329758, 48.58657542], [2.36990993, 48.59046925], [2.37329758, 48.59436308], [2.38007289, 48.59436308], [2.38346055, 48.59825691], [2.38007289, 48.60215074], [2.38346055, 48.60604457], [2.38007289, 48.6099384], [2.37329758, 48.6099384], [2.36990993, 48.61383223], [2.37329758, 48.61772606], [2.36990993, 48.62161989], [2.36313462, 48.62161989], [2.35974696, 48.61772606], [2.35297165, 48.61772606], [2.349584, 48.61383223], [2.35297165, 48.6099384], [2.349584, 48.60604457], [2.34280869, 48.60604457]], [[2.36313462, 48.59825691], [2.35974696, 48.60215074], [2.36313462, 48.60604457], [2.36990993, 48.60604457], [2.37329758, 48.60215074], [2.36990993, 48.59825691]]], [[[2.37329758, 48.63330137], [2.36990993, 48.6371952], [2.36313462, 48.6371952], [2.35974696, 48.63330137], [2.36313462, 48.62940754], [2.36990993, 48.62940754]]], [[[2.37329758, 48.75011625], [2.36990993, 48.75401008], [2.36313462, 48.75401008], [2.35974696, 48.75011625], [2.36313462, 48.74622242], [2.36990993, 48.74622242]]], [[[2.38346055, 48.64498286], [2.38007289, 48.64887669], [2.37329758, 48.64887669], [2.36990993, 48.64498286], [2.37329758, 48.64108903], [2.38007289, 48.64108903]]], [[[2.38346055, 48.72285944], [2.38007289, 48.72675327], [2.37329758, 48.72675327], [2.36990993, 48.72285944], [2.37329758, 48.71896561], [2.38007289, 48.71896561]]], [[[2.38346055, 48.73843476], [2.38007289, 48.74232859], [2.37329758, 48.74232859], [2.36990993, 48.73843476], [2.37329758, 48.73454093], [2.38007289, 48.73454093]]]], &quot;properties&quot;: {&quot;velocityScore.avg&quot;: 3.0}, &quot;type&quot;: &quot;MultiPolygon&quot;}, &quot;id&quot;: &quot;0&quot;, &quot;type&quot;: &quot;Feature&quot;}], &quot;type&quot;: &quot;FeatureCollection&quot;});\n",
       "\n",
       "        \n",
       "    \n",
       "            var choropleth_bb8235597386104b9367591603f18d00 = L.featureGroup(\n",
       "                {}\n",
       "            ).addTo(map_aa652676ef7f1678f616f3d3e1cc4a04);\n",
       "        \n",
       "    \n",
       "        function geo_json_635f60ee163c2a54d3d9aa8406bee503_styler(feature) {\n",
       "            switch(feature.id) {\n",
       "                default:\n",
       "                    return {&quot;color&quot;: &quot;#fdae6b&quot;, &quot;fillColor&quot;: &quot;#fdae6b&quot;, &quot;fillOpacity&quot;: 0.6, &quot;opacity&quot;: 0, &quot;weight&quot;: 2};\n",
       "            }\n",
       "        }\n",
       "\n",
       "        function geo_json_635f60ee163c2a54d3d9aa8406bee503_onEachFeature(feature, layer) {\n",
       "            layer.on({\n",
       "            });\n",
       "        };\n",
       "        var geo_json_635f60ee163c2a54d3d9aa8406bee503 = L.geoJson(null, {\n",
       "                onEachFeature: geo_json_635f60ee163c2a54d3d9aa8406bee503_onEachFeature,\n",
       "            \n",
       "                style: geo_json_635f60ee163c2a54d3d9aa8406bee503_styler,\n",
       "        });\n",
       "\n",
       "        function geo_json_635f60ee163c2a54d3d9aa8406bee503_add (data) {\n",
       "            geo_json_635f60ee163c2a54d3d9aa8406bee503\n",
       "                .addData(data)\n",
       "                .addTo(choropleth_bb8235597386104b9367591603f18d00);\n",
       "        }\n",
       "            geo_json_635f60ee163c2a54d3d9aa8406bee503_add({&quot;features&quot;: [{&quot;geometry&quot;: {&quot;coordinates&quot;: [[[[1.99388018, 48.78126688], [1.98710487, 48.78126688], [1.98371722, 48.77737305], [1.98710487, 48.77347922], [1.99388018, 48.77347922], [1.99726784, 48.76958539], [2.00404315, 48.76958539], [2.00743081, 48.76569156], [2.01420612, 48.76569156], [2.01759377, 48.76179773], [2.01420612, 48.7579039], [2.01759377, 48.75401008], [2.02436908, 48.75401008], [2.02775674, 48.75011625], [2.03453205, 48.75011625], [2.0379197, 48.75401008], [2.04469501, 48.75401008], [2.04808267, 48.75011625], [2.05485798, 48.75011625], [2.05824564, 48.74622242], [2.06502095, 48.74622242], [2.0684086, 48.74232859], [2.07518391, 48.74232859], [2.07857157, 48.73843476], [2.07518391, 48.73454093], [2.07857157, 48.7306471], [2.07518391, 48.72675327], [2.07857157, 48.72285944], [2.08534688, 48.72285944], [2.08873453, 48.72675327], [2.08534688, 48.7306471], [2.08873453, 48.73454093], [2.08534688, 48.73843476], [2.08873453, 48.74232859], [2.08534688, 48.74622242], [2.07857157, 48.74622242], [2.07518391, 48.75011625], [2.0684086, 48.75011625], [2.06502095, 48.75401008], [2.0684086, 48.7579039], [2.06502095, 48.76179773], [2.05824564, 48.76179773], [2.05485798, 48.76569156], [2.04808267, 48.76569156], [2.04469501, 48.76958539], [2.0379197, 48.76958539], [2.03453205, 48.76569156], [2.02775674, 48.76569156], [2.02436908, 48.76958539], [2.02775674, 48.77347922], [2.02436908, 48.77737305], [2.01759377, 48.77737305], [2.01420612, 48.77347922], [2.00743081, 48.77347922], [2.00404315, 48.77737305], [2.00743081, 48.78126688], [2.00404315, 48.78516071], [1.99726784, 48.78516071]]], [[[1.99388018, 48.82799283], [1.98710487, 48.82799283], [1.98371722, 48.824099], [1.98710487, 48.82020517], [1.99388018, 48.82020517], [1.99726784, 48.81631134], [2.00404315, 48.81631134], [2.00743081, 48.82020517], [2.00404315, 48.824099], [2.00743081, 48.82799283], [2.01420612, 48.82799283], [2.01759377, 48.83188666], [2.01420612, 48.83578049], [2.00743081, 48.83578049], [2.00404315, 48.83188666], [1.99726784, 48.83188666]]], [[[2.01759377, 48.80852368], [2.01420612, 48.81241751], [2.00743081, 48.81241751], [2.00404315, 48.80852368], [2.00743081, 48.80462985], [2.01420612, 48.80462985], [2.01759377, 48.80073602], [2.02436908, 48.80073602], [2.02775674, 48.80462985], [2.03453205, 48.80462985], [2.0379197, 48.80852368], [2.03453205, 48.81241751], [2.02775674, 48.81241751], [2.02436908, 48.80852368]]], [[[2.01420612, 48.92144473], [2.00743081, 48.92144473], [2.00404315, 48.9175509], [2.00743081, 48.91365707], [2.01420612, 48.91365707], [2.01759377, 48.90976324], [2.02436908, 48.90976324], [2.02775674, 48.90586941], [2.02436908, 48.90197558], [2.02775674, 48.89808175], [2.03453205, 48.89808175], [2.0379197, 48.89418792], [2.04469501, 48.89418792], [2.04808267, 48.89808175], [2.05485798, 48.89808175], [2.05824564, 48.89418792], [2.05485798, 48.89029409], [2.05824564, 48.88640026], [2.06502095, 48.88640026], [2.0684086, 48.88250644], [2.07518391, 48.88250644], [2.07857157, 48.87861261], [2.07518391, 48.87471878], [2.0684086, 48.87471878], [2.06502095, 48.87082495], [2.0684086, 48.86693112], [2.06502095, 48.86303729], [2.0684086, 48.85914346], [2.07518391, 48.85914346], [2.07857157, 48.86303729], [2.07518391, 48.86693112], [2.07857157, 48.87082495], [2.08534688, 48.87082495], [2.08873453, 48.86693112], [2.09550984, 48.86693112], [2.0988975, 48.87082495], [2.09550984, 48.87471878], [2.0988975, 48.87861261], [2.10567281, 48.87861261], [2.10906047, 48.88250644], [2.10567281, 48.88640026], [2.10906047, 48.89029409], [2.11583578, 48.89029409], [2.11922343, 48.89418792], [2.11583578, 48.89808175], [2.11922343, 48.90197558], [2.12599874, 48.90197558], [2.1293864, 48.90586941], [2.13616171, 48.90586941], [2.13954936, 48.90976324], [2.14632467, 48.90976324], [2.14971233, 48.91365707], [2.15648764, 48.91365707], [2.1598753, 48.90976324], [2.15648764, 48.90586941], [2.14971233, 48.90586941], [2.14632467, 48.90197558], [2.14971233, 48.89808175], [2.15648764, 48.89808175], [2.1598753, 48.89418792], [2.16665061, 48.89418792], [2.17003826, 48.89808175], [2.16665061, 48.90197558], [2.17003826, 48.90586941], [2.16665061, 48.90976324], [2.17003826, 48.91365707], [2.16665061, 48.9175509], [2.17003826, 48.92144473], [2.17681357, 48.92144473], [2.18020123, 48.92533856], [2.17681357, 48.92923238], [2.17003826, 48.92923238], [2.16665061, 48.92533856], [2.1598753, 48.92533856], [2.15648764, 48.92144473], [2.14971233, 48.92144473], [2.14632467, 48.9175509], [2.13954936, 48.9175509], [2.13616171, 48.91365707], [2.1293864, 48.91365707], [2.12599874, 48.9175509], [2.11922343, 48.9175509], [2.11583578, 48.92144473], [2.10906047, 48.92144473], [2.10567281, 48.9175509], [2.10906047, 48.91365707], [2.11583578, 48.91365707], [2.11922343, 48.90976324], [2.11583578, 48.90586941], [2.10906047, 48.90586941], [2.10567281, 48.90976324], [2.0988975, 48.90976324], [2.09550984, 48.91365707], [2.08873453, 48.91365707], [2.08534688, 48.9175509], [2.07857157, 48.9175509], [2.07518391, 48.91365707], [2.07857157, 48.90976324], [2.08534688, 48.90976324], [2.08873453, 48.90586941], [2.09550984, 48.90586941], [2.0988975, 48.90197558], [2.10567281, 48.90197558], [2.10906047, 48.89808175], [2.10567281, 48.89418792], [2.0988975, 48.89418792], [2.09550984, 48.89029409], [2.08873453, 48.89029409], [2.08534688, 48.88640026], [2.07857157, 48.88640026], [2.07518391, 48.89029409], [2.07857157, 48.89418792], [2.07518391, 48.89808175], [2.0684086, 48.89808175], [2.06502095, 48.90197558], [2.0684086, 48.90586941], [2.06502095, 48.90976324], [2.05824564, 48.90976324], [2.05485798, 48.90586941], [2.04808267, 48.90586941], [2.04469501, 48.90197558], [2.0379197, 48.90197558], [2.03453205, 48.90586941], [2.0379197, 48.90976324], [2.04469501, 48.90976324], [2.04808267, 48.91365707], [2.04469501, 48.9175509], [2.04808267, 48.92144473], [2.05485798, 48.92144473], [2.05824564, 48.92533856], [2.05485798, 48.92923238], [2.04808267, 48.92923238], [2.04469501, 48.92533856], [2.0379197, 48.92533856], [2.03453205, 48.92923238], [2.02775674, 48.92923238], [2.02436908, 48.92533856], [2.01759377, 48.92533856]]], [[[2.0379197, 48.69949647], [2.03453205, 48.7033903], [2.0379197, 48.70728413], [2.04469501, 48.70728413], [2.04808267, 48.7033903], [2.05485798, 48.7033903], [2.05824564, 48.69949647], [2.06502095, 48.69949647], [2.0684086, 48.7033903], [2.06502095, 48.70728413], [2.05824564, 48.70728413], [2.05485798, 48.71117796], [2.04808267, 48.71117796], [2.04469501, 48.71507178], [2.0379197, 48.71507178], [2.03453205, 48.71117796], [2.02775674, 48.71117796], [2.02436908, 48.70728413], [2.02775674, 48.7033903], [2.02436908, 48.69949647], [2.02775674, 48.69560264], [2.03453205, 48.69560264]]], [[[2.03453205, 48.7968422], [2.02775674, 48.7968422], [2.02436908, 48.79294837], [2.02775674, 48.78905454], [2.03453205, 48.78905454], [2.0379197, 48.79294837], [2.04469501, 48.79294837], [2.04808267, 48.78905454], [2.05485798, 48.78905454], [2.05824564, 48.78516071], [2.06502095, 48.78516071], [2.0684086, 48.78905454], [2.06502095, 48.79294837], [2.05824564, 48.79294837], [2.05485798, 48.7968422], [2.05824564, 48.80073602], [2.05485798, 48.80462985], [2.04808267, 48.80462985], [2.04469501, 48.80073602], [2.0379197, 48.80073602]]], [[[2.04808267, 48.74232859], [2.04469501, 48.74622242], [2.0379197, 48.74622242], [2.03453205, 48.74232859], [2.0379197, 48.73843476], [2.04469501, 48.73843476]]], [[[2.04469501, 48.87082495], [2.0379197, 48.87082495], [2.03453205, 48.86693112], [2.0379197, 48.86303729], [2.04469501, 48.86303729], [2.04808267, 48.85914346], [2.05485798, 48.85914346], [2.05824564, 48.86303729], [2.05485798, 48.86693112], [2.05824564, 48.87082495], [2.05485798, 48.87471878], [2.04808267, 48.87471878]]], [[[2.05824564, 48.81631134], [2.05485798, 48.82020517], [2.04808267, 48.82020517], [2.04469501, 48.81631134], [2.04808267, 48.81241751], [2.05485798, 48.81241751], [2.05824564, 48.80852368], [2.06502095, 48.80852368], [2.0684086, 48.80462985], [2.07518391, 48.80462985], [2.07857157, 48.80852368], [2.07518391, 48.81241751], [2.0684086, 48.81241751], [2.06502095, 48.81631134]]], [[[2.0684086, 48.84356814], [2.06502095, 48.84746197], [2.05824564, 48.84746197], [2.05485798, 48.84356814], [2.05824564, 48.83967432], [2.06502095, 48.83967432], [2.0684086, 48.83578049], [2.07518391, 48.83578049], [2.07857157, 48.83188666], [2.07518391, 48.82799283], [2.07857157, 48.824099], [2.08534688, 48.824099], [2.08873453, 48.82799283], [2.08534688, 48.83188666], [2.08873453, 48.83578049], [2.09550984, 48.83578049], [2.0988975, 48.83188666], [2.10567281, 48.83188666], [2.10906047, 48.83578049], [2.11583578, 48.83578049], [2.11922343, 48.83967432], [2.12599874, 48.83967432], [2.1293864, 48.84356814], [2.12599874, 48.84746197], [2.1293864, 48.8513558], [2.12599874, 48.85524963], [2.11922343, 48.85524963], [2.11583578, 48.85914346], [2.10906047, 48.85914346], [2.10567281, 48.86303729], [2.0988975, 48.86303729], [2.09550984, 48.85914346], [2.0988975, 48.85524963], [2.09550984, 48.8513558], [2.08873453, 48.8513558], [2.08534688, 48.84746197], [2.08873453, 48.84356814], [2.08534688, 48.83967432], [2.07857157, 48.83967432], [2.07518391, 48.84356814]], [[2.0988975, 48.83967432], [2.09550984, 48.84356814], [2.0988975, 48.84746197], [2.10567281, 48.84746197], [2.10906047, 48.84356814], [2.10567281, 48.83967432]]], [[[2.07857157, 48.62940754], [2.07518391, 48.63330137], [2.0684086, 48.63330137], [2.06502095, 48.62940754], [2.0684086, 48.62551372], [2.07518391, 48.62551372]]], [[[2.07857157, 48.64498286], [2.07518391, 48.64887669], [2.0684086, 48.64887669], [2.06502095, 48.64498286], [2.0684086, 48.64108903], [2.07518391, 48.64108903]]], [[[2.07857157, 48.71507178], [2.07518391, 48.71896561], [2.0684086, 48.71896561], [2.06502095, 48.71507178], [2.0684086, 48.71117796], [2.07518391, 48.71117796], [2.07857157, 48.70728413], [2.08534688, 48.70728413], [2.08873453, 48.71117796], [2.09550984, 48.71117796], [2.0988975, 48.70728413], [2.10567281, 48.70728413], [2.10906047, 48.71117796], [2.10567281, 48.71507178], [2.0988975, 48.71507178], [2.09550984, 48.71896561], [2.08873453, 48.71896561], [2.08534688, 48.71507178]]], [[[2.07857157, 48.76958539], [2.07518391, 48.77347922], [2.0684086, 48.77347922], [2.06502095, 48.76958539], [2.0684086, 48.76569156], [2.07518391, 48.76569156], [2.07857157, 48.76179773], [2.08534688, 48.76179773], [2.08873453, 48.76569156], [2.08534688, 48.76958539]]], [[[2.0988975, 48.62940754], [2.09550984, 48.63330137], [2.08873453, 48.63330137], [2.08534688, 48.62940754], [2.08873453, 48.62551372], [2.09550984, 48.62551372]]], [[[2.0988975, 48.69949647], [2.09550984, 48.7033903], [2.08873453, 48.7033903], [2.08534688, 48.69949647], [2.08873453, 48.69560264], [2.09550984, 48.69560264], [2.0988975, 48.69170881], [2.10567281, 48.69170881], [2.10906047, 48.68781498], [2.11583578, 48.68781498], [2.11922343, 48.68392115], [2.11583578, 48.68002732], [2.11922343, 48.67613349], [2.11583578, 48.67223966], [2.11922343, 48.66834584], [2.12599874, 48.66834584], [2.1293864, 48.67223966], [2.13616171, 48.67223966], [2.13954936, 48.67613349], [2.14632467, 48.67613349], [2.14971233, 48.67223966], [2.15648764, 48.67223966], [2.1598753, 48.67613349], [2.15648764, 48.68002732], [2.1598753, 48.68392115], [2.16665061, 48.68392115], [2.17003826, 48.68781498], [2.16665061, 48.69170881], [2.1598753, 48.69170881], [2.15648764, 48.68781498], [2.14971233, 48.68781498], [2.14632467, 48.68392115], [2.13954936, 48.68392115], [2.13616171, 48.68002732], [2.1293864, 48.68002732], [2.12599874, 48.68392115], [2.1293864, 48.68781498], [2.12599874, 48.69170881], [2.11922343, 48.69170881], [2.11583578, 48.69560264], [2.10906047, 48.69560264], [2.10567281, 48.69949647]]], [[[2.0988975, 48.78516071], [2.09550984, 48.78905454], [2.08873453, 48.78905454], [2.08534688, 48.78516071], [2.08873453, 48.78126688], [2.09550984, 48.78126688], [2.0988975, 48.77737305], [2.09550984, 48.77347922], [2.0988975, 48.76958539], [2.10567281, 48.76958539], [2.10906047, 48.77347922], [2.10567281, 48.77737305], [2.10906047, 48.78126688], [2.10567281, 48.78516071]]], [[[2.10906047, 48.68002732], [2.10567281, 48.68392115], [2.0988975, 48.68392115], [2.09550984, 48.68002732], [2.0988975, 48.67613349], [2.10567281, 48.67613349]]], [[[2.10567281, 48.7306471], [2.0988975, 48.7306471], [2.09550984, 48.72675327], [2.0988975, 48.72285944], [2.10567281, 48.72285944], [2.10906047, 48.72675327], [2.11583578, 48.72675327], [2.11922343, 48.72285944], [2.12599874, 48.72285944], [2.1293864, 48.72675327], [2.13616171, 48.72675327], [2.13954936, 48.7306471], [2.13616171, 48.73454093], [2.1293864, 48.73454093], [2.12599874, 48.73843476], [2.1293864, 48.74232859], [2.12599874, 48.74622242], [2.1293864, 48.75011625], [2.12599874, 48.75401008], [2.1293864, 48.7579039], [2.12599874, 48.76179773], [2.1293864, 48.76569156], [2.12599874, 48.76958539], [2.1293864, 48.77347922], [2.12599874, 48.77737305], [2.1293864, 48.78126688], [2.12599874, 48.78516071], [2.11922343, 48.78516071], [2.11583578, 48.78126688], [2.11922343, 48.77737305], [2.11583578, 48.77347922], [2.11922343, 48.76958539], [2.11583578, 48.76569156], [2.11922343, 48.76179773], [2.11583578, 48.7579039], [2.10906047, 48.7579039], [2.10567281, 48.75401008], [2.10906047, 48.75011625], [2.11583578, 48.75011625], [2.11922343, 48.74622242], [2.11583578, 48.74232859], [2.10906047, 48.74232859], [2.10567281, 48.74622242], [2.0988975, 48.74622242], [2.09550984, 48.74232859], [2.0988975, 48.73843476], [2.10567281, 48.73843476], [2.10906047, 48.73454093]]], [[[2.0988975, 48.80073602], [2.09550984, 48.7968422], [2.0988975, 48.79294837], [2.10567281, 48.79294837], [2.10906047, 48.78905454], [2.11583578, 48.78905454], [2.11922343, 48.79294837], [2.11583578, 48.7968422], [2.11922343, 48.80073602], [2.11583578, 48.80462985], [2.11922343, 48.80852368], [2.11583578, 48.81241751], [2.10906047, 48.81241751], [2.10567281, 48.80852368], [2.0988975, 48.80852368], [2.09550984, 48.80462985]]], [[[2.11922343, 48.87082495], [2.11583578, 48.87471878], [2.10906047, 48.87471878], [2.10567281, 48.87082495], [2.10906047, 48.86693112], [2.11583578, 48.86693112]]], [[[2.12599874, 48.62161989], [2.11922343, 48.62161989], [2.11583578, 48.61772606], [2.11922343, 48.61383223], [2.12599874, 48.61383223], [2.1293864, 48.61772606], [2.13616171, 48.61772606], [2.13954936, 48.62161989], [2.13616171, 48.62551372], [2.1293864, 48.62551372]]], [[[2.12599874, 48.70728413], [2.11922343, 48.70728413], [2.11583578, 48.7033903], [2.11922343, 48.69949647], [2.12599874, 48.69949647], [2.1293864, 48.7033903], [2.13616171, 48.7033903], [2.13954936, 48.70728413], [2.14632467, 48.70728413], [2.14971233, 48.71117796], [2.15648764, 48.71117796], [2.1598753, 48.71507178], [2.15648764, 48.71896561], [2.14971233, 48.71896561], [2.14632467, 48.71507178], [2.13954936, 48.71507178], [2.13616171, 48.71896561], [2.1293864, 48.71896561], [2.12599874, 48.71507178], [2.1293864, 48.71117796]]], [[[2.1293864, 48.88250644], [2.12599874, 48.88640026], [2.11922343, 48.88640026], [2.11583578, 48.88250644], [2.11922343, 48.87861261], [2.12599874, 48.87861261], [2.1293864, 48.87471878], [2.12599874, 48.87082495], [2.1293864, 48.86693112], [2.13616171, 48.86693112], [2.13954936, 48.87082495], [2.13616171, 48.87471878], [2.13954936, 48.87861261], [2.13616171, 48.88250644]]], [[[2.13954936, 48.92533856], [2.13616171, 48.92923238], [2.1293864, 48.92923238], [2.12599874, 48.92533856], [2.1293864, 48.92144473], [2.13616171, 48.92144473]]], [[[2.14632467, 48.69949647], [2.13954936, 48.69949647], [2.13616171, 48.69560264], [2.13954936, 48.69170881], [2.14632467, 48.69170881], [2.14971233, 48.69560264], [2.15648764, 48.69560264], [2.1598753, 48.69949647], [2.16665061, 48.69949647], [2.17003826, 48.7033903], [2.16665061, 48.70728413], [2.1598753, 48.70728413], [2.15648764, 48.7033903], [2.14971233, 48.7033903]]], [[[2.14971233, 48.76569156], [2.14632467, 48.76958539], [2.13954936, 48.76958539], [2.13616171, 48.76569156], [2.13954936, 48.76179773], [2.14632467, 48.76179773]]], [[[2.14632467, 48.78516071], [2.13954936, 48.78516071], [2.13616171, 48.78126688], [2.13954936, 48.77737305], [2.14632467, 48.77737305], [2.14971233, 48.77347922], [2.15648764, 48.77347922], [2.1598753, 48.76958539], [2.16665061, 48.76958539], [2.17003826, 48.77347922], [2.16665061, 48.77737305], [2.1598753, 48.77737305], [2.15648764, 48.78126688], [2.1598753, 48.78516071], [2.16665061, 48.78516071], [2.17003826, 48.78905454], [2.16665061, 48.79294837], [2.1598753, 48.79294837], [2.15648764, 48.78905454], [2.14971233, 48.78905454]]], [[[2.15648764, 48.82799283], [2.14971233, 48.82799283], [2.14632467, 48.824099], [2.14971233, 48.82020517], [2.15648764, 48.82020517], [2.1598753, 48.824099], [2.16665061, 48.824099], [2.17003826, 48.82799283], [2.16665061, 48.83188666], [2.17003826, 48.83578049], [2.16665061, 48.83967432], [2.1598753, 48.83967432], [2.15648764, 48.83578049], [2.1598753, 48.83188666]]], [[[2.14971233, 48.8513558], [2.14632467, 48.84746197], [2.14971233, 48.84356814], [2.15648764, 48.84356814], [2.1598753, 48.84746197], [2.16665061, 48.84746197], [2.17003826, 48.84356814], [2.17681357, 48.84356814], [2.18020123, 48.84746197], [2.18697654, 48.84746197], [2.19036419, 48.8513558], [2.18697654, 48.85524963], [2.18020123, 48.85524963], [2.17681357, 48.85914346], [2.18020123, 48.86303729], [2.17681357, 48.86693112], [2.17003826, 48.86693112], [2.16665061, 48.87082495], [2.1598753, 48.87082495], [2.15648764, 48.87471878], [2.14971233, 48.87471878], [2.14632467, 48.87082495], [2.14971233, 48.86693112], [2.15648764, 48.86693112], [2.1598753, 48.86303729], [2.15648764, 48.85914346], [2.14971233, 48.85914346], [2.14632467, 48.85524963]]], [[[2.16665061, 48.74622242], [2.1598753, 48.74622242], [2.15648764, 48.74232859], [2.1598753, 48.73843476], [2.16665061, 48.73843476], [2.17003826, 48.74232859], [2.17681357, 48.74232859], [2.18020123, 48.74622242], [2.18697654, 48.74622242], [2.19036419, 48.75011625], [2.1971395, 48.75011625], [2.20052716, 48.75401008], [2.20730247, 48.75401008], [2.21069013, 48.7579039], [2.21746544, 48.7579039], [2.22085309, 48.76179773], [2.2276284, 48.76179773], [2.23101606, 48.76569156], [2.23779137, 48.76569156], [2.24117902, 48.76958539], [2.23779137, 48.77347922], [2.23101606, 48.77347922], [2.2276284, 48.76958539], [2.22085309, 48.76958539], [2.21746544, 48.76569156], [2.21069013, 48.76569156], [2.20730247, 48.76958539], [2.20052716, 48.76958539], [2.1971395, 48.76569156], [2.20052716, 48.76179773], [2.1971395, 48.7579039], [2.19036419, 48.7579039], [2.18697654, 48.75401008], [2.18020123, 48.75401008], [2.17681357, 48.75011625], [2.17003826, 48.75011625]]], [[[2.18020123, 48.67613349], [2.17681357, 48.68002732], [2.17003826, 48.68002732], [2.16665061, 48.67613349], [2.17003826, 48.67223966], [2.17681357, 48.67223966], [2.18020123, 48.66834584], [2.18697654, 48.66834584], [2.19036419, 48.66445201], [2.1971395, 48.66445201], [2.20052716, 48.66834584], [2.20730247, 48.66834584], [2.21069013, 48.66445201], [2.21746544, 48.66445201], [2.22085309, 48.66055818], [2.2276284, 48.66055818], [2.23101606, 48.66445201], [2.2276284, 48.66834584], [2.23101606, 48.67223966], [2.23779137, 48.67223966], [2.24117902, 48.66834584], [2.24795434, 48.66834584], [2.25134199, 48.67223966], [2.24795434, 48.67613349], [2.24117902, 48.67613349], [2.23779137, 48.68002732], [2.23101606, 48.68002732], [2.2276284, 48.68392115], [2.22085309, 48.68392115], [2.21746544, 48.68002732], [2.21069013, 48.68002732], [2.20730247, 48.67613349], [2.20052716, 48.67613349], [2.1971395, 48.68002732], [2.19036419, 48.68002732], [2.18697654, 48.67613349]]], [[[2.17681357, 48.72675327], [2.17003826, 48.72675327], [2.16665061, 48.72285944], [2.17003826, 48.71896561], [2.17681357, 48.71896561], [2.18020123, 48.72285944], [2.18697654, 48.72285944], [2.19036419, 48.71896561], [2.1971395, 48.71896561], [2.20052716, 48.71507178], [2.20730247, 48.71507178], [2.21069013, 48.71896561], [2.20730247, 48.72285944], [2.20052716, 48.72285944], [2.1971395, 48.72675327], [2.20052716, 48.7306471], [2.20730247, 48.7306471], [2.21069013, 48.72675327], [2.21746544, 48.72675327], [2.22085309, 48.72285944], [2.2276284, 48.72285944], [2.23101606, 48.72675327], [2.2276284, 48.7306471], [2.22085309, 48.7306471], [2.21746544, 48.73454093], [2.22085309, 48.73843476], [2.21746544, 48.74232859], [2.21069013, 48.74232859], [2.20730247, 48.73843476], [2.20052716, 48.73843476], [2.1971395, 48.73454093], [2.19036419, 48.73454093], [2.18697654, 48.7306471], [2.18020123, 48.7306471]]], [[[2.19036419, 48.76569156], [2.18697654, 48.76958539], [2.19036419, 48.77347922], [2.18697654, 48.77737305], [2.18020123, 48.77737305], [2.17681357, 48.77347922], [2.18020123, 48.76958539], [2.17681357, 48.76569156], [2.18020123, 48.76179773], [2.18697654, 48.76179773]]], [[[2.18697654, 48.90976324], [2.18020123, 48.90976324], [2.17681357, 48.90586941], [2.18020123, 48.90197558], [2.18697654, 48.90197558], [2.19036419, 48.90586941], [2.1971395, 48.90586941], [2.20052716, 48.90976324], [2.20730247, 48.90976324], [2.21069013, 48.91365707], [2.21746544, 48.91365707], [2.22085309, 48.9175509], [2.21746544, 48.92144473], [2.21069013, 48.92144473], [2.20730247, 48.92533856], [2.20052716, 48.92533856], [2.1971395, 48.92923238], [2.19036419, 48.92923238], [2.18697654, 48.92533856], [2.19036419, 48.92144473], [2.1971395, 48.92144473], [2.20052716, 48.9175509], [2.1971395, 48.91365707], [2.19036419, 48.91365707]]], [[[2.20052716, 48.57489394], [2.1971395, 48.57878777], [2.20052716, 48.5826816], [2.1971395, 48.58657542], [2.19036419, 48.58657542], [2.18697654, 48.5826816], [2.19036419, 48.57878777], [2.18697654, 48.57489394], [2.19036419, 48.57100011], [2.1971395, 48.57100011]]], [[[2.1971395, 48.69560264], [2.19036419, 48.69560264], [2.18697654, 48.69170881], [2.19036419, 48.68781498], [2.1971395, 48.68781498], [2.20052716, 48.69170881], [2.20730247, 48.69170881], [2.21069013, 48.69560264], [2.21746544, 48.69560264], [2.22085309, 48.69170881], [2.2276284, 48.69170881], [2.23101606, 48.69560264], [2.23779137, 48.69560264], [2.24117902, 48.69170881], [2.23779137, 48.68781498], [2.24117902, 48.68392115], [2.24795434, 48.68392115], [2.25134199, 48.68781498], [2.24795434, 48.69170881], [2.25134199, 48.69560264], [2.24795434, 48.69949647], [2.24117902, 48.69949647], [2.23779137, 48.7033903], [2.23101606, 48.7033903], [2.2276284, 48.69949647], [2.22085309, 48.69949647], [2.21746544, 48.7033903], [2.21069013, 48.7033903], [2.20730247, 48.69949647], [2.20052716, 48.69949647]]], [[[2.20052716, 48.80073602], [2.1971395, 48.7968422], [2.20052716, 48.79294837], [2.20730247, 48.79294837], [2.21069013, 48.7968422], [2.21746544, 48.7968422], [2.22085309, 48.80073602], [2.21746544, 48.80462985], [2.22085309, 48.80852368], [2.2276284, 48.80852368], [2.23101606, 48.81241751], [2.2276284, 48.81631134], [2.22085309, 48.81631134], [2.21746544, 48.81241751], [2.21069013, 48.81241751], [2.20730247, 48.80852368], [2.20052716, 48.80852368], [2.1971395, 48.80462985]]], [[[2.21069013, 48.85914346], [2.20730247, 48.86303729], [2.20052716, 48.86303729], [2.1971395, 48.85914346], [2.20052716, 48.85524963], [2.20730247, 48.85524963]]], [[[2.2276284, 48.5826816], [2.22085309, 48.5826816], [2.21746544, 48.57878777], [2.22085309, 48.57489394], [2.2276284, 48.57489394], [2.23101606, 48.57878777], [2.23779137, 48.57878777], [2.24117902, 48.57489394], [2.24795434, 48.57489394], [2.25134199, 48.57878777], [2.2581173, 48.57878777], [2.26150496, 48.5826816], [2.2581173, 48.58657542], [2.26150496, 48.59046925], [2.26828027, 48.59046925], [2.27166792, 48.58657542], [2.27844323, 48.58657542], [2.28183089, 48.59046925], [2.27844323, 48.59436308], [2.28183089, 48.59825691], [2.2886062, 48.59825691], [2.29199385, 48.59436308], [2.2886062, 48.59046925], [2.29199385, 48.58657542], [2.29876917, 48.58657542], [2.30215682, 48.5826816], [2.30893213, 48.5826816], [2.31231979, 48.58657542], [2.30893213, 48.59046925], [2.31231979, 48.59436308], [2.30893213, 48.59825691], [2.30215682, 48.59825691], [2.29876917, 48.60215074], [2.29199385, 48.60215074], [2.2886062, 48.60604457], [2.29199385, 48.6099384], [2.29876917, 48.6099384], [2.30215682, 48.61383223], [2.29876917, 48.61772606], [2.30215682, 48.62161989], [2.30893213, 48.62161989], [2.31231979, 48.61772606], [2.30893213, 48.61383223], [2.31231979, 48.6099384], [2.3190951, 48.6099384], [2.32248275, 48.61383223], [2.3190951, 48.61772606], [2.32248275, 48.62161989], [2.32925806, 48.62161989], [2.33264572, 48.61772606], [2.33942103, 48.61772606], [2.34280869, 48.61383223], [2.349584, 48.61383223], [2.35297165, 48.61772606], [2.349584, 48.62161989], [2.35297165, 48.62551372], [2.35974696, 48.62551372], [2.36313462, 48.62940754], [2.35974696, 48.63330137], [2.36313462, 48.6371952], [2.36990993, 48.6371952], [2.37329758, 48.64108903], [2.36990993, 48.64498286], [2.37329758, 48.64887669], [2.38007289, 48.64887669], [2.38346055, 48.65277052], [2.38007289, 48.65666435], [2.37329758, 48.65666435], [2.36990993, 48.66055818], [2.37329758, 48.66445201], [2.38007289, 48.66445201], [2.38346055, 48.66834584], [2.38007289, 48.67223966], [2.38346055, 48.67613349], [2.38007289, 48.68002732], [2.37329758, 48.68002732], [2.36990993, 48.68392115], [2.37329758, 48.68781498], [2.36990993, 48.69170881], [2.36313462, 48.69170881], [2.35974696, 48.68781498], [2.36313462, 48.68392115], [2.35974696, 48.68002732], [2.36313462, 48.67613349], [2.36990993, 48.67613349], [2.37329758, 48.67223966], [2.36990993, 48.66834584], [2.36313462, 48.66834584], [2.35974696, 48.66445201], [2.35297165, 48.66445201], [2.349584, 48.66834584], [2.34280869, 48.66834584], [2.33942103, 48.66445201], [2.34280869, 48.66055818], [2.33942103, 48.65666435], [2.34280869, 48.65277052], [2.33942103, 48.64887669], [2.34280869, 48.64498286], [2.349584, 48.64498286], [2.35297165, 48.64887669], [2.349584, 48.65277052], [2.35297165, 48.65666435], [2.35974696, 48.65666435], [2.36313462, 48.65277052], [2.35974696, 48.64887669], [2.36313462, 48.64498286], [2.35974696, 48.64108903], [2.35297165, 48.64108903], [2.349584, 48.6371952], [2.34280869, 48.6371952], [2.33942103, 48.64108903], [2.33264572, 48.64108903], [2.32925806, 48.6371952], [2.32248275, 48.6371952], [2.3190951, 48.63330137], [2.31231979, 48.63330137], [2.30893213, 48.62940754], [2.30215682, 48.62940754], [2.29876917, 48.62551372], [2.29199385, 48.62551372], [2.2886062, 48.62161989], [2.29199385, 48.61772606], [2.2886062, 48.61383223], [2.28183089, 48.61383223], [2.27844323, 48.61772606], [2.27166792, 48.61772606], [2.26828027, 48.62161989], [2.26150496, 48.62161989], [2.2581173, 48.61772606], [2.25134199, 48.61772606], [2.24795434, 48.61383223], [2.24117902, 48.61383223], [2.23779137, 48.6099384], [2.24117902, 48.60604457], [2.23779137, 48.60215074], [2.23101606, 48.60215074], [2.2276284, 48.59825691], [2.23101606, 48.59436308], [2.2276284, 48.59046925], [2.23101606, 48.58657542]], [[2.24117902, 48.5826816], [2.23779137, 48.58657542], [2.24117902, 48.59046925], [2.24795434, 48.59046925], [2.25134199, 48.58657542], [2.24795434, 48.5826816]], [[2.25134199, 48.60215074], [2.24795434, 48.60604457], [2.25134199, 48.6099384], [2.2581173, 48.6099384], [2.26150496, 48.60604457], [2.26828027, 48.60604457], [2.27166792, 48.60215074], [2.26828027, 48.59825691], [2.26150496, 48.59825691], [2.2581173, 48.60215074]], [[2.33264572, 48.62551372], [2.32925806, 48.62940754], [2.33264572, 48.63330137], [2.33942103, 48.63330137], [2.34280869, 48.62940754], [2.33942103, 48.62551372]]], [[[2.23101606, 48.64108903], [2.2276284, 48.64498286], [2.22085309, 48.64498286], [2.21746544, 48.64108903], [2.22085309, 48.6371952], [2.2276284, 48.6371952], [2.23101606, 48.63330137], [2.23779137, 48.63330137], [2.24117902, 48.6371952], [2.23779137, 48.64108903]]], [[[2.23101606, 48.71117796], [2.2276284, 48.71507178], [2.22085309, 48.71507178], [2.21746544, 48.71117796], [2.22085309, 48.70728413], [2.2276284, 48.70728413]]], [[[2.23101606, 48.75011625], [2.2276284, 48.75401008], [2.22085309, 48.75401008], [2.21746544, 48.75011625], [2.22085309, 48.74622242], [2.2276284, 48.74622242]]], [[[2.24117902, 48.92533856], [2.23779137, 48.92923238], [2.23101606, 48.92923238], [2.2276284, 48.92533856], [2.23101606, 48.92144473], [2.23779137, 48.92144473]]], [[[2.24795434, 48.65277052], [2.24117902, 48.65277052], [2.23779137, 48.64887669], [2.24117902, 48.64498286], [2.24795434, 48.64498286], [2.25134199, 48.64108903], [2.24795434, 48.6371952], [2.25134199, 48.63330137], [2.24795434, 48.62940754], [2.25134199, 48.62551372], [2.2581173, 48.62551372], [2.26150496, 48.62940754], [2.2581173, 48.63330137], [2.26150496, 48.6371952], [2.2581173, 48.64108903], [2.26150496, 48.64498286], [2.26828027, 48.64498286], [2.27166792, 48.64108903], [2.27844323, 48.64108903], [2.28183089, 48.6371952], [2.2886062, 48.6371952], [2.29199385, 48.63330137], [2.29876917, 48.63330137], [2.30215682, 48.6371952], [2.29876917, 48.64108903], [2.30215682, 48.64498286], [2.29876917, 48.64887669], [2.30215682, 48.65277052], [2.29876917, 48.65666435], [2.29199385, 48.65666435], [2.2886062, 48.66055818], [2.28183089, 48.66055818], [2.27844323, 48.65666435], [2.28183089, 48.65277052], [2.27844323, 48.64887669], [2.27166792, 48.64887669], [2.26828027, 48.65277052], [2.27166792, 48.65666435], [2.26828027, 48.66055818], [2.26150496, 48.66055818], [2.2581173, 48.66445201], [2.25134199, 48.66445201], [2.24795434, 48.66055818], [2.25134199, 48.65666435]]], [[[2.25134199, 48.72675327], [2.24795434, 48.7306471], [2.25134199, 48.73454093], [2.24795434, 48.73843476], [2.25134199, 48.74232859], [2.2581173, 48.74232859], [2.26150496, 48.74622242], [2.2581173, 48.75011625], [2.25134199, 48.75011625], [2.24795434, 48.74622242], [2.24117902, 48.74622242], [2.23779137, 48.74232859], [2.24117902, 48.73843476], [2.23779137, 48.73454093], [2.24117902, 48.7306471], [2.23779137, 48.72675327], [2.24117902, 48.72285944], [2.24795434, 48.72285944]]], [[[2.25134199, 48.7968422], [2.24795434, 48.80073602], [2.24117902, 48.80073602], [2.23779137, 48.7968422], [2.24117902, 48.79294837], [2.24795434, 48.79294837]]], [[[2.25134199, 48.86693112], [2.24795434, 48.87082495], [2.24117902, 48.87082495], [2.23779137, 48.86693112], [2.24117902, 48.86303729], [2.24795434, 48.86303729]]], [[[2.26828027, 48.67613349], [2.26150496, 48.67613349], [2.2581173, 48.67223966], [2.26150496, 48.66834584], [2.26828027, 48.66834584], [2.27166792, 48.66445201], [2.27844323, 48.66445201], [2.28183089, 48.66834584], [2.27844323, 48.67223966], [2.28183089, 48.67613349], [2.27844323, 48.68002732], [2.28183089, 48.68392115], [2.2886062, 48.68392115], [2.29199385, 48.68002732], [2.29876917, 48.68002732], [2.30215682, 48.67613349], [2.29876917, 48.67223966], [2.30215682, 48.66834584], [2.29876917, 48.66445201], [2.30215682, 48.66055818], [2.30893213, 48.66055818], [2.31231979, 48.65666435], [2.3190951, 48.65666435], [2.32248275, 48.65277052], [2.32925806, 48.65277052], [2.33264572, 48.65666435], [2.32925806, 48.66055818], [2.33264572, 48.66445201], [2.32925806, 48.66834584], [2.32248275, 48.66834584], [2.3190951, 48.67223966], [2.31231979, 48.67223966], [2.30893213, 48.67613349], [2.31231979, 48.68002732], [2.30893213, 48.68392115], [2.31231979, 48.68781498], [2.30893213, 48.69170881], [2.31231979, 48.69560264], [2.30893213, 48.69949647], [2.30215682, 48.69949647], [2.29876917, 48.69560264], [2.30215682, 48.69170881], [2.29876917, 48.68781498], [2.29199385, 48.68781498], [2.2886062, 48.69170881], [2.28183089, 48.69170881], [2.27844323, 48.68781498], [2.27166792, 48.68781498], [2.26828027, 48.68392115], [2.27166792, 48.68002732]]], [[[2.26828027, 48.69949647], [2.26150496, 48.69949647], [2.2581173, 48.69560264], [2.26150496, 48.69170881], [2.26828027, 48.69170881], [2.27166792, 48.69560264], [2.27844323, 48.69560264], [2.28183089, 48.69949647], [2.2886062, 48.69949647], [2.29199385, 48.7033903], [2.2886062, 48.70728413], [2.29199385, 48.71117796], [2.2886062, 48.71507178], [2.29199385, 48.71896561], [2.29876917, 48.71896561], [2.30215682, 48.72285944], [2.30893213, 48.72285944], [2.31231979, 48.72675327], [2.3190951, 48.72675327], [2.32248275, 48.7306471], [2.3190951, 48.73454093], [2.31231979, 48.73454093], [2.30893213, 48.7306471], [2.30215682, 48.7306471], [2.29876917, 48.73454093], [2.29199385, 48.73454093], [2.2886062, 48.7306471], [2.29199385, 48.72675327], [2.2886062, 48.72285944], [2.28183089, 48.72285944], [2.27844323, 48.71896561], [2.28183089, 48.71507178], [2.27844323, 48.71117796], [2.28183089, 48.70728413], [2.27844323, 48.7033903], [2.27166792, 48.7033903]]], [[[2.27166792, 48.92144473], [2.26828027, 48.92533856], [2.26150496, 48.92533856], [2.2581173, 48.92144473], [2.26150496, 48.9175509], [2.26828027, 48.9175509]]], [[[2.28183089, 48.62940754], [2.27844323, 48.63330137], [2.27166792, 48.63330137], [2.26828027, 48.62940754], [2.27166792, 48.62551372], [2.27844323, 48.62551372]]], [[[2.30215682, 48.76958539], [2.29876917, 48.77347922], [2.29199385, 48.77347922], [2.2886062, 48.76958539], [2.29199385, 48.76569156], [2.29876917, 48.76569156]]], [[[2.32248275, 48.71507178], [2.3190951, 48.71896561], [2.31231979, 48.71896561], [2.30893213, 48.71507178], [2.31231979, 48.71117796], [2.3190951, 48.71117796], [2.32248275, 48.70728413], [2.32925806, 48.70728413], [2.33264572, 48.7033903], [2.32925806, 48.69949647], [2.32248275, 48.69949647], [2.3190951, 48.69560264], [2.32248275, 48.69170881], [2.3190951, 48.68781498], [2.32248275, 48.68392115], [2.3190951, 48.68002732], [2.32248275, 48.67613349], [2.32925806, 48.67613349], [2.33264572, 48.68002732], [2.33942103, 48.68002732], [2.34280869, 48.68392115], [2.33942103, 48.68781498], [2.34280869, 48.69170881], [2.349584, 48.69170881], [2.35297165, 48.69560264], [2.35974696, 48.69560264], [2.36313462, 48.69949647], [2.35974696, 48.7033903], [2.35297165, 48.7033903], [2.349584, 48.70728413], [2.35297165, 48.71117796], [2.35974696, 48.71117796], [2.36313462, 48.71507178], [2.36990993, 48.71507178], [2.37329758, 48.71896561], [2.36990993, 48.72285944], [2.37329758, 48.72675327], [2.36990993, 48.7306471], [2.37329758, 48.73454093], [2.36990993, 48.73843476], [2.36313462, 48.73843476], [2.35974696, 48.73454093], [2.36313462, 48.7306471], [2.35974696, 48.72675327], [2.36313462, 48.72285944], [2.35974696, 48.71896561], [2.35297165, 48.71896561], [2.349584, 48.71507178], [2.34280869, 48.71507178], [2.33942103, 48.71117796], [2.33264572, 48.71117796], [2.32925806, 48.71507178]]], [[[2.32248275, 48.9175509], [2.3190951, 48.92144473], [2.32248275, 48.92533856], [2.3190951, 48.92923238], [2.31231979, 48.92923238], [2.30893213, 48.92533856], [2.31231979, 48.92144473], [2.30893213, 48.9175509], [2.31231979, 48.91365707], [2.3190951, 48.91365707]]], [[[2.34280869, 48.92533856], [2.33942103, 48.92923238], [2.33264572, 48.92923238], [2.32925806, 48.92533856], [2.33264572, 48.92144473], [2.33942103, 48.92144473]]], [[[2.35297165, 48.73454093], [2.349584, 48.73843476], [2.35297165, 48.74232859], [2.349584, 48.74622242], [2.34280869, 48.74622242], [2.33942103, 48.74232859], [2.34280869, 48.73843476], [2.33942103, 48.73454093], [2.34280869, 48.7306471], [2.349584, 48.7306471]]], [[[2.349584, 48.76958539], [2.34280869, 48.76958539], [2.33942103, 48.76569156], [2.34280869, 48.76179773], [2.349584, 48.76179773], [2.35297165, 48.76569156], [2.35974696, 48.76569156], [2.36313462, 48.76958539], [2.35974696, 48.77347922], [2.35297165, 48.77347922]]], [[[2.35297165, 48.78905454], [2.349584, 48.79294837], [2.34280869, 48.79294837], [2.33942103, 48.78905454], [2.34280869, 48.78516071], [2.349584, 48.78516071]]], [[[2.35974696, 48.7579039], [2.35297165, 48.7579039], [2.349584, 48.75401008], [2.35297165, 48.75011625], [2.35974696, 48.75011625], [2.36313462, 48.75401008], [2.36990993, 48.75401008], [2.37329758, 48.75011625], [2.36990993, 48.74622242], [2.37329758, 48.74232859], [2.38007289, 48.74232859], [2.38346055, 48.74622242], [2.38007289, 48.75011625], [2.38346055, 48.75401008], [2.38007289, 48.7579039], [2.38346055, 48.76179773], [2.38007289, 48.76569156], [2.38346055, 48.76958539], [2.38007289, 48.77347922], [2.37329758, 48.77347922], [2.36990993, 48.76958539], [2.37329758, 48.76569156], [2.36990993, 48.76179773], [2.36313462, 48.76179773]]], [[[2.37329758, 48.60215074], [2.36990993, 48.60604457], [2.36313462, 48.60604457], [2.35974696, 48.60215074], [2.36313462, 48.59825691], [2.36990993, 48.59825691]]], [[[2.38346055, 48.61383223], [2.38007289, 48.61772606], [2.38346055, 48.62161989], [2.38007289, 48.62551372], [2.37329758, 48.62551372], [2.36990993, 48.62161989], [2.37329758, 48.61772606], [2.36990993, 48.61383223], [2.37329758, 48.6099384], [2.38007289, 48.6099384]]], [[[2.38346055, 48.69949647], [2.38007289, 48.7033903], [2.37329758, 48.7033903], [2.36990993, 48.69949647], [2.37329758, 48.69560264], [2.38007289, 48.69560264]]], [[[2.38346055, 48.90197558], [2.38007289, 48.90586941], [2.38346055, 48.90976324], [2.38007289, 48.91365707], [2.37329758, 48.91365707], [2.36990993, 48.90976324], [2.37329758, 48.90586941], [2.36990993, 48.90197558], [2.37329758, 48.89808175], [2.38007289, 48.89808175]]]], &quot;properties&quot;: {&quot;velocityScore.avg&quot;: 4.5}, &quot;type&quot;: &quot;MultiPolygon&quot;}, &quot;id&quot;: &quot;0&quot;, &quot;type&quot;: &quot;Feature&quot;}], &quot;type&quot;: &quot;FeatureCollection&quot;});\n",
       "\n",
       "        \n",
       "    \n",
       "            var choropleth_0c20f346ed43e8f1a1dce22e66c06eda = L.featureGroup(\n",
       "                {}\n",
       "            ).addTo(map_aa652676ef7f1678f616f3d3e1cc4a04);\n",
       "        \n",
       "    \n",
       "        function geo_json_40de47d073daf430a71147d6d68f107e_styler(feature) {\n",
       "            switch(feature.id) {\n",
       "                default:\n",
       "                    return {&quot;color&quot;: &quot;#74c476&quot;, &quot;fillColor&quot;: &quot;#74c476&quot;, &quot;fillOpacity&quot;: 0.6, &quot;opacity&quot;: 0, &quot;weight&quot;: 2};\n",
       "            }\n",
       "        }\n",
       "\n",
       "        function geo_json_40de47d073daf430a71147d6d68f107e_onEachFeature(feature, layer) {\n",
       "            layer.on({\n",
       "            });\n",
       "        };\n",
       "        var geo_json_40de47d073daf430a71147d6d68f107e = L.geoJson(null, {\n",
       "                onEachFeature: geo_json_40de47d073daf430a71147d6d68f107e_onEachFeature,\n",
       "            \n",
       "                style: geo_json_40de47d073daf430a71147d6d68f107e_styler,\n",
       "        });\n",
       "\n",
       "        function geo_json_40de47d073daf430a71147d6d68f107e_add (data) {\n",
       "            geo_json_40de47d073daf430a71147d6d68f107e\n",
       "                .addData(data)\n",
       "                .addTo(choropleth_0c20f346ed43e8f1a1dce22e66c06eda);\n",
       "        }\n",
       "            geo_json_40de47d073daf430a71147d6d68f107e_add({&quot;features&quot;: [{&quot;geometry&quot;: {&quot;coordinates&quot;: [[[[2.01759377, 48.77737305], [2.01420612, 48.78126688], [2.00743081, 48.78126688], [2.00404315, 48.77737305], [2.00743081, 48.77347922], [2.01420612, 48.77347922]]], [[[2.01759377, 48.80073602], [2.01420612, 48.80462985], [2.00743081, 48.80462985], [2.00404315, 48.80073602], [2.00743081, 48.7968422], [2.01420612, 48.7968422]]], [[[2.02775674, 48.77347922], [2.02436908, 48.76958539], [2.02775674, 48.76569156], [2.03453205, 48.76569156], [2.0379197, 48.76958539], [2.04469501, 48.76958539], [2.04808267, 48.76569156], [2.05485798, 48.76569156], [2.05824564, 48.76179773], [2.06502095, 48.76179773], [2.0684086, 48.7579039], [2.06502095, 48.75401008], [2.0684086, 48.75011625], [2.07518391, 48.75011625], [2.07857157, 48.75401008], [2.07518391, 48.7579039], [2.07857157, 48.76179773], [2.07518391, 48.76569156], [2.0684086, 48.76569156], [2.06502095, 48.76958539], [2.0684086, 48.77347922], [2.07518391, 48.77347922], [2.07857157, 48.76958539], [2.08534688, 48.76958539], [2.08873453, 48.77347922], [2.09550984, 48.77347922], [2.0988975, 48.77737305], [2.09550984, 48.78126688], [2.08873453, 48.78126688], [2.08534688, 48.77737305], [2.07857157, 48.77737305], [2.07518391, 48.78126688], [2.0684086, 48.78126688], [2.06502095, 48.78516071], [2.05824564, 48.78516071], [2.05485798, 48.78905454], [2.04808267, 48.78905454], [2.04469501, 48.78516071], [2.04808267, 48.78126688], [2.04469501, 48.77737305], [2.0379197, 48.77737305], [2.03453205, 48.78126688], [2.02775674, 48.78126688], [2.02436908, 48.77737305]]], [[[2.0379197, 48.80852368], [2.03453205, 48.80462985], [2.0379197, 48.80073602], [2.04469501, 48.80073602], [2.04808267, 48.80462985], [2.05485798, 48.80462985], [2.05824564, 48.80073602], [2.05485798, 48.7968422], [2.05824564, 48.79294837], [2.06502095, 48.79294837], [2.0684086, 48.78905454], [2.07518391, 48.78905454], [2.07857157, 48.79294837], [2.07518391, 48.7968422], [2.0684086, 48.7968422], [2.06502095, 48.80073602], [2.0684086, 48.80462985], [2.06502095, 48.80852368], [2.05824564, 48.80852368], [2.05485798, 48.81241751], [2.04808267, 48.81241751], [2.04469501, 48.81631134], [2.0379197, 48.81631134], [2.03453205, 48.81241751]]], [[[2.04808267, 48.90586941], [2.04469501, 48.90976324], [2.0379197, 48.90976324], [2.03453205, 48.90586941], [2.0379197, 48.90197558], [2.04469501, 48.90197558]]], [[[2.07857157, 48.65277052], [2.07518391, 48.65666435], [2.0684086, 48.65666435], [2.06502095, 48.65277052], [2.0684086, 48.64887669], [2.07518391, 48.64887669]]], [[[2.07857157, 48.69949647], [2.07518391, 48.7033903], [2.07857157, 48.70728413], [2.07518391, 48.71117796], [2.0684086, 48.71117796], [2.06502095, 48.70728413], [2.0684086, 48.7033903], [2.06502095, 48.69949647], [2.0684086, 48.69560264], [2.07518391, 48.69560264]]], [[[2.07518391, 48.90586941], [2.0684086, 48.90586941], [2.06502095, 48.90197558], [2.0684086, 48.89808175], [2.07518391, 48.89808175], [2.07857157, 48.89418792], [2.07518391, 48.89029409], [2.07857157, 48.88640026], [2.08534688, 48.88640026], [2.08873453, 48.89029409], [2.09550984, 48.89029409], [2.0988975, 48.89418792], [2.10567281, 48.89418792], [2.10906047, 48.89808175], [2.10567281, 48.90197558], [2.0988975, 48.90197558], [2.09550984, 48.90586941], [2.08873453, 48.90586941], [2.08534688, 48.90976324], [2.07857157, 48.90976324]]], [[[2.08534688, 48.72285944], [2.07857157, 48.72285944], [2.07518391, 48.71896561], [2.07857157, 48.71507178], [2.08534688, 48.71507178], [2.08873453, 48.71896561], [2.09550984, 48.71896561], [2.0988975, 48.71507178], [2.10567281, 48.71507178], [2.10906047, 48.71896561], [2.10567281, 48.72285944], [2.0988975, 48.72285944], [2.09550984, 48.72675327], [2.0988975, 48.7306471], [2.10567281, 48.7306471], [2.10906047, 48.73454093], [2.10567281, 48.73843476], [2.0988975, 48.73843476], [2.09550984, 48.74232859], [2.08873453, 48.74232859], [2.08534688, 48.73843476], [2.08873453, 48.73454093], [2.08534688, 48.7306471], [2.08873453, 48.72675327]]], [[[2.0988975, 48.80073602], [2.09550984, 48.80462985], [2.08873453, 48.80462985], [2.08534688, 48.80073602], [2.08873453, 48.7968422], [2.09550984, 48.7968422]]], [[[2.10906047, 48.7033903], [2.10567281, 48.70728413], [2.0988975, 48.70728413], [2.09550984, 48.7033903], [2.0988975, 48.69949647], [2.10567281, 48.69949647]]], [[[2.10906047, 48.78905454], [2.10567281, 48.79294837], [2.0988975, 48.79294837], [2.09550984, 48.78905454], [2.0988975, 48.78516071], [2.10567281, 48.78516071], [2.10906047, 48.78126688], [2.11583578, 48.78126688], [2.11922343, 48.78516071], [2.12599874, 48.78516071], [2.1293864, 48.78905454], [2.13616171, 48.78905454], [2.13954936, 48.78516071], [2.14632467, 48.78516071], [2.14971233, 48.78905454], [2.14632467, 48.79294837], [2.13954936, 48.79294837], [2.13616171, 48.7968422], [2.1293864, 48.7968422], [2.12599874, 48.79294837], [2.11922343, 48.79294837], [2.11583578, 48.78905454]]], [[[2.10906047, 48.86693112], [2.10567281, 48.87082495], [2.10906047, 48.87471878], [2.11583578, 48.87471878], [2.11922343, 48.87861261], [2.11583578, 48.88250644], [2.10906047, 48.88250644], [2.10567281, 48.87861261], [2.0988975, 48.87861261], [2.09550984, 48.87471878], [2.0988975, 48.87082495], [2.09550984, 48.86693112], [2.0988975, 48.86303729], [2.10567281, 48.86303729], [2.10906047, 48.85914346], [2.11583578, 48.85914346], [2.11922343, 48.85524963], [2.12599874, 48.85524963], [2.1293864, 48.8513558], [2.12599874, 48.84746197], [2.1293864, 48.84356814], [2.12599874, 48.83967432], [2.11922343, 48.83967432], [2.11583578, 48.83578049], [2.10906047, 48.83578049], [2.10567281, 48.83188666], [2.10906047, 48.82799283], [2.11583578, 48.82799283], [2.11922343, 48.824099], [2.11583578, 48.82020517], [2.11922343, 48.81631134], [2.11583578, 48.81241751], [2.11922343, 48.80852368], [2.12599874, 48.80852368], [2.1293864, 48.81241751], [2.12599874, 48.81631134], [2.1293864, 48.82020517], [2.13616171, 48.82020517], [2.13954936, 48.824099], [2.14632467, 48.824099], [2.14971233, 48.82799283], [2.15648764, 48.82799283], [2.1598753, 48.83188666], [2.15648764, 48.83578049], [2.1598753, 48.83967432], [2.16665061, 48.83967432], [2.17003826, 48.83578049], [2.17681357, 48.83578049], [2.18020123, 48.83188666], [2.17681357, 48.82799283], [2.17003826, 48.82799283], [2.16665061, 48.824099], [2.1598753, 48.824099], [2.15648764, 48.82020517], [2.14971233, 48.82020517], [2.14632467, 48.81631134], [2.14971233, 48.81241751], [2.15648764, 48.81241751], [2.1598753, 48.80852368], [2.16665061, 48.80852368], [2.17003826, 48.81241751], [2.17681357, 48.81241751], [2.18020123, 48.81631134], [2.18697654, 48.81631134], [2.19036419, 48.82020517], [2.18697654, 48.824099], [2.19036419, 48.82799283], [2.1971395, 48.82799283], [2.20052716, 48.83188666], [2.20730247, 48.83188666], [2.21069013, 48.82799283], [2.21746544, 48.82799283], [2.22085309, 48.83188666], [2.21746544, 48.83578049], [2.21069013, 48.83578049], [2.20730247, 48.83967432], [2.20052716, 48.83967432], [2.1971395, 48.84356814], [2.20052716, 48.84746197], [2.20730247, 48.84746197], [2.21069013, 48.8513558], [2.20730247, 48.85524963], [2.20052716, 48.85524963], [2.1971395, 48.85914346], [2.20052716, 48.86303729], [2.1971395, 48.86693112], [2.20052716, 48.87082495], [2.20730247, 48.87082495], [2.21069013, 48.87471878], [2.20730247, 48.87861261], [2.21069013, 48.88250644], [2.20730247, 48.88640026], [2.20052716, 48.88640026], [2.1971395, 48.88250644], [2.20052716, 48.87861261], [2.1971395, 48.87471878], [2.19036419, 48.87471878], [2.18697654, 48.87082495], [2.18020123, 48.87082495], [2.17681357, 48.87471878], [2.18020123, 48.87861261], [2.17681357, 48.88250644], [2.17003826, 48.88250644], [2.16665061, 48.88640026], [2.17003826, 48.89029409], [2.17681357, 48.89029409], [2.18020123, 48.89418792], [2.18697654, 48.89418792], [2.19036419, 48.89808175], [2.1971395, 48.89808175], [2.20052716, 48.90197558], [2.20730247, 48.90197558], [2.21069013, 48.90586941], [2.20730247, 48.90976324], [2.20052716, 48.90976324], [2.1971395, 48.90586941], [2.19036419, 48.90586941], [2.18697654, 48.90197558], [2.18020123, 48.90197558], [2.17681357, 48.89808175], [2.17003826, 48.89808175], [2.16665061, 48.89418792], [2.1598753, 48.89418792], [2.15648764, 48.89808175], [2.14971233, 48.89808175], [2.14632467, 48.90197558], [2.14971233, 48.90586941], [2.15648764, 48.90586941], [2.1598753, 48.90976324], [2.15648764, 48.91365707], [2.14971233, 48.91365707], [2.14632467, 48.90976324], [2.13954936, 48.90976324], [2.13616171, 48.90586941], [2.1293864, 48.90586941], [2.12599874, 48.90197558], [2.1293864, 48.89808175], [2.13616171, 48.89808175], [2.13954936, 48.89418792], [2.13616171, 48.89029409], [2.13954936, 48.88640026], [2.13616171, 48.88250644], [2.13954936, 48.87861261], [2.13616171, 48.87471878], [2.13954936, 48.87082495], [2.13616171, 48.86693112], [2.1293864, 48.86693112], [2.12599874, 48.86303729], [2.11922343, 48.86303729], [2.11583578, 48.86693112]], [[2.14971233, 48.84356814], [2.14632467, 48.84746197], [2.14971233, 48.8513558], [2.14632467, 48.85524963], [2.14971233, 48.85914346], [2.15648764, 48.85914346], [2.1598753, 48.86303729], [2.15648764, 48.86693112], [2.14971233, 48.86693112], [2.14632467, 48.87082495], [2.14971233, 48.87471878], [2.15648764, 48.87471878], [2.1598753, 48.87082495], [2.16665061, 48.87082495], [2.17003826, 48.86693112], [2.17681357, 48.86693112], [2.18020123, 48.86303729], [2.17681357, 48.85914346], [2.18020123, 48.85524963], [2.18697654, 48.85524963], [2.19036419, 48.8513558], [2.18697654, 48.84746197], [2.18020123, 48.84746197], [2.17681357, 48.84356814], [2.17003826, 48.84356814], [2.16665061, 48.84746197], [2.1598753, 48.84746197], [2.15648764, 48.84356814]], [[2.14971233, 48.88250644], [2.14632467, 48.88640026], [2.14971233, 48.89029409], [2.15648764, 48.89029409], [2.1598753, 48.88640026], [2.15648764, 48.88250644]]], [[[2.11922343, 48.74622242], [2.11583578, 48.75011625], [2.10906047, 48.75011625], [2.10567281, 48.74622242], [2.10906047, 48.74232859], [2.11583578, 48.74232859]]], [[[2.12599874, 48.69949647], [2.11922343, 48.69949647], [2.11583578, 48.69560264], [2.11922343, 48.69170881], [2.12599874, 48.69170881], [2.1293864, 48.69560264], [2.13616171, 48.69560264], [2.13954936, 48.69949647], [2.13616171, 48.7033903], [2.1293864, 48.7033903]]], [[[2.1293864, 48.89029409], [2.12599874, 48.89418792], [2.11922343, 48.89418792], [2.11583578, 48.89029409], [2.11922343, 48.88640026], [2.12599874, 48.88640026]]], [[[2.13954936, 48.76179773], [2.13616171, 48.76569156], [2.13954936, 48.76958539], [2.14632467, 48.76958539], [2.14971233, 48.76569156], [2.14632467, 48.76179773], [2.14971233, 48.7579039], [2.15648764, 48.7579039], [2.1598753, 48.76179773], [2.15648764, 48.76569156], [2.1598753, 48.76958539], [2.15648764, 48.77347922], [2.14971233, 48.77347922], [2.14632467, 48.77737305], [2.13954936, 48.77737305], [2.13616171, 48.78126688], [2.1293864, 48.78126688], [2.12599874, 48.77737305], [2.1293864, 48.77347922], [2.12599874, 48.76958539], [2.1293864, 48.76569156], [2.12599874, 48.76179773], [2.1293864, 48.7579039], [2.13616171, 48.7579039]]], [[[2.14632467, 48.7306471], [2.13954936, 48.7306471], [2.13616171, 48.72675327], [2.13954936, 48.72285944], [2.14632467, 48.72285944], [2.14971233, 48.72675327], [2.15648764, 48.72675327], [2.1598753, 48.72285944], [2.16665061, 48.72285944], [2.17003826, 48.72675327], [2.16665061, 48.7306471], [2.1598753, 48.7306471], [2.15648764, 48.73454093], [2.14971233, 48.73454093]]], [[[2.1598753, 48.69170881], [2.15648764, 48.69560264], [2.14971233, 48.69560264], [2.14632467, 48.69170881], [2.14971233, 48.68781498], [2.15648764, 48.68781498]]], [[[2.1598753, 48.70728413], [2.15648764, 48.71117796], [2.14971233, 48.71117796], [2.14632467, 48.70728413], [2.14971233, 48.7033903], [2.15648764, 48.7033903]]], [[[2.16665061, 48.75401008], [2.1598753, 48.75401008], [2.15648764, 48.75011625], [2.1598753, 48.74622242], [2.16665061, 48.74622242], [2.17003826, 48.75011625], [2.17681357, 48.75011625], [2.18020123, 48.75401008], [2.18697654, 48.75401008], [2.19036419, 48.7579039], [2.1971395, 48.7579039], [2.20052716, 48.76179773], [2.1971395, 48.76569156], [2.19036419, 48.76569156], [2.18697654, 48.76179773], [2.18020123, 48.76179773], [2.17681357, 48.76569156], [2.18020123, 48.76958539], [2.17681357, 48.77347922], [2.18020123, 48.77737305], [2.17681357, 48.78126688], [2.17003826, 48.78126688], [2.16665061, 48.78516071], [2.1598753, 48.78516071], [2.15648764, 48.78126688], [2.1598753, 48.77737305], [2.16665061, 48.77737305], [2.17003826, 48.77347922], [2.16665061, 48.76958539], [2.17003826, 48.76569156], [2.16665061, 48.76179773], [2.17003826, 48.7579039]]], [[[2.18020123, 48.68392115], [2.17681357, 48.68781498], [2.18020123, 48.69170881], [2.17681357, 48.69560264], [2.18020123, 48.69949647], [2.18697654, 48.69949647], [2.19036419, 48.69560264], [2.1971395, 48.69560264], [2.20052716, 48.69949647], [2.20730247, 48.69949647], [2.21069013, 48.7033903], [2.20730247, 48.70728413], [2.21069013, 48.71117796], [2.20730247, 48.71507178], [2.20052716, 48.71507178], [2.1971395, 48.71896561], [2.19036419, 48.71896561], [2.18697654, 48.71507178], [2.19036419, 48.71117796], [2.1971395, 48.71117796], [2.20052716, 48.70728413], [2.1971395, 48.7033903], [2.19036419, 48.7033903], [2.18697654, 48.70728413], [2.18020123, 48.70728413], [2.17681357, 48.71117796], [2.18020123, 48.71507178], [2.17681357, 48.71896561], [2.17003826, 48.71896561], [2.16665061, 48.71507178], [2.17003826, 48.71117796], [2.16665061, 48.70728413], [2.17003826, 48.7033903], [2.16665061, 48.69949647], [2.17003826, 48.69560264], [2.16665061, 48.69170881], [2.17003826, 48.68781498], [2.16665061, 48.68392115], [2.17003826, 48.68002732], [2.17681357, 48.68002732], [2.18020123, 48.67613349], [2.18697654, 48.67613349], [2.19036419, 48.68002732], [2.18697654, 48.68392115]]], [[[2.18020123, 48.79294837], [2.17681357, 48.7968422], [2.17003826, 48.7968422], [2.16665061, 48.79294837], [2.17003826, 48.78905454], [2.17681357, 48.78905454]]], [[[2.18020123, 48.90976324], [2.17681357, 48.91365707], [2.18020123, 48.9175509], [2.17681357, 48.92144473], [2.17003826, 48.92144473], [2.16665061, 48.9175509], [2.17003826, 48.91365707], [2.16665061, 48.90976324], [2.17003826, 48.90586941], [2.17681357, 48.90586941]]], [[[2.19036419, 48.78905454], [2.18697654, 48.78516071], [2.19036419, 48.78126688], [2.1971395, 48.78126688], [2.20052716, 48.78516071], [2.20730247, 48.78516071], [2.21069013, 48.78905454], [2.21746544, 48.78905454], [2.22085309, 48.79294837], [2.2276284, 48.79294837], [2.23101606, 48.78905454], [2.23779137, 48.78905454], [2.24117902, 48.78516071], [2.23779137, 48.78126688], [2.23101606, 48.78126688], [2.2276284, 48.77737305], [2.22085309, 48.77737305], [2.21746544, 48.78126688], [2.21069013, 48.78126688], [2.20730247, 48.77737305], [2.21069013, 48.77347922], [2.20730247, 48.76958539], [2.21069013, 48.76569156], [2.21746544, 48.76569156], [2.22085309, 48.76958539], [2.2276284, 48.76958539], [2.23101606, 48.77347922], [2.23779137, 48.77347922], [2.24117902, 48.77737305], [2.24795434, 48.77737305], [2.25134199, 48.77347922], [2.24795434, 48.76958539], [2.25134199, 48.76569156], [2.24795434, 48.76179773], [2.25134199, 48.7579039], [2.2581173, 48.7579039], [2.26150496, 48.75401008], [2.2581173, 48.75011625], [2.26150496, 48.74622242], [2.2581173, 48.74232859], [2.25134199, 48.74232859], [2.24795434, 48.73843476], [2.25134199, 48.73454093], [2.2581173, 48.73454093], [2.26150496, 48.73843476], [2.26828027, 48.73843476], [2.27166792, 48.74232859], [2.27844323, 48.74232859], [2.28183089, 48.74622242], [2.2886062, 48.74622242], [2.29199385, 48.75011625], [2.2886062, 48.75401008], [2.28183089, 48.75401008], [2.27844323, 48.7579039], [2.27166792, 48.7579039], [2.26828027, 48.76179773], [2.27166792, 48.76569156], [2.27844323, 48.76569156], [2.28183089, 48.76958539], [2.27844323, 48.77347922], [2.28183089, 48.77737305], [2.2886062, 48.77737305], [2.29199385, 48.78126688], [2.2886062, 48.78516071], [2.28183089, 48.78516071], [2.27844323, 48.78905454], [2.28183089, 48.79294837], [2.27844323, 48.7968422], [2.28183089, 48.80073602], [2.27844323, 48.80462985], [2.28183089, 48.80852368], [2.27844323, 48.81241751], [2.27166792, 48.81241751], [2.26828027, 48.80852368], [2.27166792, 48.80462985], [2.26828027, 48.80073602], [2.26150496, 48.80073602], [2.2581173, 48.80462985], [2.25134199, 48.80462985], [2.24795434, 48.80852368], [2.24117902, 48.80852368], [2.23779137, 48.80462985], [2.24117902, 48.80073602], [2.24795434, 48.80073602], [2.25134199, 48.7968422], [2.24795434, 48.79294837], [2.24117902, 48.79294837], [2.23779137, 48.7968422], [2.23101606, 48.7968422], [2.2276284, 48.80073602], [2.22085309, 48.80073602], [2.21746544, 48.7968422], [2.21069013, 48.7968422], [2.20730247, 48.79294837], [2.20052716, 48.79294837], [2.1971395, 48.7968422], [2.20052716, 48.80073602], [2.1971395, 48.80462985], [2.20052716, 48.80852368], [2.20730247, 48.80852368], [2.21069013, 48.81241751], [2.20730247, 48.81631134], [2.21069013, 48.82020517], [2.20730247, 48.824099], [2.20052716, 48.824099], [2.1971395, 48.82020517], [2.20052716, 48.81631134], [2.1971395, 48.81241751], [2.19036419, 48.81241751], [2.18697654, 48.80852368], [2.19036419, 48.80462985], [2.18697654, 48.80073602], [2.19036419, 48.7968422], [2.18697654, 48.79294837]], [[2.25134199, 48.78126688], [2.24795434, 48.78516071], [2.25134199, 48.78905454], [2.2581173, 48.78905454], [2.26150496, 48.79294837], [2.26828027, 48.79294837], [2.27166792, 48.78905454], [2.26828027, 48.78516071], [2.27166792, 48.78126688], [2.26828027, 48.77737305], [2.26150496, 48.77737305], [2.2581173, 48.78126688]]], [[[2.20052716, 48.9175509], [2.1971395, 48.92144473], [2.19036419, 48.92144473], [2.18697654, 48.9175509], [2.19036419, 48.91365707], [2.1971395, 48.91365707]]], [[[2.21069013, 48.68002732], [2.20730247, 48.68392115], [2.20052716, 48.68392115], [2.1971395, 48.68002732], [2.20052716, 48.67613349], [2.20730247, 48.67613349]]], [[[2.22085309, 48.69170881], [2.21746544, 48.69560264], [2.21069013, 48.69560264], [2.20730247, 48.69170881], [2.21069013, 48.68781498], [2.21746544, 48.68781498], [2.22085309, 48.68392115], [2.2276284, 48.68392115], [2.23101606, 48.68002732], [2.23779137, 48.68002732], [2.24117902, 48.67613349], [2.24795434, 48.67613349], [2.25134199, 48.68002732], [2.24795434, 48.68392115], [2.24117902, 48.68392115], [2.23779137, 48.68781498], [2.23101606, 48.68781498], [2.2276284, 48.69170881]]], [[[2.22085309, 48.75401008], [2.21746544, 48.7579039], [2.21069013, 48.7579039], [2.20730247, 48.75401008], [2.21069013, 48.75011625], [2.21746544, 48.75011625]]], [[[2.22085309, 48.92533856], [2.21746544, 48.92923238], [2.21069013, 48.92923238], [2.20730247, 48.92533856], [2.21069013, 48.92144473], [2.21746544, 48.92144473], [2.22085309, 48.9175509], [2.2276284, 48.9175509], [2.23101606, 48.91365707], [2.23779137, 48.91365707], [2.24117902, 48.9175509], [2.24795434, 48.9175509], [2.25134199, 48.91365707], [2.2581173, 48.91365707], [2.26150496, 48.9175509], [2.2581173, 48.92144473], [2.26150496, 48.92533856], [2.2581173, 48.92923238], [2.25134199, 48.92923238], [2.24795434, 48.92533856], [2.24117902, 48.92533856], [2.23779137, 48.92144473], [2.23101606, 48.92144473], [2.2276284, 48.92533856]]], [[[2.23101606, 48.7033903], [2.2276284, 48.70728413], [2.22085309, 48.70728413], [2.21746544, 48.7033903], [2.22085309, 48.69949647], [2.2276284, 48.69949647]]], [[[2.2276284, 48.72285944], [2.22085309, 48.72285944], [2.21746544, 48.71896561], [2.22085309, 48.71507178], [2.2276284, 48.71507178], [2.23101606, 48.71117796], [2.23779137, 48.71117796], [2.24117902, 48.71507178], [2.23779137, 48.71896561], [2.24117902, 48.72285944], [2.23779137, 48.72675327], [2.24117902, 48.7306471], [2.23779137, 48.73454093], [2.24117902, 48.73843476], [2.23779137, 48.74232859], [2.23101606, 48.74232859], [2.2276284, 48.74622242], [2.22085309, 48.74622242], [2.21746544, 48.74232859], [2.22085309, 48.73843476], [2.21746544, 48.73454093], [2.22085309, 48.7306471], [2.2276284, 48.7306471], [2.23101606, 48.72675327]]], [[[2.24117902, 48.64498286], [2.23779137, 48.64887669], [2.23101606, 48.64887669], [2.2276284, 48.64498286], [2.23101606, 48.64108903], [2.23779137, 48.64108903], [2.24117902, 48.6371952], [2.24795434, 48.6371952], [2.25134199, 48.64108903], [2.24795434, 48.64498286]]], [[[2.23101606, 48.66445201], [2.2276284, 48.66055818], [2.23101606, 48.65666435], [2.23779137, 48.65666435], [2.24117902, 48.65277052], [2.24795434, 48.65277052], [2.25134199, 48.65666435], [2.24795434, 48.66055818], [2.25134199, 48.66445201], [2.2581173, 48.66445201], [2.26150496, 48.66055818], [2.26828027, 48.66055818], [2.27166792, 48.66445201], [2.26828027, 48.66834584], [2.26150496, 48.66834584], [2.2581173, 48.67223966], [2.25134199, 48.67223966], [2.24795434, 48.66834584], [2.24117902, 48.66834584], [2.23779137, 48.67223966], [2.23101606, 48.67223966], [2.2276284, 48.66834584]]], [[[2.24117902, 48.824099], [2.23779137, 48.82799283], [2.23101606, 48.82799283], [2.2276284, 48.824099], [2.23101606, 48.82020517], [2.23779137, 48.82020517]]], [[[2.23779137, 48.85914346], [2.23101606, 48.85914346], [2.2276284, 48.85524963], [2.23101606, 48.8513558], [2.23779137, 48.8513558], [2.24117902, 48.84746197], [2.24795434, 48.84746197], [2.25134199, 48.8513558], [2.2581173, 48.8513558], [2.26150496, 48.85524963], [2.2581173, 48.85914346], [2.26150496, 48.86303729], [2.2581173, 48.86693112], [2.26150496, 48.87082495], [2.2581173, 48.87471878], [2.25134199, 48.87471878], [2.24795434, 48.87861261], [2.24117902, 48.87861261], [2.23779137, 48.87471878], [2.23101606, 48.87471878], [2.2276284, 48.87082495], [2.23101606, 48.86693112], [2.23779137, 48.86693112], [2.24117902, 48.87082495], [2.24795434, 48.87082495], [2.25134199, 48.86693112], [2.24795434, 48.86303729], [2.24117902, 48.86303729]]], [[[2.25134199, 48.58657542], [2.24795434, 48.59046925], [2.24117902, 48.59046925], [2.23779137, 48.58657542], [2.24117902, 48.5826816], [2.24795434, 48.5826816]]], [[[2.24795434, 48.70728413], [2.24117902, 48.70728413], [2.23779137, 48.7033903], [2.24117902, 48.69949647], [2.24795434, 48.69949647], [2.25134199, 48.69560264], [2.24795434, 48.69170881], [2.25134199, 48.68781498], [2.2581173, 48.68781498], [2.26150496, 48.68392115], [2.26828027, 48.68392115], [2.27166792, 48.68781498], [2.27844323, 48.68781498], [2.28183089, 48.69170881], [2.2886062, 48.69170881], [2.29199385, 48.69560264], [2.2886062, 48.69949647], [2.28183089, 48.69949647], [2.27844323, 48.69560264], [2.27166792, 48.69560264], [2.26828027, 48.69170881], [2.26150496, 48.69170881], [2.2581173, 48.69560264], [2.26150496, 48.69949647], [2.26828027, 48.69949647], [2.27166792, 48.7033903], [2.27844323, 48.7033903], [2.28183089, 48.70728413], [2.27844323, 48.71117796], [2.27166792, 48.71117796], [2.26828027, 48.70728413], [2.26150496, 48.70728413], [2.2581173, 48.71117796], [2.25134199, 48.71117796]]], [[[2.26150496, 48.60604457], [2.2581173, 48.6099384], [2.25134199, 48.6099384], [2.24795434, 48.60604457], [2.25134199, 48.60215074], [2.2581173, 48.60215074]]], [[[2.27166792, 48.62551372], [2.26828027, 48.62940754], [2.27166792, 48.63330137], [2.27844323, 48.63330137], [2.28183089, 48.62940754], [2.2886062, 48.62940754], [2.29199385, 48.62551372], [2.29876917, 48.62551372], [2.30215682, 48.62940754], [2.29876917, 48.63330137], [2.29199385, 48.63330137], [2.2886062, 48.6371952], [2.28183089, 48.6371952], [2.27844323, 48.64108903], [2.27166792, 48.64108903], [2.26828027, 48.64498286], [2.26150496, 48.64498286], [2.2581173, 48.64108903], [2.26150496, 48.6371952], [2.2581173, 48.63330137], [2.26150496, 48.62940754], [2.2581173, 48.62551372], [2.26150496, 48.62161989], [2.26828027, 48.62161989]]], [[[2.28183089, 48.65277052], [2.27844323, 48.65666435], [2.27166792, 48.65666435], [2.26828027, 48.65277052], [2.27166792, 48.64887669], [2.27844323, 48.64887669]]], [[[2.28183089, 48.72285944], [2.27844323, 48.72675327], [2.27166792, 48.72675327], [2.26828027, 48.72285944], [2.27166792, 48.71896561], [2.27844323, 48.71896561]]], [[[2.28183089, 48.9175509], [2.27844323, 48.92144473], [2.28183089, 48.92533856], [2.27844323, 48.92923238], [2.27166792, 48.92923238], [2.26828027, 48.92533856], [2.27166792, 48.92144473], [2.26828027, 48.9175509], [2.27166792, 48.91365707], [2.27844323, 48.91365707]]], [[[2.28183089, 48.66834584], [2.27844323, 48.66445201], [2.28183089, 48.66055818], [2.2886062, 48.66055818], [2.29199385, 48.66445201], [2.29876917, 48.66445201], [2.30215682, 48.66834584], [2.29876917, 48.67223966], [2.30215682, 48.67613349], [2.29876917, 48.68002732], [2.29199385, 48.68002732], [2.2886062, 48.68392115], [2.28183089, 48.68392115], [2.27844323, 48.68002732], [2.28183089, 48.67613349], [2.27844323, 48.67223966]]], [[[2.29199385, 48.73454093], [2.2886062, 48.73843476], [2.28183089, 48.73843476], [2.27844323, 48.73454093], [2.28183089, 48.7306471], [2.2886062, 48.7306471]]], [[[2.30215682, 48.60604457], [2.29876917, 48.6099384], [2.29199385, 48.6099384], [2.2886062, 48.60604457], [2.29199385, 48.60215074], [2.29876917, 48.60215074], [2.30215682, 48.59825691], [2.30893213, 48.59825691], [2.31231979, 48.60215074], [2.3190951, 48.60215074], [2.32248275, 48.59825691], [2.32925806, 48.59825691], [2.33264572, 48.60215074], [2.32925806, 48.60604457], [2.32248275, 48.60604457], [2.3190951, 48.6099384], [2.31231979, 48.6099384], [2.30893213, 48.60604457]]], [[[2.29876917, 48.71117796], [2.29199385, 48.71117796], [2.2886062, 48.70728413], [2.29199385, 48.7033903], [2.29876917, 48.7033903], [2.30215682, 48.69949647], [2.30893213, 48.69949647], [2.31231979, 48.7033903], [2.3190951, 48.7033903], [2.32248275, 48.69949647], [2.32925806, 48.69949647], [2.33264572, 48.7033903], [2.32925806, 48.70728413], [2.32248275, 48.70728413], [2.3190951, 48.71117796], [2.31231979, 48.71117796], [2.30893213, 48.71507178], [2.31231979, 48.71896561], [2.3190951, 48.71896561], [2.32248275, 48.72285944], [2.32925806, 48.72285944], [2.33264572, 48.72675327], [2.33942103, 48.72675327], [2.34280869, 48.7306471], [2.33942103, 48.73454093], [2.34280869, 48.73843476], [2.33942103, 48.74232859], [2.34280869, 48.74622242], [2.349584, 48.74622242], [2.35297165, 48.75011625], [2.349584, 48.75401008], [2.34280869, 48.75401008], [2.33942103, 48.7579039], [2.34280869, 48.76179773], [2.33942103, 48.76569156], [2.34280869, 48.76958539], [2.349584, 48.76958539], [2.35297165, 48.77347922], [2.35974696, 48.77347922], [2.36313462, 48.76958539], [2.35974696, 48.76569156], [2.35297165, 48.76569156], [2.349584, 48.76179773], [2.35297165, 48.7579039], [2.35974696, 48.7579039], [2.36313462, 48.76179773], [2.36990993, 48.76179773], [2.37329758, 48.76569156], [2.36990993, 48.76958539], [2.37329758, 48.77347922], [2.38007289, 48.77347922], [2.38346055, 48.77737305], [2.38007289, 48.78126688], [2.38346055, 48.78516071], [2.38007289, 48.78905454], [2.38346055, 48.79294837], [2.38007289, 48.7968422], [2.38346055, 48.80073602], [2.38007289, 48.80462985], [2.38346055, 48.80852368], [2.38007289, 48.81241751], [2.37329758, 48.81241751], [2.36990993, 48.81631134], [2.36313462, 48.81631134], [2.35974696, 48.81241751], [2.36313462, 48.80852368], [2.36990993, 48.80852368], [2.37329758, 48.80462985], [2.36990993, 48.80073602], [2.37329758, 48.7968422], [2.36990993, 48.79294837], [2.36313462, 48.79294837], [2.35974696, 48.78905454], [2.35297165, 48.78905454], [2.349584, 48.78516071], [2.34280869, 48.78516071], [2.33942103, 48.78905454], [2.33264572, 48.78905454], [2.32925806, 48.78516071], [2.33264572, 48.78126688], [2.33942103, 48.78126688], [2.34280869, 48.77737305], [2.33942103, 48.77347922], [2.33264572, 48.77347922], [2.32925806, 48.76958539], [2.32248275, 48.76958539], [2.3190951, 48.76569156], [2.32248275, 48.76179773], [2.32925806, 48.76179773], [2.33264572, 48.7579039], [2.32925806, 48.75401008], [2.32248275, 48.75401008], [2.3190951, 48.75011625], [2.32248275, 48.74622242], [2.3190951, 48.74232859], [2.31231979, 48.74232859], [2.30893213, 48.74622242], [2.30215682, 48.74622242], [2.29876917, 48.74232859], [2.30215682, 48.73843476], [2.29876917, 48.73454093], [2.30215682, 48.7306471], [2.30893213, 48.7306471], [2.31231979, 48.73454093], [2.3190951, 48.73454093], [2.32248275, 48.7306471], [2.3190951, 48.72675327], [2.31231979, 48.72675327], [2.30893213, 48.72285944], [2.30215682, 48.72285944], [2.29876917, 48.71896561], [2.30215682, 48.71507178]]], [[[2.30215682, 48.79294837], [2.29876917, 48.7968422], [2.29199385, 48.7968422], [2.2886062, 48.79294837], [2.29199385, 48.78905454], [2.29876917, 48.78905454], [2.30215682, 48.78516071], [2.30893213, 48.78516071], [2.31231979, 48.78905454], [2.30893213, 48.79294837]]], [[[2.30215682, 48.92533856], [2.29876917, 48.92923238], [2.29199385, 48.92923238], [2.2886062, 48.92533856], [2.29199385, 48.92144473], [2.29876917, 48.92144473], [2.30215682, 48.9175509], [2.29876917, 48.91365707], [2.30215682, 48.90976324], [2.30893213, 48.90976324], [2.31231979, 48.90586941], [2.3190951, 48.90586941], [2.32248275, 48.90976324], [2.32925806, 48.90976324], [2.33264572, 48.91365707], [2.33942103, 48.91365707], [2.34280869, 48.9175509], [2.33942103, 48.92144473], [2.33264572, 48.92144473], [2.32925806, 48.92533856], [2.32248275, 48.92533856], [2.3190951, 48.92144473], [2.32248275, 48.9175509], [2.3190951, 48.91365707], [2.31231979, 48.91365707], [2.30893213, 48.9175509], [2.31231979, 48.92144473], [2.30893213, 48.92533856]]], [[[2.31231979, 48.61772606], [2.30893213, 48.62161989], [2.30215682, 48.62161989], [2.29876917, 48.61772606], [2.30215682, 48.61383223], [2.30893213, 48.61383223]]], [[[2.30215682, 48.64498286], [2.29876917, 48.64108903], [2.30215682, 48.6371952], [2.30893213, 48.6371952], [2.31231979, 48.63330137], [2.3190951, 48.63330137], [2.32248275, 48.6371952], [2.32925806, 48.6371952], [2.33264572, 48.64108903], [2.32925806, 48.64498286], [2.33264572, 48.64887669], [2.33942103, 48.64887669], [2.34280869, 48.65277052], [2.33942103, 48.65666435], [2.34280869, 48.66055818], [2.33942103, 48.66445201], [2.34280869, 48.66834584], [2.349584, 48.66834584], [2.35297165, 48.66445201], [2.35974696, 48.66445201], [2.36313462, 48.66834584], [2.36990993, 48.66834584], [2.37329758, 48.67223966], [2.36990993, 48.67613349], [2.36313462, 48.67613349], [2.35974696, 48.68002732], [2.36313462, 48.68392115], [2.35974696, 48.68781498], [2.36313462, 48.69170881], [2.36990993, 48.69170881], [2.37329758, 48.68781498], [2.36990993, 48.68392115], [2.37329758, 48.68002732], [2.38007289, 48.68002732], [2.38346055, 48.68392115], [2.38007289, 48.68781498], [2.38346055, 48.69170881], [2.38007289, 48.69560264], [2.37329758, 48.69560264], [2.36990993, 48.69949647], [2.37329758, 48.7033903], [2.38007289, 48.7033903], [2.38346055, 48.70728413], [2.38007289, 48.71117796], [2.38346055, 48.71507178], [2.38007289, 48.71896561], [2.37329758, 48.71896561], [2.36990993, 48.71507178], [2.36313462, 48.71507178], [2.35974696, 48.71117796], [2.35297165, 48.71117796], [2.349584, 48.70728413], [2.35297165, 48.7033903], [2.35974696, 48.7033903], [2.36313462, 48.69949647], [2.35974696, 48.69560264], [2.35297165, 48.69560264], [2.349584, 48.69170881], [2.34280869, 48.69170881], [2.33942103, 48.68781498], [2.34280869, 48.68392115], [2.33942103, 48.68002732], [2.34280869, 48.67613349], [2.33942103, 48.67223966], [2.33264572, 48.67223966], [2.32925806, 48.66834584], [2.33264572, 48.66445201], [2.32925806, 48.66055818], [2.33264572, 48.65666435], [2.32925806, 48.65277052], [2.32248275, 48.65277052], [2.3190951, 48.64887669], [2.31231979, 48.64887669], [2.30893213, 48.65277052], [2.31231979, 48.65666435], [2.30893213, 48.66055818], [2.30215682, 48.66055818], [2.29876917, 48.65666435], [2.30215682, 48.65277052], [2.29876917, 48.64887669]]], [[[2.31231979, 48.77347922], [2.30893213, 48.77737305], [2.30215682, 48.77737305], [2.29876917, 48.77347922], [2.30215682, 48.76958539], [2.30893213, 48.76958539]]], [[[2.31231979, 48.80462985], [2.30893213, 48.80852368], [2.30215682, 48.80852368], [2.29876917, 48.80462985], [2.30215682, 48.80073602], [2.30893213, 48.80073602]]], [[[2.32248275, 48.67613349], [2.3190951, 48.68002732], [2.32248275, 48.68392115], [2.3190951, 48.68781498], [2.32248275, 48.69170881], [2.3190951, 48.69560264], [2.31231979, 48.69560264], [2.30893213, 48.69170881], [2.31231979, 48.68781498], [2.30893213, 48.68392115], [2.31231979, 48.68002732], [2.30893213, 48.67613349], [2.31231979, 48.67223966], [2.3190951, 48.67223966]]], [[[2.34280869, 48.62940754], [2.33942103, 48.63330137], [2.33264572, 48.63330137], [2.32925806, 48.62940754], [2.33264572, 48.62551372], [2.33942103, 48.62551372]]], [[[2.349584, 48.64498286], [2.34280869, 48.64498286], [2.33942103, 48.64108903], [2.34280869, 48.6371952], [2.349584, 48.6371952], [2.35297165, 48.64108903], [2.35974696, 48.64108903], [2.36313462, 48.64498286], [2.35974696, 48.64887669], [2.36313462, 48.65277052], [2.35974696, 48.65666435], [2.35297165, 48.65666435], [2.349584, 48.65277052], [2.35297165, 48.64887669]]], [[[2.349584, 48.80073602], [2.34280869, 48.80073602], [2.33942103, 48.7968422], [2.34280869, 48.79294837], [2.349584, 48.79294837], [2.35297165, 48.7968422], [2.35974696, 48.7968422], [2.36313462, 48.80073602], [2.35974696, 48.80462985], [2.35297165, 48.80462985]]], [[[2.349584, 48.90976324], [2.34280869, 48.90976324], [2.33942103, 48.90586941], [2.34280869, 48.90197558], [2.349584, 48.90197558], [2.35297165, 48.90586941], [2.35974696, 48.90586941], [2.36313462, 48.90976324], [2.36990993, 48.90976324], [2.37329758, 48.91365707], [2.38007289, 48.91365707], [2.38346055, 48.9175509], [2.38007289, 48.92144473], [2.38346055, 48.92533856], [2.38007289, 48.92923238], [2.37329758, 48.92923238], [2.36990993, 48.92533856], [2.37329758, 48.92144473], [2.36990993, 48.9175509], [2.36313462, 48.9175509], [2.35974696, 48.91365707], [2.35297165, 48.91365707]]], [[[2.36313462, 48.62161989], [2.35974696, 48.62551372], [2.35297165, 48.62551372], [2.349584, 48.62161989], [2.35297165, 48.61772606], [2.35974696, 48.61772606]]], [[[2.36313462, 48.72285944], [2.35974696, 48.72675327], [2.35297165, 48.72675327], [2.349584, 48.72285944], [2.35297165, 48.71896561], [2.35974696, 48.71896561]]], [[[2.35974696, 48.74232859], [2.35297165, 48.74232859], [2.349584, 48.73843476], [2.35297165, 48.73454093], [2.35974696, 48.73454093], [2.36313462, 48.73843476], [2.36990993, 48.73843476], [2.37329758, 48.74232859], [2.36990993, 48.74622242], [2.36313462, 48.74622242]]], [[[2.36313462, 48.92533856], [2.35974696, 48.92923238], [2.35297165, 48.92923238], [2.349584, 48.92533856], [2.35297165, 48.92144473], [2.35974696, 48.92144473]]], [[[2.38346055, 48.66055818], [2.38007289, 48.66445201], [2.37329758, 48.66445201], [2.36990993, 48.66055818], [2.37329758, 48.65666435], [2.38007289, 48.65666435]]], [[[2.38346055, 48.7306471], [2.38007289, 48.73454093], [2.37329758, 48.73454093], [2.36990993, 48.7306471], [2.37329758, 48.72675327], [2.38007289, 48.72675327]]], [[[2.38346055, 48.88640026], [2.38007289, 48.89029409], [2.38346055, 48.89418792], [2.38007289, 48.89808175], [2.37329758, 48.89808175], [2.36990993, 48.89418792], [2.37329758, 48.89029409], [2.36990993, 48.88640026], [2.37329758, 48.88250644], [2.38007289, 48.88250644]]]], &quot;properties&quot;: {&quot;velocityScore.avg&quot;: 5.5}, &quot;type&quot;: &quot;MultiPolygon&quot;}, &quot;id&quot;: &quot;0&quot;, &quot;type&quot;: &quot;Feature&quot;}], &quot;type&quot;: &quot;FeatureCollection&quot;});\n",
       "\n",
       "        \n",
       "    \n",
       "            var choropleth_1690583a2904c7e13570eefb04d10bb9 = L.featureGroup(\n",
       "                {}\n",
       "            ).addTo(map_aa652676ef7f1678f616f3d3e1cc4a04);\n",
       "        \n",
       "    \n",
       "        function geo_json_3c846e20faf409be1a11f6e077700ef9_styler(feature) {\n",
       "            switch(feature.id) {\n",
       "                default:\n",
       "                    return {&quot;color&quot;: &quot;#31a354&quot;, &quot;fillColor&quot;: &quot;#31a354&quot;, &quot;fillOpacity&quot;: 0.6, &quot;opacity&quot;: 0, &quot;weight&quot;: 2};\n",
       "            }\n",
       "        }\n",
       "\n",
       "        function geo_json_3c846e20faf409be1a11f6e077700ef9_onEachFeature(feature, layer) {\n",
       "            layer.on({\n",
       "            });\n",
       "        };\n",
       "        var geo_json_3c846e20faf409be1a11f6e077700ef9 = L.geoJson(null, {\n",
       "                onEachFeature: geo_json_3c846e20faf409be1a11f6e077700ef9_onEachFeature,\n",
       "            \n",
       "                style: geo_json_3c846e20faf409be1a11f6e077700ef9_styler,\n",
       "        });\n",
       "\n",
       "        function geo_json_3c846e20faf409be1a11f6e077700ef9_add (data) {\n",
       "            geo_json_3c846e20faf409be1a11f6e077700ef9\n",
       "                .addData(data)\n",
       "                .addTo(choropleth_1690583a2904c7e13570eefb04d10bb9);\n",
       "        }\n",
       "            geo_json_3c846e20faf409be1a11f6e077700ef9_add({&quot;features&quot;: [{&quot;geometry&quot;: {&quot;coordinates&quot;: [[[[2.0379197, 48.80073602], [2.03453205, 48.80462985], [2.02775674, 48.80462985], [2.02436908, 48.80073602], [2.02775674, 48.7968422], [2.03453205, 48.7968422]]], [[[2.04808267, 48.78126688], [2.04469501, 48.78516071], [2.04808267, 48.78905454], [2.04469501, 48.79294837], [2.0379197, 48.79294837], [2.03453205, 48.78905454], [2.0379197, 48.78516071], [2.03453205, 48.78126688], [2.0379197, 48.77737305], [2.04469501, 48.77737305]]], [[[2.07857157, 48.80073602], [2.07518391, 48.80462985], [2.0684086, 48.80462985], [2.06502095, 48.80073602], [2.0684086, 48.7968422], [2.07518391, 48.7968422]]], [[[2.11922343, 48.76958539], [2.11583578, 48.77347922], [2.10906047, 48.77347922], [2.10567281, 48.76958539], [2.10906047, 48.76569156], [2.11583578, 48.76569156]]], [[[2.1293864, 48.7968422], [2.12599874, 48.80073602], [2.1293864, 48.80462985], [2.13616171, 48.80462985], [2.13954936, 48.80073602], [2.14632467, 48.80073602], [2.14971233, 48.7968422], [2.14632467, 48.79294837], [2.14971233, 48.78905454], [2.15648764, 48.78905454], [2.1598753, 48.79294837], [2.16665061, 48.79294837], [2.17003826, 48.7968422], [2.16665061, 48.80073602], [2.1598753, 48.80073602], [2.15648764, 48.80462985], [2.1598753, 48.80852368], [2.15648764, 48.81241751], [2.14971233, 48.81241751], [2.14632467, 48.81631134], [2.14971233, 48.82020517], [2.14632467, 48.824099], [2.13954936, 48.824099], [2.13616171, 48.82020517], [2.1293864, 48.82020517], [2.12599874, 48.81631134], [2.1293864, 48.81241751], [2.12599874, 48.80852368], [2.11922343, 48.80852368], [2.11583578, 48.80462985], [2.11922343, 48.80073602], [2.11583578, 48.7968422], [2.11922343, 48.79294837], [2.12599874, 48.79294837]]], [[[2.13954936, 48.78516071], [2.13616171, 48.78905454], [2.1293864, 48.78905454], [2.12599874, 48.78516071], [2.1293864, 48.78126688], [2.13616171, 48.78126688]]], [[[2.13954936, 48.88640026], [2.13616171, 48.89029409], [2.13954936, 48.89418792], [2.13616171, 48.89808175], [2.1293864, 48.89808175], [2.12599874, 48.89418792], [2.1293864, 48.89029409], [2.12599874, 48.88640026], [2.1293864, 48.88250644], [2.13616171, 48.88250644]]], [[[2.1598753, 48.72285944], [2.15648764, 48.72675327], [2.14971233, 48.72675327], [2.14632467, 48.72285944], [2.14971233, 48.71896561], [2.15648764, 48.71896561]]], [[[2.1598753, 48.88640026], [2.15648764, 48.89029409], [2.14971233, 48.89029409], [2.14632467, 48.88640026], [2.14971233, 48.88250644], [2.15648764, 48.88250644]]], [[[2.17003826, 48.68002732], [2.16665061, 48.68392115], [2.1598753, 48.68392115], [2.15648764, 48.68002732], [2.1598753, 48.67613349], [2.16665061, 48.67613349]]], [[[2.17003826, 48.73454093], [2.16665061, 48.73843476], [2.1598753, 48.73843476], [2.15648764, 48.73454093], [2.1598753, 48.7306471], [2.16665061, 48.7306471], [2.17003826, 48.72675327], [2.17681357, 48.72675327], [2.18020123, 48.7306471], [2.17681357, 48.73454093]]], [[[2.17003826, 48.76569156], [2.16665061, 48.76958539], [2.1598753, 48.76958539], [2.15648764, 48.76569156], [2.1598753, 48.76179773], [2.16665061, 48.76179773]]], [[[2.17681357, 48.78905454], [2.17003826, 48.78905454], [2.16665061, 48.78516071], [2.17003826, 48.78126688], [2.17681357, 48.78126688], [2.18020123, 48.77737305], [2.18697654, 48.77737305], [2.19036419, 48.77347922], [2.1971395, 48.77347922], [2.20052716, 48.76958539], [2.20730247, 48.76958539], [2.21069013, 48.77347922], [2.20730247, 48.77737305], [2.21069013, 48.78126688], [2.20730247, 48.78516071], [2.20052716, 48.78516071], [2.1971395, 48.78126688], [2.19036419, 48.78126688], [2.18697654, 48.78516071], [2.19036419, 48.78905454], [2.18697654, 48.79294837], [2.19036419, 48.7968422], [2.18697654, 48.80073602], [2.19036419, 48.80462985], [2.18697654, 48.80852368], [2.19036419, 48.81241751], [2.1971395, 48.81241751], [2.20052716, 48.81631134], [2.1971395, 48.82020517], [2.20052716, 48.824099], [2.20730247, 48.824099], [2.21069013, 48.82799283], [2.20730247, 48.83188666], [2.20052716, 48.83188666], [2.1971395, 48.82799283], [2.19036419, 48.82799283], [2.18697654, 48.824099], [2.19036419, 48.82020517], [2.18697654, 48.81631134], [2.18020123, 48.81631134], [2.17681357, 48.81241751], [2.17003826, 48.81241751], [2.16665061, 48.80852368], [2.17003826, 48.80462985], [2.17681357, 48.80462985], [2.18020123, 48.80073602], [2.17681357, 48.7968422], [2.18020123, 48.79294837]]], [[[2.19036419, 48.68781498], [2.18697654, 48.69170881], [2.19036419, 48.69560264], [2.18697654, 48.69949647], [2.18020123, 48.69949647], [2.17681357, 48.69560264], [2.18020123, 48.69170881], [2.17681357, 48.68781498], [2.18020123, 48.68392115], [2.18697654, 48.68392115], [2.19036419, 48.68002732], [2.1971395, 48.68002732], [2.20052716, 48.68392115], [2.20730247, 48.68392115], [2.21069013, 48.68002732], [2.21746544, 48.68002732], [2.22085309, 48.68392115], [2.21746544, 48.68781498], [2.21069013, 48.68781498], [2.20730247, 48.69170881], [2.20052716, 48.69170881], [2.1971395, 48.68781498]]], [[[2.19036419, 48.71117796], [2.18697654, 48.71507178], [2.18020123, 48.71507178], [2.17681357, 48.71117796], [2.18020123, 48.70728413], [2.18697654, 48.70728413]]], [[[2.18020123, 48.87861261], [2.17681357, 48.87471878], [2.18020123, 48.87082495], [2.18697654, 48.87082495], [2.19036419, 48.87471878], [2.1971395, 48.87471878], [2.20052716, 48.87861261], [2.1971395, 48.88250644], [2.20052716, 48.88640026], [2.20730247, 48.88640026], [2.21069013, 48.88250644], [2.20730247, 48.87861261], [2.21069013, 48.87471878], [2.21746544, 48.87471878], [2.22085309, 48.87861261], [2.21746544, 48.88250644], [2.22085309, 48.88640026], [2.21746544, 48.89029409], [2.21069013, 48.89029409], [2.20730247, 48.89418792], [2.21069013, 48.89808175], [2.20730247, 48.90197558], [2.20052716, 48.90197558], [2.1971395, 48.89808175], [2.20052716, 48.89418792], [2.1971395, 48.89029409], [2.19036419, 48.89029409], [2.18697654, 48.89418792], [2.18020123, 48.89418792], [2.17681357, 48.89029409], [2.18020123, 48.88640026], [2.17681357, 48.88250644]]], [[[2.19036419, 48.91365707], [2.18697654, 48.9175509], [2.18020123, 48.9175509], [2.17681357, 48.91365707], [2.18020123, 48.90976324], [2.18697654, 48.90976324]]], [[[2.21069013, 48.84356814], [2.20730247, 48.84746197], [2.20052716, 48.84746197], [2.1971395, 48.84356814], [2.20052716, 48.83967432], [2.20730247, 48.83967432], [2.21069013, 48.83578049], [2.21746544, 48.83578049], [2.22085309, 48.83188666], [2.2276284, 48.83188666], [2.23101606, 48.83578049], [2.2276284, 48.83967432], [2.22085309, 48.83967432], [2.21746544, 48.84356814]]], [[[2.21069013, 48.86693112], [2.20730247, 48.87082495], [2.20052716, 48.87082495], [2.1971395, 48.86693112], [2.20052716, 48.86303729], [2.20730247, 48.86303729], [2.21069013, 48.85914346], [2.21746544, 48.85914346], [2.22085309, 48.85524963], [2.2276284, 48.85524963], [2.23101606, 48.85914346], [2.23779137, 48.85914346], [2.24117902, 48.86303729], [2.23779137, 48.86693112], [2.23101606, 48.86693112], [2.2276284, 48.86303729], [2.22085309, 48.86303729], [2.21746544, 48.86693112]]], [[[2.22085309, 48.70728413], [2.21746544, 48.71117796], [2.21069013, 48.71117796], [2.20730247, 48.70728413], [2.21069013, 48.7033903], [2.21746544, 48.7033903]]], [[[2.21746544, 48.82020517], [2.21069013, 48.82020517], [2.20730247, 48.81631134], [2.21069013, 48.81241751], [2.21746544, 48.81241751], [2.22085309, 48.81631134], [2.2276284, 48.81631134], [2.23101606, 48.81241751], [2.2276284, 48.80852368], [2.23101606, 48.80462985], [2.2276284, 48.80073602], [2.23101606, 48.7968422], [2.23779137, 48.7968422], [2.24117902, 48.80073602], [2.23779137, 48.80462985], [2.24117902, 48.80852368], [2.24795434, 48.80852368], [2.25134199, 48.80462985], [2.2581173, 48.80462985], [2.26150496, 48.80073602], [2.26828027, 48.80073602], [2.27166792, 48.80462985], [2.26828027, 48.80852368], [2.27166792, 48.81241751], [2.26828027, 48.81631134], [2.27166792, 48.82020517], [2.26828027, 48.824099], [2.26150496, 48.824099], [2.2581173, 48.82799283], [2.26150496, 48.83188666], [2.26828027, 48.83188666], [2.27166792, 48.83578049], [2.26828027, 48.83967432], [2.26150496, 48.83967432], [2.2581173, 48.83578049], [2.25134199, 48.83578049], [2.24795434, 48.83188666], [2.24117902, 48.83188666], [2.23779137, 48.82799283], [2.24117902, 48.824099], [2.23779137, 48.82020517], [2.23101606, 48.82020517], [2.2276284, 48.824099], [2.22085309, 48.824099]]], [[[2.21746544, 48.91365707], [2.21069013, 48.91365707], [2.20730247, 48.90976324], [2.21069013, 48.90586941], [2.21746544, 48.90586941], [2.22085309, 48.90197558], [2.2276284, 48.90197558], [2.23101606, 48.90586941], [2.2276284, 48.90976324], [2.23101606, 48.91365707], [2.2276284, 48.9175509], [2.22085309, 48.9175509]]], [[[2.22085309, 48.78516071], [2.21746544, 48.78126688], [2.22085309, 48.77737305], [2.2276284, 48.77737305], [2.23101606, 48.78126688], [2.23779137, 48.78126688], [2.24117902, 48.78516071], [2.23779137, 48.78905454], [2.23101606, 48.78905454], [2.2276284, 48.79294837], [2.22085309, 48.79294837], [2.21746544, 48.78905454]]], [[[2.23779137, 48.71117796], [2.23101606, 48.71117796], [2.2276284, 48.70728413], [2.23101606, 48.7033903], [2.23779137, 48.7033903], [2.24117902, 48.70728413], [2.24795434, 48.70728413], [2.25134199, 48.71117796], [2.2581173, 48.71117796], [2.26150496, 48.70728413], [2.26828027, 48.70728413], [2.27166792, 48.71117796], [2.26828027, 48.71507178], [2.27166792, 48.71896561], [2.26828027, 48.72285944], [2.26150496, 48.72285944], [2.2581173, 48.71896561], [2.25134199, 48.71896561], [2.24795434, 48.71507178], [2.24117902, 48.71507178]]], [[[2.24117902, 48.84746197], [2.23779137, 48.8513558], [2.23101606, 48.8513558], [2.2276284, 48.84746197], [2.23101606, 48.84356814], [2.23779137, 48.84356814], [2.24117902, 48.83967432], [2.24795434, 48.83967432], [2.25134199, 48.84356814], [2.2581173, 48.84356814], [2.26150496, 48.84746197], [2.2581173, 48.8513558], [2.25134199, 48.8513558], [2.24795434, 48.84746197]]], [[[2.23779137, 48.88250644], [2.23101606, 48.88250644], [2.2276284, 48.87861261], [2.23101606, 48.87471878], [2.23779137, 48.87471878], [2.24117902, 48.87861261], [2.24795434, 48.87861261], [2.25134199, 48.87471878], [2.2581173, 48.87471878], [2.26150496, 48.87082495], [2.2581173, 48.86693112], [2.26150496, 48.86303729], [2.2581173, 48.85914346], [2.26150496, 48.85524963], [2.26828027, 48.85524963], [2.27166792, 48.85914346], [2.26828027, 48.86303729], [2.27166792, 48.86693112], [2.26828027, 48.87082495], [2.27166792, 48.87471878], [2.26828027, 48.87861261], [2.27166792, 48.88250644], [2.26828027, 48.88640026], [2.27166792, 48.89029409], [2.27844323, 48.89029409], [2.28183089, 48.88640026], [2.2886062, 48.88640026], [2.29199385, 48.89029409], [2.2886062, 48.89418792], [2.29199385, 48.89808175], [2.29876917, 48.89808175], [2.30215682, 48.90197558], [2.29876917, 48.90586941], [2.30215682, 48.90976324], [2.29876917, 48.91365707], [2.30215682, 48.9175509], [2.29876917, 48.92144473], [2.29199385, 48.92144473], [2.2886062, 48.92533856], [2.28183089, 48.92533856], [2.27844323, 48.92144473], [2.28183089, 48.9175509], [2.27844323, 48.91365707], [2.27166792, 48.91365707], [2.26828027, 48.9175509], [2.26150496, 48.9175509], [2.2581173, 48.91365707], [2.25134199, 48.91365707], [2.24795434, 48.9175509], [2.24117902, 48.9175509], [2.23779137, 48.91365707], [2.24117902, 48.90976324], [2.23779137, 48.90586941], [2.24117902, 48.90197558], [2.24795434, 48.90197558], [2.25134199, 48.89808175], [2.24795434, 48.89418792], [2.25134199, 48.89029409], [2.2581173, 48.89029409], [2.26150496, 48.88640026], [2.2581173, 48.88250644], [2.25134199, 48.88250644], [2.24795434, 48.88640026], [2.24117902, 48.88640026]], [[2.27166792, 48.89808175], [2.26828027, 48.90197558], [2.27166792, 48.90586941], [2.27844323, 48.90586941], [2.28183089, 48.90976324], [2.2886062, 48.90976324], [2.29199385, 48.90586941], [2.2886062, 48.90197558], [2.28183089, 48.90197558], [2.27844323, 48.89808175]]], [[[2.24117902, 48.89418792], [2.23779137, 48.89808175], [2.23101606, 48.89808175], [2.2276284, 48.89418792], [2.23101606, 48.89029409], [2.23779137, 48.89029409]]], [[[2.25134199, 48.77347922], [2.24795434, 48.77737305], [2.24117902, 48.77737305], [2.23779137, 48.77347922], [2.24117902, 48.76958539], [2.24795434, 48.76958539]]], [[[2.2581173, 48.73454093], [2.25134199, 48.73454093], [2.24795434, 48.7306471], [2.25134199, 48.72675327], [2.2581173, 48.72675327], [2.26150496, 48.7306471], [2.26828027, 48.7306471], [2.27166792, 48.72675327], [2.27844323, 48.72675327], [2.28183089, 48.72285944], [2.2886062, 48.72285944], [2.29199385, 48.72675327], [2.2886062, 48.7306471], [2.28183089, 48.7306471], [2.27844323, 48.73454093], [2.28183089, 48.73843476], [2.2886062, 48.73843476], [2.29199385, 48.73454093], [2.29876917, 48.73454093], [2.30215682, 48.73843476], [2.29876917, 48.74232859], [2.30215682, 48.74622242], [2.29876917, 48.75011625], [2.30215682, 48.75401008], [2.30893213, 48.75401008], [2.31231979, 48.75011625], [2.30893213, 48.74622242], [2.31231979, 48.74232859], [2.3190951, 48.74232859], [2.32248275, 48.74622242], [2.3190951, 48.75011625], [2.32248275, 48.75401008], [2.32925806, 48.75401008], [2.33264572, 48.7579039], [2.32925806, 48.76179773], [2.32248275, 48.76179773], [2.3190951, 48.76569156], [2.32248275, 48.76958539], [2.32925806, 48.76958539], [2.33264572, 48.77347922], [2.33942103, 48.77347922], [2.34280869, 48.77737305], [2.33942103, 48.78126688], [2.33264572, 48.78126688], [2.32925806, 48.78516071], [2.33264572, 48.78905454], [2.33942103, 48.78905454], [2.34280869, 48.79294837], [2.33942103, 48.7968422], [2.34280869, 48.80073602], [2.349584, 48.80073602], [2.35297165, 48.80462985], [2.35974696, 48.80462985], [2.36313462, 48.80073602], [2.35974696, 48.7968422], [2.35297165, 48.7968422], [2.349584, 48.79294837], [2.35297165, 48.78905454], [2.35974696, 48.78905454], [2.36313462, 48.79294837], [2.36990993, 48.79294837], [2.37329758, 48.7968422], [2.36990993, 48.80073602], [2.37329758, 48.80462985], [2.36990993, 48.80852368], [2.36313462, 48.80852368], [2.35974696, 48.81241751], [2.36313462, 48.81631134], [2.35974696, 48.82020517], [2.35297165, 48.82020517], [2.349584, 48.81631134], [2.34280869, 48.81631134], [2.33942103, 48.81241751], [2.34280869, 48.80852368], [2.33942103, 48.80462985], [2.33264572, 48.80462985], [2.32925806, 48.80852368], [2.32248275, 48.80852368], [2.3190951, 48.81241751], [2.31231979, 48.81241751], [2.30893213, 48.80852368], [2.31231979, 48.80462985], [2.3190951, 48.80462985], [2.32248275, 48.80073602], [2.32925806, 48.80073602], [2.33264572, 48.7968422], [2.32925806, 48.79294837], [2.32248275, 48.79294837], [2.3190951, 48.78905454], [2.31231979, 48.78905454], [2.30893213, 48.78516071], [2.31231979, 48.78126688], [2.3190951, 48.78126688], [2.32248275, 48.77737305], [2.3190951, 48.77347922], [2.31231979, 48.77347922], [2.30893213, 48.76958539], [2.30215682, 48.76958539], [2.29876917, 48.76569156], [2.29199385, 48.76569156], [2.2886062, 48.76958539], [2.29199385, 48.77347922], [2.29876917, 48.77347922], [2.30215682, 48.77737305], [2.29876917, 48.78126688], [2.30215682, 48.78516071], [2.29876917, 48.78905454], [2.29199385, 48.78905454], [2.2886062, 48.79294837], [2.29199385, 48.7968422], [2.29876917, 48.7968422], [2.30215682, 48.79294837], [2.30893213, 48.79294837], [2.31231979, 48.7968422], [2.30893213, 48.80073602], [2.30215682, 48.80073602], [2.29876917, 48.80462985], [2.30215682, 48.80852368], [2.29876917, 48.81241751], [2.29199385, 48.81241751], [2.2886062, 48.81631134], [2.29199385, 48.82020517], [2.2886062, 48.824099], [2.29199385, 48.82799283], [2.2886062, 48.83188666], [2.28183089, 48.83188666], [2.27844323, 48.82799283], [2.28183089, 48.824099], [2.27844323, 48.82020517], [2.28183089, 48.81631134], [2.27844323, 48.81241751], [2.28183089, 48.80852368], [2.27844323, 48.80462985], [2.28183089, 48.80073602], [2.27844323, 48.7968422], [2.28183089, 48.79294837], [2.27844323, 48.78905454], [2.28183089, 48.78516071], [2.2886062, 48.78516071], [2.29199385, 48.78126688], [2.2886062, 48.77737305], [2.28183089, 48.77737305], [2.27844323, 48.77347922], [2.28183089, 48.76958539], [2.27844323, 48.76569156], [2.27166792, 48.76569156], [2.26828027, 48.76179773], [2.27166792, 48.7579039], [2.27844323, 48.7579039], [2.28183089, 48.75401008], [2.2886062, 48.75401008], [2.29199385, 48.75011625], [2.2886062, 48.74622242], [2.28183089, 48.74622242], [2.27844323, 48.74232859], [2.27166792, 48.74232859], [2.26828027, 48.73843476], [2.26150496, 48.73843476]]], [[[2.2581173, 48.78905454], [2.25134199, 48.78905454], [2.24795434, 48.78516071], [2.25134199, 48.78126688], [2.2581173, 48.78126688], [2.26150496, 48.77737305], [2.26828027, 48.77737305], [2.27166792, 48.78126688], [2.26828027, 48.78516071], [2.27166792, 48.78905454], [2.26828027, 48.79294837], [2.26150496, 48.79294837]]], [[[2.28183089, 48.66055818], [2.27844323, 48.66445201], [2.27166792, 48.66445201], [2.26828027, 48.66055818], [2.27166792, 48.65666435], [2.27844323, 48.65666435]]], [[[2.29199385, 48.8513558], [2.2886062, 48.85524963], [2.28183089, 48.85524963], [2.27844323, 48.8513558], [2.28183089, 48.84746197], [2.2886062, 48.84746197]]], [[[2.30215682, 48.69170881], [2.29876917, 48.69560264], [2.30215682, 48.69949647], [2.29876917, 48.7033903], [2.29199385, 48.7033903], [2.2886062, 48.69949647], [2.29199385, 48.69560264], [2.2886062, 48.69170881], [2.29199385, 48.68781498], [2.29876917, 48.68781498]]], [[[2.30215682, 48.71507178], [2.29876917, 48.71896561], [2.29199385, 48.71896561], [2.2886062, 48.71507178], [2.29199385, 48.71117796], [2.29876917, 48.71117796]]], [[[2.31231979, 48.6099384], [2.30893213, 48.61383223], [2.30215682, 48.61383223], [2.29876917, 48.6099384], [2.30215682, 48.60604457], [2.30893213, 48.60604457]]], [[[2.31231979, 48.63330137], [2.30893213, 48.6371952], [2.30215682, 48.6371952], [2.29876917, 48.63330137], [2.30215682, 48.62940754], [2.30893213, 48.62940754]]], [[[2.32248275, 48.65277052], [2.3190951, 48.65666435], [2.31231979, 48.65666435], [2.30893213, 48.65277052], [2.31231979, 48.64887669], [2.3190951, 48.64887669]]], [[[2.32248275, 48.69949647], [2.3190951, 48.7033903], [2.31231979, 48.7033903], [2.30893213, 48.69949647], [2.31231979, 48.69560264], [2.3190951, 48.69560264]]], [[[2.32248275, 48.90197558], [2.3190951, 48.90586941], [2.31231979, 48.90586941], [2.30893213, 48.90197558], [2.31231979, 48.89808175], [2.3190951, 48.89808175]]], [[[2.33264572, 48.6099384], [2.32925806, 48.61383223], [2.32248275, 48.61383223], [2.3190951, 48.6099384], [2.32248275, 48.60604457], [2.32925806, 48.60604457]]], [[[2.32925806, 48.67613349], [2.32248275, 48.67613349], [2.3190951, 48.67223966], [2.32248275, 48.66834584], [2.32925806, 48.66834584], [2.33264572, 48.67223966], [2.33942103, 48.67223966], [2.34280869, 48.67613349], [2.33942103, 48.68002732], [2.33264572, 48.68002732]]], [[[2.34280869, 48.64498286], [2.33942103, 48.64887669], [2.33264572, 48.64887669], [2.32925806, 48.64498286], [2.33264572, 48.64108903], [2.33942103, 48.64108903]]], [[[2.34280869, 48.90197558], [2.33942103, 48.90586941], [2.33264572, 48.90586941], [2.32925806, 48.90197558], [2.33264572, 48.89808175], [2.33942103, 48.89808175]]], [[[2.35297165, 48.7579039], [2.349584, 48.76179773], [2.34280869, 48.76179773], [2.33942103, 48.7579039], [2.34280869, 48.75401008], [2.349584, 48.75401008]]], [[[2.34280869, 48.9175509], [2.33942103, 48.91365707], [2.34280869, 48.90976324], [2.349584, 48.90976324], [2.35297165, 48.91365707], [2.35974696, 48.91365707], [2.36313462, 48.9175509], [2.36990993, 48.9175509], [2.37329758, 48.92144473], [2.36990993, 48.92533856], [2.36313462, 48.92533856], [2.35974696, 48.92144473], [2.35297165, 48.92144473], [2.349584, 48.92533856], [2.34280869, 48.92533856], [2.33942103, 48.92144473]]], [[[2.36313462, 48.7306471], [2.35974696, 48.73454093], [2.35297165, 48.73454093], [2.349584, 48.7306471], [2.35297165, 48.72675327], [2.35974696, 48.72675327]]], [[[2.36313462, 48.74622242], [2.35974696, 48.75011625], [2.35297165, 48.75011625], [2.349584, 48.74622242], [2.35297165, 48.74232859], [2.35974696, 48.74232859]]], [[[2.35297165, 48.89808175], [2.349584, 48.89418792], [2.35297165, 48.89029409], [2.35974696, 48.89029409], [2.36313462, 48.88640026], [2.36990993, 48.88640026], [2.37329758, 48.89029409], [2.36990993, 48.89418792], [2.37329758, 48.89808175], [2.36990993, 48.90197558], [2.37329758, 48.90586941], [2.36990993, 48.90976324], [2.36313462, 48.90976324], [2.35974696, 48.90586941], [2.35297165, 48.90586941], [2.349584, 48.90197558]]], [[[2.36990993, 48.87861261], [2.36313462, 48.87861261], [2.35974696, 48.87471878], [2.36313462, 48.87082495], [2.36990993, 48.87082495], [2.37329758, 48.86693112], [2.36990993, 48.86303729], [2.37329758, 48.85914346], [2.36990993, 48.85524963], [2.37329758, 48.8513558], [2.38007289, 48.8513558], [2.38346055, 48.85524963], [2.38007289, 48.85914346], [2.38346055, 48.86303729], [2.38007289, 48.86693112], [2.38346055, 48.87082495], [2.38007289, 48.87471878], [2.38346055, 48.87861261], [2.38007289, 48.88250644], [2.37329758, 48.88250644]]]], &quot;properties&quot;: {&quot;velocityScore.avg&quot;: 6.5}, &quot;type&quot;: &quot;MultiPolygon&quot;}, &quot;id&quot;: &quot;0&quot;, &quot;type&quot;: &quot;Feature&quot;}], &quot;type&quot;: &quot;FeatureCollection&quot;});\n",
       "\n",
       "        \n",
       "    \n",
       "            var choropleth_8dcce6c4c688b715d7d02a83852ec1f1 = L.featureGroup(\n",
       "                {}\n",
       "            ).addTo(map_aa652676ef7f1678f616f3d3e1cc4a04);\n",
       "        \n",
       "    \n",
       "        function geo_json_44582ff2432c86a720c9df89eafa9fdf_styler(feature) {\n",
       "            switch(feature.id) {\n",
       "                default:\n",
       "                    return {&quot;color&quot;: &quot;#006d2c&quot;, &quot;fillColor&quot;: &quot;#006d2c&quot;, &quot;fillOpacity&quot;: 0.6, &quot;opacity&quot;: 0, &quot;weight&quot;: 2};\n",
       "            }\n",
       "        }\n",
       "\n",
       "        function geo_json_44582ff2432c86a720c9df89eafa9fdf_onEachFeature(feature, layer) {\n",
       "            layer.on({\n",
       "            });\n",
       "        };\n",
       "        var geo_json_44582ff2432c86a720c9df89eafa9fdf = L.geoJson(null, {\n",
       "                onEachFeature: geo_json_44582ff2432c86a720c9df89eafa9fdf_onEachFeature,\n",
       "            \n",
       "                style: geo_json_44582ff2432c86a720c9df89eafa9fdf_styler,\n",
       "        });\n",
       "\n",
       "        function geo_json_44582ff2432c86a720c9df89eafa9fdf_add (data) {\n",
       "            geo_json_44582ff2432c86a720c9df89eafa9fdf\n",
       "                .addData(data)\n",
       "                .addTo(choropleth_8dcce6c4c688b715d7d02a83852ec1f1);\n",
       "        }\n",
       "            geo_json_44582ff2432c86a720c9df89eafa9fdf_add({&quot;features&quot;: [{&quot;geometry&quot;: {&quot;coordinates&quot;: [[[[2.1293864, 48.89808175], [2.12599874, 48.90197558], [2.11922343, 48.90197558], [2.11583578, 48.89808175], [2.11922343, 48.89418792], [2.12599874, 48.89418792]]], [[[2.13954936, 48.80073602], [2.13616171, 48.80462985], [2.1293864, 48.80462985], [2.12599874, 48.80073602], [2.1293864, 48.7968422], [2.13616171, 48.7968422], [2.13954936, 48.79294837], [2.14632467, 48.79294837], [2.14971233, 48.7968422], [2.14632467, 48.80073602]]], [[[2.17003826, 48.69560264], [2.16665061, 48.69949647], [2.1598753, 48.69949647], [2.15648764, 48.69560264], [2.1598753, 48.69170881], [2.16665061, 48.69170881]]], [[[2.17003826, 48.71117796], [2.16665061, 48.71507178], [2.1598753, 48.71507178], [2.15648764, 48.71117796], [2.1598753, 48.70728413], [2.16665061, 48.70728413]]], [[[2.17003826, 48.80462985], [2.16665061, 48.80852368], [2.1598753, 48.80852368], [2.15648764, 48.80462985], [2.1598753, 48.80073602], [2.16665061, 48.80073602], [2.17003826, 48.7968422], [2.17681357, 48.7968422], [2.18020123, 48.80073602], [2.17681357, 48.80462985]]], [[[2.18020123, 48.88640026], [2.17681357, 48.89029409], [2.17003826, 48.89029409], [2.16665061, 48.88640026], [2.17003826, 48.88250644], [2.17681357, 48.88250644]]], [[[2.19036419, 48.92144473], [2.18697654, 48.92533856], [2.18020123, 48.92533856], [2.17681357, 48.92144473], [2.18020123, 48.9175509], [2.18697654, 48.9175509]]], [[[2.20052716, 48.70728413], [2.1971395, 48.71117796], [2.19036419, 48.71117796], [2.18697654, 48.70728413], [2.19036419, 48.7033903], [2.1971395, 48.7033903]]], [[[2.20052716, 48.89418792], [2.1971395, 48.89808175], [2.19036419, 48.89808175], [2.18697654, 48.89418792], [2.19036419, 48.89029409], [2.1971395, 48.89029409]]], [[[2.22085309, 48.78516071], [2.21746544, 48.78905454], [2.21069013, 48.78905454], [2.20730247, 48.78516071], [2.21069013, 48.78126688], [2.21746544, 48.78126688]]], [[[2.22085309, 48.824099], [2.21746544, 48.82799283], [2.21069013, 48.82799283], [2.20730247, 48.824099], [2.21069013, 48.82020517], [2.21746544, 48.82020517]]], [[[2.21069013, 48.8513558], [2.20730247, 48.84746197], [2.21069013, 48.84356814], [2.21746544, 48.84356814], [2.22085309, 48.83967432], [2.2276284, 48.83967432], [2.23101606, 48.83578049], [2.2276284, 48.83188666], [2.23101606, 48.82799283], [2.23779137, 48.82799283], [2.24117902, 48.83188666], [2.24795434, 48.83188666], [2.25134199, 48.83578049], [2.2581173, 48.83578049], [2.26150496, 48.83967432], [2.26828027, 48.83967432], [2.27166792, 48.83578049], [2.26828027, 48.83188666], [2.26150496, 48.83188666], [2.2581173, 48.82799283], [2.26150496, 48.824099], [2.26828027, 48.824099], [2.27166792, 48.82020517], [2.26828027, 48.81631134], [2.27166792, 48.81241751], [2.27844323, 48.81241751], [2.28183089, 48.81631134], [2.27844323, 48.82020517], [2.28183089, 48.824099], [2.27844323, 48.82799283], [2.28183089, 48.83188666], [2.2886062, 48.83188666], [2.29199385, 48.82799283], [2.2886062, 48.824099], [2.29199385, 48.82020517], [2.2886062, 48.81631134], [2.29199385, 48.81241751], [2.29876917, 48.81241751], [2.30215682, 48.80852368], [2.30893213, 48.80852368], [2.31231979, 48.81241751], [2.3190951, 48.81241751], [2.32248275, 48.80852368], [2.32925806, 48.80852368], [2.33264572, 48.80462985], [2.33942103, 48.80462985], [2.34280869, 48.80852368], [2.33942103, 48.81241751], [2.34280869, 48.81631134], [2.33942103, 48.82020517], [2.33264572, 48.82020517], [2.32925806, 48.824099], [2.32248275, 48.824099], [2.3190951, 48.82799283], [2.31231979, 48.82799283], [2.30893213, 48.824099], [2.30215682, 48.824099], [2.29876917, 48.82799283], [2.30215682, 48.83188666], [2.30893213, 48.83188666], [2.31231979, 48.83578049], [2.30893213, 48.83967432], [2.31231979, 48.84356814], [2.30893213, 48.84746197], [2.31231979, 48.8513558], [2.30893213, 48.85524963], [2.31231979, 48.85914346], [2.30893213, 48.86303729], [2.30215682, 48.86303729], [2.29876917, 48.85914346], [2.29199385, 48.85914346], [2.2886062, 48.85524963], [2.29199385, 48.8513558], [2.29876917, 48.8513558], [2.30215682, 48.84746197], [2.29876917, 48.84356814], [2.29199385, 48.84356814], [2.2886062, 48.84746197], [2.28183089, 48.84746197], [2.27844323, 48.8513558], [2.28183089, 48.85524963], [2.27844323, 48.85914346], [2.28183089, 48.86303729], [2.2886062, 48.86303729], [2.29199385, 48.86693112], [2.2886062, 48.87082495], [2.28183089, 48.87082495], [2.27844323, 48.87471878], [2.28183089, 48.87861261], [2.2886062, 48.87861261], [2.29199385, 48.88250644], [2.2886062, 48.88640026], [2.28183089, 48.88640026], [2.27844323, 48.89029409], [2.27166792, 48.89029409], [2.26828027, 48.88640026], [2.27166792, 48.88250644], [2.26828027, 48.87861261], [2.27166792, 48.87471878], [2.26828027, 48.87082495], [2.27166792, 48.86693112], [2.26828027, 48.86303729], [2.27166792, 48.85914346], [2.26828027, 48.85524963], [2.26150496, 48.85524963], [2.2581173, 48.8513558], [2.26150496, 48.84746197], [2.2581173, 48.84356814], [2.25134199, 48.84356814], [2.24795434, 48.83967432], [2.24117902, 48.83967432], [2.23779137, 48.84356814], [2.23101606, 48.84356814], [2.2276284, 48.84746197], [2.23101606, 48.8513558], [2.2276284, 48.85524963], [2.22085309, 48.85524963], [2.21746544, 48.85914346], [2.21069013, 48.85914346], [2.20730247, 48.85524963]]], [[[2.21746544, 48.87471878], [2.21069013, 48.87471878], [2.20730247, 48.87082495], [2.21069013, 48.86693112], [2.21746544, 48.86693112], [2.22085309, 48.87082495], [2.2276284, 48.87082495], [2.23101606, 48.87471878], [2.2276284, 48.87861261], [2.23101606, 48.88250644], [2.23779137, 48.88250644], [2.24117902, 48.88640026], [2.23779137, 48.89029409], [2.23101606, 48.89029409], [2.2276284, 48.89418792], [2.22085309, 48.89418792], [2.21746544, 48.89808175], [2.21069013, 48.89808175], [2.20730247, 48.89418792], [2.21069013, 48.89029409], [2.21746544, 48.89029409], [2.22085309, 48.88640026], [2.21746544, 48.88250644], [2.22085309, 48.87861261]]], [[[2.24117902, 48.90197558], [2.23779137, 48.90586941], [2.24117902, 48.90976324], [2.23779137, 48.91365707], [2.23101606, 48.91365707], [2.2276284, 48.90976324], [2.23101606, 48.90586941], [2.2276284, 48.90197558], [2.23101606, 48.89808175], [2.23779137, 48.89808175], [2.24117902, 48.89418792], [2.24795434, 48.89418792], [2.25134199, 48.89808175], [2.24795434, 48.90197558]]], [[[2.24795434, 48.72285944], [2.24117902, 48.72285944], [2.23779137, 48.71896561], [2.24117902, 48.71507178], [2.24795434, 48.71507178], [2.25134199, 48.71896561], [2.2581173, 48.71896561], [2.26150496, 48.72285944], [2.26828027, 48.72285944], [2.27166792, 48.72675327], [2.26828027, 48.7306471], [2.26150496, 48.7306471], [2.2581173, 48.72675327], [2.25134199, 48.72675327]]], [[[2.26150496, 48.88640026], [2.2581173, 48.89029409], [2.25134199, 48.89029409], [2.24795434, 48.88640026], [2.25134199, 48.88250644], [2.2581173, 48.88250644]]], [[[2.28183089, 48.90197558], [2.27844323, 48.90586941], [2.27166792, 48.90586941], [2.26828027, 48.90197558], [2.27166792, 48.89808175], [2.27844323, 48.89808175]]], [[[2.29876917, 48.89808175], [2.29199385, 48.89808175], [2.2886062, 48.89418792], [2.29199385, 48.89029409], [2.29876917, 48.89029409], [2.30215682, 48.88640026], [2.30893213, 48.88640026], [2.31231979, 48.89029409], [2.30893213, 48.89418792], [2.31231979, 48.89808175], [2.30893213, 48.90197558], [2.31231979, 48.90586941], [2.30893213, 48.90976324], [2.30215682, 48.90976324], [2.29876917, 48.90586941], [2.30215682, 48.90197558]]], [[[2.31231979, 48.75011625], [2.30893213, 48.75401008], [2.30215682, 48.75401008], [2.29876917, 48.75011625], [2.30215682, 48.74622242], [2.30893213, 48.74622242]]], [[[2.31231979, 48.78126688], [2.30893213, 48.78516071], [2.30215682, 48.78516071], [2.29876917, 48.78126688], [2.30215682, 48.77737305], [2.30893213, 48.77737305], [2.31231979, 48.77347922], [2.3190951, 48.77347922], [2.32248275, 48.77737305], [2.3190951, 48.78126688]]], [[[2.31231979, 48.7968422], [2.30893213, 48.79294837], [2.31231979, 48.78905454], [2.3190951, 48.78905454], [2.32248275, 48.79294837], [2.32925806, 48.79294837], [2.33264572, 48.7968422], [2.32925806, 48.80073602], [2.32248275, 48.80073602], [2.3190951, 48.80462985], [2.31231979, 48.80462985], [2.30893213, 48.80073602]]], [[[2.33264572, 48.89808175], [2.32925806, 48.90197558], [2.33264572, 48.90586941], [2.33942103, 48.90586941], [2.34280869, 48.90976324], [2.33942103, 48.91365707], [2.33264572, 48.91365707], [2.32925806, 48.90976324], [2.32248275, 48.90976324], [2.3190951, 48.90586941], [2.32248275, 48.90197558], [2.3190951, 48.89808175], [2.32248275, 48.89418792], [2.32925806, 48.89418792], [2.33264572, 48.89029409], [2.32925806, 48.88640026], [2.33264572, 48.88250644], [2.33942103, 48.88250644], [2.34280869, 48.88640026], [2.349584, 48.88640026], [2.35297165, 48.88250644], [2.35974696, 48.88250644], [2.36313462, 48.87861261], [2.36990993, 48.87861261], [2.37329758, 48.88250644], [2.36990993, 48.88640026], [2.36313462, 48.88640026], [2.35974696, 48.89029409], [2.35297165, 48.89029409], [2.349584, 48.89418792], [2.35297165, 48.89808175], [2.349584, 48.90197558], [2.34280869, 48.90197558], [2.33942103, 48.89808175]]], [[[2.34280869, 48.84746197], [2.33942103, 48.8513558], [2.33264572, 48.8513558], [2.32925806, 48.84746197], [2.33264572, 48.84356814], [2.33942103, 48.84356814], [2.34280869, 48.83967432], [2.33942103, 48.83578049], [2.34280869, 48.83188666], [2.33942103, 48.82799283], [2.34280869, 48.824099], [2.349584, 48.824099], [2.35297165, 48.82020517], [2.35974696, 48.82020517], [2.36313462, 48.81631134], [2.36990993, 48.81631134], [2.37329758, 48.81241751], [2.38007289, 48.81241751], [2.38346055, 48.81631134], [2.38007289, 48.82020517], [2.38346055, 48.824099], [2.38007289, 48.82799283], [2.38346055, 48.83188666], [2.38007289, 48.83578049], [2.37329758, 48.83578049], [2.36990993, 48.83967432], [2.37329758, 48.84356814], [2.38007289, 48.84356814], [2.38346055, 48.84746197], [2.38007289, 48.8513558], [2.37329758, 48.8513558], [2.36990993, 48.85524963], [2.37329758, 48.85914346], [2.36990993, 48.86303729], [2.37329758, 48.86693112], [2.36990993, 48.87082495], [2.36313462, 48.87082495], [2.35974696, 48.86693112], [2.35297165, 48.86693112], [2.349584, 48.86303729], [2.35297165, 48.85914346], [2.349584, 48.85524963], [2.35297165, 48.8513558], [2.349584, 48.84746197]], [[2.35297165, 48.82799283], [2.349584, 48.83188666], [2.35297165, 48.83578049], [2.35974696, 48.83578049], [2.36313462, 48.83188666], [2.35974696, 48.82799283]]], [[[2.35297165, 48.87471878], [2.349584, 48.87861261], [2.34280869, 48.87861261], [2.33942103, 48.87471878], [2.34280869, 48.87082495], [2.349584, 48.87082495]]]], &quot;properties&quot;: {&quot;velocityScore.avg&quot;: 7.5}, &quot;type&quot;: &quot;MultiPolygon&quot;}, &quot;id&quot;: &quot;0&quot;, &quot;type&quot;: &quot;Feature&quot;}], &quot;type&quot;: &quot;FeatureCollection&quot;});\n",
       "\n",
       "        \n",
       "    \n",
       "            var choropleth_6bb300eb0962a90f30fe9e26073b1efa = L.featureGroup(\n",
       "                {}\n",
       "            ).addTo(map_aa652676ef7f1678f616f3d3e1cc4a04);\n",
       "        \n",
       "    \n",
       "        function geo_json_a7267eb824b5c7dd9695b35a12d5edca_styler(feature) {\n",
       "            switch(feature.id) {\n",
       "                default:\n",
       "                    return {&quot;color&quot;: &quot;#6baed6&quot;, &quot;fillColor&quot;: &quot;#6baed6&quot;, &quot;fillOpacity&quot;: 0.6, &quot;opacity&quot;: 0, &quot;weight&quot;: 2};\n",
       "            }\n",
       "        }\n",
       "\n",
       "        function geo_json_a7267eb824b5c7dd9695b35a12d5edca_onEachFeature(feature, layer) {\n",
       "            layer.on({\n",
       "            });\n",
       "        };\n",
       "        var geo_json_a7267eb824b5c7dd9695b35a12d5edca = L.geoJson(null, {\n",
       "                onEachFeature: geo_json_a7267eb824b5c7dd9695b35a12d5edca_onEachFeature,\n",
       "            \n",
       "                style: geo_json_a7267eb824b5c7dd9695b35a12d5edca_styler,\n",
       "        });\n",
       "\n",
       "        function geo_json_a7267eb824b5c7dd9695b35a12d5edca_add (data) {\n",
       "            geo_json_a7267eb824b5c7dd9695b35a12d5edca\n",
       "                .addData(data)\n",
       "                .addTo(choropleth_6bb300eb0962a90f30fe9e26073b1efa);\n",
       "        }\n",
       "            geo_json_a7267eb824b5c7dd9695b35a12d5edca_add({&quot;features&quot;: [{&quot;geometry&quot;: {&quot;coordinates&quot;: [[[[2.22085309, 48.90197558], [2.21746544, 48.90586941], [2.21069013, 48.90586941], [2.20730247, 48.90197558], [2.21069013, 48.89808175], [2.21746544, 48.89808175], [2.22085309, 48.89418792], [2.2276284, 48.89418792], [2.23101606, 48.89808175], [2.2276284, 48.90197558]]], [[[2.23101606, 48.82799283], [2.2276284, 48.83188666], [2.22085309, 48.83188666], [2.21746544, 48.82799283], [2.22085309, 48.824099], [2.2276284, 48.824099]]], [[[2.23101606, 48.86693112], [2.2276284, 48.87082495], [2.22085309, 48.87082495], [2.21746544, 48.86693112], [2.22085309, 48.86303729], [2.2276284, 48.86303729]]], [[[2.25134199, 48.89029409], [2.24795434, 48.89418792], [2.24117902, 48.89418792], [2.23779137, 48.89029409], [2.24117902, 48.88640026], [2.24795434, 48.88640026]]], [[[2.2886062, 48.86303729], [2.28183089, 48.86303729], [2.27844323, 48.85914346], [2.28183089, 48.85524963], [2.2886062, 48.85524963], [2.29199385, 48.85914346], [2.29876917, 48.85914346], [2.30215682, 48.86303729], [2.30893213, 48.86303729], [2.31231979, 48.85914346], [2.30893213, 48.85524963], [2.31231979, 48.8513558], [2.3190951, 48.8513558], [2.32248275, 48.85524963], [2.32925806, 48.85524963], [2.33264572, 48.85914346], [2.32925806, 48.86303729], [2.32248275, 48.86303729], [2.3190951, 48.86693112], [2.31231979, 48.86693112], [2.30893213, 48.87082495], [2.31231979, 48.87471878], [2.3190951, 48.87471878], [2.32248275, 48.87861261], [2.3190951, 48.88250644], [2.32248275, 48.88640026], [2.32925806, 48.88640026], [2.33264572, 48.89029409], [2.32925806, 48.89418792], [2.32248275, 48.89418792], [2.3190951, 48.89029409], [2.31231979, 48.89029409], [2.30893213, 48.88640026], [2.30215682, 48.88640026], [2.29876917, 48.89029409], [2.29199385, 48.89029409], [2.2886062, 48.88640026], [2.29199385, 48.88250644], [2.2886062, 48.87861261], [2.28183089, 48.87861261], [2.27844323, 48.87471878], [2.28183089, 48.87082495], [2.2886062, 48.87082495], [2.29199385, 48.86693112]]], [[[2.29199385, 48.90586941], [2.2886062, 48.90976324], [2.28183089, 48.90976324], [2.27844323, 48.90586941], [2.28183089, 48.90197558], [2.2886062, 48.90197558]]], [[[2.30215682, 48.84746197], [2.29876917, 48.8513558], [2.29199385, 48.8513558], [2.2886062, 48.84746197], [2.29199385, 48.84356814], [2.29876917, 48.84356814]]], [[[2.31231979, 48.83578049], [2.30893213, 48.83188666], [2.31231979, 48.82799283], [2.3190951, 48.82799283], [2.32248275, 48.83188666], [2.32925806, 48.83188666], [2.33264572, 48.82799283], [2.32925806, 48.824099], [2.33264572, 48.82020517], [2.33942103, 48.82020517], [2.34280869, 48.81631134], [2.349584, 48.81631134], [2.35297165, 48.82020517], [2.349584, 48.824099], [2.34280869, 48.824099], [2.33942103, 48.82799283], [2.34280869, 48.83188666], [2.33942103, 48.83578049], [2.34280869, 48.83967432], [2.33942103, 48.84356814], [2.33264572, 48.84356814], [2.32925806, 48.83967432], [2.32248275, 48.83967432], [2.3190951, 48.84356814], [2.31231979, 48.84356814], [2.30893213, 48.83967432]]], [[[2.33942103, 48.88250644], [2.33264572, 48.88250644], [2.32925806, 48.87861261], [2.33264572, 48.87471878], [2.33942103, 48.87471878], [2.34280869, 48.87861261], [2.349584, 48.87861261], [2.35297165, 48.87471878], [2.349584, 48.87082495], [2.34280869, 48.87082495], [2.33942103, 48.86693112], [2.34280869, 48.86303729], [2.349584, 48.86303729], [2.35297165, 48.86693112], [2.35974696, 48.86693112], [2.36313462, 48.87082495], [2.35974696, 48.87471878], [2.36313462, 48.87861261], [2.35974696, 48.88250644], [2.35297165, 48.88250644], [2.349584, 48.88640026], [2.34280869, 48.88640026]]], [[[2.38346055, 48.83967432], [2.38007289, 48.84356814], [2.37329758, 48.84356814], [2.36990993, 48.83967432], [2.37329758, 48.83578049], [2.38007289, 48.83578049]]]], &quot;properties&quot;: {&quot;velocityScore.avg&quot;: 8.5}, &quot;type&quot;: &quot;MultiPolygon&quot;}, &quot;id&quot;: &quot;0&quot;, &quot;type&quot;: &quot;Feature&quot;}], &quot;type&quot;: &quot;FeatureCollection&quot;});\n",
       "\n",
       "        \n",
       "    \n",
       "            var choropleth_47a72d1d957f60a5407c19dcb6acb40c = L.featureGroup(\n",
       "                {}\n",
       "            ).addTo(map_aa652676ef7f1678f616f3d3e1cc4a04);\n",
       "        \n",
       "    \n",
       "        function geo_json_90182ac8c4f0dc234573dd255bf04c7b_styler(feature) {\n",
       "            switch(feature.id) {\n",
       "                default:\n",
       "                    return {&quot;color&quot;: &quot;#4292c6&quot;, &quot;fillColor&quot;: &quot;#4292c6&quot;, &quot;fillOpacity&quot;: 0.6, &quot;opacity&quot;: 0, &quot;weight&quot;: 2};\n",
       "            }\n",
       "        }\n",
       "\n",
       "        function geo_json_90182ac8c4f0dc234573dd255bf04c7b_onEachFeature(feature, layer) {\n",
       "            layer.on({\n",
       "            });\n",
       "        };\n",
       "        var geo_json_90182ac8c4f0dc234573dd255bf04c7b = L.geoJson(null, {\n",
       "                onEachFeature: geo_json_90182ac8c4f0dc234573dd255bf04c7b_onEachFeature,\n",
       "            \n",
       "                style: geo_json_90182ac8c4f0dc234573dd255bf04c7b_styler,\n",
       "        });\n",
       "\n",
       "        function geo_json_90182ac8c4f0dc234573dd255bf04c7b_add (data) {\n",
       "            geo_json_90182ac8c4f0dc234573dd255bf04c7b\n",
       "                .addData(data)\n",
       "                .addTo(choropleth_47a72d1d957f60a5407c19dcb6acb40c);\n",
       "        }\n",
       "            geo_json_90182ac8c4f0dc234573dd255bf04c7b_add({&quot;features&quot;: [{&quot;geometry&quot;: {&quot;coordinates&quot;: [[[[2.31231979, 48.82799283], [2.30893213, 48.83188666], [2.30215682, 48.83188666], [2.29876917, 48.82799283], [2.30215682, 48.824099], [2.30893213, 48.824099]]], [[[2.32248275, 48.87082495], [2.3190951, 48.87471878], [2.31231979, 48.87471878], [2.30893213, 48.87082495], [2.31231979, 48.86693112], [2.3190951, 48.86693112], [2.32248275, 48.86303729], [2.32925806, 48.86303729], [2.33264572, 48.86693112], [2.33942103, 48.86693112], [2.34280869, 48.87082495], [2.33942103, 48.87471878], [2.33264572, 48.87471878], [2.32925806, 48.87082495]]], [[[2.32248275, 48.89418792], [2.3190951, 48.89808175], [2.31231979, 48.89808175], [2.30893213, 48.89418792], [2.31231979, 48.89029409], [2.3190951, 48.89029409]]], [[[2.33264572, 48.82799283], [2.32925806, 48.83188666], [2.32248275, 48.83188666], [2.3190951, 48.82799283], [2.32248275, 48.824099], [2.32925806, 48.824099]]], [[[2.33264572, 48.84356814], [2.32925806, 48.84746197], [2.33264572, 48.8513558], [2.33942103, 48.8513558], [2.34280869, 48.84746197], [2.349584, 48.84746197], [2.35297165, 48.8513558], [2.349584, 48.85524963], [2.34280869, 48.85524963], [2.33942103, 48.85914346], [2.33264572, 48.85914346], [2.32925806, 48.85524963], [2.32248275, 48.85524963], [2.3190951, 48.8513558], [2.32248275, 48.84746197], [2.3190951, 48.84356814], [2.32248275, 48.83967432], [2.32925806, 48.83967432]]], [[[2.33264572, 48.88250644], [2.32925806, 48.88640026], [2.32248275, 48.88640026], [2.3190951, 48.88250644], [2.32248275, 48.87861261], [2.32925806, 48.87861261]]], [[[2.36313462, 48.83188666], [2.35974696, 48.83578049], [2.35297165, 48.83578049], [2.349584, 48.83188666], [2.35297165, 48.82799283], [2.35974696, 48.82799283]]]], &quot;properties&quot;: {&quot;velocityScore.avg&quot;: 9.5}, &quot;type&quot;: &quot;MultiPolygon&quot;}, &quot;id&quot;: &quot;0&quot;, &quot;type&quot;: &quot;Feature&quot;}], &quot;type&quot;: &quot;FeatureCollection&quot;});\n",
       "\n",
       "        \n",
       "    \n",
       "            var choropleth_fd463a08e66a9d3b8c19ba577dab0bca = L.featureGroup(\n",
       "                {}\n",
       "            ).addTo(map_aa652676ef7f1678f616f3d3e1cc4a04);\n",
       "        \n",
       "    \n",
       "        function geo_json_1b91c05e80dbc1c1d1ae081407f35346_styler(feature) {\n",
       "            switch(feature.id) {\n",
       "                default:\n",
       "                    return {&quot;color&quot;: &quot;#2171b5&quot;, &quot;fillColor&quot;: &quot;#2171b5&quot;, &quot;fillOpacity&quot;: 0.6, &quot;opacity&quot;: 0, &quot;weight&quot;: 2};\n",
       "            }\n",
       "        }\n",
       "\n",
       "        function geo_json_1b91c05e80dbc1c1d1ae081407f35346_onEachFeature(feature, layer) {\n",
       "            layer.on({\n",
       "            });\n",
       "        };\n",
       "        var geo_json_1b91c05e80dbc1c1d1ae081407f35346 = L.geoJson(null, {\n",
       "                onEachFeature: geo_json_1b91c05e80dbc1c1d1ae081407f35346_onEachFeature,\n",
       "            \n",
       "                style: geo_json_1b91c05e80dbc1c1d1ae081407f35346_styler,\n",
       "        });\n",
       "\n",
       "        function geo_json_1b91c05e80dbc1c1d1ae081407f35346_add (data) {\n",
       "            geo_json_1b91c05e80dbc1c1d1ae081407f35346\n",
       "                .addData(data)\n",
       "                .addTo(choropleth_fd463a08e66a9d3b8c19ba577dab0bca);\n",
       "        }\n",
       "            geo_json_1b91c05e80dbc1c1d1ae081407f35346_add({&quot;features&quot;: [{&quot;geometry&quot;: {&quot;coordinates&quot;: [[[[2.32248275, 48.84746197], [2.3190951, 48.8513558], [2.31231979, 48.8513558], [2.30893213, 48.84746197], [2.31231979, 48.84356814], [2.3190951, 48.84356814]]], [[[2.33264572, 48.87471878], [2.32925806, 48.87861261], [2.32248275, 48.87861261], [2.3190951, 48.87471878], [2.32248275, 48.87082495], [2.32925806, 48.87082495]]], [[[2.34280869, 48.86303729], [2.33942103, 48.86693112], [2.33264572, 48.86693112], [2.32925806, 48.86303729], [2.33264572, 48.85914346], [2.33942103, 48.85914346], [2.34280869, 48.85524963], [2.349584, 48.85524963], [2.35297165, 48.85914346], [2.349584, 48.86303729]]]], &quot;properties&quot;: {&quot;velocityScore.avg&quot;: 10.5}, &quot;type&quot;: &quot;MultiPolygon&quot;}, &quot;id&quot;: &quot;0&quot;, &quot;type&quot;: &quot;Feature&quot;}], &quot;type&quot;: &quot;FeatureCollection&quot;});\n",
       "\n",
       "        \n",
       "&lt;/script&gt;\n",
       "&lt;/html&gt;\" style=\"position:absolute;width:100%;height:100%;left:0;top:0;border:none !important;\" allowfullscreen webkitallowfullscreen mozallowfullscreen></iframe></div></div>"
      ],
      "text/plain": [
       "<folium.folium.Map at 0x7f0ced9544c0>"
      ]
     },
     "execution_count": 62,
     "metadata": {},
     "output_type": "execute_result"
    }
   ],
   "source": [
    "from library.libHex import reduceGeojsonInShellSubField\n",
    "from IPython.core.display import display, HTML\n",
    "\n",
    "field1 = 'velocityScore'\n",
    "field2 = 'avg'\n",
    "color = ['#993404', \"#f16913\", \"#fdae6b\", '#74c476', '#31a354', '#006d2c', \"#6baed6\", \"#4292c6\", \"#2171b5\", '#08519c', '#f768a1', '#dd3497', '#ae017e', '#49006a'];\n",
    "shell = [0., 2., 4., 5, 6., 7, 8., 9, 10., 11, 12., 13, 15, 17.];\n",
    "#print (\"number of hexs in total\", gtfsDB['points'].find({field1:{'$exists':True}, 'city':city}).count())\n",
    "res = reduceGeojsonInShellSubField(list(gtfsDB['points'].find({'city':city})), field1, field2, color, shell)\n",
    "#res = showMapHexRedux(city, gtfsDB['points'], field = field, shell = shell, save=True)\n",
    "\n",
    "display(HTML('<h1>Velocity Score</h1>'))\n",
    "\n",
    "res[1]"
   ]
  },
  {
   "cell_type": "code",
   "execution_count": 157,
   "metadata": {
    "scrolled": true
   },
   "outputs": [
    {
     "name": "stdout",
     "output_type": "stream",
     "text": [
      "shell 1.7085427135678393-1.8090452261306533 -> 1 hexs\n",
      "shell 1.8090452261306533-1.9095477386934674 -> 2 hexs\n",
      "shell 1.9095477386934674-2.0100502512562817 -> 3 hexs\n",
      "shell 2.0100502512562817-2.1105527638190957 -> 5 hexs\n",
      "shell 2.1105527638190957-2.21105527638191 -> 6 hexs\n",
      "shell 2.21105527638191-2.311557788944724 -> 10 hexs\n",
      "shell 2.311557788944724-2.412060301507538 -> 21 hexs\n",
      "shell 2.412060301507538-2.512562814070352 -> 12 hexs\n",
      "shell 2.512562814070352-2.613065326633166 -> 21 hexs\n",
      "shell 2.613065326633166-2.71356783919598 -> 24 hexs\n",
      "shell 2.71356783919598-2.814070351758794 -> 34 hexs\n",
      "shell 2.814070351758794-2.9145728643216082 -> 31 hexs\n",
      "shell 2.9145728643216082-3.0150753768844223 -> 34 hexs\n",
      "shell 3.0150753768844223-3.1155778894472363 -> 28 hexs\n",
      "shell 3.1155778894472363-3.2160804020100504 -> 24 hexs\n",
      "shell 3.2160804020100504-3.3165829145728645 -> 35 hexs\n",
      "shell 3.3165829145728645-3.4170854271356785 -> 31 hexs\n",
      "shell 3.4170854271356785-3.5175879396984926 -> 34 hexs\n",
      "shell 3.5175879396984926-3.6180904522613067 -> 31 hexs\n",
      "shell 3.6180904522613067-3.7185929648241207 -> 37 hexs\n",
      "shell 3.7185929648241207-3.819095477386935 -> 22 hexs\n",
      "shell 3.819095477386935-3.919597989949749 -> 37 hexs\n",
      "shell 3.919597989949749-4.020100502512563 -> 27 hexs\n"
     ]
    },
    {
     "name": "stderr",
     "output_type": "stream",
     "text": [
      "/home/sdiepolder/anaconda3/lib/python3.8/site-packages/folium/folium.py:465: FutureWarning: The choropleth  method has been deprecated. Instead use the new Choropleth class, which has the same arguments. See the example notebook 'GeoJSON_and_choropleth' for how to do this.\n",
      "  warnings.warn(\n"
     ]
    },
    {
     "name": "stdout",
     "output_type": "stream",
     "text": [
      "shell 4.020100502512563-4.120603015075377 -> 35 hexs\n",
      "shell 4.120603015075377-4.2211055276381915 -> 29 hexs\n",
      "shell 4.2211055276381915-4.3216080402010055 -> 29 hexs\n",
      "shell 4.3216080402010055-4.42211055276382 -> 30 hexs\n",
      "shell 4.42211055276382-4.522613065326634 -> 35 hexs\n",
      "shell 4.522613065326634-4.623115577889448 -> 43 hexs\n",
      "shell 4.623115577889448-4.723618090452262 -> 61 hexs\n",
      "shell 4.723618090452262-4.824120603015076 -> 46 hexs\n",
      "shell 4.824120603015076-4.92462311557789 -> 41 hexs\n",
      "shell 4.92462311557789-5.025125628140704 -> 39 hexs\n",
      "shell 5.025125628140704-5.125628140703518 -> 49 hexs\n",
      "shell 5.125628140703518-5.226130653266332 -> 35 hexs\n",
      "shell 5.226130653266332-5.326633165829146 -> 47 hexs\n",
      "shell 5.326633165829146-5.42713567839196 -> 37 hexs\n",
      "shell 5.42713567839196-5.527638190954774 -> 43 hexs\n",
      "shell 5.527638190954774-5.628140703517588 -> 25 hexs\n",
      "shell 5.628140703517588-5.728643216080402 -> 30 hexs\n",
      "shell 5.728643216080402-5.8291457286432165 -> 33 hexs\n",
      "shell 5.8291457286432165-5.9296482412060305 -> 29 hexs\n",
      "shell 5.9296482412060305-6.030150753768845 -> 27 hexs\n",
      "shell 6.030150753768845-6.130653266331659 -> 32 hexs\n",
      "shell 6.130653266331659-6.231155778894473 -> 19 hexs\n",
      "shell 6.231155778894473-6.331658291457287 -> 31 hexs\n",
      "shell 6.331658291457287-6.432160804020101 -> 26 hexs\n",
      "shell 6.432160804020101-6.532663316582915 -> 15 hexs\n",
      "shell 6.532663316582915-6.633165829145729 -> 27 hexs\n",
      "shell 6.633165829145729-6.733668341708543 -> 16 hexs\n",
      "shell 6.733668341708543-6.834170854271357 -> 12 hexs\n",
      "shell 6.834170854271357-6.934673366834171 -> 15 hexs\n",
      "shell 6.934673366834171-7.035175879396985 -> 11 hexs\n",
      "shell 7.035175879396985-7.135678391959799 -> 14 hexs\n",
      "shell 7.135678391959799-7.236180904522613 -> 15 hexs\n",
      "shell 7.236180904522613-7.336683417085427 -> 16 hexs\n",
      "shell 7.336683417085427-7.437185929648241 -> 8 hexs\n",
      "shell 7.437185929648241-7.5376884422110555 -> 10 hexs\n",
      "shell 7.5376884422110555-7.63819095477387 -> 9 hexs\n",
      "shell 7.63819095477387-7.738693467336684 -> 13 hexs\n",
      "shell 7.738693467336684-7.839195979899498 -> 9 hexs\n",
      "shell 7.839195979899498-7.939698492462312 -> 7 hexs\n",
      "shell 7.939698492462312-8.040201005025127 -> 3 hexs\n",
      "shell 8.040201005025127-8.14070351758794 -> 7 hexs\n",
      "shell 8.14070351758794-8.241206030150755 -> 4 hexs\n",
      "shell 8.241206030150755-8.341708542713569 -> 5 hexs\n",
      "shell 8.341708542713569-8.442211055276383 -> 1 hexs\n",
      "shell 8.442211055276383-8.542713567839197 -> 5 hexs\n",
      "shell 8.542713567839197-8.643216080402011 -> 3 hexs\n",
      "shell 8.643216080402011-8.743718592964825 -> 3 hexs\n",
      "shell 8.743718592964825-8.84422110552764 -> 3 hexs\n",
      "shell 8.84422110552764-8.944723618090453 -> 4 hexs\n",
      "shell 8.944723618090453-9.045226130653267 -> 4 hexs\n",
      "shell 9.145728643216081-9.246231155778895 -> 3 hexs\n",
      "shell 9.34673366834171-9.447236180904524 -> 1 hexs\n",
      "shell 9.447236180904524-9.547738693467338 -> 1 hexs\n",
      "shell 9.547738693467338-9.648241206030152 -> 2 hexs\n",
      "shell 9.648241206030152-9.748743718592966 -> 1 hexs\n",
      "shell 10.050251256281408-10.150753768844222 -> 1 hexs\n",
      "shell 10.251256281407036-10.35175879396985 -> 2 hexs\n",
      "shell 10.552763819095478-10.653266331658292 -> 1 hexs\n"
     ]
    }
   ],
   "source": [
    "field1 = 'velocityScore'\n",
    "field2 = 'avg'\n",
    "#top = 5000000 # socialityScore\n",
    "top = 20 # velocityScore\n",
    "shell = list(np.linspace(0,top,int(top*10)))\n",
    "color = ['#993404'] * len(shell)\n",
    "res = reduceGeojsonInShellSubField(list(gtfsDB['points'].find({'city':city})), field1, field2, color, shell)\n",
    "\n",
    "attribute = field1 + '.' + field2\n",
    "res[0]['features'][0]['properties']\n",
    "\n",
    "att = []\n",
    "geometries = []\n",
    "for i in range(len(res[0]['features'])):\n",
    "    \n",
    "    geom = res[0]['features'][i]['coordinates']\n",
    "    type = res[0]['features'][i]['type']\n",
    "    data = {\"type\": type, \"coordinates\": geom}\n",
    "    g = shape(data)\n",
    "    geometries.append(shapely.wkt.dumps(g))\n",
    "    att.append((res[0]['features'][i]['properties'][attribute]))\n",
    "    \n",
    "gs = gpd.GeoSeries.from_wkt(geometries, crs = 4326)\n",
    "df = pd.DataFrame(att,columns=[attribute])\n",
    "gdf2 = gpd.GeoDataFrame(df, geometry=gs , crs = 4326)"
   ]
  },
  {
   "cell_type": "code",
   "execution_count": 144,
   "metadata": {},
   "outputs": [],
   "source": [
    "import contextily as cx\n",
    "import matplotlib.pyplot as plt\n",
    "import matplotlib.cm as cm\n",
    "import matplotlib.colors as mcolors\n",
    "from matplotlib.lines import Line2D"
   ]
  },
  {
   "cell_type": "code",
   "execution_count": 158,
   "metadata": {},
   "outputs": [
    {
     "data": {
      "text/html": [
       "<div>\n",
       "<style scoped>\n",
       "    .dataframe tbody tr th:only-of-type {\n",
       "        vertical-align: middle;\n",
       "    }\n",
       "\n",
       "    .dataframe tbody tr th {\n",
       "        vertical-align: top;\n",
       "    }\n",
       "\n",
       "    .dataframe thead th {\n",
       "        text-align: right;\n",
       "    }\n",
       "</style>\n",
       "<table border=\"1\" class=\"dataframe\">\n",
       "  <thead>\n",
       "    <tr style=\"text-align: right;\">\n",
       "      <th></th>\n",
       "      <th>velocityScore.avg</th>\n",
       "      <th>geometry</th>\n",
       "    </tr>\n",
       "  </thead>\n",
       "  <tbody>\n",
       "    <tr>\n",
       "      <th>0</th>\n",
       "      <td>1.758794</td>\n",
       "      <td>MULTIPOLYGON (((2.12939 48.57100, 2.12600 48.5...</td>\n",
       "    </tr>\n",
       "    <tr>\n",
       "      <th>1</th>\n",
       "      <td>1.859296</td>\n",
       "      <td>MULTIPOLYGON (((1.99727 48.60604, 1.99388 48.6...</td>\n",
       "    </tr>\n",
       "    <tr>\n",
       "      <th>2</th>\n",
       "      <td>1.959799</td>\n",
       "      <td>MULTIPOLYGON (((1.99727 48.67613, 1.99388 48.6...</td>\n",
       "    </tr>\n",
       "    <tr>\n",
       "      <th>3</th>\n",
       "      <td>2.060302</td>\n",
       "      <td>MULTIPOLYGON (((2.02776 48.57100, 2.02437 48.5...</td>\n",
       "    </tr>\n",
       "    <tr>\n",
       "      <th>4</th>\n",
       "      <td>2.160804</td>\n",
       "      <td>MULTIPOLYGON (((1.99727 48.86304, 1.99388 48.8...</td>\n",
       "    </tr>\n",
       "    <tr>\n",
       "      <th>...</th>\n",
       "      <td>...</td>\n",
       "      <td>...</td>\n",
       "    </tr>\n",
       "    <tr>\n",
       "      <th>76</th>\n",
       "      <td>9.597990</td>\n",
       "      <td>MULTIPOLYGON (((2.31232 48.82799, 2.30893 48.8...</td>\n",
       "    </tr>\n",
       "    <tr>\n",
       "      <th>77</th>\n",
       "      <td>9.698492</td>\n",
       "      <td>MULTIPOLYGON (((2.35297 48.85136, 2.34958 48.8...</td>\n",
       "    </tr>\n",
       "    <tr>\n",
       "      <th>78</th>\n",
       "      <td>10.100503</td>\n",
       "      <td>MULTIPOLYGON (((2.34281 48.86304, 2.33942 48.8...</td>\n",
       "    </tr>\n",
       "    <tr>\n",
       "      <th>79</th>\n",
       "      <td>10.301508</td>\n",
       "      <td>MULTIPOLYGON (((2.32248 48.84746, 2.31910 48.8...</td>\n",
       "    </tr>\n",
       "    <tr>\n",
       "      <th>80</th>\n",
       "      <td>10.603015</td>\n",
       "      <td>MULTIPOLYGON (((2.33265 48.87472, 2.32926 48.8...</td>\n",
       "    </tr>\n",
       "  </tbody>\n",
       "</table>\n",
       "<p>81 rows × 2 columns</p>\n",
       "</div>"
      ],
      "text/plain": [
       "    velocityScore.avg                                           geometry\n",
       "0            1.758794  MULTIPOLYGON (((2.12939 48.57100, 2.12600 48.5...\n",
       "1            1.859296  MULTIPOLYGON (((1.99727 48.60604, 1.99388 48.6...\n",
       "2            1.959799  MULTIPOLYGON (((1.99727 48.67613, 1.99388 48.6...\n",
       "3            2.060302  MULTIPOLYGON (((2.02776 48.57100, 2.02437 48.5...\n",
       "4            2.160804  MULTIPOLYGON (((1.99727 48.86304, 1.99388 48.8...\n",
       "..                ...                                                ...\n",
       "76           9.597990  MULTIPOLYGON (((2.31232 48.82799, 2.30893 48.8...\n",
       "77           9.698492  MULTIPOLYGON (((2.35297 48.85136, 2.34958 48.8...\n",
       "78          10.100503  MULTIPOLYGON (((2.34281 48.86304, 2.33942 48.8...\n",
       "79          10.301508  MULTIPOLYGON (((2.32248 48.84746, 2.31910 48.8...\n",
       "80          10.603015  MULTIPOLYGON (((2.33265 48.87472, 2.32926 48.8...\n",
       "\n",
       "[81 rows x 2 columns]"
      ]
     },
     "execution_count": 158,
     "metadata": {},
     "output_type": "execute_result"
    }
   ],
   "source": [
    "gdf.set_crs(epsg = 4326)\n",
    "gdf2.set_crs(epsg = 4326)"
   ]
  },
  {
   "cell_type": "code",
   "execution_count": 159,
   "metadata": {},
   "outputs": [],
   "source": [
    "df = gpd.read_file(\"Paris/shp/cps.shp\", crs=2154) "
   ]
  },
  {
   "cell_type": "code",
   "execution_count": 168,
   "metadata": {
    "scrolled": true
   },
   "outputs": [
    {
     "data": {
      "image/png": "[encoded data removed]",
      "text/plain": [
       "<Figure size 850.394x481.89 with 3 Axes>"
      ]
     },
     "metadata": {
      "needs_background": "light"
     },
     "output_type": "display_data"
    }
   ],
   "source": [
    "cmI = (1/2.54)\n",
    "lim_top = 10\n",
    "lim_bottom = 0\n",
    "cmap = 'coolwarm_r'\n",
    "alpha = 0.7\n",
    "path = 'Paris/output/'+field1 + '_' +field2 +'.png'\n",
    "fs = 16\n",
    "\n",
    "fig, (ax1,ax2) = plt.subplots(1,2,figsize=(30*cmI, 17*cmI))\n",
    "#\n",
    "gdf.plot(ax = ax1, column=field1 + '.' +field2, legend=False, vmin=lim_bottom, vmax=lim_top, cmap=cmap, alpha = alpha)\n",
    "df.plot(ax = ax1, edgecolor='black',facecolor=\"none\", legend = False, label = 'Study Area')\n",
    "cx.add_basemap(ax1, source=cx.providers.Stamen.TonerLite,crs = gdf.crs, zoom = 12)\n",
    "cx.add_basemap(ax1, source=cx.providers.Stamen.TonerLabels,crs = gdf.crs, zoom = 11)\n",
    "ax1.set_axis_off()\n",
    "ax1.set_title('Basecase', fontsize = fs)\n",
    "\n",
    "gdf2.plot(ax = ax2, column=field1 + '.' +field2, legend=False, vmin=lim_bottom, vmax=lim_top, cmap=cmap, alpha = alpha)\n",
    "df.plot(ax = ax2, edgecolor='black',facecolor=\"none\", legend = False, label = 'Study Area')\n",
    "cx.add_basemap(ax2, source=cx.providers.Stamen.TonerLite,crs = gdf.crs, zoom = 12)\n",
    "cx.add_basemap(ax2, source=cx.providers.Stamen.TonerLabels,crs = gdf.crs, zoom = 11)\n",
    "ax2.set_axis_off()\n",
    "ax2.set_title('DRT Integration', fontsize = fs)\n",
    "\n",
    "fig.suptitle('Comparison Velocity Score', fontsize = fs)\n",
    "\n",
    "xlim = ([df.total_bounds[0],  df.total_bounds[2]])\n",
    "ylim = ([df.total_bounds[1],  df.total_bounds[3]])\n",
    "\n",
    "ax1.set_xlim(xlim)\n",
    "ax1.set_ylim(ylim)\n",
    "ax2.set_xlim(xlim)\n",
    "ax2.set_ylim(ylim)\n",
    "\n",
    "mappable = cm.ScalarMappable(\n",
    "    norm=mcolors.Normalize(lim_top, lim_bottom),\n",
    "    cmap=cmap\n",
    ")\n",
    "cb_ax = fig.add_axes([0.1, 0.1, 0.8, 0.05])\n",
    "cbar = fig.colorbar(mappable, cax=cb_ax, orientation='horizontal')\n",
    "\n",
    "# add handles for the legend\n",
    "custom_lines = [\n",
    "    Line2D([0], [0], color='black'),\n",
    "]\n",
    "\n",
    "# define labels for the legend\n",
    "custom_labels = ['Study Area',]\n",
    "\n",
    "# plot legend, loc defines the location\n",
    "plt.legend(\n",
    "    handles=custom_lines,\n",
    "    labels=custom_labels,\n",
    "    loc=(.4, 1.5),\n",
    "    ncol=2\n",
    ")\n",
    "\n",
    "plt.savefig(path, dpi=200, bbox_inches='tight')\n",
    "plt.show()"
   ]
  },
  {
   "cell_type": "code",
   "execution_count": 67,
   "metadata": {},
   "outputs": [],
   "source": []
  },
  {
   "cell_type": "code",
   "execution_count": null,
   "metadata": {},
   "outputs": [],
   "source": []
  },
  {
   "cell_type": "code",
   "execution_count": 68,
   "metadata": {},
   "outputs": [
    {
     "name": "stdout",
     "output_type": "stream",
     "text": [
      "Paris/output/accessibility/velocityScore_avg_basecase.csv\n"
     ]
    }
   ],
   "source": [
    "gdf.to_csv('Paris/output/'+field1 + '_' +field2 +'_'+ scenario_name +'.csv', sep=';', index=False)\n",
    "print('Paris/output/accessibility/'+field1 + '_' +field2 +'_'+ scenario_name +'.csv')"
   ]
  },
  {
   "cell_type": "code",
   "execution_count": null,
   "metadata": {},
   "outputs": [],
   "source": []
  },
  {
   "cell_type": "code",
   "execution_count": 55,
   "metadata": {},
   "outputs": [
    {
     "name": "stdout",
     "output_type": "stream",
     "text": [
      "shell 0-50000 -> 1612 hexs\n"
     ]
    },
    {
     "name": "stderr",
     "output_type": "stream",
     "text": [
      "/home/sdiepolder/anaconda3/lib/python3.8/site-packages/folium/folium.py:465: FutureWarning: The choropleth  method has been deprecated. Instead use the new Choropleth class, which has the same arguments. See the example notebook 'GeoJSON_and_choropleth' for how to do this.\n",
      "  warnings.warn(\n"
     ]
    },
    {
     "data": {
      "text/html": [
       "<h1>Sociality Score</h1>"
      ],
      "text/plain": [
       "<IPython.core.display.HTML object>"
      ]
     },
     "metadata": {},
     "output_type": "display_data"
    },
    {
     "data": {
      "text/html": [
       "<div style=\"width:100%;\"><div style=\"position:relative;width:100%;height:0;padding-bottom:60%;\"><span style=\"color:#565656\">Make this Notebook Trusted to load map: File -> Trust Notebook</span><iframe srcdoc=\"&lt;!DOCTYPE html&gt;\n",
       "&lt;html&gt;\n",
       "&lt;head&gt;\n",
       "    \n",
       "    &lt;meta http-equiv=&quot;content-type&quot; content=&quot;text/html; charset=UTF-8&quot; /&gt;\n",
       "    \n",
       "        &lt;script&gt;\n",
       "            L_NO_TOUCH = false;\n",
       "            L_DISABLE_3D = false;\n",
       "        &lt;/script&gt;\n",
       "    \n",
       "    &lt;style&gt;html, body {width: 100%;height: 100%;margin: 0;padding: 0;}&lt;/style&gt;\n",
       "    &lt;style&gt;#map {position:absolute;top:0;bottom:0;right:0;left:0;}&lt;/style&gt;\n",
       "    &lt;script src=&quot;https://cdn.jsdelivr.net/npm/leaflet@1.9.3/dist/leaflet.js&quot;&gt;&lt;/script&gt;\n",
       "    &lt;script src=&quot;https://code.jquery.com/jquery-1.12.4.min.js&quot;&gt;&lt;/script&gt;\n",
       "    &lt;script src=&quot;https://cdn.jsdelivr.net/npm/bootstrap@5.2.2/dist/js/bootstrap.bundle.min.js&quot;&gt;&lt;/script&gt;\n",
       "    &lt;script src=&quot;https://cdnjs.cloudflare.com/ajax/libs/Leaflet.awesome-markers/2.0.2/leaflet.awesome-markers.js&quot;&gt;&lt;/script&gt;\n",
       "    &lt;link rel=&quot;stylesheet&quot; href=&quot;https://cdn.jsdelivr.net/npm/leaflet@1.9.3/dist/leaflet.css&quot;/&gt;\n",
       "    &lt;link rel=&quot;stylesheet&quot; href=&quot;https://cdn.jsdelivr.net/npm/bootstrap@5.2.2/dist/css/bootstrap.min.css&quot;/&gt;\n",
       "    &lt;link rel=&quot;stylesheet&quot; href=&quot;https://netdna.bootstrapcdn.com/bootstrap/3.0.0/css/bootstrap.min.css&quot;/&gt;\n",
       "    &lt;link rel=&quot;stylesheet&quot; href=&quot;https://cdn.jsdelivr.net/npm/@fortawesome/fontawesome-free@6.2.0/css/all.min.css&quot;/&gt;\n",
       "    &lt;link rel=&quot;stylesheet&quot; href=&quot;https://cdnjs.cloudflare.com/ajax/libs/Leaflet.awesome-markers/2.0.2/leaflet.awesome-markers.css&quot;/&gt;\n",
       "    &lt;link rel=&quot;stylesheet&quot; href=&quot;https://cdn.jsdelivr.net/gh/python-visualization/folium/folium/templates/leaflet.awesome.rotate.min.css&quot;/&gt;\n",
       "    \n",
       "            &lt;meta name=&quot;viewport&quot; content=&quot;width=device-width,\n",
       "                initial-scale=1.0, maximum-scale=1.0, user-scalable=no&quot; /&gt;\n",
       "            &lt;style&gt;\n",
       "                #map_a44d353376e8eec068419bf2eb102f34 {\n",
       "                    position: relative;\n",
       "                    width: 100.0%;\n",
       "                    height: 100.0%;\n",
       "                    left: 0.0%;\n",
       "                    top: 0.0%;\n",
       "                }\n",
       "                .leaflet-container { font-size: 1rem; }\n",
       "            &lt;/style&gt;\n",
       "        \n",
       "&lt;/head&gt;\n",
       "&lt;body&gt;\n",
       "    \n",
       "    \n",
       "            &lt;div class=&quot;folium-map&quot; id=&quot;map_a44d353376e8eec068419bf2eb102f34&quot; &gt;&lt;/div&gt;\n",
       "        \n",
       "&lt;/body&gt;\n",
       "&lt;script&gt;\n",
       "    \n",
       "    \n",
       "            var map_a44d353376e8eec068419bf2eb102f34 = L.map(\n",
       "                &quot;map_a44d353376e8eec068419bf2eb102f34&quot;,\n",
       "                {\n",
       "                    center: [48.57489393713897, 1.9972678390910157],\n",
       "                    crs: L.CRS.EPSG3857,\n",
       "                    zoom: 9,\n",
       "                    zoomControl: true,\n",
       "                    preferCanvas: false,\n",
       "                }\n",
       "            );\n",
       "\n",
       "            \n",
       "\n",
       "        \n",
       "    \n",
       "            var tile_layer_2a406c1bb5a6582c73da2594cd651221 = L.tileLayer(\n",
       "                &quot;https://{s}.tile.openstreetmap.org/{z}/{x}/{y}.png&quot;,\n",
       "                {&quot;attribution&quot;: &quot;Data by \\u0026copy; \\u003ca target=\\&quot;_blank\\&quot; href=\\&quot;http://openstreetmap.org\\&quot;\\u003eOpenStreetMap\\u003c/a\\u003e, under \\u003ca target=\\&quot;_blank\\&quot; href=\\&quot;http://www.openstreetmap.org/copyright\\&quot;\\u003eODbL\\u003c/a\\u003e.&quot;, &quot;detectRetina&quot;: false, &quot;maxNativeZoom&quot;: 18, &quot;maxZoom&quot;: 18, &quot;minZoom&quot;: 0, &quot;noWrap&quot;: false, &quot;opacity&quot;: 1, &quot;subdomains&quot;: &quot;abc&quot;, &quot;tms&quot;: false}\n",
       "            ).addTo(map_a44d353376e8eec068419bf2eb102f34);\n",
       "        \n",
       "    \n",
       "            var choropleth_5fbefc060aab1ace4965886fd2d3e46c = L.featureGroup(\n",
       "                {}\n",
       "            ).addTo(map_a44d353376e8eec068419bf2eb102f34);\n",
       "        \n",
       "    \n",
       "        function geo_json_4e073f2d030c470543ebbbd54998e88f_styler(feature) {\n",
       "            switch(feature.id) {\n",
       "                default:\n",
       "                    return {&quot;color&quot;: &quot;#000000&quot;, &quot;fillColor&quot;: &quot;#000000&quot;, &quot;fillOpacity&quot;: 0.6, &quot;opacity&quot;: 0, &quot;weight&quot;: 2};\n",
       "            }\n",
       "        }\n",
       "\n",
       "        function geo_json_4e073f2d030c470543ebbbd54998e88f_onEachFeature(feature, layer) {\n",
       "            layer.on({\n",
       "            });\n",
       "        };\n",
       "        var geo_json_4e073f2d030c470543ebbbd54998e88f = L.geoJson(null, {\n",
       "                onEachFeature: geo_json_4e073f2d030c470543ebbbd54998e88f_onEachFeature,\n",
       "            \n",
       "                style: geo_json_4e073f2d030c470543ebbbd54998e88f_styler,\n",
       "        });\n",
       "\n",
       "        function geo_json_4e073f2d030c470543ebbbd54998e88f_add (data) {\n",
       "            geo_json_4e073f2d030c470543ebbbd54998e88f\n",
       "                .addData(data)\n",
       "                .addTo(choropleth_5fbefc060aab1ace4965886fd2d3e46c);\n",
       "        }\n",
       "            geo_json_4e073f2d030c470543ebbbd54998e88f_add({&quot;features&quot;: [{&quot;geometry&quot;: {&quot;coordinates&quot;: [[[[1.98710487, 48.57878777], [1.98371722, 48.57489394], [1.98710487, 48.57100011], [1.99388018, 48.57100011], [1.99726784, 48.57489394], [2.00404315, 48.57489394], [2.00743081, 48.57878777], [2.00404315, 48.5826816], [1.99726784, 48.5826816], [1.99388018, 48.58657542], [1.99726784, 48.59046925], [2.00404315, 48.59046925], [2.00743081, 48.58657542], [2.01420612, 48.58657542], [2.01759377, 48.59046925], [2.02436908, 48.59046925], [2.02775674, 48.59436308], [2.02436908, 48.59825691], [2.01759377, 48.59825691], [2.01420612, 48.60215074], [2.01759377, 48.60604457], [2.02436908, 48.60604457], [2.02775674, 48.6099384], [2.03453205, 48.6099384], [2.0379197, 48.61383223], [2.04469501, 48.61383223], [2.04808267, 48.61772606], [2.05485798, 48.61772606], [2.05824564, 48.62161989], [2.06502095, 48.62161989], [2.0684086, 48.61772606], [2.07518391, 48.61772606], [2.07857157, 48.62161989], [2.08534688, 48.62161989], [2.08873453, 48.61772606], [2.09550984, 48.61772606], [2.0988975, 48.61383223], [2.09550984, 48.6099384], [2.08873453, 48.6099384], [2.08534688, 48.61383223], [2.07857157, 48.61383223], [2.07518391, 48.6099384], [2.0684086, 48.6099384], [2.06502095, 48.61383223], [2.05824564, 48.61383223], [2.05485798, 48.6099384], [2.05824564, 48.60604457], [2.05485798, 48.60215074], [2.05824564, 48.59825691], [2.05485798, 48.59436308], [2.04808267, 48.59436308], [2.04469501, 48.59046925], [2.04808267, 48.58657542], [2.04469501, 48.5826816], [2.04808267, 48.57878777], [2.05485798, 48.57878777], [2.05824564, 48.5826816], [2.06502095, 48.5826816], [2.0684086, 48.58657542], [2.07518391, 48.58657542], [2.07857157, 48.59046925], [2.07518391, 48.59436308], [2.07857157, 48.59825691], [2.08534688, 48.59825691], [2.08873453, 48.59436308], [2.09550984, 48.59436308], [2.0988975, 48.59046925], [2.09550984, 48.58657542], [2.08873453, 48.58657542], [2.08534688, 48.5826816], [2.08873453, 48.57878777], [2.08534688, 48.57489394], [2.07857157, 48.57489394], [2.07518391, 48.57878777], [2.0684086, 48.57878777], [2.06502095, 48.57489394], [2.05824564, 48.57489394], [2.05485798, 48.57100011], [2.05824564, 48.56710628], [2.06502095, 48.56710628], [2.0684086, 48.57100011], [2.07518391, 48.57100011], [2.07857157, 48.56710628], [2.08534688, 48.56710628], [2.08873453, 48.57100011], [2.09550984, 48.57100011], [2.0988975, 48.57489394], [2.10567281, 48.57489394], [2.10906047, 48.57100011], [2.11583578, 48.57100011], [2.11922343, 48.56710628], [2.12599874, 48.56710628], [2.1293864, 48.57100011], [2.13616171, 48.57100011], [2.13954936, 48.56710628], [2.14632467, 48.56710628], [2.14971233, 48.57100011], [2.15648764, 48.57100011], [2.1598753, 48.56710628], [2.16665061, 48.56710628], [2.17003826, 48.57100011], [2.17681357, 48.57100011], [2.18020123, 48.56710628], [2.18697654, 48.56710628], [2.19036419, 48.57100011], [2.1971395, 48.57100011], [2.20052716, 48.56710628], [2.20730247, 48.56710628], [2.21069013, 48.57100011], [2.21746544, 48.57100011], [2.22085309, 48.56710628], [2.2276284, 48.56710628], [2.23101606, 48.57100011], [2.23779137, 48.57100011], [2.24117902, 48.56710628], [2.24795434, 48.56710628], [2.25134199, 48.57100011], [2.2581173, 48.57100011], [2.26150496, 48.56710628], [2.26828027, 48.56710628], [2.27166792, 48.57100011], [2.26828027, 48.57489394], [2.27166792, 48.57878777], [2.26828027, 48.5826816], [2.27166792, 48.58657542], [2.27844323, 48.58657542], [2.28183089, 48.5826816], [2.2886062, 48.5826816], [2.29199385, 48.57878777], [2.2886062, 48.57489394], [2.28183089, 48.57489394], [2.27844323, 48.57100011], [2.28183089, 48.56710628], [2.2886062, 48.56710628], [2.29199385, 48.57100011], [2.29876917, 48.57100011], [2.30215682, 48.56710628], [2.30893213, 48.56710628], [2.31231979, 48.57100011], [2.30893213, 48.57489394], [2.31231979, 48.57878777], [2.30893213, 48.5826816], [2.31231979, 48.58657542], [2.30893213, 48.59046925], [2.31231979, 48.59436308], [2.3190951, 48.59436308], [2.32248275, 48.59825691], [2.32925806, 48.59825691], [2.33264572, 48.59436308], [2.33942103, 48.59436308], [2.34280869, 48.59046925], [2.349584, 48.59046925], [2.35297165, 48.59436308], [2.35974696, 48.59436308], [2.36313462, 48.59046925], [2.35974696, 48.58657542], [2.35297165, 48.58657542], [2.349584, 48.5826816], [2.34280869, 48.5826816], [2.33942103, 48.57878777], [2.34280869, 48.57489394], [2.33942103, 48.57100011], [2.34280869, 48.56710628], [2.349584, 48.56710628], [2.35297165, 48.57100011], [2.35974696, 48.57100011], [2.36313462, 48.56710628], [2.36990993, 48.56710628], [2.37329758, 48.57100011], [2.36990993, 48.57489394], [2.37329758, 48.57878777], [2.36990993, 48.5826816], [2.37329758, 48.58657542], [2.36990993, 48.59046925], [2.37329758, 48.59436308], [2.38007289, 48.59436308], [2.38346055, 48.59825691], [2.38007289, 48.60215074], [2.38346055, 48.60604457], [2.38007289, 48.6099384], [2.38346055, 48.61383223], [2.38007289, 48.61772606], [2.38346055, 48.62161989], [2.38007289, 48.62551372], [2.37329758, 48.62551372], [2.36990993, 48.62161989], [2.36313462, 48.62161989], [2.35974696, 48.62551372], [2.36313462, 48.62940754], [2.36990993, 48.62940754], [2.37329758, 48.63330137], [2.36990993, 48.6371952], [2.37329758, 48.64108903], [2.38007289, 48.64108903], [2.38346055, 48.64498286], [2.38007289, 48.64887669], [2.38346055, 48.65277052], [2.38007289, 48.65666435], [2.38346055, 48.66055818], [2.38007289, 48.66445201], [2.38346055, 48.66834584], [2.38007289, 48.67223966], [2.38346055, 48.67613349], [2.38007289, 48.68002732], [2.38346055, 48.68392115], [2.38007289, 48.68781498], [2.38346055, 48.69170881], [2.38007289, 48.69560264], [2.38346055, 48.69949647], [2.38007289, 48.7033903], [2.38346055, 48.70728413], [2.38007289, 48.71117796], [2.38346055, 48.71507178], [2.38007289, 48.71896561], [2.38346055, 48.72285944], [2.38007289, 48.72675327], [2.38346055, 48.7306471], [2.38007289, 48.73454093], [2.38346055, 48.73843476], [2.38007289, 48.74232859], [2.38346055, 48.74622242], [2.38007289, 48.75011625], [2.38346055, 48.75401008], [2.38007289, 48.7579039], [2.38346055, 48.76179773], [2.38007289, 48.76569156], [2.38346055, 48.76958539], [2.38007289, 48.77347922], [2.38346055, 48.77737305], [2.38007289, 48.78126688], [2.38346055, 48.78516071], [2.38007289, 48.78905454], [2.38346055, 48.79294837], [2.38007289, 48.7968422], [2.38346055, 48.80073602], [2.38007289, 48.80462985], [2.38346055, 48.80852368], [2.38007289, 48.81241751], [2.38346055, 48.81631134], [2.38007289, 48.82020517], [2.38346055, 48.824099], [2.38007289, 48.82799283], [2.38346055, 48.83188666], [2.38007289, 48.83578049], [2.38346055, 48.83967432], [2.38007289, 48.84356814], [2.38346055, 48.84746197], [2.38007289, 48.8513558], [2.38346055, 48.85524963], [2.38007289, 48.85914346], [2.38346055, 48.86303729], [2.38007289, 48.86693112], [2.38346055, 48.87082495], [2.38007289, 48.87471878], [2.38346055, 48.87861261], [2.38007289, 48.88250644], [2.38346055, 48.88640026], [2.38007289, 48.89029409], [2.38346055, 48.89418792], [2.38007289, 48.89808175], [2.38346055, 48.90197558], [2.38007289, 48.90586941], [2.38346055, 48.90976324], [2.38007289, 48.91365707], [2.38346055, 48.9175509], [2.38007289, 48.92144473], [2.38346055, 48.92533856], [2.38007289, 48.92923238], [2.37329758, 48.92923238], [2.36990993, 48.92533856], [2.36313462, 48.92533856], [2.35974696, 48.92923238], [2.35297165, 48.92923238], [2.349584, 48.92533856], [2.34280869, 48.92533856], [2.33942103, 48.92923238], [2.33264572, 48.92923238], [2.32925806, 48.92533856], [2.32248275, 48.92533856], [2.3190951, 48.92923238], [2.31231979, 48.92923238], [2.30893213, 48.92533856], [2.30215682, 48.92533856], [2.29876917, 48.92923238], [2.29199385, 48.92923238], [2.2886062, 48.92533856], [2.28183089, 48.92533856], [2.27844323, 48.92923238], [2.27166792, 48.92923238], [2.26828027, 48.92533856], [2.26150496, 48.92533856], [2.2581173, 48.92923238], [2.25134199, 48.92923238], [2.24795434, 48.92533856], [2.24117902, 48.92533856], [2.23779137, 48.92923238], [2.23101606, 48.92923238], [2.2276284, 48.92533856], [2.22085309, 48.92533856], [2.21746544, 48.92923238], [2.21069013, 48.92923238], [2.20730247, 48.92533856], [2.20052716, 48.92533856], [2.1971395, 48.92923238], [2.19036419, 48.92923238], [2.18697654, 48.92533856], [2.18020123, 48.92533856], [2.17681357, 48.92923238], [2.17003826, 48.92923238], [2.16665061, 48.92533856], [2.1598753, 48.92533856], [2.15648764, 48.92923238], [2.14971233, 48.92923238], [2.14632467, 48.92533856], [2.13954936, 48.92533856], [2.13616171, 48.92923238], [2.1293864, 48.92923238], [2.12599874, 48.92533856], [2.11922343, 48.92533856], [2.11583578, 48.92923238], [2.10906047, 48.92923238], [2.10567281, 48.92533856], [2.0988975, 48.92533856], [2.09550984, 48.92923238], [2.08873453, 48.92923238], [2.08534688, 48.92533856], [2.07857157, 48.92533856], [2.07518391, 48.92144473], [2.0684086, 48.92144473], [2.06502095, 48.92533856], [2.05824564, 48.92533856], [2.05485798, 48.92923238], [2.04808267, 48.92923238], [2.04469501, 48.92533856], [2.0379197, 48.92533856], [2.03453205, 48.92923238], [2.02775674, 48.92923238], [2.02436908, 48.92533856], [2.01759377, 48.92533856], [2.01420612, 48.92923238], [2.00743081, 48.92923238], [2.00404315, 48.92533856], [1.99726784, 48.92533856], [1.99388018, 48.92923238], [1.98710487, 48.92923238], [1.98371722, 48.92533856], [1.98710487, 48.92144473], [1.98371722, 48.9175509], [1.98710487, 48.91365707], [1.98371722, 48.90976324], [1.98710487, 48.90586941], [1.99388018, 48.90586941], [1.99726784, 48.90197558], [2.00404315, 48.90197558], [2.00743081, 48.89808175], [2.01420612, 48.89808175], [2.01759377, 48.89418792], [2.02436908, 48.89418792], [2.02775674, 48.89029409], [2.03453205, 48.89029409], [2.0379197, 48.88640026], [2.04469501, 48.88640026], [2.04808267, 48.88250644], [2.05485798, 48.88250644], [2.05824564, 48.87861261], [2.05485798, 48.87471878], [2.04808267, 48.87471878], [2.04469501, 48.87082495], [2.0379197, 48.87082495], [2.03453205, 48.87471878], [2.02775674, 48.87471878], [2.02436908, 48.87082495], [2.01759377, 48.87082495], [2.01420612, 48.87471878], [2.00743081, 48.87471878], [2.00404315, 48.87861261], [1.99726784, 48.87861261], [1.99388018, 48.88250644], [1.98710487, 48.88250644], [1.98371722, 48.87861261], [1.98710487, 48.87471878], [1.99388018, 48.87471878], [1.99726784, 48.87082495], [1.99388018, 48.86693112], [1.98710487, 48.86693112], [1.98371722, 48.86303729], [1.98710487, 48.85914346], [1.98371722, 48.85524963], [1.98710487, 48.8513558], [1.98371722, 48.84746197], [1.98710487, 48.84356814], [1.98371722, 48.83967432], [1.98710487, 48.83578049], [1.98371722, 48.83188666], [1.98710487, 48.82799283], [1.98371722, 48.824099], [1.98710487, 48.82020517], [1.98371722, 48.81631134], [1.98710487, 48.81241751], [1.99388018, 48.81241751], [1.99726784, 48.80852368], [1.99388018, 48.80462985], [1.98710487, 48.80462985], [1.98371722, 48.80073602], [1.98710487, 48.7968422], [1.99388018, 48.7968422], [1.99726784, 48.80073602], [2.00404315, 48.80073602], [2.00743081, 48.7968422], [2.01420612, 48.7968422], [2.01759377, 48.80073602], [2.02436908, 48.80073602], [2.02775674, 48.7968422], [2.02436908, 48.79294837], [2.02775674, 48.78905454], [2.02436908, 48.78516071], [2.02775674, 48.78126688], [2.02436908, 48.77737305], [2.01759377, 48.77737305], [2.01420612, 48.78126688], [2.01759377, 48.78516071], [2.01420612, 48.78905454], [2.00743081, 48.78905454], [2.00404315, 48.79294837], [1.99726784, 48.79294837], [1.99388018, 48.78905454], [1.98710487, 48.78905454], [1.98371722, 48.78516071], [1.98710487, 48.78126688], [1.98371722, 48.77737305], [1.98710487, 48.77347922], [1.98371722, 48.76958539], [1.98710487, 48.76569156], [1.98371722, 48.76179773], [1.98710487, 48.7579039], [1.99388018, 48.7579039], [1.99726784, 48.76179773], [2.00404315, 48.76179773], [2.00743081, 48.7579039], [2.01420612, 48.7579039], [2.01759377, 48.75401008], [2.02436908, 48.75401008], [2.02775674, 48.75011625], [2.02436908, 48.74622242], [2.01759377, 48.74622242], [2.01420612, 48.74232859], [2.00743081, 48.74232859], [2.00404315, 48.73843476], [1.99726784, 48.73843476], [1.99388018, 48.73454093], [1.98710487, 48.73454093], [1.98371722, 48.7306471], [1.98710487, 48.72675327], [1.98371722, 48.72285944], [1.98710487, 48.71896561], [1.98371722, 48.71507178], [1.98710487, 48.71117796], [1.98371722, 48.70728413], [1.98710487, 48.7033903], [1.98371722, 48.69949647], [1.98710487, 48.69560264], [1.99388018, 48.69560264], [1.99726784, 48.69949647], [2.00404315, 48.69949647], [2.00743081, 48.69560264], [2.00404315, 48.69170881], [2.00743081, 48.68781498], [2.00404315, 48.68392115], [1.99726784, 48.68392115], [1.99388018, 48.68781498], [1.98710487, 48.68781498], [1.98371722, 48.68392115], [1.98710487, 48.68002732], [1.98371722, 48.67613349], [1.98710487, 48.67223966], [1.99388018, 48.67223966], [1.99726784, 48.67613349], [2.00404315, 48.67613349], [2.00743081, 48.68002732], [2.01420612, 48.68002732], [2.01759377, 48.67613349], [2.02436908, 48.67613349], [2.02775674, 48.67223966], [2.03453205, 48.67223966], [2.0379197, 48.66834584], [2.04469501, 48.66834584], [2.04808267, 48.66445201], [2.05485798, 48.66445201], [2.05824564, 48.66055818], [2.05485798, 48.65666435], [2.05824564, 48.65277052], [2.05485798, 48.64887669], [2.04808267, 48.64887669], [2.04469501, 48.65277052], [2.0379197, 48.65277052], [2.03453205, 48.64887669], [2.0379197, 48.64498286], [2.03453205, 48.64108903], [2.02775674, 48.64108903], [2.02436908, 48.6371952], [2.01759377, 48.6371952], [2.01420612, 48.64108903], [2.01759377, 48.64498286], [2.01420612, 48.64887669], [2.00743081, 48.64887669], [2.00404315, 48.64498286], [1.99726784, 48.64498286], [1.99388018, 48.64887669], [1.98710487, 48.64887669], [1.98371722, 48.64498286], [1.98710487, 48.64108903], [1.98371722, 48.6371952], [1.98710487, 48.63330137], [1.98371722, 48.62940754], [1.98710487, 48.62551372], [1.98371722, 48.62161989], [1.98710487, 48.61772606], [1.98371722, 48.61383223], [1.98710487, 48.6099384], [1.98371722, 48.60604457], [1.98710487, 48.60215074], [1.98371722, 48.59825691], [1.98710487, 48.59436308], [1.98371722, 48.59046925], [1.98710487, 48.58657542], [1.98371722, 48.5826816]], [[2.01759377, 48.71507178], [2.01420612, 48.71896561], [2.01759377, 48.72285944], [2.01420612, 48.72675327], [2.01759377, 48.7306471], [2.02436908, 48.7306471], [2.02775674, 48.72675327], [2.03453205, 48.72675327], [2.0379197, 48.72285944], [2.04469501, 48.72285944], [2.04808267, 48.71896561], [2.04469501, 48.71507178], [2.0379197, 48.71507178], [2.03453205, 48.71896561], [2.02775674, 48.71896561], [2.02436908, 48.71507178]], [[2.01759377, 48.81631134], [2.01420612, 48.82020517], [2.01759377, 48.824099], [2.02436908, 48.824099], [2.02775674, 48.82799283], [2.03453205, 48.82799283], [2.0379197, 48.824099], [2.03453205, 48.82020517], [2.02775674, 48.82020517], [2.02436908, 48.81631134]], [[2.01759377, 48.83967432], [2.01420612, 48.84356814], [2.01759377, 48.84746197], [2.02436908, 48.84746197], [2.02775674, 48.84356814], [2.02436908, 48.83967432]], [[2.0379197, 48.68392115], [2.03453205, 48.68781498], [2.0379197, 48.69170881], [2.03453205, 48.69560264], [2.0379197, 48.69949647], [2.04469501, 48.69949647], [2.04808267, 48.7033903], [2.05485798, 48.7033903], [2.05824564, 48.69949647], [2.05485798, 48.69560264], [2.05824564, 48.69170881], [2.05485798, 48.68781498], [2.04808267, 48.68781498], [2.04469501, 48.68392115]], [[2.0379197, 48.7306471], [2.03453205, 48.73454093], [2.0379197, 48.73843476], [2.04469501, 48.73843476], [2.04808267, 48.73454093], [2.04469501, 48.7306471]], [[2.04808267, 48.90586941], [2.04469501, 48.90976324], [2.04808267, 48.91365707], [2.05485798, 48.91365707], [2.05824564, 48.90976324], [2.05485798, 48.90586941]], [[2.05824564, 48.824099], [2.05485798, 48.82799283], [2.05824564, 48.83188666], [2.05485798, 48.83578049], [2.05824564, 48.83967432], [2.06502095, 48.83967432], [2.0684086, 48.83578049], [2.06502095, 48.83188666], [2.0684086, 48.82799283], [2.07518391, 48.82799283], [2.07857157, 48.824099], [2.07518391, 48.82020517], [2.0684086, 48.82020517], [2.06502095, 48.824099]], [[2.05824564, 48.85524963], [2.05485798, 48.85914346], [2.05824564, 48.86303729], [2.06502095, 48.86303729], [2.0684086, 48.85914346], [2.07518391, 48.85914346], [2.07857157, 48.85524963], [2.08534688, 48.85524963], [2.08873453, 48.8513558], [2.08534688, 48.84746197], [2.07857157, 48.84746197], [2.07518391, 48.8513558], [2.0684086, 48.8513558], [2.06502095, 48.85524963]], [[2.07857157, 48.68392115], [2.07518391, 48.68781498], [2.07857157, 48.69170881], [2.07518391, 48.69560264], [2.07857157, 48.69949647], [2.08534688, 48.69949647], [2.08873453, 48.69560264], [2.08534688, 48.69170881], [2.08873453, 48.68781498], [2.08534688, 48.68392115]], [[2.07857157, 48.78516071], [2.07518391, 48.78905454], [2.07857157, 48.79294837], [2.08534688, 48.79294837], [2.08873453, 48.7968422], [2.09550984, 48.7968422], [2.0988975, 48.79294837], [2.09550984, 48.78905454], [2.08873453, 48.78905454], [2.08534688, 48.78516071]], [[2.07857157, 48.80073602], [2.07518391, 48.80462985], [2.07857157, 48.80852368], [2.07518391, 48.81241751], [2.07857157, 48.81631134], [2.08534688, 48.81631134], [2.08873453, 48.82020517], [2.08534688, 48.824099], [2.08873453, 48.82799283], [2.09550984, 48.82799283], [2.0988975, 48.824099], [2.10567281, 48.824099], [2.10906047, 48.82020517], [2.11583578, 48.82020517], [2.11922343, 48.81631134], [2.11583578, 48.81241751], [2.10906047, 48.81241751], [2.10567281, 48.80852368], [2.0988975, 48.80852368], [2.09550984, 48.80462985], [2.08873453, 48.80462985], [2.08534688, 48.80073602]], [[2.08873453, 48.66445201], [2.08534688, 48.66834584], [2.08873453, 48.67223966], [2.09550984, 48.67223966], [2.0988975, 48.66834584], [2.10567281, 48.66834584], [2.10906047, 48.67223966], [2.11583578, 48.67223966], [2.11922343, 48.66834584], [2.11583578, 48.66445201], [2.11922343, 48.66055818], [2.11583578, 48.65666435], [2.10906047, 48.65666435], [2.10567281, 48.65277052], [2.0988975, 48.65277052], [2.09550984, 48.65666435], [2.0988975, 48.66055818], [2.09550984, 48.66445201]], [[2.08873453, 48.74232859], [2.08534688, 48.74622242], [2.08873453, 48.75011625], [2.08534688, 48.75401008], [2.08873453, 48.7579039], [2.08534688, 48.76179773], [2.08873453, 48.76569156], [2.08534688, 48.76958539], [2.08873453, 48.77347922], [2.09550984, 48.77347922], [2.0988975, 48.76958539], [2.09550984, 48.76569156], [2.0988975, 48.76179773], [2.10567281, 48.76179773], [2.10906047, 48.7579039], [2.10567281, 48.75401008], [2.0988975, 48.75401008], [2.09550984, 48.75011625], [2.0988975, 48.74622242], [2.09550984, 48.74232859]], [[2.10906047, 48.90586941], [2.10567281, 48.90976324], [2.10906047, 48.91365707], [2.11583578, 48.91365707], [2.11922343, 48.90976324], [2.11583578, 48.90586941]], [[2.1293864, 48.73454093], [2.12599874, 48.73843476], [2.1293864, 48.74232859], [2.13616171, 48.74232859], [2.13954936, 48.73843476], [2.13616171, 48.73454093]], [[2.13954936, 48.62940754], [2.13616171, 48.63330137], [2.13954936, 48.6371952], [2.14632467, 48.6371952], [2.14971233, 48.63330137], [2.15648764, 48.63330137], [2.1598753, 48.62940754], [2.15648764, 48.62551372], [2.14971233, 48.62551372], [2.14632467, 48.62940754]], [[2.13954936, 48.71507178], [2.13616171, 48.71896561], [2.13954936, 48.72285944], [2.14632467, 48.72285944], [2.14971233, 48.71896561], [2.14632467, 48.71507178]], [[2.13954936, 48.74622242], [2.13616171, 48.75011625], [2.13954936, 48.75401008], [2.13616171, 48.7579039], [2.13954936, 48.76179773], [2.14632467, 48.76179773], [2.14971233, 48.7579039], [2.14632467, 48.75401008], [2.14971233, 48.75011625], [2.14632467, 48.74622242]], [[2.14971233, 48.59436308], [2.14632467, 48.59825691], [2.14971233, 48.60215074], [2.15648764, 48.60215074], [2.1598753, 48.59825691], [2.15648764, 48.59436308]], [[2.1598753, 48.57489394], [2.15648764, 48.57878777], [2.1598753, 48.5826816], [2.16665061, 48.5826816], [2.17003826, 48.57878777], [2.16665061, 48.57489394]], [[2.1598753, 48.65277052], [2.15648764, 48.65666435], [2.1598753, 48.66055818], [2.16665061, 48.66055818], [2.17003826, 48.65666435], [2.16665061, 48.65277052]], [[2.17003826, 48.62551372], [2.16665061, 48.62940754], [2.17003826, 48.63330137], [2.17681357, 48.63330137], [2.18020123, 48.6371952], [2.18697654, 48.6371952], [2.19036419, 48.64108903], [2.1971395, 48.64108903], [2.20052716, 48.6371952], [2.1971395, 48.63330137], [2.19036419, 48.63330137], [2.18697654, 48.62940754], [2.19036419, 48.62551372], [2.1971395, 48.62551372], [2.20052716, 48.62161989], [2.20730247, 48.62161989], [2.21069013, 48.61772606], [2.20730247, 48.61383223], [2.20052716, 48.61383223], [2.1971395, 48.6099384], [2.20052716, 48.60604457], [2.1971395, 48.60215074], [2.20052716, 48.59825691], [2.1971395, 48.59436308], [2.19036419, 48.59436308], [2.18697654, 48.59825691], [2.19036419, 48.60215074], [2.18697654, 48.60604457], [2.18020123, 48.60604457], [2.17681357, 48.6099384], [2.18020123, 48.61383223], [2.18697654, 48.61383223], [2.19036419, 48.61772606], [2.18697654, 48.62161989], [2.18020123, 48.62161989], [2.17681357, 48.62551372]], [[2.17003826, 48.64108903], [2.16665061, 48.64498286], [2.17003826, 48.64887669], [2.17681357, 48.64887669], [2.18020123, 48.64498286], [2.17681357, 48.64108903]], [[2.17003826, 48.73454093], [2.16665061, 48.73843476], [2.17003826, 48.74232859], [2.17681357, 48.74232859], [2.18020123, 48.74622242], [2.18697654, 48.74622242], [2.19036419, 48.74232859], [2.18697654, 48.73843476], [2.18020123, 48.73843476], [2.17681357, 48.73454093]], [[2.17003826, 48.89808175], [2.16665061, 48.90197558], [2.17003826, 48.90586941], [2.17681357, 48.90586941], [2.18020123, 48.90197558], [2.17681357, 48.89808175]], [[2.19036419, 48.76569156], [2.18697654, 48.76958539], [2.19036419, 48.77347922], [2.1971395, 48.77347922], [2.20052716, 48.76958539], [2.1971395, 48.76569156]], [[2.22085309, 48.61383223], [2.21746544, 48.61772606], [2.22085309, 48.62161989], [2.2276284, 48.62161989], [2.23101606, 48.61772606], [2.2276284, 48.61383223]], [[2.33264572, 48.60215074], [2.32925806, 48.60604457], [2.33264572, 48.6099384], [2.33942103, 48.6099384], [2.34280869, 48.61383223], [2.349584, 48.61383223], [2.35297165, 48.6099384], [2.349584, 48.60604457], [2.34280869, 48.60604457], [2.33942103, 48.60215074]]], [[[2.02436908, 48.57489394], [2.01759377, 48.57489394], [2.01420612, 48.57100011], [2.01759377, 48.56710628], [2.02436908, 48.56710628], [2.02775674, 48.57100011], [2.03453205, 48.57100011], [2.0379197, 48.56710628], [2.04469501, 48.56710628], [2.04808267, 48.57100011], [2.04469501, 48.57489394], [2.0379197, 48.57489394], [2.03453205, 48.57878777], [2.02775674, 48.57878777]]], [[[2.33264572, 48.57100011], [2.32925806, 48.57489394], [2.32248275, 48.57489394], [2.3190951, 48.57100011], [2.32248275, 48.56710628], [2.32925806, 48.56710628]]]], &quot;properties&quot;: {&quot;socialityScore.avg&quot;: 25000.0}, &quot;type&quot;: &quot;MultiPolygon&quot;}, &quot;id&quot;: &quot;0&quot;, &quot;type&quot;: &quot;Feature&quot;}], &quot;type&quot;: &quot;FeatureCollection&quot;});\n",
       "\n",
       "        \n",
       "&lt;/script&gt;\n",
       "&lt;/html&gt;\" style=\"position:absolute;width:100%;height:100%;left:0;top:0;border:none !important;\" allowfullscreen webkitallowfullscreen mozallowfullscreen></iframe></div></div>"
      ],
      "text/plain": [
       "<folium.folium.Map at 0x7f0cedccbd60>"
      ]
     },
     "execution_count": 55,
     "metadata": {},
     "output_type": "execute_result"
    }
   ],
   "source": [
    "from library.libHex import reduceGeojsonInShellSubField\n",
    "from IPython.core.display import display, HTML\n",
    "\n",
    "field1 = 'socialityScore'\n",
    "field2 = 'avg'\n",
    "color = [\"#000000\",\"rgb(95, 95, 95)\",\"rgb(180, 180, 180)\",\"rgb(8, 48, 107)\",\"rgb(15, 87, 159)\",\"rgb(47, 126, 188)\",\"rgb(109, 174, 213)\",\"rgb(181, 212, 233)\",\"rgb(253, 202, 148)\",\n",
    "\"rgb(253, 176, 122)\",\"rgb(250, 142, 93)\",\"rgb(241, 108, 73)\",\"rgb(224, 69, 48)\",\"rgb(243, 105, 163)\",\"rgb(224, 62, 152)\",\"rgb(153, 3, 124)\",\"rgb(73, 0, 106)\"]\n",
    "shell = [0, 50000, 100000, 200000, 300000, 400000, 500000, 600000,700000,800000, 900000, 1000000,1500000, 2000000,2500000, 3000000];\n",
    "#print (\"number of hexs in total\", gtfsDB['points'].find({field1:{'$exists':True}, 'city':city}).count())\n",
    "res = reduceGeojsonInShellSubField(list(gtfsDB['points'].find({'city':city})), field1, field2, color, shell)\n",
    "#res = showMapHexRedux(city, gtfsDB['points'], field = field, shell = shell, save=True)\n",
    "\n",
    "display(HTML('<h1>Sociality Score</h1>'))\n",
    "\n",
    "res[1]"
   ]
  },
  {
   "cell_type": "markdown",
   "metadata": {},
   "source": [
    "# Saving File\n",
    "Make ZIP file containig all the public transports information needed in order to add the city to the [citychrone](www.citychrone.org) platform."
   ]
  },
  {
   "cell_type": "code",
   "execution_count": null,
   "metadata": {},
   "outputs": [],
   "source": [
    "newScenario=True # If True in the citychrone platform tensting new scenario on the city is allowed.\n",
    "from saveData import makeZipCitychrone\n",
    "if 'arrayCC' in locals():\n",
    "    makeZipCitychrone(city, gtfsDB, arrayCC, newScenario=newScenario, urlServerOsrm=urlServerOsrm)\n",
    "else:\n",
    "    makeZipCitychrone(city, gtfsDB, newScenario=True)"
   ]
  },
  {
   "cell_type": "markdown",
   "metadata": {},
   "source": [
    "# [Optional] \n",
    "# Analisys on the accessibility quantities.\n",
    "\n",
    "## Compute average time distance from the center\n",
    "Computing the average time distance from the center of the city. \n",
    "We consider two center: \n",
    "1. where the velocityScore is max\n",
    "2. Where the socialityScore is max."
   ]
  },
  {
   "cell_type": "code",
   "execution_count": null,
   "metadata": {},
   "outputs": [],
   "source": [
    "gtfsDB['points'].find_one({'city':city})[\"velocityScore\"].keys()\n",
    "timeListSec = []\n",
    "for k in gtfsDB['points'].find_one({'city':city})[\"velocityScore\"].keys():\n",
    "    try:\n",
    "        timeListSec.append(int(k))\n",
    "    except:\n",
    "        pass\n",
    "if len(timeListSec) > 10:\n",
    "    timeListSec = timeListSec[2:]\n",
    "print(timeListSec)"
   ]
  },
  {
   "cell_type": "code",
   "execution_count": null,
   "metadata": {},
   "outputs": [],
   "source": [
    "from libConnections import makeArrayConnections\n",
    "from libStopsPoints import listPointsStopsN \n",
    "from libHex import reduceGeojsonInShell  \n",
    "from icsa import coumputeAvgTimeDistance\n",
    "startPoint = gtfsDB['points'].find({'city':city},sort=[('velocityScore.avg',-1)])[0]\n",
    "\n",
    "if 'arrayCC' not in locals():\n",
    "    arrayCC = makeArrayConnections(gtfsDB, 0, city)\n",
    "if 'arraySP' not in locals():\n",
    "    arraySP = listPointsStopsN(gtfsDB, city)\n",
    "\n",
    "timeDist = coumputeAvgTimeDistance(startPoint, timeListSec, arrayCC, arraySP, gtfsDB, city)\n",
    "startPointLatLon = [startPoint['point'][\"coordinates\"][1], startPoint['point'][\"coordinates\"][0]]\n",
    "for pos, tDist in enumerate(timeDist):\n",
    "    pointSelectedLonLat = gtfsDB[\"points\"].find_one({'pos':pos, \"city\":city})[\"point\"][\"coordinates\"]\n",
    "    sVelDist = geodesic(startPointLatLon,(pointSelectedLonLat[1], pointSelectedLonLat[0])).meters #dist in meter\n",
    "    gtfsDB[\"points\"].update_one({'pos':pos, 'city':city},{'$set':{'tVelDist':tDist, \"sVelDist\":sVelDist} })\n",
    "print(timeDist)\n",
    "pointsList = list(gtfsDB['points'].find({'city':city},{'pointN':0, 'stopN':0}))\n",
    "res = reduceGeojsonInShell(pointsList,'tVelDist')\n",
    "res[1]"
   ]
  },
  {
   "cell_type": "code",
   "execution_count": null,
   "metadata": {
    "scrolled": false
   },
   "outputs": [],
   "source": [
    "startPoint = gtfsDB['points'].find({'city':city},sort=[('socialityScore.avg',-1)])[0]\n",
    "\n",
    "if 'arrayCC' not in locals():\n",
    "    arrayCC = makeArrayConnections(gtfsDB, 0, city)\n",
    "if 'arraySP' not in locals():\n",
    "    arraySP = listPointsStopsN(gtfsDB, city)\n",
    "\n",
    "timeDist = coumputeAvgTimeDistance(startPoint, timeListSec, arrayCC, arraySP, gtfsDB, city)\n",
    "for pos, tDist in enumerate(timeDist):\n",
    "    gtfsDB[\"points\"].update_one({'pos':pos, 'city':city},{'$set':{'tSocDist':tDist}})\n",
    "timeDist\n",
    "pointsList = list(gtfsDB['points'].find({'city':city},{'pointN':0, 'stopN':0}))\n",
    "res = reduceGeojsonInShell(pointsList,'tSocDist')\n",
    "res[1]"
   ]
  },
  {
   "cell_type": "markdown",
   "metadata": {},
   "source": [
    "## Analisys Exponential Decay of accessibility the quantities"
   ]
  },
  {
   "cell_type": "markdown",
   "metadata": {},
   "source": [
    "### Velocity Score and Sociality score vs time distance from the center\n",
    "\n",
    " 1. fitting function:\n",
    "     $ae^{-bx}$\n",
    " 2. fitting function:\n",
    "     $ae^{-bx^2}$\n",
    " 3. fitting function:\n",
    "     $\\text{maxValue} * e^{-bx^a}$"
   ]
  },
  {
   "cell_type": "code",
   "execution_count": null,
   "metadata": {},
   "outputs": [],
   "source": [
    "from libAnalysis import fitAndPlot, expon, gauss, giveVarExpon\n",
    "\n",
    "maxValue = gtfsDB['points'].find({'city':city}, sort=[(('velocityScore.avg',-1))])[0][\"velocityScore\"][\"avg\"]\n",
    "functVarExp =  giveVarExpon(maxValue)\n",
    "fitAndPlot('velocityScore','tVelDist', gtfsDB, city, expon, p0 = [12,0.0001], nameFunc = \"exponential\")\n",
    "fitAndPlot('velocityScore','tVelDist', gtfsDB, city, gauss, p0 = [12,0.000001], nameFunc = \"exponential\")\n",
    "fitAndPlot('velocityScore','tVelDist', gtfsDB, city, functVarExp, p0 = [1,0.0001], nameFunc = \"exponential\");"
   ]
  },
  {
   "cell_type": "code",
   "execution_count": null,
   "metadata": {},
   "outputs": [],
   "source": [
    "from libAnalysis import fitAndPlot, expon, gauss, giveVarExpon\n",
    "\n",
    "quantity = \"socialityScore\"\n",
    "distField = \"tSocDist\"\n",
    "maxValue = gtfsDB['points'].find({'city':city}, sort=[((quantity+'.avg',-1))])[0][quantity][\"avg\"]\n",
    "functVarExp =  giveVarExpon(maxValue)\n",
    "fitAndPlot(quantity,distField, gtfsDB, city, expon, p0 = [100000,0.0001], nameFunc = \"exponential\")\n",
    "fitAndPlot(quantity,distField, gtfsDB, city, gauss, p0 = [100000,0.0000001], nameFunc = \"gauss\")\n",
    "fitAndPlot(quantity,distField, gtfsDB, city, functVarExp, p0 = [1,0.001], nameFunc = \"Vary Exp\");"
   ]
  }
 ],
 "metadata": {
  "hide_input": false,
  "kernelspec": {
   "display_name": "Python 3",
   "language": "python",
   "name": "python3"
  },
  "language_info": {
   "codemirror_mode": {
    "name": "ipython",
    "version": 3
   },
   "file_extension": ".py",
   "mimetype": "text/x-python",
   "name": "python",
   "nbconvert_exporter": "python",
   "pygments_lexer": "ipython3",
   "version": "3.8.8"
  },
  "latex_envs": {
   "LaTeX_envs_menu_present": true,
   "autocomplete": true,
   "bibliofile": "biblio.bib",
   "cite_by": "apalike",
   "current_citInitial": 1,
   "eqLabelWithNumbers": false,
   "eqNumInitial": 1,
   "hotkeys": {
    "equation": "Ctrl-E",
    "itemize": "Ctrl-I"
   },
   "labels_anchors": true,
   "latex_user_defs": true,
   "report_style_numbering": true,
   "user_envs_cfg": true
  },
  "toc": {
   "colors": {
    "hover_highlight": "#DAA520",
    "running_highlight": "#FF0000",
    "selected_highlight": "#FFD700"
   },
   "moveMenuLeft": true,
   "nav_menu": {
    "height": "512px",
    "width": "252px"
   },
   "navigate_menu": true,
   "number_sections": true,
   "sideBar": true,
   "threshold": 4,
   "toc_cell": true,
   "toc_position": {
    "height": "1134px",
    "left": "0px",
    "right": "1771px",
    "top": "106px",
    "width": "212px"
   },
   "toc_section_display": "block",
   "toc_window_display": true,
   "widenNotebook": false
  },
  "varInspector": {
   "cols": {
    "lenName": 16,
    "lenType": 16,
    "lenVar": 40
   },
   "kernels_config": {
    "python": {
     "delete_cmd_postfix": "",
     "delete_cmd_prefix": "del ",
     "library": "var_list.py",
     "varRefreshCmd": "print(var_dic_list())"
    },
    "r": {
     "delete_cmd_postfix": ") ",
     "delete_cmd_prefix": "rm(",
     "library": "var_list.r",
     "varRefreshCmd": "cat(var_dic_list()) "
    }
   },
   "types_to_exclude": [
    "module",
    "function",
    "builtin_function_or_method",
    "instance",
    "_Feature"
   ],
   "window_display": false
  }
 },
 "nbformat": 4,
 "nbformat_minor": 2
}
