{
 "cells": [
  {
   "cell_type": "markdown",
   "metadata": {},
   "source": [
    "# Requirement:"
   ]
  },
  {
   "cell_type": "markdown",
   "metadata": {},
   "source": [
    "External library to import"
   ]
  },
  {
   "cell_type": "code",
   "execution_count": 1,
   "metadata": {
    "hide_input": false,
    "run_control": {
     "marked": false
    }
   },
   "outputs": [],
   "source": [
    "import sys\n",
    "sys.path.insert(0, './library/')\n",
    "import zipfile\n",
    "import os\n",
    "import time\n",
    "import pymongo as pym\n",
    "import pandas as pd\n",
    "import folium\n",
    "import numpy as np\n",
    "import requests\n",
    "import numba\n",
    "from shapely.geometry  import Polygon, LineString, mapping, Point\n",
    "import math\n",
    "import geopy\n",
    "import shapely\n",
    "from shapely.geometry import Polygon, MultiPolygon, Point, mapping\n",
    "from geopy.distance import geodesic,great_circle\n",
    "from folium.plugins import FastMarkerCluster\n",
    "from datetime import datetime\n",
    "from geopy.distance import geodesic,great_circle"
   ]
  },
  {
   "cell_type": "markdown",
   "metadata": {},
   "source": [
    " # Data:\n",
    "\n",
    "1. gtfs file of the city. \n",
    " ->[repository of gtfs file https://transitfeeds.com/]\n",
    "2. pbf file of [openstreetmap](openstreetmap.org) extract from of the city/region of interest. ->[repository of osm extract: http://download.geofabrik.de/]"
   ]
  },
  {
   "cell_type": "code",
   "execution_count": null,
   "metadata": {},
   "outputs": [],
   "source": []
  },
  {
   "cell_type": "markdown",
   "metadata": {},
   "source": [
    "# Url and paths  [**set it!**]\n",
    "### mongodb settings"
   ]
  },
  {
   "cell_type": "code",
   "execution_count": 2,
   "metadata": {
    "run_control": {
     "marked": false
    }
   },
   "outputs": [],
   "source": [
    "city = 'Paris'\n",
    "scenario_name = 'basecase' # e.g. '_drt'\n",
    "\n",
    "# file paths and addresses to be provided:\n",
    "# population data\n",
    "shpPath = 'Paris/shp/pop.shp'\n",
    "popCollectionName = \"POP\"\n",
    "popField = \"pop\"\n",
    "popDbName = 'pop'\n",
    "\n",
    "# Study area\n",
    "# Study area defines the area in which the accessibility calaculation is executes\n",
    "study_area_shp_path = 'Paris/shp/studyarea.shp'\n",
    "\n",
    "\n",
    "directoryGTFS = './Paris/gtfs/'  # !! only directory of gtfs.zip file, not the path to file\n",
    "gtfs_prep_toggle = True\n",
    "urlMongoDb = \"mongodb://localhost:27017/\"  # url of the mongodb database\n",
    "urlMongoDbPop = \"mongodb://localhost:27017/\" # url of the mongodb database for population\n",
    "urlServerOsrm = 'http://localhost:5000/' # url of the osrm server of the city\n",
    "\n",
    "# required parameters\n",
    "# regarded day from gtfs file\n",
    "day = '20220307'\n",
    "dayName = \"monday\"  # name of the corresponding day\n",
    "\n",
    "# List of starting time for computing the isochrones\n",
    "# Sync to operation hours of drt, pt and conversion timeframe\n",
    "timeList = list(range(7, 11, 1)) # -->[7,8,9,10,11]\n",
    "# timeList = [7,10,13,16,19,22]\n",
    "hStart = timeList[0]*3600 # converting to seconds\n",
    "\n",
    "# parameters of walking distance\n",
    "timeWalk = 15 * 60  # seconds\n",
    "velocityWalk = 1.39  # m/s ***5km/h***\n",
    "distanceS = timeWalk * velocityWalk\n",
    "\n",
    "# Parameters thst define the resolution and extention of tesselletion and the maximum of the walking time\n",
    "# grid step of the hexagonal tesselletion in kilometers\n",
    "gridEdge = 1\n",
    "\n",
    "# Set check4stops = False if cells / hexagones should be included that do not have stops within.\n",
    "# Set check4stops = False for preprocessing prior to dynamic mode to gtfs convertion\n",
    "# Set check4stops = True for citychrone accessibility analysis\n",
    "check4stops = False\n"
   ]
  },
  {
   "cell_type": "markdown",
   "metadata": {},
   "source": [
    "### path of the gtfs files."
   ]
  },
  {
   "cell_type": "code",
   "execution_count": 3,
   "metadata": {},
   "outputs": [],
   "source": [
    "client = pym.MongoClient(urlMongoDb)\n",
    "gtfsDB = client[str('pta-' + city + '-' +scenario_name)]\n",
    "\n",
    "directoryGTFS = './'+ city + '/gtfs/'+ scenario_name +'/' # directory of the gtfs files."
   ]
  },
  {
   "cell_type": "markdown",
   "metadata": {},
   "source": [
    "### Settings of the date and the day for the computation of accessibility quantitites\n",
    "the date must be in the interval of validity of the gtfs files, check it in the \"calendar.txt\" and \"calendar_dates.txt\" files inside the gtfs zip files."
   ]
  },
  {
   "cell_type": "code",
   "execution_count": null,
   "metadata": {},
   "outputs": [],
   "source": [
    "from library.libConnections import printGtfsDate\n",
    "printGtfsDate(directoryGTFS)"
   ]
  },
  {
   "cell_type": "markdown",
   "metadata": {},
   "source": [
    " ## Define url of the osrm server "
   ]
  },
  {
   "cell_type": "markdown",
   "metadata": {},
   "source": [
    "## Parameters thst define the resolution and extention of tesselletion and the maximum of the walking time"
   ]
  },
  {
   "cell_type": "code",
   "execution_count": null,
   "metadata": {},
   "outputs": [],
   "source": [
    "#grid step of the hexagonal tesselletion in kilometers\n",
    "gridEdge = 1\n",
    "\n",
    "#parameters of walking distance\n",
    "timeWalk = 15 * 60 #seconds\n",
    "velocityWalk = 1.39 # m/s ***5km/h***\n",
    "distanceS = timeWalk * velocityWalk"
   ]
  },
  {
   "cell_type": "markdown",
   "metadata": {},
   "source": [
    "# Start of the computation"
   ]
  },
  {
   "cell_type": "markdown",
   "metadata": {},
   "source": [
    "### Read stops, routes, trips, calendar and calendar_dates from gtfs"
   ]
  },
  {
   "cell_type": "markdown",
   "metadata": {},
   "source": [
    "### add population data"
   ]
  },
  {
   "cell_type": "code",
   "execution_count": null,
   "metadata": {},
   "outputs": [],
   "source": [
    "import geopandas as gpd\n",
    "import geojson\n",
    "shapefile = gpd.read_file(\"Pop/Paris/pop.shp\")\n",
    "shapefile.to_file('Pop/Paris/pop.geojson', driver='GeoJSON')\n",
    "with open(\"Pop/Paris/pop.geojson\") as f:\n",
    "    gj = geojson.load(f)\n",
    "features = gj['features']\n",
    "gtfsDB[\"POP\"].drop()\n",
    "gtfsDB[\"POP\"].insert_many(features)\n"
   ]
  },
  {
   "cell_type": "code",
   "execution_count": null,
   "metadata": {
    "code_folding": [],
    "scrolled": false
   },
   "outputs": [],
   "source": [
    "from library.libStopsPoints import loadGtfsFile\n",
    "listOfFile = ['stops.txt', 'routes.txt', 'trips.txt', 'calendar.txt', 'calendar_dates.txt',\n",
    "              'stop_times.txt']  # , 'stop_times.txt']#, 'shapes.txt']\n",
    "loadGtfsFile(gtfsDB, directoryGTFS, city, listOfFile)"
   ]
  },
  {
   "cell_type": "markdown",
   "metadata": {},
   "source": [
    "## Fill the database with the connections"
   ]
  },
  {
   "cell_type": "code",
   "execution_count": null,
   "metadata": {
    "pycharm": {
     "is_executing": true
    },
    "scrolled": false
   },
   "outputs": [],
   "source": [
    "from library.libConnections import readConnections\n",
    "readConnections(gtfsDB, city, directoryGTFS, day, dayName)"
   ]
  },
  {
   "cell_type": "markdown",
   "metadata": {},
   "source": [
    "## remove stops with no connections \n",
    "#### and add to each stop the pos field"
   ]
  },
  {
   "cell_type": "code",
   "execution_count": null,
   "metadata": {
    "pycharm": {
     "is_executing": true
    }
   },
   "outputs": [],
   "source": [
    "from library.libStopsPoints import removingStopsNoConnections, setPosField, removeStopsOutBorder\n",
    "#removeStopsOutBorder(gtfsDB, city, 'OECD_city', [\"commuting_zone\", \"city_core\"])\n",
    "removingStopsNoConnections(gtfsDB, city)\n",
    "setPosField(gtfsDB, city)"
   ]
  },
  {
   "cell_type": "code",
   "execution_count": null,
   "metadata": {
    "pycharm": {
     "is_executing": true
    }
   },
   "outputs": [],
   "source": [
    "from library.libConnections import updateConnectionsStopName\n",
    "updateConnectionsStopName(gtfsDB, city)"
   ]
  },
  {
   "cell_type": "markdown",
   "metadata": {},
   "source": [
    "# Tassel with exagons"
   ]
  },
  {
   "cell_type": "markdown",
   "metadata": {},
   "source": [
    "### List of all stops"
   ]
  },
  {
   "cell_type": "code",
   "execution_count": null,
   "metadata": {
    "pycharm": {
     "is_executing": true
    }
   },
   "outputs": [],
   "source": [
    "from library.libStopsPoints import returnStopsList\n",
    "stopsList = returnStopsList(gtfsDB, city)"
   ]
  },
  {
   "cell_type": "markdown",
   "metadata": {},
   "source": [
    "## Compute the box that include all stops\n",
    "The edge of such box are enlarged by distanceS."
   ]
  },
  {
   "cell_type": "code",
   "execution_count": null,
   "metadata": {
    "pycharm": {
     "is_executing": true
    }
   },
   "outputs": [],
   "source": [
    "from library.libStopsPoints import boundingBoxStops, mapStops\n",
    "from IPython.core.display import display, HTML\n",
    "display(HTML('<h1>All stops of the public transport present in the gtfs files</h1>'))\n",
    "bbox = boundingBoxStops(stopsList)\n",
    "mapStops(bbox, stopsList)"
   ]
  },
  {
   "cell_type": "code",
   "execution_count": null,
   "metadata": {
    "pycharm": {
     "is_executing": true
    }
   },
   "outputs": [],
   "source": [
    "print(bbox)"
   ]
  },
  {
   "cell_type": "code",
   "execution_count": null,
   "metadata": {
    "pycharm": {
     "is_executing": true
    }
   },
   "outputs": [],
   "source": [
    "from library.libStudyArea import extractBoundingBoxFromShp\n",
    "bbox = extractBoundingBoxFromShp('/Users/Severin/BaseFiles/public-transport-analysis/studyarea/ParisShp.shp')"
   ]
  },
  {
   "cell_type": "code",
   "execution_count": null,
   "metadata": {
    "pycharm": {
     "is_executing": true
    }
   },
   "outputs": [],
   "source": [
    "print(bbox)"
   ]
  },
  {
   "cell_type": "markdown",
   "metadata": {},
   "source": [
    "## Tassel the box with exagons."
   ]
  },
  {
   "cell_type": "code",
   "execution_count": null,
   "metadata": {},
   "outputs": [],
   "source": [
    "from library.libHex import hexagonalGrid\n",
    "hexBin, pointBin = hexagonalGrid(bbox, gridEdge, gtfsDB['stops'], distanceS, city)"
   ]
  },
  {
   "cell_type": "code",
   "execution_count": null,
   "metadata": {},
   "outputs": [],
   "source": [
    "import csv\n",
    "\n",
    "field_names = [\"point\",\"hex\",\"city\",\"served\",\"pos\"]\n",
    "\n",
    "\n",
    "with open('Names.csv', 'w') as csvfile:\n",
    "    writer = csv.DictWriter(csvfile, fieldnames=field_names, delimiter=';')\n",
    "    writer.writeheader()\n",
    "    writer.writerows(pointBin)"
   ]
  },
  {
   "cell_type": "code",
   "execution_count": null,
   "metadata": {},
   "outputs": [],
   "source": [
    "from library.libHex import insertPoints\n",
    "insertPoints(pointBin, city, gtfsDB)\n",
    "#print('total number of hexagons created : {0}'.format(gtfsDB['points'].find({'city':city}).count()))"
   ]
  },
  {
   "cell_type": "code",
   "execution_count": 4,
   "metadata": {
    "scrolled": false
   },
   "outputs": [
    {
     "data": {
      "text/html": [
       "<h1>First tesselletion of the area served by public transport</h1>"
      ],
      "text/plain": [
       "<IPython.core.display.HTML object>"
      ]
     },
     "metadata": {},
     "output_type": "display_data"
    },
    {
     "ename": "NameError",
     "evalue": "name 'pointBin' is not defined",
     "output_type": "error",
     "traceback": [
      "\u001B[0;31m---------------------------------------------------------------------------\u001B[0m",
      "\u001B[0;31mNameError\u001B[0m                                 Traceback (most recent call last)",
      "\u001B[0;32m<ipython-input-4-f495a5c126ec>\u001B[0m in \u001B[0;36m<module>\u001B[0;34m\u001B[0m\n\u001B[1;32m      4\u001B[0m \u001B[0mlatlon\u001B[0m \u001B[0;34m=\u001B[0m \u001B[0mlist\u001B[0m\u001B[0;34m(\u001B[0m\u001B[0mreversed\u001B[0m\u001B[0;34m(\u001B[0m\u001B[0mgtfsDB\u001B[0m\u001B[0;34m[\u001B[0m\u001B[0;34m'points'\u001B[0m\u001B[0;34m]\u001B[0m\u001B[0;34m.\u001B[0m\u001B[0mfind_one\u001B[0m\u001B[0;34m(\u001B[0m\u001B[0;34m{\u001B[0m\u001B[0;34m'city'\u001B[0m\u001B[0;34m:\u001B[0m\u001B[0mcity\u001B[0m\u001B[0;34m}\u001B[0m\u001B[0;34m)\u001B[0m\u001B[0;34m[\u001B[0m\u001B[0;34m'point'\u001B[0m\u001B[0;34m]\u001B[0m\u001B[0;34m[\u001B[0m\u001B[0;34m'coordinates'\u001B[0m\u001B[0;34m]\u001B[0m\u001B[0;34m)\u001B[0m\u001B[0;34m)\u001B[0m\u001B[0;34m\u001B[0m\u001B[0;34m\u001B[0m\u001B[0m\n\u001B[1;32m      5\u001B[0m \u001B[0mmap_osm\u001B[0m \u001B[0;34m=\u001B[0m \u001B[0mfolium\u001B[0m\u001B[0;34m.\u001B[0m\u001B[0mMap\u001B[0m\u001B[0;34m(\u001B[0m\u001B[0mlocation\u001B[0m\u001B[0;34m=\u001B[0m\u001B[0mlatlon\u001B[0m\u001B[0;34m,\u001B[0m \u001B[0mzoom_start\u001B[0m\u001B[0;34m=\u001B[0m\u001B[0;36m9\u001B[0m\u001B[0;34m)\u001B[0m\u001B[0;34m;\u001B[0m\u001B[0;34m\u001B[0m\u001B[0;34m\u001B[0m\u001B[0m\n\u001B[0;32m----> 6\u001B[0;31m \u001B[0mmap_osm\u001B[0m\u001B[0;34m.\u001B[0m\u001B[0mchoropleth\u001B[0m\u001B[0;34m(\u001B[0m\u001B[0munionHexs\u001B[0m\u001B[0;34m(\u001B[0m\u001B[0mpointBin\u001B[0m\u001B[0;34m)\u001B[0m\u001B[0;34m,\u001B[0m  \u001B[0mfill_color\u001B[0m\u001B[0;34m=\u001B[0m\u001B[0;34m'#3288bd'\u001B[0m\u001B[0;34m,\u001B[0m\u001B[0mfill_opacity\u001B[0m\u001B[0;34m=\u001B[0m\u001B[0;36m0.3\u001B[0m\u001B[0;34m,\u001B[0m \u001B[0mline_color\u001B[0m\u001B[0;34m=\u001B[0m\u001B[0;34m'#3288bd'\u001B[0m\u001B[0;34m,\u001B[0m\u001B[0mline_weight\u001B[0m\u001B[0;34m=\u001B[0m\u001B[0;36m2\u001B[0m\u001B[0;34m,\u001B[0m \u001B[0mline_opacity\u001B[0m\u001B[0;34m=\u001B[0m\u001B[0;36m1\u001B[0m\u001B[0;34m)\u001B[0m\u001B[0;34m\u001B[0m\u001B[0;34m\u001B[0m\u001B[0m\n\u001B[0m\u001B[1;32m      7\u001B[0m \u001B[0mmap_osm\u001B[0m\u001B[0;34m\u001B[0m\u001B[0;34m\u001B[0m\u001B[0m\n",
      "\u001B[0;31mNameError\u001B[0m: name 'pointBin' is not defined"
     ]
    }
   ],
   "source": [
    "from library.libHex import unionHexs\n",
    "from IPython.core.display import display, HTML\n",
    "display(HTML('<h1>First tesselletion of the area served by public transport</h1>'))\n",
    "latlon = list(reversed(gtfsDB['points'].find_one({'city':city})['point']['coordinates']))\n",
    "map_osm = folium.Map(location=latlon, zoom_start=9);\n",
    "map_osm.choropleth(unionHexs(pointBin),  fill_color='#3288bd',fill_opacity=0.3, line_color='#3288bd',line_weight=2, line_opacity=1)\n",
    "map_osm"
   ]
  },
  {
   "cell_type": "markdown",
   "metadata": {},
   "source": [
    "## Find the hex with walkingTime less than timeWalk from a stops"
   ]
  },
  {
   "cell_type": "code",
   "execution_count": null,
   "metadata": {
    "scrolled": false
   },
   "outputs": [],
   "source": [
    "from library.libHex import pointsServed\n",
    "pointsServed(gtfsDB, stopsList, urlServerOsrm, distanceS, timeWalk, city)"
   ]
  },
  {
   "cell_type": "code",
   "execution_count": null,
   "metadata": {},
   "outputs": [],
   "source": [
    "#print(\"Number of hexagons: {0}\".format(gtfsDB['points'].find({'served':True, 'city':city}).count()))"
   ]
  },
  {
   "cell_type": "markdown",
   "metadata": {},
   "source": [
    "## Setting field \"pos\" for points for performance"
   ]
  },
  {
   "cell_type": "code",
   "execution_count": null,
   "metadata": {},
   "outputs": [],
   "source": [
    "from library.libHex import settingHexsPos\n",
    "settingHexsPos(gtfsDB, city)"
   ]
  },
  {
   "cell_type": "code",
   "execution_count": null,
   "metadata": {},
   "outputs": [],
   "source": [
    "from library.libHex import showHexs\n",
    "from IPython.core.display import display, HTML\n",
    "display(HTML('<h1>Tesselletion of the area served by the public transport</h1>'))\n",
    "showHexs(gtfsDB, city, 10)"
   ]
  },
  {
   "cell_type": "markdown",
   "metadata": {},
   "source": [
    "## Setting Population of Hexagons"
   ]
  },
  {
   "cell_type": "code",
   "execution_count": null,
   "metadata": {},
   "outputs": [],
   "source": [
    "from library.libHex import setHexsPop\n",
    "\n",
    "if urlMongoDbPop != \"\" and popCollectionName != \"\":\n",
    "    clientPop = pym.MongoClient(urlMongoDbPop)\n",
    "    popDb = clientPop[popDbName]\n",
    "    popCollection = popDb[popCollectionName]\n",
    "    setHexsPop(gtfsDB, popCollection, popField, city)\n",
    "else:\n",
    "    print(\"Population NOT INSERTED!\")\n",
    "\n",
    "res = gtfsDB['points'].update_many({'pop':{'$exists':False}}, {'$set':{'pop':0}})\n",
    "print(\"n° of matched hexagons with population Polygons: {0} \\n \\\n",
    "not matched: {1} (setted to zero)\".format(gtfsDB['points'].find({'pop':{'$exists':True}}).count(),\n",
    "                                                                                     res.modified_count))"
   ]
  },
  {
   "cell_type": "markdown",
   "metadata": {},
   "source": [
    "# Adding the walking time between stops and points"
   ]
  },
  {
   "cell_type": "code",
   "execution_count": null,
   "metadata": {},
   "outputs": [],
   "source": [
    "from libStopsPoints import computeNeigh\n",
    "computeNeigh(gtfsDB, urlServerOsrm, distanceS, timeWalk,  city)"
   ]
  },
  {
   "cell_type": "markdown",
   "metadata": {},
   "source": [
    "# Compute quantities and observable"
   ]
  },
  {
   "cell_type": "markdown",
   "metadata": {},
   "source": [
    "TimeList is the list of starting time for computing the isochrones"
   ]
  },
  {
   "cell_type": "code",
   "execution_count": null,
   "metadata": {},
   "outputs": [],
   "source": [
    "#timeList = list(range(6,22,2))#[7,10,13,16,19,22] # List of starting time for computing the isochrones\n",
    "#timeList = [7,10,13,16,19,22] # List of starting time for computing the isochrones\n",
    "#hStart = timeList[0]*3600"
   ]
  },
  {
   "cell_type": "code",
   "execution_count": null,
   "metadata": {},
   "outputs": [],
   "source": [
    "timeList = list(range(7,11,1))#[7,10,13,16,19,22] # List of starting time for computing the isochrones\n",
    "#timeList = [7,10,13,16,19,22] # List of starting time for computing the isochrones\n",
    "hStart = timeList[0]*3600"
   ]
  },
  {
   "cell_type": "markdown",
   "metadata": {},
   "source": [
    "### List of connections"
   ]
  },
  {
   "cell_type": "code",
   "execution_count": null,
   "metadata": {},
   "outputs": [],
   "source": [
    "from libConnections import makeArrayConnections\n",
    "arrayCC = makeArrayConnections(gtfsDB, hStart, city)"
   ]
  },
  {
   "cell_type": "markdown",
   "metadata": {},
   "source": [
    "### List of list of the points and stops neighbors"
   ]
  },
  {
   "cell_type": "code",
   "execution_count": null,
   "metadata": {},
   "outputs": [],
   "source": [
    "from libStopsPoints import listPointsStopsN \n",
    "arraySP = listPointsStopsN(gtfsDB, city)"
   ]
  },
  {
   "cell_type": "markdown",
   "metadata": {},
   "source": [
    "## Compute accessibility quantities"
   ]
  },
  {
   "cell_type": "code",
   "execution_count": null,
   "metadata": {
    "scrolled": true
   },
   "outputs": [],
   "source": [
    "import imp\n",
    "import icsa\n",
    "import libAccessibility\n",
    "\n",
    "imp.reload(libAccessibility)\n",
    "from icsa import computeAccessibilities\n",
    "imp.reload(icsa)\n",
    "listAccessibility = ['velocityScore','socialityScore', 'velocityScoreGall', \n",
    "                     'socialityScoreGall','velocityScore1h', 'socialityScore1h',\n",
    "                    'timeVelocity', 'timeSociality']\n",
    "\n",
    "computeIsochrone = False\n",
    "if 'isochrones' in gtfsDB.collection_names():\n",
    "    #gtfsDB['isochrones'].delete_many({'city':city})\n",
    "    pass\n",
    "for timeStart in timeList:\n",
    "    timeStart *= 3600\n",
    "    print( 'Time Isochrone Start: {0}'.format(timeStart/3600,))\n",
    "    computeAccessibilities(city, timeStart, arrayCC, arraySP, gtfsDB, computeIsochrone, timeStart/3600 == timeList[0], listAccessibility=listAccessibility)"
   ]
  },
  {
   "cell_type": "markdown",
   "metadata": {},
   "source": [
    "## Compute averages of the accessiblity quantities computed"
   ]
  },
  {
   "cell_type": "code",
   "execution_count": null,
   "metadata": {},
   "outputs": [],
   "source": [
    "from libStopsPoints import computeAverage\n",
    "computeAverage(listAccessibility, gtfsDB, city)"
   ]
  },
  {
   "cell_type": "markdown",
   "metadata": {},
   "source": [
    "# RESULTS"
   ]
  },
  {
   "cell_type": "markdown",
   "metadata": {},
   "source": [
    "## maps"
   ]
  },
  {
   "cell_type": "code",
   "execution_count": null,
   "metadata": {
    "scrolled": false
   },
   "outputs": [],
   "source": [
    "from library.libHex import reduceGeojsonInShellSubField\n",
    "from IPython.core.display import display, HTML\n",
    "\n",
    "field1 = 'velocityScore'\n",
    "field2 = 'avg'\n",
    "color = ['#993404', \"#f16913\", \"#fdae6b\", '#74c476', '#31a354', '#006d2c', \"#6baed6\", \"#4292c6\", \"#2171b5\", '#08519c', '#f768a1', '#dd3497', '#ae017e', '#49006a'];\n",
    "shell = [0., 2., 4., 5, 6., 7, 8., 9, 10., 11, 12., 13, 15, 17.];\n",
    "#print (\"number of hexs in total\", gtfsDB['points'].find({field1:{'$exists':True}, 'city':city}).count())\n",
    "res = reduceGeojsonInShellSubField(list(gtfsDB['points'].find({'city':city})), field1, field2, color, shell)\n",
    "#res = showMapHexRedux(city, gtfsDB['points'], field = field, shell = shell, save=True)\n",
    "\n",
    "display(HTML('<h1>Velocity Score</h1>'))\n",
    "\n",
    "res[1]"
   ]
  },
  {
   "cell_type": "code",
   "execution_count": null,
   "metadata": {},
   "outputs": [],
   "source": []
  },
  {
   "cell_type": "code",
   "execution_count": null,
   "metadata": {},
   "outputs": [],
   "source": [
    "from library.libHex import reduceGeojsonInShellSubField\n",
    "from IPython.core.display import display, HTML\n",
    "\n",
    "field1 = 'socialityScore'\n",
    "field2 = 'avg'\n",
    "color = [\"#000000\",\"rgb(95, 95, 95)\",\"rgb(180, 180, 180)\",\"rgb(8, 48, 107)\",\"rgb(15, 87, 159)\",\"rgb(47, 126, 188)\",\"rgb(109, 174, 213)\",\"rgb(181, 212, 233)\",\"rgb(253, 202, 148)\",\n",
    "\"rgb(253, 176, 122)\",\"rgb(250, 142, 93)\",\"rgb(241, 108, 73)\",\"rgb(224, 69, 48)\",\"rgb(243, 105, 163)\",\"rgb(224, 62, 152)\",\"rgb(153, 3, 124)\",\"rgb(73, 0, 106)\"]\n",
    "shell = [0, 50000, 100000, 200000, 300000, 400000, 500000, 600000,700000,800000, 900000, 1000000,1500000, 2000000,2500000, 3000000];\n",
    "#print (\"number of hexs in total\", gtfsDB['points'].find({field1:{'$exists':True}, 'city':city}).count())\n",
    "res = reduceGeojsonInShellSubField(list(gtfsDB['points'].find({'city':city})), field1, field2, color, shell)\n",
    "#res = showMapHexRedux(city, gtfsDB['points'], field = field, shell = shell, save=True)\n",
    "\n",
    "display(HTML('<h1>Sociality Score</h1>'))\n",
    "\n",
    "res[1]"
   ]
  },
  {
   "cell_type": "markdown",
   "metadata": {},
   "source": [
    "# Saving File\n",
    "Make ZIP file containig all the public transports information needed in order to add the city to the [citychrone](www.citychrone.org) platform."
   ]
  },
  {
   "cell_type": "code",
   "execution_count": null,
   "metadata": {},
   "outputs": [],
   "source": [
    "newScenario=True # If True in the citychrone platform tensting new scenario on the city is allowed.\n",
    "from saveData import makeZipCitychrone\n",
    "if 'arrayCC' in locals():\n",
    "    makeZipCitychrone(city, gtfsDB, arrayCC, newScenario=newScenario, urlServerOsrm=urlServerOsrm)\n",
    "else:\n",
    "    makeZipCitychrone(city, gtfsDB, newScenario=True)"
   ]
  },
  {
   "cell_type": "markdown",
   "metadata": {},
   "source": [
    "# [Optional] \n",
    "# Analisys on the accessibility quantities.\n",
    "\n",
    "## Compute average time distance from the center\n",
    "Computing the average time distance from the center of the city. \n",
    "We consider two center: \n",
    "1. where the velocityScore is max\n",
    "2. Where the socialityScore is max."
   ]
  },
  {
   "cell_type": "code",
   "execution_count": null,
   "metadata": {},
   "outputs": [],
   "source": [
    "gtfsDB['points'].find_one({'city':city})[\"velocityScore\"].keys()\n",
    "timeListSec = []\n",
    "for k in gtfsDB['points'].find_one({'city':city})[\"velocityScore\"].keys():\n",
    "    try:\n",
    "        timeListSec.append(int(k))\n",
    "    except:\n",
    "        pass\n",
    "if len(timeListSec) > 10:\n",
    "    timeListSec = timeListSec[2:]\n",
    "print(timeListSec)"
   ]
  },
  {
   "cell_type": "code",
   "execution_count": null,
   "metadata": {},
   "outputs": [],
   "source": [
    "from libConnections import makeArrayConnections\n",
    "from libStopsPoints import listPointsStopsN \n",
    "from libHex import reduceGeojsonInShell  \n",
    "from icsa import coumputeAvgTimeDistance\n",
    "startPoint = gtfsDB['points'].find({'city':city},sort=[('velocityScore.avg',-1)])[0]\n",
    "\n",
    "if 'arrayCC' not in locals():\n",
    "    arrayCC = makeArrayConnections(gtfsDB, 0, city)\n",
    "if 'arraySP' not in locals():\n",
    "    arraySP = listPointsStopsN(gtfsDB, city)\n",
    "\n",
    "timeDist = coumputeAvgTimeDistance(startPoint, timeListSec, arrayCC, arraySP, gtfsDB, city)\n",
    "startPointLatLon = [startPoint['point'][\"coordinates\"][1], startPoint['point'][\"coordinates\"][0]]\n",
    "for pos, tDist in enumerate(timeDist):\n",
    "    pointSelectedLonLat = gtfsDB[\"points\"].find_one({'pos':pos, \"city\":city})[\"point\"][\"coordinates\"]\n",
    "    sVelDist = geodesic(startPointLatLon,(pointSelectedLonLat[1], pointSelectedLonLat[0])).meters #dist in meter\n",
    "    gtfsDB[\"points\"].update_one({'pos':pos, 'city':city},{'$set':{'tVelDist':tDist, \"sVelDist\":sVelDist} })\n",
    "print(timeDist)\n",
    "pointsList = list(gtfsDB['points'].find({'city':city},{'pointN':0, 'stopN':0}))\n",
    "res = reduceGeojsonInShell(pointsList,'tVelDist')\n",
    "res[1]"
   ]
  },
  {
   "cell_type": "code",
   "execution_count": null,
   "metadata": {
    "scrolled": false
   },
   "outputs": [],
   "source": [
    "startPoint = gtfsDB['points'].find({'city':city},sort=[('socialityScore.avg',-1)])[0]\n",
    "\n",
    "if 'arrayCC' not in locals():\n",
    "    arrayCC = makeArrayConnections(gtfsDB, 0, city)\n",
    "if 'arraySP' not in locals():\n",
    "    arraySP = listPointsStopsN(gtfsDB, city)\n",
    "\n",
    "timeDist = coumputeAvgTimeDistance(startPoint, timeListSec, arrayCC, arraySP, gtfsDB, city)\n",
    "for pos, tDist in enumerate(timeDist):\n",
    "    gtfsDB[\"points\"].update_one({'pos':pos, 'city':city},{'$set':{'tSocDist':tDist}})\n",
    "timeDist\n",
    "pointsList = list(gtfsDB['points'].find({'city':city},{'pointN':0, 'stopN':0}))\n",
    "res = reduceGeojsonInShell(pointsList,'tSocDist')\n",
    "res[1]"
   ]
  },
  {
   "cell_type": "markdown",
   "metadata": {},
   "source": [
    "## Analisys Exponential Decay of accessibility the quantities"
   ]
  },
  {
   "cell_type": "markdown",
   "metadata": {},
   "source": [
    "### Velocity Score and Sociality score vs time distance from the center\n",
    "\n",
    " 1. fitting function:\n",
    "     $ae^{-bx}$\n",
    " 2. fitting function:\n",
    "     $ae^{-bx^2}$\n",
    " 3. fitting function:\n",
    "     $\\text{maxValue} * e^{-bx^a}$"
   ]
  },
  {
   "cell_type": "code",
   "execution_count": null,
   "metadata": {},
   "outputs": [],
   "source": [
    "from libAnalysis import fitAndPlot, expon, gauss, giveVarExpon\n",
    "\n",
    "maxValue = gtfsDB['points'].find({'city':city}, sort=[(('velocityScore.avg',-1))])[0][\"velocityScore\"][\"avg\"]\n",
    "functVarExp =  giveVarExpon(maxValue)\n",
    "fitAndPlot('velocityScore','tVelDist', gtfsDB, city, expon, p0 = [12,0.0001], nameFunc = \"exponential\")\n",
    "fitAndPlot('velocityScore','tVelDist', gtfsDB, city, gauss, p0 = [12,0.000001], nameFunc = \"exponential\")\n",
    "fitAndPlot('velocityScore','tVelDist', gtfsDB, city, functVarExp, p0 = [1,0.0001], nameFunc = \"exponential\");"
   ]
  },
  {
   "cell_type": "code",
   "execution_count": null,
   "metadata": {},
   "outputs": [],
   "source": [
    "from libAnalysis import fitAndPlot, expon, gauss, giveVarExpon\n",
    "\n",
    "quantity = \"socialityScore\"\n",
    "distField = \"tSocDist\"\n",
    "maxValue = gtfsDB['points'].find({'city':city}, sort=[((quantity+'.avg',-1))])[0][quantity][\"avg\"]\n",
    "functVarExp =  giveVarExpon(maxValue)\n",
    "fitAndPlot(quantity,distField, gtfsDB, city, expon, p0 = [100000,0.0001], nameFunc = \"exponential\")\n",
    "fitAndPlot(quantity,distField, gtfsDB, city, gauss, p0 = [100000,0.0000001], nameFunc = \"gauss\")\n",
    "fitAndPlot(quantity,distField, gtfsDB, city, functVarExp, p0 = [1,0.001], nameFunc = \"Vary Exp\");"
   ]
  }
 ],
 "metadata": {
  "hide_input": false,
  "kernelspec": {
   "display_name": "Python 3",
   "language": "python",
   "name": "python3"
  },
  "language_info": {
   "codemirror_mode": {
    "name": "ipython",
    "version": 3
   },
   "file_extension": ".py",
   "mimetype": "text/x-python",
   "name": "python",
   "nbconvert_exporter": "python",
   "pygments_lexer": "ipython3",
   "version": "3.8.8"
  },
  "latex_envs": {
   "LaTeX_envs_menu_present": true,
   "autocomplete": true,
   "bibliofile": "biblio.bib",
   "cite_by": "apalike",
   "current_citInitial": 1,
   "eqLabelWithNumbers": false,
   "eqNumInitial": 1,
   "hotkeys": {
    "equation": "Ctrl-E",
    "itemize": "Ctrl-I"
   },
   "labels_anchors": true,
   "latex_user_defs": true,
   "report_style_numbering": true,
   "user_envs_cfg": true
  },
  "toc": {
   "colors": {
    "hover_highlight": "#DAA520",
    "running_highlight": "#FF0000",
    "selected_highlight": "#FFD700"
   },
   "moveMenuLeft": true,
   "nav_menu": {
    "height": "512px",
    "width": "252px"
   },
   "navigate_menu": true,
   "number_sections": true,
   "sideBar": true,
   "threshold": 4,
   "toc_cell": true,
   "toc_position": {
    "height": "1134px",
    "left": "0px",
    "right": "1771px",
    "top": "106px",
    "width": "212px"
   },
   "toc_section_display": "block",
   "toc_window_display": true,
   "widenNotebook": false
  },
  "varInspector": {
   "cols": {
    "lenName": 16,
    "lenType": 16,
    "lenVar": 40
   },
   "kernels_config": {
    "python": {
     "delete_cmd_postfix": "",
     "delete_cmd_prefix": "del ",
     "library": "var_list.py",
     "varRefreshCmd": "print(var_dic_list())"
    },
    "r": {
     "delete_cmd_postfix": ") ",
     "delete_cmd_prefix": "rm(",
     "library": "var_list.r",
     "varRefreshCmd": "cat(var_dic_list()) "
    }
   },
   "types_to_exclude": [
    "module",
    "function",
    "builtin_function_or_method",
    "instance",
    "_Feature"
   ],
   "window_display": false
  }
 },
 "nbformat": 4,
 "nbformat_minor": 2
}
