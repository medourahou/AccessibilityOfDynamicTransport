{
 "cells": [
  {
   "cell_type": "code",
   "execution_count": 1,
   "metadata": {
    "hide_input": false,
    "id": "htr_10mPzr5d",
    "run_control": {
     "marked": false
    }
   },
   "outputs": [
    {
     "name": "stderr",
     "output_type": "stream",
     "text": [
      "C:\\Users\\Lenovo\\AppData\\Local\\Temp\\ipykernel_11864\\3252682998.py:31: DeprecationWarning: Importing display from IPython.core.display is deprecated since IPython 7.14, please import from IPython display\n",
      "  from IPython.core.display import display, HTML\n"
     ]
    }
   ],
   "source": [
    "import os\n",
    "import sys\n",
    "\n",
    "# Add library path to Python path\n",
    "sys.path.append(os.path.abspath('..'))\n",
    "\n",
    "# Now import your modules\n",
    "from library import libStopsPoints, libConnections, libHex\n",
    "import zipfile\n",
    "import os\n",
    "import time\n",
    "import pymongo as pym\n",
    "import pandas as pd\n",
    "import folium\n",
    "import numpy as np\n",
    "import requests\n",
    "import numba\n",
    "\n",
    "import math\n",
    "import geopy\n",
    "from shapely.geometry import Polygon, MultiPolygon, Point, mapping\n",
    "from geopy.distance import geodesic,great_circle\n",
    "from folium.plugins import FastMarkerCluster\n",
    "from datetime import datetime\n",
    "from geopy.distance import geodesic,great_circle\n",
    "from pymongo import MongoClient\n",
    "\n",
    "from pathlib import Path\n",
    "import geopandas as gpd\n",
    "import geojson\n",
    "from IPython.core.display import display, HTML\n",
    "\n",
    "from library import libStopsPoints, libConnections, libHex\n",
    " "
   ]
  },
  {
   "cell_type": "markdown",
   "metadata": {
    "id": "TWziSZJ4zr5e"
   },
   "source": [
    "# Url and paths  [**set it!**]"
   ]
  },
  {
   "cell_type": "code",
   "execution_count": 2,
   "metadata": {},
   "outputs": [],
   "source": [
    "city = 'padam_territory_01'\n",
    "scenario_name = 'basecase' # basecase without drt\n",
    "\n",
    "# file paths and addresses to be provided:\n",
    "# population data\n",
    "shpPath = './shp/poi.shp'\n",
    "popCollectionName = \"POP\"\n",
    "popField = \"pop\"\n",
    "\n",
    "# Study area\n",
    "# Study area defines the area in which the accessibility calaculation is executes\n",
    "# study_area_shp_path = 'Paris/shp/studyarea.shp'\n",
    "\n",
    "\n",
    "directoryGTFS = './gtfs/'\n",
    "\n",
    "gtfs_prep_toggle = True\n",
    "urlMongoDb = \"mongodb://localhost:27017/\"  # url of the mongodb database\n",
    "urlMongoDbPop = \"mongodb://localhost:27017/\" # url of the mongodb database for population\n",
    "urlServerOsrm = 'http://localhost:5000/' # url of the osrm server of the city\n",
    "\n",
    "client = MongoClient(urlMongoDb)\n",
    "\n",
    "gtfsDB = client[str('pta-' + city + '-' +scenario_name)]\n",
    "popDbName = str('pta-' + city + '-' +scenario_name)\n",
    "\n",
    "# required parameters\n",
    "# the date must be in the interval of validity of the gtfs files, check it in the \"calendar.txt\" and \"calendar_dates.txt\" files inside the gtfs zip files.\n",
    "# the day for the computation of accessibility quantitites\n",
    "days = ['20220307']\n",
    "day_names = [ \"monday\"]\n",
    "\n",
    "\n",
    "# parameters of walking distance\n",
    "timeWalk = 15 * 60  # seconds\n",
    "velocityWalk = 1.39  # m/s ***4.71km/h***\n",
    "distanceS = timeWalk * velocityWalk\n",
    "\n",
    "# Parameters that define the resolution and extention of tesselletion and the maximum of the walking time\n",
    "# grid step of the hexagonal tesselletion in kilometers\n",
    "gridEdge = 1\n",
    "\n",
    "# Set check4stops = False if cells / hexagones should be included that do not have stops within.\n",
    "# Set check4stops = False for preprocessing prior to dynamic mode to gtfs convertion\n",
    "# Set check4stops = True for citychrone accessibility analysis\n",
    "check4stops = False"
   ]
  },
  {
   "cell_type": "markdown",
   "metadata": {
    "id": "OLA8w1Ovzr5h"
   },
   "source": [
    "# Start of the computation"
   ]
  },
  {
   "cell_type": "markdown",
   "metadata": {
    "id": "okUs-50pzr5i",
    "jupyter": {
     "outputs_hidden": false
    },
    "pycharm": {
     "name": "#%% md\n"
    }
   },
   "source": [
    "### add population data"
   ]
  },
  {
   "cell_type": "code",
   "execution_count": 6,
   "metadata": {
    "id": "j6pxOOw7zr5i",
    "pycharm": {
     "name": "#%%\n"
    }
   },
   "outputs": [
    {
     "data": {
      "text/plain": [
       "InsertManyResult([ObjectId('67d01c98e1764feeace9be8e'), ObjectId('67d01c98e1764feeace9be8f'), ObjectId('67d01c98e1764feeace9be90'), ObjectId('67d01c98e1764feeace9be91'), ObjectId('67d01c98e1764feeace9be92'), ObjectId('67d01c98e1764feeace9be93'), ObjectId('67d01c98e1764feeace9be94'), ObjectId('67d01c98e1764feeace9be95'), ObjectId('67d01c98e1764feeace9be96'), ObjectId('67d01c98e1764feeace9be97'), ObjectId('67d01c98e1764feeace9be98'), ObjectId('67d01c98e1764feeace9be99'), ObjectId('67d01c98e1764feeace9be9a'), ObjectId('67d01c98e1764feeace9be9b'), ObjectId('67d01c98e1764feeace9be9c'), ObjectId('67d01c98e1764feeace9be9d'), ObjectId('67d01c98e1764feeace9be9e'), ObjectId('67d01c98e1764feeace9be9f'), ObjectId('67d01c98e1764feeace9bea0'), ObjectId('67d01c98e1764feeace9bea1'), ObjectId('67d01c98e1764feeace9bea2'), ObjectId('67d01c98e1764feeace9bea3'), ObjectId('67d01c98e1764feeace9bea4'), ObjectId('67d01c98e1764feeace9bea5'), ObjectId('67d01c98e1764feeace9bea6'), ObjectId('67d01c98e1764feeace9bea7'), ObjectId('67d01c98e1764feeace9bea8'), ObjectId('67d01c98e1764feeace9bea9'), ObjectId('67d01c98e1764feeace9beaa'), ObjectId('67d01c98e1764feeace9beab'), ObjectId('67d01c98e1764feeace9beac'), ObjectId('67d01c98e1764feeace9bead'), ObjectId('67d01c98e1764feeace9beae'), ObjectId('67d01c98e1764feeace9beaf'), ObjectId('67d01c98e1764feeace9beb0'), ObjectId('67d01c98e1764feeace9beb1'), ObjectId('67d01c98e1764feeace9beb2'), ObjectId('67d01c98e1764feeace9beb3'), ObjectId('67d01c98e1764feeace9beb4'), ObjectId('67d01c98e1764feeace9beb5'), ObjectId('67d01c98e1764feeace9beb6'), ObjectId('67d01c98e1764feeace9beb7'), ObjectId('67d01c98e1764feeace9beb8'), ObjectId('67d01c98e1764feeace9beb9'), ObjectId('67d01c98e1764feeace9beba'), ObjectId('67d01c98e1764feeace9bebb'), ObjectId('67d01c98e1764feeace9bebc'), ObjectId('67d01c98e1764feeace9bebd'), ObjectId('67d01c98e1764feeace9bebe'), ObjectId('67d01c98e1764feeace9bebf'), ObjectId('67d01c98e1764feeace9bec0'), ObjectId('67d01c98e1764feeace9bec1'), ObjectId('67d01c98e1764feeace9bec2'), ObjectId('67d01c98e1764feeace9bec3'), ObjectId('67d01c98e1764feeace9bec4'), ObjectId('67d01c98e1764feeace9bec5'), ObjectId('67d01c98e1764feeace9bec6'), ObjectId('67d01c98e1764feeace9bec7'), ObjectId('67d01c98e1764feeace9bec8'), ObjectId('67d01c98e1764feeace9bec9'), ObjectId('67d01c98e1764feeace9beca'), ObjectId('67d01c98e1764feeace9becb'), ObjectId('67d01c98e1764feeace9becc'), ObjectId('67d01c98e1764feeace9becd'), ObjectId('67d01c98e1764feeace9bece'), ObjectId('67d01c98e1764feeace9becf'), ObjectId('67d01c98e1764feeace9bed0'), ObjectId('67d01c98e1764feeace9bed1'), ObjectId('67d01c98e1764feeace9bed2'), ObjectId('67d01c98e1764feeace9bed3'), ObjectId('67d01c98e1764feeace9bed4'), ObjectId('67d01c98e1764feeace9bed5'), ObjectId('67d01c98e1764feeace9bed6'), ObjectId('67d01c98e1764feeace9bed7'), ObjectId('67d01c98e1764feeace9bed8'), ObjectId('67d01c98e1764feeace9bed9'), ObjectId('67d01c98e1764feeace9beda'), ObjectId('67d01c98e1764feeace9bedb'), ObjectId('67d01c98e1764feeace9bedc'), ObjectId('67d01c98e1764feeace9bedd'), ObjectId('67d01c98e1764feeace9bede'), ObjectId('67d01c98e1764feeace9bedf'), ObjectId('67d01c98e1764feeace9bee0'), ObjectId('67d01c98e1764feeace9bee1'), ObjectId('67d01c98e1764feeace9bee2'), ObjectId('67d01c98e1764feeace9bee3'), ObjectId('67d01c98e1764feeace9bee4'), ObjectId('67d01c98e1764feeace9bee5'), ObjectId('67d01c98e1764feeace9bee6'), ObjectId('67d01c98e1764feeace9bee7'), ObjectId('67d01c98e1764feeace9bee8'), ObjectId('67d01c98e1764feeace9bee9'), ObjectId('67d01c98e1764feeace9beea'), ObjectId('67d01c98e1764feeace9beeb'), ObjectId('67d01c98e1764feeace9beec'), ObjectId('67d01c98e1764feeace9beed'), ObjectId('67d01c98e1764feeace9beee'), ObjectId('67d01c98e1764feeace9beef'), ObjectId('67d01c98e1764feeace9bef0'), ObjectId('67d01c98e1764feeace9bef1'), ObjectId('67d01c98e1764feeace9bef2'), ObjectId('67d01c98e1764feeace9bef3'), ObjectId('67d01c98e1764feeace9bef4'), ObjectId('67d01c98e1764feeace9bef5'), ObjectId('67d01c98e1764feeace9bef6'), ObjectId('67d01c98e1764feeace9bef7'), ObjectId('67d01c98e1764feeace9bef8'), ObjectId('67d01c98e1764feeace9bef9'), ObjectId('67d01c98e1764feeace9befa'), ObjectId('67d01c98e1764feeace9befb'), ObjectId('67d01c98e1764feeace9befc'), ObjectId('67d01c98e1764feeace9befd'), ObjectId('67d01c98e1764feeace9befe'), ObjectId('67d01c98e1764feeace9beff'), ObjectId('67d01c98e1764feeace9bf00'), ObjectId('67d01c98e1764feeace9bf01'), ObjectId('67d01c98e1764feeace9bf02'), ObjectId('67d01c98e1764feeace9bf03'), ObjectId('67d01c98e1764feeace9bf04'), ObjectId('67d01c98e1764feeace9bf05'), ObjectId('67d01c98e1764feeace9bf06'), ObjectId('67d01c98e1764feeace9bf07'), ObjectId('67d01c98e1764feeace9bf08'), ObjectId('67d01c98e1764feeace9bf09'), ObjectId('67d01c98e1764feeace9bf0a'), ObjectId('67d01c98e1764feeace9bf0b'), ObjectId('67d01c98e1764feeace9bf0c'), ObjectId('67d01c98e1764feeace9bf0d'), ObjectId('67d01c98e1764feeace9bf0e'), ObjectId('67d01c98e1764feeace9bf0f'), ObjectId('67d01c98e1764feeace9bf10'), ObjectId('67d01c98e1764feeace9bf11'), ObjectId('67d01c98e1764feeace9bf12'), ObjectId('67d01c98e1764feeace9bf13'), ObjectId('67d01c98e1764feeace9bf14'), ObjectId('67d01c98e1764feeace9bf15'), ObjectId('67d01c98e1764feeace9bf16'), ObjectId('67d01c98e1764feeace9bf17'), ObjectId('67d01c98e1764feeace9bf18'), ObjectId('67d01c98e1764feeace9bf19'), ObjectId('67d01c98e1764feeace9bf1a'), ObjectId('67d01c98e1764feeace9bf1b'), ObjectId('67d01c98e1764feeace9bf1c'), ObjectId('67d01c98e1764feeace9bf1d'), ObjectId('67d01c98e1764feeace9bf1e'), ObjectId('67d01c98e1764feeace9bf1f'), ObjectId('67d01c98e1764feeace9bf20'), ObjectId('67d01c98e1764feeace9bf21'), ObjectId('67d01c98e1764feeace9bf22'), ObjectId('67d01c98e1764feeace9bf23'), ObjectId('67d01c98e1764feeace9bf24'), ObjectId('67d01c98e1764feeace9bf25'), ObjectId('67d01c98e1764feeace9bf26'), ObjectId('67d01c98e1764feeace9bf27'), ObjectId('67d01c98e1764feeace9bf28'), ObjectId('67d01c98e1764feeace9bf29'), ObjectId('67d01c98e1764feeace9bf2a'), ObjectId('67d01c98e1764feeace9bf2b'), ObjectId('67d01c98e1764feeace9bf2c'), ObjectId('67d01c98e1764feeace9bf2d'), ObjectId('67d01c98e1764feeace9bf2e'), ObjectId('67d01c98e1764feeace9bf2f'), ObjectId('67d01c98e1764feeace9bf30'), ObjectId('67d01c98e1764feeace9bf31'), ObjectId('67d01c98e1764feeace9bf32'), ObjectId('67d01c98e1764feeace9bf33'), ObjectId('67d01c98e1764feeace9bf34'), ObjectId('67d01c98e1764feeace9bf35'), ObjectId('67d01c98e1764feeace9bf36'), ObjectId('67d01c98e1764feeace9bf37'), ObjectId('67d01c98e1764feeace9bf38'), ObjectId('67d01c98e1764feeace9bf39'), ObjectId('67d01c98e1764feeace9bf3a'), ObjectId('67d01c98e1764feeace9bf3b'), ObjectId('67d01c98e1764feeace9bf3c'), ObjectId('67d01c98e1764feeace9bf3d'), ObjectId('67d01c98e1764feeace9bf3e'), ObjectId('67d01c98e1764feeace9bf3f'), ObjectId('67d01c98e1764feeace9bf40'), ObjectId('67d01c98e1764feeace9bf41'), ObjectId('67d01c98e1764feeace9bf42'), ObjectId('67d01c98e1764feeace9bf43'), ObjectId('67d01c98e1764feeace9bf44'), ObjectId('67d01c98e1764feeace9bf45'), ObjectId('67d01c98e1764feeace9bf46'), ObjectId('67d01c98e1764feeace9bf47'), ObjectId('67d01c98e1764feeace9bf48'), ObjectId('67d01c98e1764feeace9bf49'), ObjectId('67d01c98e1764feeace9bf4a'), ObjectId('67d01c98e1764feeace9bf4b'), ObjectId('67d01c98e1764feeace9bf4c'), ObjectId('67d01c98e1764feeace9bf4d'), ObjectId('67d01c98e1764feeace9bf4e'), ObjectId('67d01c98e1764feeace9bf4f'), ObjectId('67d01c98e1764feeace9bf50'), ObjectId('67d01c98e1764feeace9bf51'), ObjectId('67d01c98e1764feeace9bf52'), ObjectId('67d01c98e1764feeace9bf53'), ObjectId('67d01c98e1764feeace9bf54'), ObjectId('67d01c98e1764feeace9bf55'), ObjectId('67d01c98e1764feeace9bf56'), ObjectId('67d01c98e1764feeace9bf57'), ObjectId('67d01c98e1764feeace9bf58'), ObjectId('67d01c98e1764feeace9bf59'), ObjectId('67d01c98e1764feeace9bf5a'), ObjectId('67d01c98e1764feeace9bf5b'), ObjectId('67d01c98e1764feeace9bf5c'), ObjectId('67d01c98e1764feeace9bf5d'), ObjectId('67d01c98e1764feeace9bf5e'), ObjectId('67d01c98e1764feeace9bf5f'), ObjectId('67d01c98e1764feeace9bf60'), ObjectId('67d01c98e1764feeace9bf61'), ObjectId('67d01c98e1764feeace9bf62'), ObjectId('67d01c98e1764feeace9bf63'), ObjectId('67d01c98e1764feeace9bf64'), ObjectId('67d01c98e1764feeace9bf65'), ObjectId('67d01c98e1764feeace9bf66'), ObjectId('67d01c98e1764feeace9bf67'), ObjectId('67d01c98e1764feeace9bf68'), ObjectId('67d01c98e1764feeace9bf69'), ObjectId('67d01c98e1764feeace9bf6a'), ObjectId('67d01c98e1764feeace9bf6b'), ObjectId('67d01c98e1764feeace9bf6c'), ObjectId('67d01c98e1764feeace9bf6d'), ObjectId('67d01c98e1764feeace9bf6e'), ObjectId('67d01c98e1764feeace9bf6f'), ObjectId('67d01c98e1764feeace9bf70'), ObjectId('67d01c98e1764feeace9bf71'), ObjectId('67d01c98e1764feeace9bf72'), ObjectId('67d01c98e1764feeace9bf73'), ObjectId('67d01c98e1764feeace9bf74'), ObjectId('67d01c98e1764feeace9bf75'), ObjectId('67d01c98e1764feeace9bf76'), ObjectId('67d01c98e1764feeace9bf77'), ObjectId('67d01c98e1764feeace9bf78'), ObjectId('67d01c98e1764feeace9bf79'), ObjectId('67d01c98e1764feeace9bf7a'), ObjectId('67d01c98e1764feeace9bf7b'), ObjectId('67d01c98e1764feeace9bf7c'), ObjectId('67d01c98e1764feeace9bf7d'), ObjectId('67d01c98e1764feeace9bf7e'), ObjectId('67d01c98e1764feeace9bf7f'), ObjectId('67d01c98e1764feeace9bf80'), ObjectId('67d01c98e1764feeace9bf81'), ObjectId('67d01c98e1764feeace9bf82'), ObjectId('67d01c98e1764feeace9bf83'), ObjectId('67d01c98e1764feeace9bf84'), ObjectId('67d01c98e1764feeace9bf85'), ObjectId('67d01c98e1764feeace9bf86'), ObjectId('67d01c98e1764feeace9bf87'), ObjectId('67d01c98e1764feeace9bf88')], acknowledged=True)"
      ]
     },
     "execution_count": 6,
     "metadata": {},
     "output_type": "execute_result"
    }
   ],
   "source": [
    "\n",
    "shapefile = gpd.read_file(shpPath)\n",
    "shapefile.to_file(\"./shp/poi.geojson\", driver='GeoJSON')\n",
    "with open(\"./shp/poi.geojson\",encoding=\"utf8\") as f:\n",
    "    gj = geojson.load(f)\n",
    "features = gj['features']\n",
    "gtfsDB[\"POP\"].drop()\n",
    "gtfsDB[\"POP\"].insert_many(features)\n"
   ]
  },
  {
   "cell_type": "code",
   "execution_count": 3,
   "metadata": {
    "code_folding": [],
    "colab": {
     "base_uri": "https://localhost:8080/"
    },
    "id": "OAsrhBWPzr5i",
    "outputId": "453e5d32-a409-4e74-eb0d-22686e0641c2"
   },
   "outputs": [
    {
     "name": "stdout",
     "output_type": "stream",
     "text": [
      "removing stops  of  padam_territory_01\n",
      "removing routes  of  padam_territory_01\n",
      "removing trips  of  padam_territory_01\n",
      "removing calendar  of  padam_territory_01\n",
      "removing calendar_dates  of  padam_territory_01\n",
      "removing stop_times  of  padam_territory_01\n",
      "gtfs.zip\n",
      "stops.txt -> (400,400)\n",
      "routes.txt -> (71,71)\n",
      "trips.txt -> (5797,5797)\n",
      "calendar.txt -> (74,74)\n",
      "calendar_dates.txt -> (83,83)\n",
      "stop_times.txt -> (22670,22670)\n"
     ]
    }
   ],
   "source": [
    "# load Gtfs data to mongodb database\n",
    "listOfFile = ['stops.txt', 'routes.txt', 'trips.txt', 'calendar.txt', 'calendar_dates.txt',\n",
    "              'stop_times.txt']  \n",
    "libStopsPoints.loadGtfsFile(gtfsDB, directoryGTFS, city, listOfFile)"
   ]
  },
  {
   "cell_type": "markdown",
   "metadata": {
    "id": "qV9UEpQ9zr5i"
   },
   "source": [
    "## Fill the database with the connections"
   ]
  },
  {
   "cell_type": "code",
   "execution_count": 4,
   "metadata": {
    "colab": {
     "base_uri": "https://localhost:8080/"
    },
    "id": "wFho5s7Ozr5i",
    "outputId": "48390d6b-177e-45e1-92e2-749acf9035b5"
   },
   "outputs": [
    {
     "name": "stdout",
     "output_type": "stream",
     "text": [
      "number of file in calendar+calendar_dates: 1\n",
      "in stops: 1\n",
      "\n",
      "Checking the number of services active in the date selected:\n",
      "file: gtfs.zip \t total number of active service (in calendar.txt): 34\n",
      "number of different service_id: 1\n",
      "\n",
      "\n",
      "file: gtfs.zip \t total number of active service (in calendar_dates.txt): 34\n",
      "number of different service_id: 1 total number of active services found: 34\n",
      "number of trips 5000\n",
      " gtfs.zip\n",
      "inserting to DB....6, err 0, err_start 0, err_start_after 0\n",
      "tot connections 9604\n"
     ]
    }
   ],
   "source": [
    "\n",
    "libConnections.readConnections(gtfsDB, city, directoryGTFS, days[0], day_names[0], overwrite=True)\n"
   ]
  },
  {
   "cell_type": "markdown",
   "metadata": {
    "id": "tl1uUS47zr5j"
   },
   "source": [
    "## Remove stops with no connections and add to each stop the pos field"
   ]
  },
  {
   "cell_type": "code",
   "execution_count": 5,
   "metadata": {
    "colab": {
     "base_uri": "https://localhost:8080/"
    },
    "id": "FPkn9Z4azr5j",
    "outputId": "a6b83de1-a8e8-4cf4-a3d9-fcc8c70d31ac",
    "scrolled": true
   },
   "outputs": [
    {
     "name": "stdout",
     "output_type": "stream",
     "text": [
      "253-removed stops{'gtfs.zip': 147}\r"
     ]
    }
   ],
   "source": [
    "libStopsPoints.removingStopsNoConnections(gtfsDB, city)\n",
    "libStopsPoints.setPosField(gtfsDB, city)"
   ]
  },
  {
   "cell_type": "code",
   "execution_count": 6,
   "metadata": {
    "id": "8ODjatAyzr5j",
    "outputId": "687c8325-286c-4458-ee2b-c479c0e151c0",
    "scrolled": true
   },
   "outputs": [
    {
     "name": "stdout",
     "output_type": "stream",
     "text": [
      "connections deleted 0 pEnd 9604, totC 9604\n"
     ]
    }
   ],
   "source": [
    "libConnections.updateConnectionsStopName(gtfsDB, city)"
   ]
  },
  {
   "cell_type": "markdown",
   "metadata": {
    "id": "P05X2M-2zr5j"
   },
   "source": [
    "# Tassel with exagons"
   ]
  },
  {
   "cell_type": "markdown",
   "metadata": {
    "id": "nvXCsEwpzr5j"
   },
   "source": [
    "### List of all stops"
   ]
  },
  {
   "cell_type": "code",
   "execution_count": 7,
   "metadata": {
    "id": "ozYshZxNzr5j",
    "outputId": "6dc8acde-5046-4d6f-d4b3-e42fe2174e04"
   },
   "outputs": [
    {
     "name": "stdout",
     "output_type": "stream",
     "text": [
      "tot stop 253  stop error : 0\n"
     ]
    }
   ],
   "source": [
    "stopsList = libStopsPoints.returnStopsList(gtfsDB, city)"
   ]
  },
  {
   "cell_type": "markdown",
   "metadata": {
    "id": "8jjluOmyzr5j"
   },
   "source": [
    "## Compute the box that include all stops\n",
    "The edge of such box are enlarged by distanceS."
   ]
  },
  {
   "cell_type": "code",
   "execution_count": 8,
   "metadata": {
    "id": "sJ5y3tu5zr5k",
    "outputId": "b6d2ef88-bd30-48a1-dfc2-8a3839022c1c"
   },
   "outputs": [
    {
     "data": {
      "text/html": [
       "<h1>All stops of the public transport present in the gtfs files</h1>"
      ],
      "text/plain": [
       "<IPython.core.display.HTML object>"
      ]
     },
     "metadata": {},
     "output_type": "display_data"
    },
    {
     "data": {
      "text/html": [
       "<div style=\"width:100%;\"><div style=\"position:relative;width:100%;height:0;padding-bottom:60%;\"><span style=\"color:#565656\">Make this Notebook Trusted to load map: File -> Trust Notebook</span><iframe srcdoc=\"&lt;!DOCTYPE html&gt;\n",
       "&lt;html&gt;\n",
       "&lt;head&gt;\n",
       "    \n",
       "    &lt;meta http-equiv=&quot;content-type&quot; content=&quot;text/html; charset=UTF-8&quot; /&gt;\n",
       "    \n",
       "        &lt;script&gt;\n",
       "            L_NO_TOUCH = false;\n",
       "            L_DISABLE_3D = false;\n",
       "        &lt;/script&gt;\n",
       "    \n",
       "    &lt;style&gt;html, body {width: 100%;height: 100%;margin: 0;padding: 0;}&lt;/style&gt;\n",
       "    &lt;style&gt;#map {position:absolute;top:0;bottom:0;right:0;left:0;}&lt;/style&gt;\n",
       "    &lt;script src=&quot;https://cdn.jsdelivr.net/npm/leaflet@1.9.3/dist/leaflet.js&quot;&gt;&lt;/script&gt;\n",
       "    &lt;script src=&quot;https://code.jquery.com/jquery-3.7.1.min.js&quot;&gt;&lt;/script&gt;\n",
       "    &lt;script src=&quot;https://cdn.jsdelivr.net/npm/bootstrap@5.2.2/dist/js/bootstrap.bundle.min.js&quot;&gt;&lt;/script&gt;\n",
       "    &lt;script src=&quot;https://cdnjs.cloudflare.com/ajax/libs/Leaflet.awesome-markers/2.0.2/leaflet.awesome-markers.js&quot;&gt;&lt;/script&gt;\n",
       "    &lt;link rel=&quot;stylesheet&quot; href=&quot;https://cdn.jsdelivr.net/npm/leaflet@1.9.3/dist/leaflet.css&quot;/&gt;\n",
       "    &lt;link rel=&quot;stylesheet&quot; href=&quot;https://cdn.jsdelivr.net/npm/bootstrap@5.2.2/dist/css/bootstrap.min.css&quot;/&gt;\n",
       "    &lt;link rel=&quot;stylesheet&quot; href=&quot;https://netdna.bootstrapcdn.com/bootstrap/3.0.0/css/bootstrap-glyphicons.css&quot;/&gt;\n",
       "    &lt;link rel=&quot;stylesheet&quot; href=&quot;https://cdn.jsdelivr.net/npm/@fortawesome/fontawesome-free@6.2.0/css/all.min.css&quot;/&gt;\n",
       "    &lt;link rel=&quot;stylesheet&quot; href=&quot;https://cdnjs.cloudflare.com/ajax/libs/Leaflet.awesome-markers/2.0.2/leaflet.awesome-markers.css&quot;/&gt;\n",
       "    &lt;link rel=&quot;stylesheet&quot; href=&quot;https://cdn.jsdelivr.net/gh/python-visualization/folium/folium/templates/leaflet.awesome.rotate.min.css&quot;/&gt;\n",
       "    \n",
       "            &lt;meta name=&quot;viewport&quot; content=&quot;width=device-width,\n",
       "                initial-scale=1.0, maximum-scale=1.0, user-scalable=no&quot; /&gt;\n",
       "            &lt;style&gt;\n",
       "                #map_5668569690c730a6eaaa1f30501fa8a9 {\n",
       "                    position: relative;\n",
       "                    width: 100.0%;\n",
       "                    height: 100.0%;\n",
       "                    left: 0.0%;\n",
       "                    top: 0.0%;\n",
       "                }\n",
       "                .leaflet-container { font-size: 1rem; }\n",
       "            &lt;/style&gt;\n",
       "        \n",
       "    &lt;script src=&quot;https://cdnjs.cloudflare.com/ajax/libs/leaflet.markercluster/1.1.0/leaflet.markercluster.js&quot;&gt;&lt;/script&gt;\n",
       "    &lt;link rel=&quot;stylesheet&quot; href=&quot;https://cdnjs.cloudflare.com/ajax/libs/leaflet.markercluster/1.1.0/MarkerCluster.css&quot;/&gt;\n",
       "    &lt;link rel=&quot;stylesheet&quot; href=&quot;https://cdnjs.cloudflare.com/ajax/libs/leaflet.markercluster/1.1.0/MarkerCluster.Default.css&quot;/&gt;\n",
       "&lt;/head&gt;\n",
       "&lt;body&gt;\n",
       "    \n",
       "    \n",
       "            &lt;div class=&quot;folium-map&quot; id=&quot;map_5668569690c730a6eaaa1f30501fa8a9&quot; &gt;&lt;/div&gt;\n",
       "        \n",
       "&lt;/body&gt;\n",
       "&lt;script&gt;\n",
       "    \n",
       "    \n",
       "            var map_5668569690c730a6eaaa1f30501fa8a9 = L.map(\n",
       "                &quot;map_5668569690c730a6eaaa1f30501fa8a9&quot;,\n",
       "                {\n",
       "                    center: [48.88939254639041, 1.9393443907710066],\n",
       "                    crs: L.CRS.EPSG3857,\n",
       "                    zoom: 10,\n",
       "                    zoomControl: true,\n",
       "                    preferCanvas: false,\n",
       "                }\n",
       "            );\n",
       "\n",
       "            \n",
       "\n",
       "        \n",
       "    \n",
       "            var tile_layer_e6894aeae5669a3dc5314483c006542a = L.tileLayer(\n",
       "                &quot;https://tile.openstreetmap.org/{z}/{x}/{y}.png&quot;,\n",
       "                {&quot;attribution&quot;: &quot;\\u0026copy; \\u003ca href=\\&quot;https://www.openstreetmap.org/copyright\\&quot;\\u003eOpenStreetMap\\u003c/a\\u003e contributors&quot;, &quot;detectRetina&quot;: false, &quot;maxNativeZoom&quot;: 19, &quot;maxZoom&quot;: 19, &quot;minZoom&quot;: 0, &quot;noWrap&quot;: false, &quot;opacity&quot;: 1, &quot;subdomains&quot;: &quot;abc&quot;, &quot;tms&quot;: false}\n",
       "            );\n",
       "        \n",
       "    \n",
       "            tile_layer_e6894aeae5669a3dc5314483c006542a.addTo(map_5668569690c730a6eaaa1f30501fa8a9);\n",
       "        \n",
       "    \n",
       "            var poly_line_0351aff6f72b803cb5de6f3d4f785e26 = L.polyline(\n",
       "                [[48.92650103722174, 1.827983336995644], [48.92650103722174, 2.0507054445463693], [48.85228405555908, 2.0507054445463693], [48.85228405555908, 1.827983336995644], [48.92650103722174, 1.827983336995644]],\n",
       "                {&quot;bubblingMouseEvents&quot;: true, &quot;color&quot;: &quot;#3388ff&quot;, &quot;dashArray&quot;: null, &quot;dashOffset&quot;: null, &quot;fill&quot;: false, &quot;fillColor&quot;: &quot;#3388ff&quot;, &quot;fillOpacity&quot;: 0.2, &quot;fillRule&quot;: &quot;evenodd&quot;, &quot;lineCap&quot;: &quot;round&quot;, &quot;lineJoin&quot;: &quot;round&quot;, &quot;noClip&quot;: false, &quot;opacity&quot;: 1.0, &quot;smoothFactor&quot;: 1.0, &quot;stroke&quot;: true, &quot;weight&quot;: 3}\n",
       "            ).addTo(map_5668569690c730a6eaaa1f30501fa8a9);\n",
       "        \n",
       "    \n",
       "            var fast_marker_cluster_24566c34f2595c63707539eaa6162392 = (function(){\n",
       "                \n",
       "                var callback = function (row) {\n",
       "                    var icon = L.AwesomeMarkers.icon();\n",
       "                    var marker = L.marker(new L.LatLng(row[0], row[1]));\n",
       "                    marker.setIcon(icon);\n",
       "                    return marker;\n",
       "                };\n",
       "\n",
       "                var data = [[48.860056612665424, 1.8755955719389823], [48.90932809474093, 1.8568974216555527], [48.89302020567544, 1.8718488171877576], [48.912612900572725, 1.8533582029135616], [48.91788308159454, 2.039470681637032], [48.91710987509119, 2.039498599194327], [48.91945028948971, 1.976750234493775], [48.926290258212326, 1.946193679127712], [48.92624908384244, 1.9435603882984696], [48.92406470699618, 1.9949063941264955], [48.923284369961614, 1.9749825483205423], [48.9232685447108, 1.9954130805941452], [48.92320708829056, 1.995591683377263], [48.86311306657909, 1.8716104173688717], [48.85959666217409, 1.875462373121668], [48.85703183688373, 1.8497563129362065], [48.856818332135546, 1.849065878304457], [48.916286089370935, 1.9949884039908228], [48.91235921018406, 2.0007540148912835], [48.91144827657797, 2.008016628118928], [48.91556275428468, 2.009643869664944], [48.90678250551388, 2.03243109654676], [48.86107310041813, 1.8736993143219016], [48.917939763967006, 2.026437761876421], [48.85606922252436, 1.876233642766984], [48.853035054641474, 1.8991144858082465], [48.85346618649183, 1.8990508592434088], [48.85553537021626, 1.904990659352808], [48.85614072563023, 1.9052914277578403], [48.85881700222369, 1.907811403572603], [48.85643946770056, 1.905503232798076], [48.85861080051185, 1.9078838797296955], [48.85692432037676, 1.9024671315542323], [48.85702311108964, 1.902451420191104], [48.85376505346381, 1.9836554728177305], [48.92057609494638, 2.0388478125955447], [48.92049557742182, 2.031084380591608], [48.9236719556112, 1.9750840934593643], [48.92068518195228, 2.031176376711592], [48.92129786438956, 2.027985258134918], [48.92145783828185, 2.027750272903506], [48.926061029634006, 1.946716955950187], [48.92217666550438, 1.970609976432906], [48.92222045267137, 1.970472638174547], [48.92363075732348, 1.962979507671955], [48.92351799528928, 1.963459419571704], [48.92623302492037, 1.9437790873916965], [48.918548589054645, 1.9891860156931696], [48.918481500184754, 1.988696056476334], [48.91957547742189, 1.976665893798508], [48.91848030273292, 1.9843020087407812], [48.918613678251454, 1.984122004501332], [48.91967060511795, 2.026390367795844], [48.91938714612943, 2.02636974334625], [48.92040250236086, 2.035152796398126], [48.920060256317406, 2.0350909098914483], [48.92538609378183, 1.991619000933352], [48.92650103722174, 1.9873254801676328], [48.90815902282453, 2.0313822537793804], [48.90727781519693, 2.0225442430755387], [48.90694115344553, 2.038731237324648], [48.907128455403566, 2.038536774816255], [48.90329883300175, 2.0454831213280302], [48.90367712134064, 2.044425736864366], [48.90565910842766, 2.0392324088838105], [48.90456211435952, 2.0415036561223587], [48.90267255289812, 2.050419333995794], [48.90149285344573, 2.04795808353112], [48.90269280791812, 2.0507054445463693], [48.9067366633184, 2.032322804685606], [48.90626686823463, 2.042127120642986], [48.905760538452505, 2.0462974694041787], [48.90821198263512, 2.031258477645852], [48.90280015260699, 2.031536540220566], [48.90312331866666, 2.031462317340285], [48.910379520398266, 2.0312727085054982], [48.9082799644629, 2.0430723962541117], [48.908995955195856, 2.042636281384524], [48.90125521805233, 2.0240214902834244], [48.90333953223706, 2.02044909673284], [48.907503285696585, 2.02262186817673], [48.92025552428348, 1.969965647491124], [48.92019070378267, 1.969748583909878], [48.92515486752979, 1.997287367477921], [48.86753404892435, 1.97094343352995], [48.877136741601575, 1.9790269585876343], [48.88234079052352, 1.9818022780620064], [48.88173401798265, 1.981309588992126], [48.86763456444063, 1.971127536872002], [48.87417882438702, 1.973890159729606], [48.86001268757797, 2.015552437027645], [48.8603365290167, 2.015559948586499], [48.87118304826323, 2.009015262568901], [48.87122767158409, 2.008973512313806], [48.86389729680401, 2.029778793476202], [48.86418191756677, 2.030495981446093], [48.869063204777, 2.016976469657188], [48.86642875695514, 2.021456739394863], [48.86657230162389, 2.021413145367556], [48.85608698301734, 2.0194020587712385], [48.85604246712358, 2.0194574156199225], [48.86911693532911, 2.0169481892805816], [48.85489763494133, 2.022436552246534], [48.91380185819266, 2.0230084383120595], [48.91342474820349, 2.0230837416826426], [48.92611583270684, 2.036589079653721], [48.92624939655914, 2.037541974281298], [48.92450782176647, 2.03012256650471], [48.91891637186772, 2.012800557465668], [48.921722714849935, 2.022723246362045], [48.92225448259917, 2.0239687913427016], [48.921397415312896, 2.021432903253486], [48.91788614757372, 2.024269060049686], [48.91789269459752, 2.0239687264502613], [48.922047451150064, 2.025050790635609], [48.91460137170139, 2.0228979131019225], [48.91470760693593, 2.022691241748314], [48.924400138971706, 2.030151869036025], [48.92221338713395, 2.0277634494992123], [48.91696983064308, 1.969607663160725], [48.91691275224108, 1.970291083807606], [48.92517893527299, 1.9915820720418296], [48.91970330388024, 2.0177256398240777], [48.91791034833461, 2.026138101366886], [48.91995575492388, 2.0388729173720805], [48.92518104720742, 2.033303612280106], [48.9252737186911, 2.033643087061193], [48.922316171255495, 2.037150726598701], [48.92223568182752, 2.037206804248581], [48.90919850471593, 1.8565169845233689], [48.91755622190748, 1.8691062030616024], [48.90906154340309, 1.8563016893133213], [48.917501240823306, 1.8689982283147253], [48.88401618526934, 1.920497434822064], [48.88637595883795, 1.9238716299899248], [48.87740542902581, 1.9446739260408816], [48.87746849486816, 1.9446862836261345], [48.89344039590818, 1.9243530389573025], [48.88632784971267, 1.9225224719473943], [48.92483490747544, 1.868456664460569], [48.92587051430615, 1.865745406349385], [48.92105438725564, 1.8757582072101104], [48.92093711014619, 1.8757197998434667], [48.85575680090301, 1.97674721664138], [48.85345963915595, 1.9922069082878924], [48.85299683311167, 1.9863962647821296], [48.923007454190966, 1.8720857367687085], [48.88033193000121, 1.8280641264993456], [48.88028616904564, 1.827983336995644], [48.91380955713772, 1.915212805375516], [48.913671143362045, 1.912841445113048], [48.856908737706895, 1.875602170990439], [48.91278191650159, 1.8531634489340123], [48.91100808017943, 1.8557677098532328], [48.91220054111184, 1.918289111130254], [48.91312701344357, 1.922295108877439], [48.911979191976286, 1.918675761599586], [48.913811442645766, 1.919401817231765], [48.91325547720029, 1.9225789927621648], [48.90979689902869, 1.8579637678839425], [48.91381058117751, 1.919306319330492], [48.9010428511075, 2.0244483593521414], [48.87068019680873, 1.9717913257587445], [48.87015899270257, 1.971842515023274], [48.87697080978269, 1.9785529751273156], [48.87467235186576, 1.9748075983058253], [48.8656580386346, 1.9766208882553828], [48.86568688038823, 1.976838439652394], [48.86670214700544, 1.978822495932588], [48.86589004708428, 1.948397136358488], [48.91150190599588, 2.038865307696216], [48.901712893295176, 2.0484860837266337], [48.90682251924694, 1.88496109612814], [48.895054028985946, 1.86911760243534], [48.89215973757311, 1.880787723110412], [48.89211809095556, 1.8811432459069768], [48.89397294303369, 1.8746516571222387], [48.89416897242501, 1.8744564587950328], [48.886760338087846, 1.862328634770344], [48.88206281549044, 1.8601538938955529], [48.88198292534856, 1.860264737930412], [48.88674170618898, 1.8622608510710092], [48.912149632655016, 1.867054165388624], [48.912170325449125, 1.8673402559062355], [48.91786924492569, 1.8509634395404608], [48.91740468276001, 1.851287560655375], [48.9130589344445, 1.8709641408097804], [48.912969659027446, 1.871034302658996], [48.91021444163616, 1.857422477136244], [48.915427237711285, 1.874146777680638], [48.9156928883995, 1.8737043674922624], [48.92322217041991, 2.0268438757828497], [48.89684739799777, 1.8685466540946485], [48.906751458739166, 1.8763945913294957], [48.90682249809007, 1.876297554063879], [48.92388776108896, 1.974028975142656], [48.92434050704499, 1.975439413268803], [48.85568499940026, 2.0197367362302296], [48.85636595935201, 2.017229662774094], [48.85750299643781, 2.018789311764874], [48.86907532946999, 2.008632732825496], [48.859930400562384, 2.0208699955096145], [48.86358801606506, 2.029348338824094], [48.85768878559207, 2.012946636391105], [48.85228405555908, 2.045163817220337], [48.852720351613485, 2.042361910318485], [48.85296647028314, 2.041648683846919], [48.85339334335788, 2.034335674404881], [48.85293423453928, 2.0188072021924115], [48.85763088481691, 2.0212267042239977], [48.85766652043327, 2.0211851442289586], [48.860935417680125, 2.024994940515327], [48.862033717749576, 2.026228466134633], [48.86171104847337, 2.0142798999285687], [48.86163922099747, 2.014294890210224], [48.85912187085739, 2.015501116700652], [48.85869034339382, 2.0155229014931906], [48.85305890083228, 2.018654935843061], [48.85792560481857, 2.012217564863374], [48.85511167417509, 2.0222144643073507], [48.92297212471166, 1.873110074732636], [48.87337685451202, 1.880400540378123], [48.86319271154209, 1.8714723725092524], [48.85986374773951, 2.0237200753923386], [48.85985431048187, 2.0236657292508813], [48.85542327350857, 1.9957671552164291], [48.8523819508457, 1.877226318451956], [48.85256115813374, 1.8771543109891995], [48.92020904677423, 2.0312398278239803], [48.92031595791409, 2.031115018309248], [48.86456204371696, 2.026358420547963], [48.86476654132692, 2.0260683258655106], [48.85574629332596, 1.976570235927407], [48.91229365161128, 2.035548728605721], [48.911912042722406, 2.036183440661922], [48.90851618947696, 1.8680064643192973], [48.90862267364052, 1.8678540656785307], [48.866956660444266, 2.0501434026293768], [48.90695134364697, 1.8862408155007204], [48.86357747579386, 2.029157691287897], [48.910935644815616, 2.029979810949572], [48.92477531525937, 1.8688128113580835], [48.92594231883999, 1.8657301925371208], [48.91798998422431, 1.9669264744685984], [48.9179821687004, 1.9670630905897248], [48.90292383659926, 2.0312613989031925], [48.919821430241655, 2.017873521093157], [48.92357228390546, 2.0278745322436387], [48.92635128817764, 1.9876968974722995], [48.91046833801791, 2.0311346154812107], [48.91602527365492, 2.01666249035648], [48.855439885922856, 1.9956032791973293], [48.8735492356878, 1.88056045072747]];\n",
       "                var cluster = L.markerClusterGroup({});\n",
       "\n",
       "                for (var i = 0; i &lt; data.length; i++) {\n",
       "                    var row = data[i];\n",
       "                    var marker = callback(row);\n",
       "                    marker.addTo(cluster);\n",
       "                }\n",
       "\n",
       "                cluster.addTo(map_5668569690c730a6eaaa1f30501fa8a9);\n",
       "                return cluster;\n",
       "            })();\n",
       "        \n",
       "    \n",
       "            fast_marker_cluster_24566c34f2595c63707539eaa6162392.addTo(map_5668569690c730a6eaaa1f30501fa8a9);\n",
       "        \n",
       "&lt;/script&gt;\n",
       "&lt;/html&gt;\" style=\"position:absolute;width:100%;height:100%;left:0;top:0;border:none !important;\" allowfullscreen webkitallowfullscreen mozallowfullscreen></iframe></div></div>"
      ],
      "text/plain": [
       "<folium.folium.Map at 0x1ceb1d1c050>"
      ]
     },
     "execution_count": 8,
     "metadata": {},
     "output_type": "execute_result"
    }
   ],
   "source": [
    "\n",
    "display(HTML('<h1>All stops of the public transport present in the gtfs files</h1>'))\n",
    "bbox = libStopsPoints.boundingBoxStops(stopsList)\n",
    "libStopsPoints.mapStops(bbox, stopsList)"
   ]
  },
  {
   "cell_type": "code",
   "execution_count": 23,
   "metadata": {},
   "outputs": [
    {
     "data": {
      "text/plain": [
       "[1.8266460206188384, 48.85046916816086, 2.0514705793811614, 48.928343831839136]"
      ]
     },
     "execution_count": 23,
     "metadata": {},
     "output_type": "execute_result"
    }
   ],
   "source": [
    "bbox"
   ]
  },
  {
   "cell_type": "markdown",
   "metadata": {
    "id": "FCVR0oNozr5k"
   },
   "source": [
    "## Tassel the box with exagons."
   ]
  },
  {
   "cell_type": "code",
   "execution_count": 9,
   "metadata": {
    "id": "NUjlzjLPzr5k",
    "outputId": "67ae651a-b252-44e1-a378-08c679d70d30"
   },
   "outputs": [
    {
     "name": "stdout",
     "output_type": "stream",
     "text": [
      "99.1%, tot = 228.0, inserted = 240\r"
     ]
    }
   ],
   "source": [
    "hexBin, pointBin = libHex.hexagonalGrid(bbox, gridEdge, gtfsDB['stops'], distanceS, city,check4stops)"
   ]
  },
  {
   "cell_type": "code",
   "execution_count": 10,
   "metadata": {
    "id": "NITMmHzOzr5k",
    "outputId": "deec0108-40fa-48e3-9cef-45745dc88aad"
   },
   "outputs": [],
   "source": [
    "\n",
    "libHex.insertPoints(pointBin, city, gtfsDB)\n"
   ]
  },
  {
   "cell_type": "markdown",
   "metadata": {
    "id": "E7XigURlzr5l"
   },
   "source": [
    "## Find the hex with walkingTime less than timeWalk from a stops"
   ]
  },
  {
   "cell_type": "code",
   "execution_count": 11,
   "metadata": {
    "id": "GZ0g-po6zr5l",
    "outputId": "ab6f2936-5435-44b4-87c8-e64c90cd40e0"
   },
   "outputs": [
    {
     "name": "stdout",
     "output_type": "stream",
     "text": [
      " tot 147,99%, removed 0 d 148\r"
     ]
    }
   ],
   "source": [
    "\n",
    "libHex.pointsServed(gtfsDB, stopsList, urlServerOsrm, distanceS, timeWalk, city)"
   ]
  },
  {
   "cell_type": "code",
   "execution_count": 12,
   "metadata": {
    "id": "w1YiO4q4zr5l",
    "outputId": "74ba0d15-acfa-4ffd-b758-aaf420bc7245"
   },
   "outputs": [
    {
     "name": "stdout",
     "output_type": "stream",
     "text": [
      "Number of hexagons: 148\n"
     ]
    }
   ],
   "source": [
    "print(\"Number of hexagons: {0}\".format(gtfsDB['points'].count_documents({'served':True, 'city':city})))"
   ]
  },
  {
   "cell_type": "markdown",
   "metadata": {
    "id": "Z1NcrBezzr5m"
   },
   "source": [
    "## Setting field \"pos\" for points for performance"
   ]
  },
  {
   "cell_type": "code",
   "execution_count": 13,
   "metadata": {
    "id": "7fRG4PSGzr5m",
    "outputId": "076184c9-3353-4a1a-d911-fbebdcc4a3bd"
   },
   "outputs": [
    {
     "name": "stdout",
     "output_type": "stream",
     "text": [
      " 148\r"
     ]
    }
   ],
   "source": [
    "from library import libHex \n",
    "libHex.settingHexsPos(gtfsDB, city)"
   ]
  },
  {
   "cell_type": "markdown",
   "metadata": {
    "id": "3h2oHbbnzr5p"
   },
   "source": [
    "## Setting POIs for Hexagons \n"
   ]
  },
  {
   "cell_type": "markdown",
   "metadata": {},
   "source": [
    "### Run this if you have POIs as Discrete Points"
   ]
  },
  {
   "cell_type": "code",
   "execution_count": 15,
   "metadata": {
    "id": "1a9yCDn_zr5q",
    "outputId": "8b762b78-6af5-4599-e64f-b6dcf1089d5c"
   },
   "outputs": [
    {
     "name": "stdout",
     "output_type": "stream",
     "text": [
      "n° of matched hexagons with population Polygons: 148 \n",
      " not matched: 0 (set to zero)\n"
     ]
    }
   ],
   "source": [
    "import numpy as np\n",
    "from shapely.geometry import Polygon, Point\n",
    "\n",
    "def setHexsPop(gtfsDB, popCol, namePopField, city):\n",
    "    tot = gtfsDB['points'].count_documents({'city': city})\n",
    "    count = 0\n",
    "    totPop = 0\n",
    "\n",
    "    for hexagon in gtfsDB['points'].find({'city': city}):\n",
    "        shapelyHex = Polygon(hexagon['hex']['coordinates'][0])\n",
    "        hexagon['hex']['properties'] = {'pop': 0}\n",
    "        findJson = {'geometry': {'$geoIntersects': {'$geometry': hexagon['hex']}}}\n",
    "\n",
    "        for box in popCol.find(findJson):\n",
    "            # Check if the geometry is a Point or Polygon\n",
    "            if box['geometry']['type'] == 'Point':\n",
    "                shapelyPoint = Point(box['geometry']['coordinates'])\n",
    "                if shapelyHex.contains(shapelyPoint):\n",
    "                    hexagon['hex']['properties']['pop'] += box['properties'][namePopField]\n",
    "            elif box['geometry']['type'] == 'Polygon':\n",
    "                shapelyBox = Polygon(box['geometry']['coordinates'][0])\n",
    "                areaInter = shapelyBox.intersection(shapelyHex).area\n",
    "       \n",
    "                \n",
    "                popHexBox = box['properties'][namePopField] * areaInter / shapelyBox.area\n",
    "                hexagon['hex']['properties']['pop'] += popHexBox\n",
    "            else:\n",
    "                print(\"Unexpected geometry type:\", box['geometry']['type'])\n",
    "                continue\n",
    "\n",
    "        count += 1\n",
    "        totPop += hexagon['hex']['properties']['pop']\n",
    "        gtfsDB['points'].update_one({'_id': hexagon['_id']}, {'$set': {'pop': hexagon['hex']['properties']['pop']}})\n",
    "        print('{0:.1f}% , tot population: {1:.0f}, current hex: {2:.0f}'.format(100. * count / tot, totPop, hexagon['hex']['properties']['pop']), end=\"\\r\")\n",
    "\n",
    "from library import libHex\n",
    "if urlMongoDbPop != \"\" and popCollectionName != \"\":\n",
    "    clientPop = pym.MongoClient(urlMongoDbPop)\n",
    "    popDb = clientPop[popDbName]\n",
    "    popCollection = popDb[popCollectionName]\n",
    "    setHexsPop(gtfsDB, popCollection, popField, city)\n",
    "else:\n",
    "    print(\"Population NOT INSERTED!\")\n",
    "\n",
    "res = gtfsDB['points'].update_many({'pop': {'$exists': False}}, {'$set': {'pop': 0}})\n",
    "print(\"n° of matched hexagons with population Polygons: {0} \\n not matched: {1} (set to zero)\".format(gtfsDB['points'].count_documents({'pop': {'$exists': True}}), res.modified_count))"
   ]
  },
  {
   "cell_type": "markdown",
   "metadata": {},
   "source": [
    "### Run this if you have POIs as gridded shapes"
   ]
  },
  {
   "cell_type": "code",
   "execution_count": null,
   "metadata": {},
   "outputs": [],
   "source": [
    "# from libHex import setHexsPop\n",
    "import library\n",
    "from library import libHex\n",
    "if urlMongoDbPop != \"\" and popCollectionName != \"\":\n",
    "    clientPop = pym.MongoClient(urlMongoDbPop)\n",
    "    popDb = clientPop[popDbName]\n",
    "    popCollection = popDb[popCollectionName]\n",
    "    libHex.setHexsPop(gtfsDB, popCollection, popField, city)\n",
    "else:\n",
    "    print(\"Population NOT INSERTED!\")\n",
    "\n",
    "res = gtfsDB['points'].update_many({'pop':{'$exists':False}}, {'$set':{'pop':0}})\n",
    "print(\"n° of matched hexagons with population Polygons: {0} \\n \\\n",
    "not matched: {1} (setted to zero)\".format(gtfsDB['points'].count_documents({'pop':{'$exists':True}}),\n",
    "                                                                                     res.modified_count))"
   ]
  },
  {
   "cell_type": "markdown",
   "metadata": {
    "id": "XO_dWZLvzr5q"
   },
   "source": [
    "# Adding the walking time between stops and points"
   ]
  },
  {
   "cell_type": "code",
   "execution_count": 16,
   "metadata": {
    "id": "95vqT7Buzr5q",
    "outputId": "645e2480-c123-47ad-b454-d113633090bf"
   },
   "outputs": [
    {
     "name": "stderr",
     "output_type": "stream",
     "text": [
      "C:\\Users\\Lenovo\\AppData\\Local\\Packages\\PythonSoftwareFoundation.Python.3.11_qbz5n2kfra8p0\\LocalCache\\local-packages\\Python311\\site-packages\\pymongo\\collection.py:1685: UserWarning: use an explicit session with no_cursor_timeout=True otherwise the cursor may still timeout after 30 minutes, for more info see https://mongodb.com/docs/v4.4/reference/method/cursor.noCursorTimeout/#session-idle-timeout-overrides-nocursortimeout\n",
      "  return Cursor(self, *args, **kwargs)\n"
     ]
    },
    {
     "name": "stdout",
     "output_type": "stream",
     "text": [
      " totNumber 0, computed 100.00%, time to finish : 0 minn\r"
     ]
    }
   ],
   "source": [
    "from library import libStopsPoints \n",
    "libStopsPoints.computeNeigh(gtfsDB, urlServerOsrm, distanceS, timeWalk,  city)"
   ]
  },
  {
   "cell_type": "markdown",
   "metadata": {
    "id": "vv1nkp-Lzr5q"
   },
   "source": [
    "# Compute quantities and observable"
   ]
  },
  {
   "cell_type": "markdown",
   "metadata": {
    "id": "dv9tLyDyzr5q"
   },
   "source": [
    "TimeList is the list of starting time for computing the isochrones"
   ]
  },
  {
   "cell_type": "code",
   "execution_count": 17,
   "metadata": {
    "id": "THH-Cxyfzr5q"
   },
   "outputs": [],
   "source": [
    "timeList = [7,10,12,17,20]\n",
    "\n",
    "hStart = timeList[0]*3600"
   ]
  },
  {
   "cell_type": "markdown",
   "metadata": {
    "id": "UMrGUiwnzr5r"
   },
   "source": [
    "### List of connections"
   ]
  },
  {
   "cell_type": "code",
   "execution_count": 18,
   "metadata": {
    "id": "RgWsmHIqzr5r",
    "outputId": "2e443da6-6ca5-4091-b2dc-36c3d0a71e0c"
   },
   "outputs": [
    {
     "name": "stdout",
     "output_type": "stream",
     "text": [
      "start making connections array\n",
      "done recover all cc 8865\n",
      "converted\n",
      "Num of connection 8865\n"
     ]
    }
   ],
   "source": [
    "from library import libConnections \n",
    "# arrayCC = libConnections.makeArrayConnections(gtfsDB, hStart, city)\n",
    "arrayCC_day1 = libConnections.makeArrayConnections(gtfsDB, hStart, city, day='20220307')\n"
   ]
  },
  {
   "cell_type": "markdown",
   "metadata": {
    "id": "7tPZyO_gzr5r"
   },
   "source": [
    "### List of list of the points and stops neighbors"
   ]
  },
  {
   "cell_type": "code",
   "execution_count": 19,
   "metadata": {
    "id": "fwVH_Uyczr5r",
    "outputId": "72968333-cbe2-4c32-98e8-a422e7c779d7"
   },
   "outputs": [
    {
     "name": "stdout",
     "output_type": "stream",
     "text": [
      "fill point neighbors 147\r"
     ]
    }
   ],
   "source": [
    "from library import libStopsPoints \n",
    "arraySP = libStopsPoints.listPointsStopsN(gtfsDB, city)"
   ]
  },
  {
   "cell_type": "markdown",
   "metadata": {
    "id": "u0XewUWNzr5r"
   },
   "source": [
    "## Compute accessibility quantities"
   ]
  },
  {
   "cell_type": "code",
   "execution_count": 21,
   "metadata": {},
   "outputs": [
    {
     "name": "stdout",
     "output_type": "stream",
     "text": [
      "Time Isochrone Start: 7.0\n",
      "point: 2, accessibility30min_20220307: 50.0, time to finish: 0.0h, 0.1m\r"
     ]
    },
    {
     "name": "stderr",
     "output_type": "stream",
     "text": [
      "C:\\Users\\Lenovo\\AppData\\Local\\Packages\\PythonSoftwareFoundation.Python.3.11_qbz5n2kfra8p0\\LocalCache\\local-packages\\Python311\\site-packages\\pyproj\\crs\\crs.py:143: FutureWarning: '+init=<authority>:<code>' syntax is deprecated. '<authority>:<code>' is the preferred initialization method. When making the change, be mindful of axis order changes: https://pyproj4.github.io/pyproj/stable/gotchas.html#axis-order-changes-in-proj-6\n",
      "  in_crs_string = _prepare_from_proj_string(in_crs_string)\n",
      "C:\\Users\\Lenovo\\AppData\\Local\\Packages\\PythonSoftwareFoundation.Python.3.11_qbz5n2kfra8p0\\LocalCache\\local-packages\\Python311\\site-packages\\shapely\\ops.py:276: FutureWarning: This function is deprecated. See: https://pyproj4.github.io/pyproj/stable/gotchas.html#upgrading-to-pyproj-2-from-pyproj-1\n",
      "  shell = type(geom.exterior)(zip(*func(*zip(*geom.exterior.coords))))\n",
      "C:\\Users\\Lenovo\\AppData\\Local\\Packages\\PythonSoftwareFoundation.Python.3.11_qbz5n2kfra8p0\\LocalCache\\local-packages\\Python311\\site-packages\\pymongo\\collection.py:1685: UserWarning: use an explicit session with no_cursor_timeout=True otherwise the cursor may still timeout after 30 minutes, for more info see https://mongodb.com/docs/v4.4/reference/method/cursor.noCursorTimeout/#session-idle-timeout-overrides-nocursortimeout\n",
      "  return Cursor(self, *args, **kwargs)\n"
     ]
    },
    {
     "name": "stdout",
     "output_type": "stream",
     "text": [
      "Time Isochrone Start: 10.00min_20220307: 62.0, time to finish: 0.0h, 0.0m\n",
      "point: 9, accessibility30min_20220307: 35.0, time to finish: 0.0h, 0.0m\r"
     ]
    },
    {
     "name": "stderr",
     "output_type": "stream",
     "text": [
      "C:\\Users\\Lenovo\\AppData\\Local\\Packages\\PythonSoftwareFoundation.Python.3.11_qbz5n2kfra8p0\\LocalCache\\local-packages\\Python311\\site-packages\\pyproj\\crs\\crs.py:143: FutureWarning: '+init=<authority>:<code>' syntax is deprecated. '<authority>:<code>' is the preferred initialization method. When making the change, be mindful of axis order changes: https://pyproj4.github.io/pyproj/stable/gotchas.html#axis-order-changes-in-proj-6\n",
      "  in_crs_string = _prepare_from_proj_string(in_crs_string)\n",
      "C:\\Users\\Lenovo\\AppData\\Local\\Packages\\PythonSoftwareFoundation.Python.3.11_qbz5n2kfra8p0\\LocalCache\\local-packages\\Python311\\site-packages\\shapely\\ops.py:276: FutureWarning: This function is deprecated. See: https://pyproj4.github.io/pyproj/stable/gotchas.html#upgrading-to-pyproj-2-from-pyproj-1\n",
      "  shell = type(geom.exterior)(zip(*func(*zip(*geom.exterior.coords))))\n",
      "C:\\Users\\Lenovo\\AppData\\Local\\Packages\\PythonSoftwareFoundation.Python.3.11_qbz5n2kfra8p0\\LocalCache\\local-packages\\Python311\\site-packages\\pymongo\\collection.py:1685: UserWarning: use an explicit session with no_cursor_timeout=True otherwise the cursor may still timeout after 30 minutes, for more info see https://mongodb.com/docs/v4.4/reference/method/cursor.noCursorTimeout/#session-idle-timeout-overrides-nocursortimeout\n",
      "  return Cursor(self, *args, **kwargs)\n"
     ]
    },
    {
     "name": "stdout",
     "output_type": "stream",
     "text": [
      "Time Isochrone Start: 12.00min_20220307: 62.0, time to finish: 0.0h, 0.0m\n",
      "point: 9, accessibility30min_20220307: 35.0, time to finish: 0.0h, 0.0m\r"
     ]
    },
    {
     "name": "stderr",
     "output_type": "stream",
     "text": [
      "C:\\Users\\Lenovo\\AppData\\Local\\Packages\\PythonSoftwareFoundation.Python.3.11_qbz5n2kfra8p0\\LocalCache\\local-packages\\Python311\\site-packages\\pyproj\\crs\\crs.py:143: FutureWarning: '+init=<authority>:<code>' syntax is deprecated. '<authority>:<code>' is the preferred initialization method. When making the change, be mindful of axis order changes: https://pyproj4.github.io/pyproj/stable/gotchas.html#axis-order-changes-in-proj-6\n",
      "  in_crs_string = _prepare_from_proj_string(in_crs_string)\n",
      "C:\\Users\\Lenovo\\AppData\\Local\\Packages\\PythonSoftwareFoundation.Python.3.11_qbz5n2kfra8p0\\LocalCache\\local-packages\\Python311\\site-packages\\shapely\\ops.py:276: FutureWarning: This function is deprecated. See: https://pyproj4.github.io/pyproj/stable/gotchas.html#upgrading-to-pyproj-2-from-pyproj-1\n",
      "  shell = type(geom.exterior)(zip(*func(*zip(*geom.exterior.coords))))\n",
      "C:\\Users\\Lenovo\\AppData\\Local\\Packages\\PythonSoftwareFoundation.Python.3.11_qbz5n2kfra8p0\\LocalCache\\local-packages\\Python311\\site-packages\\pymongo\\collection.py:1685: UserWarning: use an explicit session with no_cursor_timeout=True otherwise the cursor may still timeout after 30 minutes, for more info see https://mongodb.com/docs/v4.4/reference/method/cursor.noCursorTimeout/#session-idle-timeout-overrides-nocursortimeout\n",
      "  return Cursor(self, *args, **kwargs)\n"
     ]
    },
    {
     "name": "stdout",
     "output_type": "stream",
     "text": [
      "Time Isochrone Start: 17.00min_20220307: 59.0, time to finish: 0.0h, 0.0m\n",
      "point: 3, accessibility30min_20220307: 18.0, time to finish: 0.0h, 0.0m\r"
     ]
    },
    {
     "name": "stderr",
     "output_type": "stream",
     "text": [
      "C:\\Users\\Lenovo\\AppData\\Local\\Packages\\PythonSoftwareFoundation.Python.3.11_qbz5n2kfra8p0\\LocalCache\\local-packages\\Python311\\site-packages\\pyproj\\crs\\crs.py:143: FutureWarning: '+init=<authority>:<code>' syntax is deprecated. '<authority>:<code>' is the preferred initialization method. When making the change, be mindful of axis order changes: https://pyproj4.github.io/pyproj/stable/gotchas.html#axis-order-changes-in-proj-6\n",
      "  in_crs_string = _prepare_from_proj_string(in_crs_string)\n",
      "C:\\Users\\Lenovo\\AppData\\Local\\Packages\\PythonSoftwareFoundation.Python.3.11_qbz5n2kfra8p0\\LocalCache\\local-packages\\Python311\\site-packages\\shapely\\ops.py:276: FutureWarning: This function is deprecated. See: https://pyproj4.github.io/pyproj/stable/gotchas.html#upgrading-to-pyproj-2-from-pyproj-1\n",
      "  shell = type(geom.exterior)(zip(*func(*zip(*geom.exterior.coords))))\n",
      "C:\\Users\\Lenovo\\AppData\\Local\\Packages\\PythonSoftwareFoundation.Python.3.11_qbz5n2kfra8p0\\LocalCache\\local-packages\\Python311\\site-packages\\pymongo\\collection.py:1685: UserWarning: use an explicit session with no_cursor_timeout=True otherwise the cursor may still timeout after 30 minutes, for more info see https://mongodb.com/docs/v4.4/reference/method/cursor.noCursorTimeout/#session-idle-timeout-overrides-nocursortimeout\n",
      "  return Cursor(self, *args, **kwargs)\n"
     ]
    },
    {
     "name": "stdout",
     "output_type": "stream",
     "text": [
      "Time Isochrone Start: 20.00min_20220307: 62.0, time to finish: 0.0h, 0.0m\n",
      "point: 14, accessibility30min_20220307: 18.0, time to finish: 0.0h, 0.0m\r"
     ]
    },
    {
     "name": "stderr",
     "output_type": "stream",
     "text": [
      "C:\\Users\\Lenovo\\AppData\\Local\\Packages\\PythonSoftwareFoundation.Python.3.11_qbz5n2kfra8p0\\LocalCache\\local-packages\\Python311\\site-packages\\pyproj\\crs\\crs.py:143: FutureWarning: '+init=<authority>:<code>' syntax is deprecated. '<authority>:<code>' is the preferred initialization method. When making the change, be mindful of axis order changes: https://pyproj4.github.io/pyproj/stable/gotchas.html#axis-order-changes-in-proj-6\n",
      "  in_crs_string = _prepare_from_proj_string(in_crs_string)\n",
      "C:\\Users\\Lenovo\\AppData\\Local\\Packages\\PythonSoftwareFoundation.Python.3.11_qbz5n2kfra8p0\\LocalCache\\local-packages\\Python311\\site-packages\\shapely\\ops.py:276: FutureWarning: This function is deprecated. See: https://pyproj4.github.io/pyproj/stable/gotchas.html#upgrading-to-pyproj-2-from-pyproj-1\n",
      "  shell = type(geom.exterior)(zip(*func(*zip(*geom.exterior.coords))))\n",
      "C:\\Users\\Lenovo\\AppData\\Local\\Packages\\PythonSoftwareFoundation.Python.3.11_qbz5n2kfra8p0\\LocalCache\\local-packages\\Python311\\site-packages\\pymongo\\collection.py:1685: UserWarning: use an explicit session with no_cursor_timeout=True otherwise the cursor may still timeout after 30 minutes, for more info see https://mongodb.com/docs/v4.4/reference/method/cursor.noCursorTimeout/#session-idle-timeout-overrides-nocursortimeout\n",
      "  return Cursor(self, *args, **kwargs)\n"
     ]
    },
    {
     "name": "stdout",
     "output_type": "stream",
     "text": [
      "point: 148, accessibility30min_20220307: 62.0, time to finish: 0.0h, 0.0m\r"
     ]
    }
   ],
   "source": [
    "import imp\n",
    "from library import libAccessibility, icsa\n",
    "imp.reload(libAccessibility)\n",
    "from library.icsa import computeAccessibilities\n",
    "imp.reload(icsa)\n",
    "\n",
    "listAccessibility = ['accessibility30min']\n",
    "\n",
    "computeIsochrone = False\n",
    "if 'isochrones' in gtfsDB.list_collection_names():\n",
    "    \n",
    "    pass\n",
    "for timeStart in timeList:\n",
    "    timeStart *= 3600\n",
    "    hEnd  = timeStart+6600 #consider only connection that start at timeStart and end before next timeStart in the list timeList\n",
    "    print( 'Time Isochrone Start: {0}'.format(timeStart/3600,))\n",
    "   \n",
    "    computeAccessibilities(\n",
    "    city, timeStart,hEnd, arrayCC_day1, arraySP, gtfsDB, \n",
    "    computeIsochrone, timeStart/3600 == timeList[0], \n",
    "    day='20220307', \n",
    "    max_travel_time=1800, #30min \n",
    "    listAccessibility=listAccessibility\n",
    ")\n",
    "\n",
    "    "
   ]
  },
  {
   "cell_type": "markdown",
   "metadata": {},
   "source": [
    "## compute Average accessibility"
   ]
  },
  {
   "cell_type": "code",
   "execution_count": 30,
   "metadata": {},
   "outputs": [
    {
     "name": "stdout",
     "output_type": "stream",
     "text": [
      " 147 - padam_territory_01\r"
     ]
    }
   ],
   "source": [
    "from library.libStopsPoints import computeAverage\n",
    "computeAverage([\"accessibility30min_20220307\"], gtfsDB, city)"
   ]
  },
  {
   "cell_type": "code",
   "execution_count": null,
   "metadata": {},
   "outputs": [],
   "source": [
    "import folium\n",
    "import branca.colormap as cm\n",
    "from IPython.display import display, HTML\n",
    "import numpy as np\n",
    "import math\n",
    "\n",
    "def create_accessibility_map_with_header(gtfsDB, city, field1='accessibility30min_20220307', timestamp='25200', \n",
    "                                       custom_title=\"aceessibility - 2022/03/07 7:00\"):\n",
    "    \"\"\"\n",
    "    Create an accessibility map with a header title and top-right colorbar\n",
    "    \n",
    "    Parameters:\n",
    "    -----------\n",
    "    gtfsDB : MongoDB connection\n",
    "        MongoDB database connection\n",
    "    city : str\n",
    "        City name\n",
    "    field1 : str\n",
    "        Primary field name for the accessibility score\n",
    "    timestamp : str\n",
    "        Timestamp key within the field1 dictionary\n",
    "    custom_title : str\n",
    "        Custom title to display above the map\n",
    "        \n",
    "    Returns:\n",
    "    --------\n",
    "    HTML object\n",
    "        HTML with title and map\n",
    "    \"\"\"\n",
    "    # Get the data from MongoDB\n",
    "    points_data = list(gtfsDB['points'].find({'city': city}))\n",
    "    \n",
    "    if not points_data:\n",
    "        return HTML(\"<p>No data found for the specified city</p>\")\n",
    "\n",
    "    # Extract scores\n",
    "    scores = []\n",
    "    for point in points_data:\n",
    "        try:\n",
    "            if field1 in point and isinstance(point[field1], dict) and timestamp in point[field1]:\n",
    "                scores.append(point[field1][timestamp])\n",
    "        except (KeyError, TypeError):\n",
    "            continue\n",
    "    \n",
    "    if not scores:\n",
    "        return HTML(f\"<p>No scores found for field {field1} and timestamp {timestamp}</p>\")\n",
    "    \n",
    "    # Filter out zeros and negative values for log scale\n",
    "    positive_scores = [s for s in scores if s > 0]\n",
    "    if not positive_scores:\n",
    "        return HTML(\"<p>No positive scores found for logarithmic scale</p>\")\n",
    "    \n",
    "    # Calculate statistical values\n",
    "    min_score = min(positive_scores)\n",
    "    max_score = max(positive_scores)\n",
    "    \n",
    "    print(f\"Score statistics:\")\n",
    "    print(f\"Min: {min_score:.2f}, Max: {max_score:.2f}\")\n",
    "    print(f\"Total points: {len(scores)}, Positive points: {len(positive_scores)}\")\n",
    "    \n",
    "    # Find center of the map\n",
    "    center_lat, center_lon = 0, 0\n",
    "    count = 0\n",
    "    \n",
    "    for point in points_data:\n",
    "        try:\n",
    "            point_coords = point['point']['coordinates']\n",
    "            center_lon += point_coords[0]\n",
    "            center_lat += point_coords[1]\n",
    "            count += 1\n",
    "        except (KeyError, IndexError):\n",
    "            continue\n",
    "    \n",
    "    if count > 0:\n",
    "        center_lat /= count\n",
    "        center_lon /= count\n",
    "    else:\n",
    "        # Default center if no points have valid coordinates\n",
    "        center_lat, center_lon = 0, 0\n",
    "    \n",
    "    # Create map with OpenStreetMap as base layer\n",
    "    m = folium.Map(location=[center_lat, center_lon], zoom_start=11, \n",
    "                  tiles='OpenStreetMap')\n",
    "    \n",
    "    # Create a LogNorm-like transformation for scores\n",
    "    # Based on matplotlib's LogNorm approach\n",
    "    vmin = 1.0  # Minimum for log scale\n",
    "    vmax = 1000.0  # Max set to 10^3 for consistency\n",
    "    \n",
    "    # Function to transform scores using log scale\n",
    "    def log_transform(score):\n",
    "        if score <= 0:\n",
    "            return 0\n",
    "        normalized = np.clip((np.log10(score) - np.log10(vmin)) / (np.log10(vmax) - np.log10(vmin)), 0, 1)\n",
    "        return normalized\n",
    "    \n",
    "    # Create a list of hexagons with their scores\n",
    "    hexagons = []\n",
    "    for point in points_data:\n",
    "        try:\n",
    "            if field1 in point and isinstance(point[field1], dict) and timestamp in point[field1]:\n",
    "                score = point[field1][timestamp]\n",
    "                \n",
    "                # Skip non-positive scores for log scale\n",
    "                if score <= 0 or 'hex' not in point or 'coordinates' not in point['hex']:\n",
    "                    continue\n",
    "                \n",
    "                # Add to list for processing\n",
    "                hexagons.append({\n",
    "                    'coordinates': point['hex']['coordinates'][0],\n",
    "                    'score': score\n",
    "                })\n",
    "        except (KeyError, TypeError, ValueError):\n",
    "            continue\n",
    "    \n",
    "    # Sort hexagons by score for proper layering\n",
    "    hexagons.sort(key=lambda x: x['score'])\n",
    "    \n",
    "    # Use Blues colormap similar to matplotlib example\n",
    "    # Colors from Blues colormap\n",
    "    blues_colors = [\n",
    "        '#f7fbff', '#deebf7', '#c6dbef', '#9ecae1', '#6baed6', \n",
    "        '#4292c6', '#2171b5', '#08519c', '#08306b'\n",
    "    ]\n",
    "    \n",
    "    # Add all hexagons to the map\n",
    "    for hexagon in hexagons:\n",
    "        # Get score and coordinates\n",
    "        score = hexagon['score']\n",
    "        coords = hexagon['coordinates']\n",
    "        \n",
    "        # Transform score using log scale\n",
    "        normalized_score = log_transform(score)\n",
    "        \n",
    "        # Get color based on normalized score\n",
    "        color_idx = min(int(normalized_score * (len(blues_colors) - 1)), len(blues_colors) - 1)\n",
    "        color = blues_colors[color_idx]\n",
    "        \n",
    "        # Convert to folium coordinates\n",
    "        folium_coords = [[coord[1], coord[0]] for coord in coords]\n",
    "        \n",
    "        # Add polygon to map\n",
    "        folium.Polygon(\n",
    "            locations=folium_coords,\n",
    "            color='white',\n",
    "            weight=0.5,\n",
    "            fill=True,\n",
    "            fill_color=color,\n",
    "            fill_opacity=0.9,\n",
    "            tooltip=f\"Score: {score:.1f}\"\n",
    "        ).add_to(m)\n",
    "    \n",
    "    # Add boundary if available\n",
    "    try:\n",
    "        boundary_data = list(gtfsDB['boundary'].find({'city': city}))\n",
    "        if boundary_data:\n",
    "            for boundary in boundary_data:\n",
    "                coords = boundary['geometry']['coordinates'][0]\n",
    "                folium_coords = [[coord[1], coord[0]] for coord in coords]\n",
    "                folium.Polygon(\n",
    "                    locations=folium_coords,\n",
    "                    color='black',\n",
    "                    weight=2,\n",
    "                    fill=False,\n",
    "                ).add_to(m)\n",
    "    except Exception as e:\n",
    "        print(f\"Could not add boundary: {e}\")\n",
    "    \n",
    "    # Create custom colorbar HTML with explicit markers\n",
    "    colorbar_html = \"\"\"\n",
    "    <div style=\"position: absolute; top: 10px; right: 10px; background: white; padding: 5px; border-radius: 5px; z-index: 1000;\">\n",
    "        <div style=\"width: 250px; height: 25px; background: linear-gradient(to right, \n",
    "                #f7fbff, #deebf7, #c6dbef, #9ecae1, #6baed6, \n",
    "                #4292c6, #2171b5, #08519c, #08306b);\n",
    "            position: relative;\">\n",
    "            <div style=\"position: absolute; top: 25px; left: 0; width: 1px; height: 5px; background: black;\"></div>\n",
    "            <div style=\"position: absolute; top: 25px; right: 0; width: 1px; height: 5px; background: black;\"></div>\n",
    "            <div style=\"position: absolute; top: 25px; left: 33%; width: 1px; height: 5px; background: black;\"></div>\n",
    "            <div style=\"position: absolute; top: 25px; left: 66%; width: 1px; height: 5px; background: black;\"></div>\n",
    "            <div style=\"position: absolute; top: 32px; left: 0%; transform: translateX(-50%); font-size: 11px;\">10<sup>0</sup></div>\n",
    "            <div style=\"position: absolute; top: 32px; left: 33%; transform: translateX(-50%); font-size: 11px;\">10<sup>1</sup></div>\n",
    "            <div style=\"position: absolute; top: 32px; left: 66%; transform: translateX(-50%); font-size: 11px;\">10<sup>2</sup></div>\n",
    "            <div style=\"position: absolute; top: 32px; left: 100%; transform: translateX(-50%); font-size: 11px;\">10<sup>3</sup></div>\n",
    "        </div>\n",
    "        <div style=\"text-align: center; margin-top: 20px; font-size: 11px;\">Number of reachable POIs at 7:00</div>\n",
    "    </div>\n",
    "    \"\"\"\n",
    "    \n",
    "    # Add north arrow\n",
    "    north_arrow_html = \"\"\"\n",
    "    <div style=\"position: absolute; bottom: 30px; right: 10px; background: white; padding: 5px; border-radius: 5px; z-index: 1000;\">\n",
    "        <div style=\"font-size: 16px; text-align: center;\">⬆</div>\n",
    "        <div style=\"font-size: 10px; text-align: center;\">N</div>\n",
    "    </div>\n",
    "    \"\"\"\n",
    "    \n",
    "    # Add both elements to the map\n",
    "    m.get_root().html.add_child(folium.Element(colorbar_html))\n",
    "    m.get_root().html.add_child(folium.Element(north_arrow_html))\n",
    "    \n",
    "    # Get the HTML representation of the map\n",
    "    map_html = m._repr_html_()\n",
    "    \n",
    "    # Create the final HTML with the centered title above the map\n",
    "    final_html = f\"\"\"\n",
    "    <div style=\"text-align: center; width: 100%;\">\n",
    "        <h2 style=\"margin-bottom: 10px;\">{custom_title}</h2>\n",
    "        <div style=\"width: 100%;\">\n",
    "            {map_html}\n",
    "        </div>\n",
    "    </div>\n",
    "    \"\"\"\n",
    "    \n",
    "    return HTML(final_html)\n",
    "\n",
    "# Create map with centered title and top-right colorbar\n",
    "html_output = create_accessibility_map_with_header(\n",
    "    gtfsDB, \n",
    "    city, \n",
    "    field1='accessibility30min_20220307', \n",
    "    timestamp='avg',\n",
    "    custom_title=\"Accessibility - 2022/03/07 7:00\"\n",
    ")\n",
    "display(html_output)"
   ]
  }
 ],
 "metadata": {
  "accelerator": "GPU",
  "colab": {
   "gpuType": "L4",
   "machine_shape": "hm",
   "provenance": []
  },
  "hide_input": false,
  "kernelspec": {
   "display_name": "Python 3 (ipykernel)",
   "language": "python",
   "name": "python3"
  },
  "language_info": {
   "codemirror_mode": {
    "name": "ipython",
    "version": 3
   },
   "file_extension": ".py",
   "mimetype": "text/x-python",
   "name": "python",
   "nbconvert_exporter": "python",
   "pygments_lexer": "ipython3",
   "version": "3.10.12"
  },
  "latex_envs": {
   "LaTeX_envs_menu_present": true,
   "autocomplete": true,
   "bibliofile": "biblio.bib",
   "cite_by": "apalike",
   "current_citInitial": 1,
   "eqLabelWithNumbers": false,
   "eqNumInitial": 1,
   "hotkeys": {
    "equation": "Ctrl-E",
    "itemize": "Ctrl-I"
   },
   "labels_anchors": true,
   "latex_user_defs": true,
   "report_style_numbering": true,
   "user_envs_cfg": true
  },
  "toc": {
   "colors": {
    "hover_highlight": "#DAA520",
    "running_highlight": "#FF0000",
    "selected_highlight": "#FFD700"
   },
   "moveMenuLeft": true,
   "nav_menu": {
    "height": "512px",
    "width": "252px"
   },
   "navigate_menu": true,
   "number_sections": true,
   "sideBar": true,
   "threshold": 4,
   "toc_cell": true,
   "toc_position": {
    "height": "1134px",
    "left": "0px",
    "right": "1771px",
    "top": "106px",
    "width": "212px"
   },
   "toc_section_display": "block",
   "toc_window_display": true,
   "widenNotebook": false
  },
  "varInspector": {
   "cols": {
    "lenName": 16,
    "lenType": 16,
    "lenVar": 40
   },
   "kernels_config": {
    "python": {
     "delete_cmd_postfix": "",
     "delete_cmd_prefix": "del ",
     "library": "var_list.py",
     "varRefreshCmd": "print(var_dic_list())"
    },
    "r": {
     "delete_cmd_postfix": ") ",
     "delete_cmd_prefix": "rm(",
     "library": "var_list.r",
     "varRefreshCmd": "cat(var_dic_list()) "
    }
   },
   "types_to_exclude": [
    "module",
    "function",
    "builtin_function_or_method",
    "instance",
    "_Feature"
   ],
   "window_display": false
  }
 },
 "nbformat": 4,
 "nbformat_minor": 4
}
